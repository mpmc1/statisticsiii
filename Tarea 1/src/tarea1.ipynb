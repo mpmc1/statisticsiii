{
 "cells": [
  {
   "cell_type": "code",
   "execution_count": 1,
   "id": "28565713",
   "metadata": {
    "collapsed": true
   },
   "outputs": [
    {
     "name": "stdout",
     "output_type": "stream",
     "text": [
      "Requirement already satisfied: numpy in c:\\users\\carlos manuel puerta\\appdata\\local\\programs\\python\\python39\\lib\\site-packages (1.23.3)\n",
      "Requirement already satisfied: pandas in c:\\users\\carlos manuel puerta\\appdata\\local\\programs\\python\\python39\\lib\\site-packages (1.5.0)\n",
      "Requirement already satisfied: plotly in c:\\users\\carlos manuel puerta\\appdata\\roaming\\python\\python39\\site-packages (5.13.1)\n",
      "Requirement already satisfied: scipy in c:\\users\\carlos manuel puerta\\appdata\\local\\programs\\python\\python39\\lib\\site-packages (1.10.0)\n",
      "Requirement already satisfied: matplotlib in c:\\users\\carlos manuel puerta\\appdata\\roaming\\python\\python39\\site-packages (3.7.0)\n",
      "Requirement already satisfied: pytz>=2020.1 in c:\\users\\carlos manuel puerta\\appdata\\local\\programs\\python\\python39\\lib\\site-packages (from pandas) (2021.3)\n",
      "Requirement already satisfied: python-dateutil>=2.8.1 in c:\\users\\carlos manuel puerta\\appdata\\local\\programs\\python\\python39\\lib\\site-packages (from pandas) (2.8.2)\n",
      "Requirement already satisfied: tenacity>=6.2.0 in c:\\users\\carlos manuel puerta\\appdata\\local\\programs\\python\\python39\\lib\\site-packages (from plotly) (8.2.1)\n",
      "Requirement already satisfied: pillow>=6.2.0 in c:\\users\\carlos manuel puerta\\appdata\\local\\programs\\python\\python39\\lib\\site-packages (from matplotlib) (9.4.0)\n",
      "Requirement already satisfied: contourpy>=1.0.1 in c:\\users\\carlos manuel puerta\\appdata\\local\\programs\\python\\python39\\lib\\site-packages (from matplotlib) (1.0.7)\n",
      "Requirement already satisfied: fonttools>=4.22.0 in c:\\users\\carlos manuel puerta\\appdata\\local\\programs\\python\\python39\\lib\\site-packages (from matplotlib) (4.38.0)\n",
      "Requirement already satisfied: importlib-resources>=3.2.0 in c:\\users\\carlos manuel puerta\\appdata\\local\\programs\\python\\python39\\lib\\site-packages (from matplotlib) (5.12.0)\n",
      "Requirement already satisfied: cycler>=0.10 in c:\\users\\carlos manuel puerta\\appdata\\local\\programs\\python\\python39\\lib\\site-packages (from matplotlib) (0.11.0)\n",
      "Requirement already satisfied: pyparsing>=2.3.1 in c:\\users\\carlos manuel puerta\\appdata\\local\\programs\\python\\python39\\lib\\site-packages (from matplotlib) (3.0.9)\n",
      "Requirement already satisfied: packaging>=20.0 in c:\\users\\carlos manuel puerta\\appdata\\local\\programs\\python\\python39\\lib\\site-packages (from matplotlib) (23.0)\n",
      "Requirement already satisfied: kiwisolver>=1.0.1 in c:\\users\\carlos manuel puerta\\appdata\\local\\programs\\python\\python39\\lib\\site-packages (from matplotlib) (1.4.4)\n",
      "Requirement already satisfied: zipp>=3.1.0 in c:\\users\\carlos manuel puerta\\appdata\\local\\programs\\python\\python39\\lib\\site-packages (from importlib-resources>=3.2.0->matplotlib) (3.8.1)\n",
      "Requirement already satisfied: six>=1.5 in c:\\users\\carlos manuel puerta\\appdata\\local\\programs\\python\\python39\\lib\\site-packages (from python-dateutil>=2.8.1->pandas) (1.16.0)\n"
     ]
    },
    {
     "name": "stderr",
     "output_type": "stream",
     "text": [
      "WARNING: Ignoring invalid distribution -ycryptodome (c:\\users\\carlos manuel puerta\\appdata\\local\\programs\\python\\python39\\lib\\site-packages)\n",
      "WARNING: Ignoring invalid distribution -ycryptodome (c:\\users\\carlos manuel puerta\\appdata\\local\\programs\\python\\python39\\lib\\site-packages)\n",
      "WARNING: Ignoring invalid distribution -ycryptodome (c:\\users\\carlos manuel puerta\\appdata\\local\\programs\\python\\python39\\lib\\site-packages)\n",
      "WARNING: Ignoring invalid distribution -ycryptodome (c:\\users\\carlos manuel puerta\\appdata\\local\\programs\\python\\python39\\lib\\site-packages)\n",
      "WARNING: Ignoring invalid distribution -ycryptodome (c:\\users\\carlos manuel puerta\\appdata\\local\\programs\\python\\python39\\lib\\site-packages)\n",
      "WARNING: Ignoring invalid distribution -ycryptodome (c:\\users\\carlos manuel puerta\\appdata\\local\\programs\\python\\python39\\lib\\site-packages)\n"
     ]
    }
   ],
   "source": [
    "! pip install --user numpy pandas plotly scipy matplotlib"
   ]
  },
  {
   "cell_type": "code",
   "execution_count": 2,
   "id": "745d30aa",
   "metadata": {},
   "outputs": [],
   "source": [
    "import numpy as np\n",
    "import os\n",
    "import pandas as pd\n",
    "from scipy import stats\n",
    "import matplotlib.pyplot as plt\n",
    "import tarfile\n",
    "import zipfile\n",
    "from scipy.io import loadmat\n",
    "from urllib.request import urlretrieve\n",
    "from os.path import isfile, isdir\n",
    "import plotly.express as px\n",
    "pd.set_option('display.max_rows', 500)\n",
    "pd.set_option('display.max_columns', 500)\n",
    "%matplotlib inline"
   ]
  },
  {
   "cell_type": "code",
   "execution_count": 3,
   "id": "174697ff",
   "metadata": {},
   "outputs": [],
   "source": [
    "df = pd.read_csv(\"data/CARS.csv\")"
   ]
  },
  {
   "cell_type": "code",
   "execution_count": 4,
   "id": "c1b46385",
   "metadata": {},
   "outputs": [],
   "source": [
    "df[\"MSRP\"] = df[\"MSRP\"].replace('[\\$,]', '', regex=True).astype(float)"
   ]
  },
  {
   "cell_type": "code",
   "execution_count": 5,
   "id": "0fb46cb7",
   "metadata": {},
   "outputs": [],
   "source": [
    "df[\"Invoice\"] = df[\"Invoice\"].replace('[\\$,]', '', regex=True).astype(float)"
   ]
  },
  {
   "cell_type": "code",
   "execution_count": 6,
   "id": "440bdc7f",
   "metadata": {},
   "outputs": [
    {
     "data": {
      "text/html": [
       "<div>\n",
       "<style scoped>\n",
       "    .dataframe tbody tr th:only-of-type {\n",
       "        vertical-align: middle;\n",
       "    }\n",
       "\n",
       "    .dataframe tbody tr th {\n",
       "        vertical-align: top;\n",
       "    }\n",
       "\n",
       "    .dataframe thead th {\n",
       "        text-align: right;\n",
       "    }\n",
       "</style>\n",
       "<table border=\"1\" class=\"dataframe\">\n",
       "  <thead>\n",
       "    <tr style=\"text-align: right;\">\n",
       "      <th></th>\n",
       "      <th>MSRP</th>\n",
       "      <th>Invoice</th>\n",
       "      <th>EngineSize</th>\n",
       "      <th>Cylinders</th>\n",
       "      <th>Horsepower</th>\n",
       "      <th>MPG_City</th>\n",
       "      <th>MPG_Highway</th>\n",
       "      <th>Weight</th>\n",
       "      <th>Wheelbase</th>\n",
       "      <th>Length</th>\n",
       "    </tr>\n",
       "  </thead>\n",
       "  <tbody>\n",
       "    <tr>\n",
       "      <th>count</th>\n",
       "      <td>428.000000</td>\n",
       "      <td>428.000000</td>\n",
       "      <td>428.000000</td>\n",
       "      <td>426.000000</td>\n",
       "      <td>428.000000</td>\n",
       "      <td>428.000000</td>\n",
       "      <td>428.000000</td>\n",
       "      <td>428.000000</td>\n",
       "      <td>428.000000</td>\n",
       "      <td>428.000000</td>\n",
       "    </tr>\n",
       "    <tr>\n",
       "      <th>mean</th>\n",
       "      <td>32774.855140</td>\n",
       "      <td>30014.700935</td>\n",
       "      <td>3.196729</td>\n",
       "      <td>5.807512</td>\n",
       "      <td>215.885514</td>\n",
       "      <td>20.060748</td>\n",
       "      <td>26.843458</td>\n",
       "      <td>3577.953271</td>\n",
       "      <td>108.154206</td>\n",
       "      <td>186.362150</td>\n",
       "    </tr>\n",
       "    <tr>\n",
       "      <th>std</th>\n",
       "      <td>19431.716674</td>\n",
       "      <td>17642.117750</td>\n",
       "      <td>1.108595</td>\n",
       "      <td>1.558443</td>\n",
       "      <td>71.836032</td>\n",
       "      <td>5.238218</td>\n",
       "      <td>5.741201</td>\n",
       "      <td>758.983215</td>\n",
       "      <td>8.311813</td>\n",
       "      <td>14.357991</td>\n",
       "    </tr>\n",
       "    <tr>\n",
       "      <th>min</th>\n",
       "      <td>10280.000000</td>\n",
       "      <td>9875.000000</td>\n",
       "      <td>1.300000</td>\n",
       "      <td>3.000000</td>\n",
       "      <td>73.000000</td>\n",
       "      <td>10.000000</td>\n",
       "      <td>12.000000</td>\n",
       "      <td>1850.000000</td>\n",
       "      <td>89.000000</td>\n",
       "      <td>143.000000</td>\n",
       "    </tr>\n",
       "    <tr>\n",
       "      <th>25%</th>\n",
       "      <td>20334.250000</td>\n",
       "      <td>18866.000000</td>\n",
       "      <td>2.375000</td>\n",
       "      <td>4.000000</td>\n",
       "      <td>165.000000</td>\n",
       "      <td>17.000000</td>\n",
       "      <td>24.000000</td>\n",
       "      <td>3104.000000</td>\n",
       "      <td>103.000000</td>\n",
       "      <td>178.000000</td>\n",
       "    </tr>\n",
       "    <tr>\n",
       "      <th>50%</th>\n",
       "      <td>27635.000000</td>\n",
       "      <td>25294.500000</td>\n",
       "      <td>3.000000</td>\n",
       "      <td>6.000000</td>\n",
       "      <td>210.000000</td>\n",
       "      <td>19.000000</td>\n",
       "      <td>26.000000</td>\n",
       "      <td>3474.500000</td>\n",
       "      <td>107.000000</td>\n",
       "      <td>187.000000</td>\n",
       "    </tr>\n",
       "    <tr>\n",
       "      <th>75%</th>\n",
       "      <td>39205.000000</td>\n",
       "      <td>35710.250000</td>\n",
       "      <td>3.900000</td>\n",
       "      <td>6.000000</td>\n",
       "      <td>255.000000</td>\n",
       "      <td>21.250000</td>\n",
       "      <td>29.000000</td>\n",
       "      <td>3977.750000</td>\n",
       "      <td>112.000000</td>\n",
       "      <td>194.000000</td>\n",
       "    </tr>\n",
       "    <tr>\n",
       "      <th>max</th>\n",
       "      <td>192465.000000</td>\n",
       "      <td>173560.000000</td>\n",
       "      <td>8.300000</td>\n",
       "      <td>12.000000</td>\n",
       "      <td>500.000000</td>\n",
       "      <td>60.000000</td>\n",
       "      <td>66.000000</td>\n",
       "      <td>7190.000000</td>\n",
       "      <td>144.000000</td>\n",
       "      <td>238.000000</td>\n",
       "    </tr>\n",
       "  </tbody>\n",
       "</table>\n",
       "</div>"
      ],
      "text/plain": [
       "                MSRP        Invoice  EngineSize   Cylinders  Horsepower  \\\n",
       "count     428.000000     428.000000  428.000000  426.000000  428.000000   \n",
       "mean    32774.855140   30014.700935    3.196729    5.807512  215.885514   \n",
       "std     19431.716674   17642.117750    1.108595    1.558443   71.836032   \n",
       "min     10280.000000    9875.000000    1.300000    3.000000   73.000000   \n",
       "25%     20334.250000   18866.000000    2.375000    4.000000  165.000000   \n",
       "50%     27635.000000   25294.500000    3.000000    6.000000  210.000000   \n",
       "75%     39205.000000   35710.250000    3.900000    6.000000  255.000000   \n",
       "max    192465.000000  173560.000000    8.300000   12.000000  500.000000   \n",
       "\n",
       "         MPG_City  MPG_Highway       Weight   Wheelbase      Length  \n",
       "count  428.000000   428.000000   428.000000  428.000000  428.000000  \n",
       "mean    20.060748    26.843458  3577.953271  108.154206  186.362150  \n",
       "std      5.238218     5.741201   758.983215    8.311813   14.357991  \n",
       "min     10.000000    12.000000  1850.000000   89.000000  143.000000  \n",
       "25%     17.000000    24.000000  3104.000000  103.000000  178.000000  \n",
       "50%     19.000000    26.000000  3474.500000  107.000000  187.000000  \n",
       "75%     21.250000    29.000000  3977.750000  112.000000  194.000000  \n",
       "max     60.000000    66.000000  7190.000000  144.000000  238.000000  "
      ]
     },
     "execution_count": 6,
     "metadata": {},
     "output_type": "execute_result"
    }
   ],
   "source": [
    "df.describe()"
   ]
  },
  {
   "cell_type": "markdown",
   "id": "ebfcce7b",
   "metadata": {},
   "source": [
    "# Punto 2.1.1"
   ]
  },
  {
   "cell_type": "code",
   "execution_count": 7,
   "id": "59a23261",
   "metadata": {},
   "outputs": [
    {
     "data": {
      "text/plain": [
       "<Axes: xlabel='Make', ylabel='Count'>"
      ]
     },
     "execution_count": 7,
     "metadata": {},
     "output_type": "execute_result"
    },
    {
     "data": {
      "image/png": "[encoded data removed]",
      "text/plain": [
       "<Figure size 1000x500 with 1 Axes>"
      ]
     },
     "metadata": {},
     "output_type": "display_data"
    }
   ],
   "source": [
    "df[[\"Make\",\"Model\", \"Type\",\"Origin\",\"DriveTrain\", ]].groupby([\"Make\"]).agg({\"Make\":\"count\", \"Type\": pd.Series.nunique,\\\n",
    "                                           \"Model\": pd.Series.nunique,\"Type\": pd.Series.nunique,\\\n",
    "                                           \"Origin\": pd.Series.nunique,\"DriveTrain\": pd.Series.nunique})\\\n",
    ".plot.bar(xlabel=\"Make\", ylabel=\"Count\", figsize=(10,5))"
   ]
  },
  {
   "cell_type": "markdown",
   "id": "dc901a06",
   "metadata": {},
   "source": [
    "# Punto 2.1.2"
   ]
  },
  {
   "cell_type": "code",
   "execution_count": 8,
   "id": "456bb23c",
   "metadata": {},
   "outputs": [
    {
     "data": {
      "text/plain": [
       "<Axes: >"
      ]
     },
     "execution_count": 8,
     "metadata": {},
     "output_type": "execute_result"
    },
    {
     "data": {
      "image/png": "[encoded data removed]",
      "text/plain": [
       "<Figure size 640x480 with 1 Axes>"
      ]
     },
     "metadata": {},
     "output_type": "display_data"
    }
   ],
   "source": [
    "df[\"MSRP\"].hist(bins=20)"
   ]
  },
  {
   "cell_type": "code",
   "execution_count": 9,
   "id": "8279b32b",
   "metadata": {},
   "outputs": [
    {
     "data": {
      "text/plain": [
       "<Axes: >"
      ]
     },
     "execution_count": 9,
     "metadata": {},
     "output_type": "execute_result"
    },
    {
     "data": {
      "image/png": "[encoded data removed]",
      "text/plain": [
       "<Figure size 640x480 with 1 Axes>"
      ]
     },
     "metadata": {},
     "output_type": "display_data"
    }
   ],
   "source": [
    "df[\"Invoice\"].hist(bins=20)"
   ]
  },
  {
   "cell_type": "code",
   "execution_count": 10,
   "id": "a77472f5",
   "metadata": {},
   "outputs": [
    {
     "data": {
      "text/plain": [
       "<Axes: >"
      ]
     },
     "execution_count": 10,
     "metadata": {},
     "output_type": "execute_result"
    },
    {
     "data": {
      "image/png": "[encoded data removed]",
      "text/plain": [
       "<Figure size 640x480 with 1 Axes>"
      ]
     },
     "metadata": {},
     "output_type": "display_data"
    }
   ],
   "source": [
    "df[\"EngineSize\"].hist(bins=20)"
   ]
  },
  {
   "cell_type": "code",
   "execution_count": 11,
   "id": "5be05531",
   "metadata": {},
   "outputs": [
    {
     "data": {
      "text/plain": [
       "<Axes: >"
      ]
     },
     "execution_count": 11,
     "metadata": {},
     "output_type": "execute_result"
    },
    {
     "data": {
      "image/png": "[encoded data removed]",
      "text/plain": [
       "<Figure size 640x480 with 1 Axes>"
      ]
     },
     "metadata": {},
     "output_type": "display_data"
    }
   ],
   "source": [
    "df[\"Cylinders\"].hist(bins=20)"
   ]
  },
  {
   "cell_type": "code",
   "execution_count": 12,
   "id": "32d682a1",
   "metadata": {},
   "outputs": [
    {
     "data": {
      "text/plain": [
       "<Axes: >"
      ]
     },
     "execution_count": 12,
     "metadata": {},
     "output_type": "execute_result"
    },
    {
     "data": {
      "image/png": "[encoded data removed]",
      "text/plain": [
       "<Figure size 640x480 with 1 Axes>"
      ]
     },
     "metadata": {},
     "output_type": "display_data"
    }
   ],
   "source": [
    "df[\"Horsepower\"].hist(bins=20)"
   ]
  },
  {
   "cell_type": "code",
   "execution_count": 13,
   "id": "58a36761",
   "metadata": {},
   "outputs": [
    {
     "data": {
      "text/plain": [
       "<Axes: >"
      ]
     },
     "execution_count": 13,
     "metadata": {},
     "output_type": "execute_result"
    },
    {
     "data": {
      "image/png": "[encoded data removed]",
      "text/plain": [
       "<Figure size 640x480 with 1 Axes>"
      ]
     },
     "metadata": {},
     "output_type": "display_data"
    }
   ],
   "source": [
    "df[\"MPG_City\"].hist(bins=20)"
   ]
  },
  {
   "cell_type": "code",
   "execution_count": 14,
   "id": "9cdf4eaa",
   "metadata": {},
   "outputs": [
    {
     "data": {
      "text/plain": [
       "<Axes: >"
      ]
     },
     "execution_count": 14,
     "metadata": {},
     "output_type": "execute_result"
    },
    {
     "data": {
      "image/png": "[encoded data removed]",
      "text/plain": [
       "<Figure size 640x480 with 1 Axes>"
      ]
     },
     "metadata": {},
     "output_type": "display_data"
    }
   ],
   "source": [
    "df[\"MPG_Highway\"].hist(bins=20)"
   ]
  },
  {
   "cell_type": "code",
   "execution_count": 15,
   "id": "29d74f88",
   "metadata": {},
   "outputs": [
    {
     "data": {
      "text/plain": [
       "<Axes: >"
      ]
     },
     "execution_count": 15,
     "metadata": {},
     "output_type": "execute_result"
    },
    {
     "data": {
      "image/png": "[encoded data removed]",
      "text/plain": [
       "<Figure size 640x480 with 1 Axes>"
      ]
     },
     "metadata": {},
     "output_type": "display_data"
    }
   ],
   "source": [
    "df[\"Weight\"].hist(bins=20)"
   ]
  },
  {
   "cell_type": "code",
   "execution_count": 16,
   "id": "8d05227f",
   "metadata": {},
   "outputs": [
    {
     "data": {
      "text/plain": [
       "<Axes: >"
      ]
     },
     "execution_count": 16,
     "metadata": {},
     "output_type": "execute_result"
    },
    {
     "data": {
      "image/png": "[encoded data removed]",
      "text/plain": [
       "<Figure size 640x480 with 1 Axes>"
      ]
     },
     "metadata": {},
     "output_type": "display_data"
    }
   ],
   "source": [
    "df[\"Wheelbase\"].hist(bins=20)"
   ]
  },
  {
   "cell_type": "code",
   "execution_count": 17,
   "id": "71ed9a38",
   "metadata": {},
   "outputs": [
    {
     "data": {
      "text/plain": [
       "<Axes: >"
      ]
     },
     "execution_count": 17,
     "metadata": {},
     "output_type": "execute_result"
    },
    {
     "data": {
      "image/png": "[encoded data removed]",
      "text/plain": [
       "<Figure size 640x480 with 1 Axes>"
      ]
     },
     "metadata": {},
     "output_type": "display_data"
    }
   ],
   "source": [
    "df[\"Length\"].hist(bins=20)"
   ]
  },
  {
   "cell_type": "markdown",
   "id": "6e3ec770",
   "metadata": {},
   "source": [
    "## Lista de carros con invoice más lejano a 4 desviaciones estandar\n",
    "En el query solo se evalúa si la variable(x) cumple con: x < media - 4 * std ó x > media+4*std "
   ]
  },
  {
   "cell_type": "code",
   "execution_count": 18,
   "id": "569bb043",
   "metadata": {
    "scrolled": false
   },
   "outputs": [
    {
     "data": {
      "text/html": [
       "<div>\n",
       "<style scoped>\n",
       "    .dataframe tbody tr th:only-of-type {\n",
       "        vertical-align: middle;\n",
       "    }\n",
       "\n",
       "    .dataframe tbody tr th {\n",
       "        vertical-align: top;\n",
       "    }\n",
       "\n",
       "    .dataframe thead th {\n",
       "        text-align: right;\n",
       "    }\n",
       "</style>\n",
       "<table border=\"1\" class=\"dataframe\">\n",
       "  <thead>\n",
       "    <tr style=\"text-align: right;\">\n",
       "      <th></th>\n",
       "      <th>Make</th>\n",
       "      <th>Model</th>\n",
       "      <th>Type</th>\n",
       "      <th>Origin</th>\n",
       "      <th>DriveTrain</th>\n",
       "      <th>MSRP</th>\n",
       "      <th>Invoice</th>\n",
       "      <th>EngineSize</th>\n",
       "      <th>Cylinders</th>\n",
       "      <th>Horsepower</th>\n",
       "      <th>MPG_City</th>\n",
       "      <th>MPG_Highway</th>\n",
       "      <th>Weight</th>\n",
       "      <th>Wheelbase</th>\n",
       "      <th>Length</th>\n",
       "    </tr>\n",
       "  </thead>\n",
       "  <tbody>\n",
       "    <tr>\n",
       "      <th>262</th>\n",
       "      <td>Mercedes-Benz</td>\n",
       "      <td>CL600 2dr</td>\n",
       "      <td>Sedan</td>\n",
       "      <td>Europe</td>\n",
       "      <td>Rear</td>\n",
       "      <td>128420.0</td>\n",
       "      <td>119600.0</td>\n",
       "      <td>5.5</td>\n",
       "      <td>12.0</td>\n",
       "      <td>493</td>\n",
       "      <td>13</td>\n",
       "      <td>19</td>\n",
       "      <td>4473</td>\n",
       "      <td>114</td>\n",
       "      <td>196</td>\n",
       "    </tr>\n",
       "    <tr>\n",
       "      <th>270</th>\n",
       "      <td>Mercedes-Benz</td>\n",
       "      <td>SL55 AMG 2dr</td>\n",
       "      <td>Sports</td>\n",
       "      <td>Europe</td>\n",
       "      <td>Rear</td>\n",
       "      <td>121770.0</td>\n",
       "      <td>113388.0</td>\n",
       "      <td>5.5</td>\n",
       "      <td>8.0</td>\n",
       "      <td>493</td>\n",
       "      <td>14</td>\n",
       "      <td>21</td>\n",
       "      <td>4235</td>\n",
       "      <td>101</td>\n",
       "      <td>179</td>\n",
       "    </tr>\n",
       "    <tr>\n",
       "      <th>271</th>\n",
       "      <td>Mercedes-Benz</td>\n",
       "      <td>SL600 convertible 2dr</td>\n",
       "      <td>Sports</td>\n",
       "      <td>Europe</td>\n",
       "      <td>Rear</td>\n",
       "      <td>126670.0</td>\n",
       "      <td>117854.0</td>\n",
       "      <td>5.5</td>\n",
       "      <td>12.0</td>\n",
       "      <td>493</td>\n",
       "      <td>13</td>\n",
       "      <td>19</td>\n",
       "      <td>4429</td>\n",
       "      <td>101</td>\n",
       "      <td>179</td>\n",
       "    </tr>\n",
       "    <tr>\n",
       "      <th>334</th>\n",
       "      <td>Porsche</td>\n",
       "      <td>911 GT2 2dr</td>\n",
       "      <td>Sports</td>\n",
       "      <td>Europe</td>\n",
       "      <td>Rear</td>\n",
       "      <td>192465.0</td>\n",
       "      <td>173560.0</td>\n",
       "      <td>3.6</td>\n",
       "      <td>6.0</td>\n",
       "      <td>477</td>\n",
       "      <td>17</td>\n",
       "      <td>24</td>\n",
       "      <td>3131</td>\n",
       "      <td>93</td>\n",
       "      <td>175</td>\n",
       "    </tr>\n",
       "  </tbody>\n",
       "</table>\n",
       "</div>"
      ],
      "text/plain": [
       "              Make                  Model    Type  Origin DriveTrain  \\\n",
       "262  Mercedes-Benz              CL600 2dr   Sedan  Europe       Rear   \n",
       "270  Mercedes-Benz           SL55 AMG 2dr  Sports  Europe       Rear   \n",
       "271  Mercedes-Benz  SL600 convertible 2dr  Sports  Europe       Rear   \n",
       "334        Porsche            911 GT2 2dr  Sports  Europe       Rear   \n",
       "\n",
       "         MSRP   Invoice  EngineSize  Cylinders  Horsepower  MPG_City  \\\n",
       "262  128420.0  119600.0         5.5       12.0         493        13   \n",
       "270  121770.0  113388.0         5.5        8.0         493        14   \n",
       "271  126670.0  117854.0         5.5       12.0         493        13   \n",
       "334  192465.0  173560.0         3.6        6.0         477        17   \n",
       "\n",
       "     MPG_Highway  Weight  Wheelbase  Length  \n",
       "262           19    4473        114     196  \n",
       "270           21    4235        101     179  \n",
       "271           19    4429        101     179  \n",
       "334           24    3131         93     175  "
      ]
     },
     "execution_count": 18,
     "metadata": {},
     "output_type": "execute_result"
    }
   ],
   "source": [
    "df.query('MSRP > (32774.855140+(4*19431.716674)) or MSRP < (32774.855140-(4*19431.716674))')"
   ]
  },
  {
   "cell_type": "code",
   "execution_count": 19,
   "id": "f4ee5e37",
   "metadata": {},
   "outputs": [
    {
     "data": {
      "text/html": [
       "<div>\n",
       "<style scoped>\n",
       "    .dataframe tbody tr th:only-of-type {\n",
       "        vertical-align: middle;\n",
       "    }\n",
       "\n",
       "    .dataframe tbody tr th {\n",
       "        vertical-align: top;\n",
       "    }\n",
       "\n",
       "    .dataframe thead th {\n",
       "        text-align: right;\n",
       "    }\n",
       "</style>\n",
       "<table border=\"1\" class=\"dataframe\">\n",
       "  <thead>\n",
       "    <tr style=\"text-align: right;\">\n",
       "      <th></th>\n",
       "      <th>Make</th>\n",
       "      <th>Model</th>\n",
       "      <th>Type</th>\n",
       "      <th>Origin</th>\n",
       "      <th>DriveTrain</th>\n",
       "      <th>MSRP</th>\n",
       "      <th>Invoice</th>\n",
       "      <th>EngineSize</th>\n",
       "      <th>Cylinders</th>\n",
       "      <th>Horsepower</th>\n",
       "      <th>MPG_City</th>\n",
       "      <th>MPG_Highway</th>\n",
       "      <th>Weight</th>\n",
       "      <th>Wheelbase</th>\n",
       "      <th>Length</th>\n",
       "    </tr>\n",
       "  </thead>\n",
       "  <tbody>\n",
       "    <tr>\n",
       "      <th>262</th>\n",
       "      <td>Mercedes-Benz</td>\n",
       "      <td>CL600 2dr</td>\n",
       "      <td>Sedan</td>\n",
       "      <td>Europe</td>\n",
       "      <td>Rear</td>\n",
       "      <td>128420.0</td>\n",
       "      <td>119600.0</td>\n",
       "      <td>5.5</td>\n",
       "      <td>12.0</td>\n",
       "      <td>493</td>\n",
       "      <td>13</td>\n",
       "      <td>19</td>\n",
       "      <td>4473</td>\n",
       "      <td>114</td>\n",
       "      <td>196</td>\n",
       "    </tr>\n",
       "    <tr>\n",
       "      <th>270</th>\n",
       "      <td>Mercedes-Benz</td>\n",
       "      <td>SL55 AMG 2dr</td>\n",
       "      <td>Sports</td>\n",
       "      <td>Europe</td>\n",
       "      <td>Rear</td>\n",
       "      <td>121770.0</td>\n",
       "      <td>113388.0</td>\n",
       "      <td>5.5</td>\n",
       "      <td>8.0</td>\n",
       "      <td>493</td>\n",
       "      <td>14</td>\n",
       "      <td>21</td>\n",
       "      <td>4235</td>\n",
       "      <td>101</td>\n",
       "      <td>179</td>\n",
       "    </tr>\n",
       "    <tr>\n",
       "      <th>271</th>\n",
       "      <td>Mercedes-Benz</td>\n",
       "      <td>SL600 convertible 2dr</td>\n",
       "      <td>Sports</td>\n",
       "      <td>Europe</td>\n",
       "      <td>Rear</td>\n",
       "      <td>126670.0</td>\n",
       "      <td>117854.0</td>\n",
       "      <td>5.5</td>\n",
       "      <td>12.0</td>\n",
       "      <td>493</td>\n",
       "      <td>13</td>\n",
       "      <td>19</td>\n",
       "      <td>4429</td>\n",
       "      <td>101</td>\n",
       "      <td>179</td>\n",
       "    </tr>\n",
       "    <tr>\n",
       "      <th>334</th>\n",
       "      <td>Porsche</td>\n",
       "      <td>911 GT2 2dr</td>\n",
       "      <td>Sports</td>\n",
       "      <td>Europe</td>\n",
       "      <td>Rear</td>\n",
       "      <td>192465.0</td>\n",
       "      <td>173560.0</td>\n",
       "      <td>3.6</td>\n",
       "      <td>6.0</td>\n",
       "      <td>477</td>\n",
       "      <td>17</td>\n",
       "      <td>24</td>\n",
       "      <td>3131</td>\n",
       "      <td>93</td>\n",
       "      <td>175</td>\n",
       "    </tr>\n",
       "  </tbody>\n",
       "</table>\n",
       "</div>"
      ],
      "text/plain": [
       "              Make                  Model    Type  Origin DriveTrain  \\\n",
       "262  Mercedes-Benz              CL600 2dr   Sedan  Europe       Rear   \n",
       "270  Mercedes-Benz           SL55 AMG 2dr  Sports  Europe       Rear   \n",
       "271  Mercedes-Benz  SL600 convertible 2dr  Sports  Europe       Rear   \n",
       "334        Porsche            911 GT2 2dr  Sports  Europe       Rear   \n",
       "\n",
       "         MSRP   Invoice  EngineSize  Cylinders  Horsepower  MPG_City  \\\n",
       "262  128420.0  119600.0         5.5       12.0         493        13   \n",
       "270  121770.0  113388.0         5.5        8.0         493        14   \n",
       "271  126670.0  117854.0         5.5       12.0         493        13   \n",
       "334  192465.0  173560.0         3.6        6.0         477        17   \n",
       "\n",
       "     MPG_Highway  Weight  Wheelbase  Length  \n",
       "262           19    4473        114     196  \n",
       "270           21    4235        101     179  \n",
       "271           19    4429        101     179  \n",
       "334           24    3131         93     175  "
      ]
     },
     "execution_count": 19,
     "metadata": {},
     "output_type": "execute_result"
    }
   ],
   "source": [
    "df.query('Invoice > (30014.700935+(4*17642.117750)) or Invoice < (30014.700935-(4*17642.117750))')"
   ]
  },
  {
   "cell_type": "code",
   "execution_count": 20,
   "id": "23656774",
   "metadata": {},
   "outputs": [
    {
     "data": {
      "text/html": [
       "<div>\n",
       "<style scoped>\n",
       "    .dataframe tbody tr th:only-of-type {\n",
       "        vertical-align: middle;\n",
       "    }\n",
       "\n",
       "    .dataframe tbody tr th {\n",
       "        vertical-align: top;\n",
       "    }\n",
       "\n",
       "    .dataframe thead th {\n",
       "        text-align: right;\n",
       "    }\n",
       "</style>\n",
       "<table border=\"1\" class=\"dataframe\">\n",
       "  <thead>\n",
       "    <tr style=\"text-align: right;\">\n",
       "      <th></th>\n",
       "      <th>Make</th>\n",
       "      <th>Model</th>\n",
       "      <th>Type</th>\n",
       "      <th>Origin</th>\n",
       "      <th>DriveTrain</th>\n",
       "      <th>MSRP</th>\n",
       "      <th>Invoice</th>\n",
       "      <th>EngineSize</th>\n",
       "      <th>Cylinders</th>\n",
       "      <th>Horsepower</th>\n",
       "      <th>MPG_City</th>\n",
       "      <th>MPG_Highway</th>\n",
       "      <th>Weight</th>\n",
       "      <th>Wheelbase</th>\n",
       "      <th>Length</th>\n",
       "    </tr>\n",
       "  </thead>\n",
       "  <tbody>\n",
       "    <tr>\n",
       "      <th>114</th>\n",
       "      <td>Dodge</td>\n",
       "      <td>Viper SRT-10 convertible 2dr</td>\n",
       "      <td>Sports</td>\n",
       "      <td>USA</td>\n",
       "      <td>Rear</td>\n",
       "      <td>81795.0</td>\n",
       "      <td>74451.0</td>\n",
       "      <td>8.3</td>\n",
       "      <td>10.0</td>\n",
       "      <td>500</td>\n",
       "      <td>12</td>\n",
       "      <td>20</td>\n",
       "      <td>3410</td>\n",
       "      <td>99</td>\n",
       "      <td>176</td>\n",
       "    </tr>\n",
       "  </tbody>\n",
       "</table>\n",
       "</div>"
      ],
      "text/plain": [
       "      Make                         Model    Type Origin DriveTrain     MSRP  \\\n",
       "114  Dodge  Viper SRT-10 convertible 2dr  Sports    USA       Rear  81795.0   \n",
       "\n",
       "     Invoice  EngineSize  Cylinders  Horsepower  MPG_City  MPG_Highway  \\\n",
       "114  74451.0         8.3       10.0         500        12           20   \n",
       "\n",
       "     Weight  Wheelbase  Length  \n",
       "114    3410         99     176  "
      ]
     },
     "execution_count": 20,
     "metadata": {},
     "output_type": "execute_result"
    }
   ],
   "source": [
    "df.query('EngineSize > (3.196729+(4*1.108595)) or EngineSize < (3.196729-(4*1.108595))')"
   ]
  },
  {
   "cell_type": "code",
   "execution_count": 21,
   "id": "3b1e5d6e",
   "metadata": {},
   "outputs": [
    {
     "data": {
      "text/html": [
       "<div>\n",
       "<style scoped>\n",
       "    .dataframe tbody tr th:only-of-type {\n",
       "        vertical-align: middle;\n",
       "    }\n",
       "\n",
       "    .dataframe tbody tr th {\n",
       "        vertical-align: top;\n",
       "    }\n",
       "\n",
       "    .dataframe thead th {\n",
       "        text-align: right;\n",
       "    }\n",
       "</style>\n",
       "<table border=\"1\" class=\"dataframe\">\n",
       "  <thead>\n",
       "    <tr style=\"text-align: right;\">\n",
       "      <th></th>\n",
       "      <th>Make</th>\n",
       "      <th>Model</th>\n",
       "      <th>Type</th>\n",
       "      <th>Origin</th>\n",
       "      <th>DriveTrain</th>\n",
       "      <th>MSRP</th>\n",
       "      <th>Invoice</th>\n",
       "      <th>EngineSize</th>\n",
       "      <th>Cylinders</th>\n",
       "      <th>Horsepower</th>\n",
       "      <th>MPG_City</th>\n",
       "      <th>MPG_Highway</th>\n",
       "      <th>Weight</th>\n",
       "      <th>Wheelbase</th>\n",
       "      <th>Length</th>\n",
       "    </tr>\n",
       "  </thead>\n",
       "  <tbody>\n",
       "  </tbody>\n",
       "</table>\n",
       "</div>"
      ],
      "text/plain": [
       "Empty DataFrame\n",
       "Columns: [Make, Model, Type, Origin, DriveTrain, MSRP, Invoice, EngineSize, Cylinders, Horsepower, MPG_City, MPG_Highway, Weight, Wheelbase, Length]\n",
       "Index: []"
      ]
     },
     "execution_count": 21,
     "metadata": {},
     "output_type": "execute_result"
    }
   ],
   "source": [
    "df.query('Cylinders > (5.807512+(4*1.558443)) or Cylinders < (5.807512-(4*1.558443))')"
   ]
  },
  {
   "cell_type": "code",
   "execution_count": 22,
   "id": "fe8602fb",
   "metadata": {},
   "outputs": [
    {
     "data": {
      "text/html": [
       "<div>\n",
       "<style scoped>\n",
       "    .dataframe tbody tr th:only-of-type {\n",
       "        vertical-align: middle;\n",
       "    }\n",
       "\n",
       "    .dataframe tbody tr th {\n",
       "        vertical-align: top;\n",
       "    }\n",
       "\n",
       "    .dataframe thead th {\n",
       "        text-align: right;\n",
       "    }\n",
       "</style>\n",
       "<table border=\"1\" class=\"dataframe\">\n",
       "  <thead>\n",
       "    <tr style=\"text-align: right;\">\n",
       "      <th></th>\n",
       "      <th>Make</th>\n",
       "      <th>Model</th>\n",
       "      <th>Type</th>\n",
       "      <th>Origin</th>\n",
       "      <th>DriveTrain</th>\n",
       "      <th>MSRP</th>\n",
       "      <th>Invoice</th>\n",
       "      <th>EngineSize</th>\n",
       "      <th>Cylinders</th>\n",
       "      <th>Horsepower</th>\n",
       "      <th>MPG_City</th>\n",
       "      <th>MPG_Highway</th>\n",
       "      <th>Weight</th>\n",
       "      <th>Wheelbase</th>\n",
       "      <th>Length</th>\n",
       "    </tr>\n",
       "  </thead>\n",
       "  <tbody>\n",
       "  </tbody>\n",
       "</table>\n",
       "</div>"
      ],
      "text/plain": [
       "Empty DataFrame\n",
       "Columns: [Make, Model, Type, Origin, DriveTrain, MSRP, Invoice, EngineSize, Cylinders, Horsepower, MPG_City, MPG_Highway, Weight, Wheelbase, Length]\n",
       "Index: []"
      ]
     },
     "execution_count": 22,
     "metadata": {},
     "output_type": "execute_result"
    }
   ],
   "source": [
    "df.query('Horsepower > (215.885514+(4*71.836032)) or Horsepower < (215.885514-(4*71.836032))')"
   ]
  },
  {
   "cell_type": "code",
   "execution_count": 23,
   "id": "a12fdfa8",
   "metadata": {},
   "outputs": [
    {
     "data": {
      "text/html": [
       "<div>\n",
       "<style scoped>\n",
       "    .dataframe tbody tr th:only-of-type {\n",
       "        vertical-align: middle;\n",
       "    }\n",
       "\n",
       "    .dataframe tbody tr th {\n",
       "        vertical-align: top;\n",
       "    }\n",
       "\n",
       "    .dataframe thead th {\n",
       "        text-align: right;\n",
       "    }\n",
       "</style>\n",
       "<table border=\"1\" class=\"dataframe\">\n",
       "  <thead>\n",
       "    <tr style=\"text-align: right;\">\n",
       "      <th></th>\n",
       "      <th>Make</th>\n",
       "      <th>Model</th>\n",
       "      <th>Type</th>\n",
       "      <th>Origin</th>\n",
       "      <th>DriveTrain</th>\n",
       "      <th>MSRP</th>\n",
       "      <th>Invoice</th>\n",
       "      <th>EngineSize</th>\n",
       "      <th>Cylinders</th>\n",
       "      <th>Horsepower</th>\n",
       "      <th>MPG_City</th>\n",
       "      <th>MPG_Highway</th>\n",
       "      <th>Weight</th>\n",
       "      <th>Wheelbase</th>\n",
       "      <th>Length</th>\n",
       "    </tr>\n",
       "  </thead>\n",
       "  <tbody>\n",
       "    <tr>\n",
       "      <th>149</th>\n",
       "      <td>Honda</td>\n",
       "      <td>Civic Hybrid 4dr manual (gas/electric)</td>\n",
       "      <td>Hybrid</td>\n",
       "      <td>Asia</td>\n",
       "      <td>Front</td>\n",
       "      <td>20140.0</td>\n",
       "      <td>18451.0</td>\n",
       "      <td>1.4</td>\n",
       "      <td>4.0</td>\n",
       "      <td>93</td>\n",
       "      <td>46</td>\n",
       "      <td>51</td>\n",
       "      <td>2732</td>\n",
       "      <td>103</td>\n",
       "      <td>175</td>\n",
       "    </tr>\n",
       "    <tr>\n",
       "      <th>150</th>\n",
       "      <td>Honda</td>\n",
       "      <td>Insight 2dr (gas/electric)</td>\n",
       "      <td>Hybrid</td>\n",
       "      <td>Asia</td>\n",
       "      <td>Front</td>\n",
       "      <td>19110.0</td>\n",
       "      <td>17911.0</td>\n",
       "      <td>2.0</td>\n",
       "      <td>3.0</td>\n",
       "      <td>73</td>\n",
       "      <td>60</td>\n",
       "      <td>66</td>\n",
       "      <td>1850</td>\n",
       "      <td>95</td>\n",
       "      <td>155</td>\n",
       "    </tr>\n",
       "    <tr>\n",
       "      <th>373</th>\n",
       "      <td>Toyota</td>\n",
       "      <td>Prius 4dr (gas/electric)</td>\n",
       "      <td>Hybrid</td>\n",
       "      <td>Asia</td>\n",
       "      <td>Front</td>\n",
       "      <td>20510.0</td>\n",
       "      <td>18926.0</td>\n",
       "      <td>1.5</td>\n",
       "      <td>4.0</td>\n",
       "      <td>110</td>\n",
       "      <td>59</td>\n",
       "      <td>51</td>\n",
       "      <td>2890</td>\n",
       "      <td>106</td>\n",
       "      <td>175</td>\n",
       "    </tr>\n",
       "  </tbody>\n",
       "</table>\n",
       "</div>"
      ],
      "text/plain": [
       "       Make                                   Model    Type Origin DriveTrain  \\\n",
       "149   Honda  Civic Hybrid 4dr manual (gas/electric)  Hybrid   Asia      Front   \n",
       "150   Honda              Insight 2dr (gas/electric)  Hybrid   Asia      Front   \n",
       "373  Toyota                Prius 4dr (gas/electric)  Hybrid   Asia      Front   \n",
       "\n",
       "        MSRP  Invoice  EngineSize  Cylinders  Horsepower  MPG_City  \\\n",
       "149  20140.0  18451.0         1.4        4.0          93        46   \n",
       "150  19110.0  17911.0         2.0        3.0          73        60   \n",
       "373  20510.0  18926.0         1.5        4.0         110        59   \n",
       "\n",
       "     MPG_Highway  Weight  Wheelbase  Length  \n",
       "149           51    2732        103     175  \n",
       "150           66    1850         95     155  \n",
       "373           51    2890        106     175  "
      ]
     },
     "execution_count": 23,
     "metadata": {},
     "output_type": "execute_result"
    }
   ],
   "source": [
    "df.query('MPG_City > (20.060748+(4*5.238218)) or MPG_City < (20.060748-(4*5.238218))')"
   ]
  },
  {
   "cell_type": "code",
   "execution_count": 24,
   "id": "f2b9c67e",
   "metadata": {},
   "outputs": [
    {
     "data": {
      "text/html": [
       "<div>\n",
       "<style scoped>\n",
       "    .dataframe tbody tr th:only-of-type {\n",
       "        vertical-align: middle;\n",
       "    }\n",
       "\n",
       "    .dataframe tbody tr th {\n",
       "        vertical-align: top;\n",
       "    }\n",
       "\n",
       "    .dataframe thead th {\n",
       "        text-align: right;\n",
       "    }\n",
       "</style>\n",
       "<table border=\"1\" class=\"dataframe\">\n",
       "  <thead>\n",
       "    <tr style=\"text-align: right;\">\n",
       "      <th></th>\n",
       "      <th>Make</th>\n",
       "      <th>Model</th>\n",
       "      <th>Type</th>\n",
       "      <th>Origin</th>\n",
       "      <th>DriveTrain</th>\n",
       "      <th>MSRP</th>\n",
       "      <th>Invoice</th>\n",
       "      <th>EngineSize</th>\n",
       "      <th>Cylinders</th>\n",
       "      <th>Horsepower</th>\n",
       "      <th>MPG_City</th>\n",
       "      <th>MPG_Highway</th>\n",
       "      <th>Weight</th>\n",
       "      <th>Wheelbase</th>\n",
       "      <th>Length</th>\n",
       "    </tr>\n",
       "  </thead>\n",
       "  <tbody>\n",
       "    <tr>\n",
       "      <th>149</th>\n",
       "      <td>Honda</td>\n",
       "      <td>Civic Hybrid 4dr manual (gas/electric)</td>\n",
       "      <td>Hybrid</td>\n",
       "      <td>Asia</td>\n",
       "      <td>Front</td>\n",
       "      <td>20140.0</td>\n",
       "      <td>18451.0</td>\n",
       "      <td>1.4</td>\n",
       "      <td>4.0</td>\n",
       "      <td>93</td>\n",
       "      <td>46</td>\n",
       "      <td>51</td>\n",
       "      <td>2732</td>\n",
       "      <td>103</td>\n",
       "      <td>175</td>\n",
       "    </tr>\n",
       "    <tr>\n",
       "      <th>150</th>\n",
       "      <td>Honda</td>\n",
       "      <td>Insight 2dr (gas/electric)</td>\n",
       "      <td>Hybrid</td>\n",
       "      <td>Asia</td>\n",
       "      <td>Front</td>\n",
       "      <td>19110.0</td>\n",
       "      <td>17911.0</td>\n",
       "      <td>2.0</td>\n",
       "      <td>3.0</td>\n",
       "      <td>73</td>\n",
       "      <td>60</td>\n",
       "      <td>66</td>\n",
       "      <td>1850</td>\n",
       "      <td>95</td>\n",
       "      <td>155</td>\n",
       "    </tr>\n",
       "    <tr>\n",
       "      <th>373</th>\n",
       "      <td>Toyota</td>\n",
       "      <td>Prius 4dr (gas/electric)</td>\n",
       "      <td>Hybrid</td>\n",
       "      <td>Asia</td>\n",
       "      <td>Front</td>\n",
       "      <td>20510.0</td>\n",
       "      <td>18926.0</td>\n",
       "      <td>1.5</td>\n",
       "      <td>4.0</td>\n",
       "      <td>110</td>\n",
       "      <td>59</td>\n",
       "      <td>51</td>\n",
       "      <td>2890</td>\n",
       "      <td>106</td>\n",
       "      <td>175</td>\n",
       "    </tr>\n",
       "  </tbody>\n",
       "</table>\n",
       "</div>"
      ],
      "text/plain": [
       "       Make                                   Model    Type Origin DriveTrain  \\\n",
       "149   Honda  Civic Hybrid 4dr manual (gas/electric)  Hybrid   Asia      Front   \n",
       "150   Honda              Insight 2dr (gas/electric)  Hybrid   Asia      Front   \n",
       "373  Toyota                Prius 4dr (gas/electric)  Hybrid   Asia      Front   \n",
       "\n",
       "        MSRP  Invoice  EngineSize  Cylinders  Horsepower  MPG_City  \\\n",
       "149  20140.0  18451.0         1.4        4.0          93        46   \n",
       "150  19110.0  17911.0         2.0        3.0          73        60   \n",
       "373  20510.0  18926.0         1.5        4.0         110        59   \n",
       "\n",
       "     MPG_Highway  Weight  Wheelbase  Length  \n",
       "149           51    2732        103     175  \n",
       "150           66    1850         95     155  \n",
       "373           51    2890        106     175  "
      ]
     },
     "execution_count": 24,
     "metadata": {},
     "output_type": "execute_result"
    }
   ],
   "source": [
    "df.query('MPG_Highway > (26.843458+(4*5.741201)) or MPG_Highway < (26.843458-(4*5.741201))')"
   ]
  },
  {
   "cell_type": "code",
   "execution_count": 25,
   "id": "77adfe1d",
   "metadata": {},
   "outputs": [
    {
     "data": {
      "text/html": [
       "<div>\n",
       "<style scoped>\n",
       "    .dataframe tbody tr th:only-of-type {\n",
       "        vertical-align: middle;\n",
       "    }\n",
       "\n",
       "    .dataframe tbody tr th {\n",
       "        vertical-align: top;\n",
       "    }\n",
       "\n",
       "    .dataframe thead th {\n",
       "        text-align: right;\n",
       "    }\n",
       "</style>\n",
       "<table border=\"1\" class=\"dataframe\">\n",
       "  <thead>\n",
       "    <tr style=\"text-align: right;\">\n",
       "      <th></th>\n",
       "      <th>Make</th>\n",
       "      <th>Model</th>\n",
       "      <th>Type</th>\n",
       "      <th>Origin</th>\n",
       "      <th>DriveTrain</th>\n",
       "      <th>MSRP</th>\n",
       "      <th>Invoice</th>\n",
       "      <th>EngineSize</th>\n",
       "      <th>Cylinders</th>\n",
       "      <th>Horsepower</th>\n",
       "      <th>MPG_City</th>\n",
       "      <th>MPG_Highway</th>\n",
       "      <th>Weight</th>\n",
       "      <th>Wheelbase</th>\n",
       "      <th>Length</th>\n",
       "    </tr>\n",
       "  </thead>\n",
       "  <tbody>\n",
       "    <tr>\n",
       "      <th>118</th>\n",
       "      <td>Ford</td>\n",
       "      <td>Excursion 6.8 XLT</td>\n",
       "      <td>SUV</td>\n",
       "      <td>USA</td>\n",
       "      <td>All</td>\n",
       "      <td>41475.0</td>\n",
       "      <td>36494.0</td>\n",
       "      <td>6.8</td>\n",
       "      <td>10.0</td>\n",
       "      <td>310</td>\n",
       "      <td>10</td>\n",
       "      <td>13</td>\n",
       "      <td>7190</td>\n",
       "      <td>137</td>\n",
       "      <td>227</td>\n",
       "    </tr>\n",
       "  </tbody>\n",
       "</table>\n",
       "</div>"
      ],
      "text/plain": [
       "     Make              Model Type Origin DriveTrain     MSRP  Invoice  \\\n",
       "118  Ford  Excursion 6.8 XLT  SUV    USA        All  41475.0  36494.0   \n",
       "\n",
       "     EngineSize  Cylinders  Horsepower  MPG_City  MPG_Highway  Weight  \\\n",
       "118         6.8       10.0         310        10           13    7190   \n",
       "\n",
       "     Wheelbase  Length  \n",
       "118        137     227  "
      ]
     },
     "execution_count": 25,
     "metadata": {},
     "output_type": "execute_result"
    }
   ],
   "source": [
    "df.query('Weight > (3577.953271+(4*758.983215)) or Weight < (3577.953271-(4*758.983215))')"
   ]
  },
  {
   "cell_type": "code",
   "execution_count": 26,
   "id": "ce4dcb7f",
   "metadata": {},
   "outputs": [
    {
     "data": {
      "text/html": [
       "<div>\n",
       "<style scoped>\n",
       "    .dataframe tbody tr th:only-of-type {\n",
       "        vertical-align: middle;\n",
       "    }\n",
       "\n",
       "    .dataframe tbody tr th {\n",
       "        vertical-align: top;\n",
       "    }\n",
       "\n",
       "    .dataframe thead th {\n",
       "        text-align: right;\n",
       "    }\n",
       "</style>\n",
       "<table border=\"1\" class=\"dataframe\">\n",
       "  <thead>\n",
       "    <tr style=\"text-align: right;\">\n",
       "      <th></th>\n",
       "      <th>Make</th>\n",
       "      <th>Model</th>\n",
       "      <th>Type</th>\n",
       "      <th>Origin</th>\n",
       "      <th>DriveTrain</th>\n",
       "      <th>MSRP</th>\n",
       "      <th>Invoice</th>\n",
       "      <th>EngineSize</th>\n",
       "      <th>Cylinders</th>\n",
       "      <th>Horsepower</th>\n",
       "      <th>MPG_City</th>\n",
       "      <th>MPG_Highway</th>\n",
       "      <th>Weight</th>\n",
       "      <th>Wheelbase</th>\n",
       "      <th>Length</th>\n",
       "    </tr>\n",
       "  </thead>\n",
       "  <tbody>\n",
       "    <tr>\n",
       "      <th>87</th>\n",
       "      <td>Chevrolet</td>\n",
       "      <td>Silverado SS</td>\n",
       "      <td>Truck</td>\n",
       "      <td>USA</td>\n",
       "      <td>All</td>\n",
       "      <td>40340.0</td>\n",
       "      <td>35399.0</td>\n",
       "      <td>6.0</td>\n",
       "      <td>8.0</td>\n",
       "      <td>300</td>\n",
       "      <td>13</td>\n",
       "      <td>17</td>\n",
       "      <td>4804</td>\n",
       "      <td>144</td>\n",
       "      <td>238</td>\n",
       "    </tr>\n",
       "    <tr>\n",
       "      <th>146</th>\n",
       "      <td>GMC</td>\n",
       "      <td>Sierra Extended Cab 1500</td>\n",
       "      <td>Truck</td>\n",
       "      <td>USA</td>\n",
       "      <td>Rear</td>\n",
       "      <td>25717.0</td>\n",
       "      <td>22604.0</td>\n",
       "      <td>4.8</td>\n",
       "      <td>8.0</td>\n",
       "      <td>285</td>\n",
       "      <td>17</td>\n",
       "      <td>20</td>\n",
       "      <td>4548</td>\n",
       "      <td>144</td>\n",
       "      <td>230</td>\n",
       "    </tr>\n",
       "  </tbody>\n",
       "</table>\n",
       "</div>"
      ],
      "text/plain": [
       "          Make                     Model   Type Origin DriveTrain     MSRP  \\\n",
       "87   Chevrolet              Silverado SS  Truck    USA        All  40340.0   \n",
       "146        GMC  Sierra Extended Cab 1500  Truck    USA       Rear  25717.0   \n",
       "\n",
       "     Invoice  EngineSize  Cylinders  Horsepower  MPG_City  MPG_Highway  \\\n",
       "87   35399.0         6.0        8.0         300        13           17   \n",
       "146  22604.0         4.8        8.0         285        17           20   \n",
       "\n",
       "     Weight  Wheelbase  Length  \n",
       "87     4804        144     238  \n",
       "146    4548        144     230  "
      ]
     },
     "execution_count": 26,
     "metadata": {},
     "output_type": "execute_result"
    }
   ],
   "source": [
    "df.query('Wheelbase > (108.154206+(4*8.311813)) or Wheelbase < (108.154206-(4*8.311813))')"
   ]
  },
  {
   "cell_type": "code",
   "execution_count": 27,
   "id": "476e30a3",
   "metadata": {},
   "outputs": [
    {
     "data": {
      "text/html": [
       "<div>\n",
       "<style scoped>\n",
       "    .dataframe tbody tr th:only-of-type {\n",
       "        vertical-align: middle;\n",
       "    }\n",
       "\n",
       "    .dataframe tbody tr th {\n",
       "        vertical-align: top;\n",
       "    }\n",
       "\n",
       "    .dataframe thead th {\n",
       "        text-align: right;\n",
       "    }\n",
       "</style>\n",
       "<table border=\"1\" class=\"dataframe\">\n",
       "  <thead>\n",
       "    <tr style=\"text-align: right;\">\n",
       "      <th></th>\n",
       "      <th>Make</th>\n",
       "      <th>Model</th>\n",
       "      <th>Type</th>\n",
       "      <th>Origin</th>\n",
       "      <th>DriveTrain</th>\n",
       "      <th>MSRP</th>\n",
       "      <th>Invoice</th>\n",
       "      <th>EngineSize</th>\n",
       "      <th>Cylinders</th>\n",
       "      <th>Horsepower</th>\n",
       "      <th>MPG_City</th>\n",
       "      <th>MPG_Highway</th>\n",
       "      <th>Weight</th>\n",
       "      <th>Wheelbase</th>\n",
       "      <th>Length</th>\n",
       "    </tr>\n",
       "  </thead>\n",
       "  <tbody>\n",
       "  </tbody>\n",
       "</table>\n",
       "</div>"
      ],
      "text/plain": [
       "Empty DataFrame\n",
       "Columns: [Make, Model, Type, Origin, DriveTrain, MSRP, Invoice, EngineSize, Cylinders, Horsepower, MPG_City, MPG_Highway, Weight, Wheelbase, Length]\n",
       "Index: []"
      ]
     },
     "execution_count": 27,
     "metadata": {},
     "output_type": "execute_result"
    }
   ],
   "source": [
    "df.query('Length > (186.362150+(4*14.357991)) or Length < (186.362150-(4*14.357991))')"
   ]
  },
  {
   "cell_type": "markdown",
   "id": "77e59dd3",
   "metadata": {},
   "source": [
    "# Test de normalidad"
   ]
  },
  {
   "cell_type": "code",
   "execution_count": 28,
   "id": "eb7817c7",
   "metadata": {},
   "outputs": [],
   "source": [
    "def normal_test(variable):\n",
    "    k2, p = stats.normaltest(df[[variable]])\n",
    "    alpha = 1e-3\n",
    "    if p < alpha:\n",
    "        print(\"It is not normal\")\n",
    "    else:\n",
    "        print(\"It is normal\")"
   ]
  },
  {
   "cell_type": "markdown",
   "id": "69791f84",
   "metadata": {},
   "source": [
    "## Para MSR:"
   ]
  },
  {
   "cell_type": "code",
   "execution_count": 29,
   "id": "29d7edaf",
   "metadata": {},
   "outputs": [
    {
     "name": "stdout",
     "output_type": "stream",
     "text": [
      "It is not normal\n"
     ]
    }
   ],
   "source": [
    "normal_test(\"MSRP\")"
   ]
  },
  {
   "cell_type": "markdown",
   "id": "5a9199df",
   "metadata": {},
   "source": [
    "## Para Invoice:"
   ]
  },
  {
   "cell_type": "code",
   "execution_count": 30,
   "id": "f7ca98da",
   "metadata": {},
   "outputs": [
    {
     "name": "stdout",
     "output_type": "stream",
     "text": [
      "It is not normal\n"
     ]
    }
   ],
   "source": [
    "normal_test(\"Invoice\")"
   ]
  },
  {
   "cell_type": "markdown",
   "id": "655113e5",
   "metadata": {},
   "source": [
    "## Para EngineSize:"
   ]
  },
  {
   "cell_type": "code",
   "execution_count": 31,
   "id": "0d4ffb68",
   "metadata": {},
   "outputs": [
    {
     "ename": "KeyError",
     "evalue": "\"None of [Index(['EngineSize\\\\t'], dtype='object')] are in the [columns]\"",
     "output_type": "error",
     "traceback": [
      "\u001b[1;31m---------------------------------------------------------------------------\u001b[0m",
      "\u001b[1;31mKeyError\u001b[0m                                  Traceback (most recent call last)",
      "Cell \u001b[1;32mIn[31], line 1\u001b[0m\n\u001b[1;32m----> 1\u001b[0m \u001b[43mnormal_test\u001b[49m\u001b[43m(\u001b[49m\u001b[38;5;124;43m\"\u001b[39;49m\u001b[38;5;124;43mEngineSize\t\u001b[39;49m\u001b[38;5;124;43m\"\u001b[39;49m\u001b[43m)\u001b[49m\n",
      "Cell \u001b[1;32mIn[28], line 2\u001b[0m, in \u001b[0;36mnormal_test\u001b[1;34m(variable)\u001b[0m\n\u001b[0;32m      1\u001b[0m \u001b[38;5;28;01mdef\u001b[39;00m \u001b[38;5;21mnormal_test\u001b[39m(variable):\n\u001b[1;32m----> 2\u001b[0m     k2, p \u001b[38;5;241m=\u001b[39m stats\u001b[38;5;241m.\u001b[39mnormaltest(\u001b[43mdf\u001b[49m\u001b[43m[\u001b[49m\u001b[43m[\u001b[49m\u001b[43mvariable\u001b[49m\u001b[43m]\u001b[49m\u001b[43m]\u001b[49m)\n\u001b[0;32m      3\u001b[0m     alpha \u001b[38;5;241m=\u001b[39m \u001b[38;5;241m1e-3\u001b[39m\n\u001b[0;32m      4\u001b[0m     \u001b[38;5;28;01mif\u001b[39;00m p \u001b[38;5;241m<\u001b[39m alpha:\n",
      "File \u001b[1;32m~\\AppData\\Local\\Programs\\Python\\Python39\\lib\\site-packages\\pandas\\core\\frame.py:3811\u001b[0m, in \u001b[0;36mDataFrame.__getitem__\u001b[1;34m(self, key)\u001b[0m\n\u001b[0;32m   3809\u001b[0m     \u001b[38;5;28;01mif\u001b[39;00m is_iterator(key):\n\u001b[0;32m   3810\u001b[0m         key \u001b[38;5;241m=\u001b[39m \u001b[38;5;28mlist\u001b[39m(key)\n\u001b[1;32m-> 3811\u001b[0m     indexer \u001b[38;5;241m=\u001b[39m \u001b[38;5;28;43mself\u001b[39;49m\u001b[38;5;241;43m.\u001b[39;49m\u001b[43mcolumns\u001b[49m\u001b[38;5;241;43m.\u001b[39;49m\u001b[43m_get_indexer_strict\u001b[49m\u001b[43m(\u001b[49m\u001b[43mkey\u001b[49m\u001b[43m,\u001b[49m\u001b[43m \u001b[49m\u001b[38;5;124;43m\"\u001b[39;49m\u001b[38;5;124;43mcolumns\u001b[39;49m\u001b[38;5;124;43m\"\u001b[39;49m\u001b[43m)\u001b[49m[\u001b[38;5;241m1\u001b[39m]\n\u001b[0;32m   3813\u001b[0m \u001b[38;5;66;03m# take() does not accept boolean indexers\u001b[39;00m\n\u001b[0;32m   3814\u001b[0m \u001b[38;5;28;01mif\u001b[39;00m \u001b[38;5;28mgetattr\u001b[39m(indexer, \u001b[38;5;124m\"\u001b[39m\u001b[38;5;124mdtype\u001b[39m\u001b[38;5;124m\"\u001b[39m, \u001b[38;5;28;01mNone\u001b[39;00m) \u001b[38;5;241m==\u001b[39m \u001b[38;5;28mbool\u001b[39m:\n",
      "File \u001b[1;32m~\\AppData\\Local\\Programs\\Python\\Python39\\lib\\site-packages\\pandas\\core\\indexes\\base.py:6108\u001b[0m, in \u001b[0;36mIndex._get_indexer_strict\u001b[1;34m(self, key, axis_name)\u001b[0m\n\u001b[0;32m   6105\u001b[0m \u001b[38;5;28;01melse\u001b[39;00m:\n\u001b[0;32m   6106\u001b[0m     keyarr, indexer, new_indexer \u001b[38;5;241m=\u001b[39m \u001b[38;5;28mself\u001b[39m\u001b[38;5;241m.\u001b[39m_reindex_non_unique(keyarr)\n\u001b[1;32m-> 6108\u001b[0m \u001b[38;5;28;43mself\u001b[39;49m\u001b[38;5;241;43m.\u001b[39;49m\u001b[43m_raise_if_missing\u001b[49m\u001b[43m(\u001b[49m\u001b[43mkeyarr\u001b[49m\u001b[43m,\u001b[49m\u001b[43m \u001b[49m\u001b[43mindexer\u001b[49m\u001b[43m,\u001b[49m\u001b[43m \u001b[49m\u001b[43maxis_name\u001b[49m\u001b[43m)\u001b[49m\n\u001b[0;32m   6110\u001b[0m keyarr \u001b[38;5;241m=\u001b[39m \u001b[38;5;28mself\u001b[39m\u001b[38;5;241m.\u001b[39mtake(indexer)\n\u001b[0;32m   6111\u001b[0m \u001b[38;5;28;01mif\u001b[39;00m \u001b[38;5;28misinstance\u001b[39m(key, Index):\n\u001b[0;32m   6112\u001b[0m     \u001b[38;5;66;03m# GH 42790 - Preserve name from an Index\u001b[39;00m\n",
      "File \u001b[1;32m~\\AppData\\Local\\Programs\\Python\\Python39\\lib\\site-packages\\pandas\\core\\indexes\\base.py:6168\u001b[0m, in \u001b[0;36mIndex._raise_if_missing\u001b[1;34m(self, key, indexer, axis_name)\u001b[0m\n\u001b[0;32m   6166\u001b[0m     \u001b[38;5;28;01mif\u001b[39;00m use_interval_msg:\n\u001b[0;32m   6167\u001b[0m         key \u001b[38;5;241m=\u001b[39m \u001b[38;5;28mlist\u001b[39m(key)\n\u001b[1;32m-> 6168\u001b[0m     \u001b[38;5;28;01mraise\u001b[39;00m \u001b[38;5;167;01mKeyError\u001b[39;00m(\u001b[38;5;124mf\u001b[39m\u001b[38;5;124m\"\u001b[39m\u001b[38;5;124mNone of [\u001b[39m\u001b[38;5;132;01m{\u001b[39;00mkey\u001b[38;5;132;01m}\u001b[39;00m\u001b[38;5;124m] are in the [\u001b[39m\u001b[38;5;132;01m{\u001b[39;00maxis_name\u001b[38;5;132;01m}\u001b[39;00m\u001b[38;5;124m]\u001b[39m\u001b[38;5;124m\"\u001b[39m)\n\u001b[0;32m   6170\u001b[0m not_found \u001b[38;5;241m=\u001b[39m \u001b[38;5;28mlist\u001b[39m(ensure_index(key)[missing_mask\u001b[38;5;241m.\u001b[39mnonzero()[\u001b[38;5;241m0\u001b[39m]]\u001b[38;5;241m.\u001b[39munique())\n\u001b[0;32m   6171\u001b[0m \u001b[38;5;28;01mraise\u001b[39;00m \u001b[38;5;167;01mKeyError\u001b[39;00m(\u001b[38;5;124mf\u001b[39m\u001b[38;5;124m\"\u001b[39m\u001b[38;5;132;01m{\u001b[39;00mnot_found\u001b[38;5;132;01m}\u001b[39;00m\u001b[38;5;124m not in index\u001b[39m\u001b[38;5;124m\"\u001b[39m)\n",
      "\u001b[1;31mKeyError\u001b[0m: \"None of [Index(['EngineSize\\\\t'], dtype='object')] are in the [columns]\""
     ]
    }
   ],
   "source": [
    "normal_test(\"EngineSize\t\")"
   ]
  },
  {
   "cell_type": "markdown",
   "id": "77b82d2c",
   "metadata": {},
   "source": [
    "## Para Cylinders:"
   ]
  },
  {
   "cell_type": "code",
   "execution_count": 33,
   "id": "92a9242f",
   "metadata": {},
   "outputs": [
    {
     "name": "stdout",
     "output_type": "stream",
     "text": [
      "It is normal\n"
     ]
    }
   ],
   "source": [
    "normal_test(\"Cylinders\")"
   ]
  },
  {
   "cell_type": "markdown",
   "id": "9e673119",
   "metadata": {},
   "source": [
    "## Para Horsepower\t"
   ]
  },
  {
   "cell_type": "code",
   "execution_count": 34,
   "id": "57c09f5e",
   "metadata": {},
   "outputs": [
    {
     "name": "stdout",
     "output_type": "stream",
     "text": [
      "It is not normal\n"
     ]
    }
   ],
   "source": [
    "normal_test(\"Horsepower\")"
   ]
  },
  {
   "cell_type": "markdown",
   "id": "f48d208f",
   "metadata": {},
   "source": [
    "## Para MPG_City:\n"
   ]
  },
  {
   "cell_type": "code",
   "execution_count": 35,
   "id": "3ae7c2e2",
   "metadata": {},
   "outputs": [
    {
     "name": "stdout",
     "output_type": "stream",
     "text": [
      "It is not normal\n"
     ]
    }
   ],
   "source": [
    "normal_test(\"MPG_City\")"
   ]
  },
  {
   "cell_type": "markdown",
   "id": "0a14d2b5",
   "metadata": {},
   "source": [
    "## Para MPG_Highway:"
   ]
  },
  {
   "cell_type": "code",
   "execution_count": 36,
   "id": "983679bb",
   "metadata": {},
   "outputs": [
    {
     "name": "stdout",
     "output_type": "stream",
     "text": [
      "It is not normal\n"
     ]
    }
   ],
   "source": [
    "normal_test(\"MPG_Highway\")"
   ]
  },
  {
   "cell_type": "markdown",
   "id": "856ab4e4",
   "metadata": {},
   "source": [
    "## Para Weight:"
   ]
  },
  {
   "cell_type": "code",
   "execution_count": 37,
   "id": "70a458a3",
   "metadata": {},
   "outputs": [
    {
     "name": "stdout",
     "output_type": "stream",
     "text": [
      "It is not normal\n"
     ]
    }
   ],
   "source": [
    "normal_test(\"Weight\")"
   ]
  },
  {
   "cell_type": "markdown",
   "id": "24d4cfeb",
   "metadata": {},
   "source": [
    "## Para Wheelbase:"
   ]
  },
  {
   "cell_type": "code",
   "execution_count": 38,
   "id": "9985ba64",
   "metadata": {},
   "outputs": [
    {
     "name": "stdout",
     "output_type": "stream",
     "text": [
      "It is not normal\n"
     ]
    }
   ],
   "source": [
    "normal_test(\"Wheelbase\")"
   ]
  },
  {
   "cell_type": "markdown",
   "id": "5f32a739",
   "metadata": {},
   "source": [
    "## Para Length:"
   ]
  },
  {
   "cell_type": "code",
   "execution_count": 39,
   "id": "8f190f2f",
   "metadata": {},
   "outputs": [
    {
     "name": "stdout",
     "output_type": "stream",
     "text": [
      "It is normal\n"
     ]
    }
   ],
   "source": [
    "normal_test(\"Length\")"
   ]
  },
  {
   "cell_type": "markdown",
   "id": "aeafb836",
   "metadata": {},
   "source": [
    "# Punto 2.2.1"
   ]
  },
  {
   "cell_type": "code",
   "execution_count": 54,
   "id": "679ead12",
   "metadata": {
    "scrolled": false
   },
   "outputs": [
    {
     "data": {
      "application/vnd.plotly.v1+json": {
       "config": {
        "plotlyServerURL": "https://plot.ly"
       },
       "data": [
        {
         "alignmentgroup": "True",
         "hovertemplate": "Make=%{x}<br>MPG_City=%{y}<extra></extra>",
         "legendgroup": "",
         "marker": {
          "color": "#636efa"
         },
         "name": "",
         "notched": false,
         "offsetgroup": "",
         "orientation": "v",
         "showlegend": false,
         "type": "box",
         "x": [
          "Acura",
          "Acura",
          "Acura",
          "Acura",
          "Acura",
          "Acura",
          "Acura",
          "Audi",
          "Audi",
          "Audi",
          "Audi",
          "Audi",
          "Audi",
          "Audi",
          "Audi",
          "Audi",
          "Audi",
          "Audi",
          "Audi",
          "Audi",
          "Audi",
          "Audi",
          "Audi",
          "Audi",
          "Audi",
          "Audi",
          "BMW",
          "BMW",
          "BMW",
          "BMW",
          "BMW",
          "BMW",
          "BMW",
          "BMW",
          "BMW",
          "BMW",
          "BMW",
          "BMW",
          "BMW",
          "BMW",
          "BMW",
          "BMW",
          "BMW",
          "BMW",
          "BMW",
          "BMW",
          "Buick",
          "Buick",
          "Buick",
          "Buick",
          "Buick",
          "Buick",
          "Buick",
          "Buick",
          "Buick",
          "Cadillac",
          "Cadillac",
          "Cadillac",
          "Cadillac",
          "Cadillac",
          "Cadillac",
          "Cadillac",
          "Cadillac",
          "Chevrolet",
          "Chevrolet",
          "Chevrolet",
          "Chevrolet",
          "Chevrolet",
          "Chevrolet",
          "Chevrolet",
          "Chevrolet",
          "Chevrolet",
          "Chevrolet",
          "Chevrolet",
          "Chevrolet",
          "Chevrolet",
          "Chevrolet",
          "Chevrolet",
          "Chevrolet",
          "Chevrolet",
          "Chevrolet",
          "Chevrolet",
          "Chevrolet",
          "Chevrolet",
          "Chevrolet",
          "Chevrolet",
          "Chevrolet",
          "Chevrolet",
          "Chevrolet",
          "Chevrolet",
          "Chrysler",
          "Chrysler",
          "Chrysler",
          "Chrysler",
          "Chrysler",
          "Chrysler",
          "Chrysler",
          "Chrysler",
          "Chrysler",
          "Chrysler",
          "Chrysler",
          "Chrysler",
          "Chrysler",
          "Chrysler",
          "Chrysler",
          "Dodge",
          "Dodge",
          "Dodge",
          "Dodge",
          "Dodge",
          "Dodge",
          "Dodge",
          "Dodge",
          "Dodge",
          "Dodge",
          "Dodge",
          "Dodge",
          "Dodge",
          "Ford",
          "Ford",
          "Ford",
          "Ford",
          "Ford",
          "Ford",
          "Ford",
          "Ford",
          "Ford",
          "Ford",
          "Ford",
          "Ford",
          "Ford",
          "Ford",
          "Ford",
          "Ford",
          "Ford",
          "Ford",
          "Ford",
          "Ford",
          "Ford",
          "Ford",
          "Ford",
          "GMC",
          "GMC",
          "GMC",
          "GMC",
          "GMC",
          "GMC",
          "GMC",
          "GMC",
          "Honda",
          "Honda",
          "Honda",
          "Honda",
          "Honda",
          "Honda",
          "Honda",
          "Honda",
          "Honda",
          "Honda",
          "Honda",
          "Honda",
          "Honda",
          "Honda",
          "Honda",
          "Honda",
          "Honda",
          "Hummer",
          "Hyundai",
          "Hyundai",
          "Hyundai",
          "Hyundai",
          "Hyundai",
          "Hyundai",
          "Hyundai",
          "Hyundai",
          "Hyundai",
          "Hyundai",
          "Hyundai",
          "Hyundai",
          "Infiniti",
          "Infiniti",
          "Infiniti",
          "Infiniti",
          "Infiniti",
          "Infiniti",
          "Infiniti",
          "Infiniti",
          "Isuzu",
          "Isuzu",
          "Jaguar",
          "Jaguar",
          "Jaguar",
          "Jaguar",
          "Jaguar",
          "Jaguar",
          "Jaguar",
          "Jaguar",
          "Jaguar",
          "Jaguar",
          "Jaguar",
          "Jaguar",
          "Jeep",
          "Jeep",
          "Jeep",
          "Kia",
          "Kia",
          "Kia",
          "Kia",
          "Kia",
          "Kia",
          "Kia",
          "Kia",
          "Kia",
          "Kia",
          "Kia",
          "Land Rover",
          "Land Rover",
          "Land Rover",
          "Lexus",
          "Lexus",
          "Lexus",
          "Lexus",
          "Lexus",
          "Lexus",
          "Lexus",
          "Lexus",
          "Lexus",
          "Lexus",
          "Lexus",
          "Lincoln",
          "Lincoln",
          "Lincoln",
          "Lincoln",
          "Lincoln",
          "Lincoln",
          "Lincoln",
          "Lincoln",
          "Lincoln",
          "MINI",
          "MINI",
          "Mazda",
          "Mazda",
          "Mazda",
          "Mazda",
          "Mazda",
          "Mazda",
          "Mazda",
          "Mazda",
          "Mazda",
          "Mazda",
          "Mazda",
          "Mercedes-Benz",
          "Mercedes-Benz",
          "Mercedes-Benz",
          "Mercedes-Benz",
          "Mercedes-Benz",
          "Mercedes-Benz",
          "Mercedes-Benz",
          "Mercedes-Benz",
          "Mercedes-Benz",
          "Mercedes-Benz",
          "Mercedes-Benz",
          "Mercedes-Benz",
          "Mercedes-Benz",
          "Mercedes-Benz",
          "Mercedes-Benz",
          "Mercedes-Benz",
          "Mercedes-Benz",
          "Mercedes-Benz",
          "Mercedes-Benz",
          "Mercedes-Benz",
          "Mercedes-Benz",
          "Mercedes-Benz",
          "Mercedes-Benz",
          "Mercedes-Benz",
          "Mercedes-Benz",
          "Mercedes-Benz",
          "Mercury",
          "Mercury",
          "Mercury",
          "Mercury",
          "Mercury",
          "Mercury",
          "Mercury",
          "Mercury",
          "Mercury",
          "Mitsubishi",
          "Mitsubishi",
          "Mitsubishi",
          "Mitsubishi",
          "Mitsubishi",
          "Mitsubishi",
          "Mitsubishi",
          "Mitsubishi",
          "Mitsubishi",
          "Mitsubishi",
          "Mitsubishi",
          "Mitsubishi",
          "Mitsubishi",
          "Nissan",
          "Nissan",
          "Nissan",
          "Nissan",
          "Nissan",
          "Nissan",
          "Nissan",
          "Nissan",
          "Nissan",
          "Nissan",
          "Nissan",
          "Nissan",
          "Nissan",
          "Nissan",
          "Nissan",
          "Nissan",
          "Nissan",
          "Oldsmobile",
          "Oldsmobile",
          "Oldsmobile",
          "Pontiac",
          "Pontiac",
          "Pontiac",
          "Pontiac",
          "Pontiac",
          "Pontiac",
          "Pontiac",
          "Pontiac",
          "Pontiac",
          "Pontiac",
          "Pontiac",
          "Porsche",
          "Porsche",
          "Porsche",
          "Porsche",
          "Porsche",
          "Porsche",
          "Porsche",
          "Saab",
          "Saab",
          "Saab",
          "Saab",
          "Saab",
          "Saab",
          "Saab",
          "Saturn",
          "Saturn",
          "Saturn",
          "Saturn",
          "Saturn",
          "Saturn",
          "Saturn",
          "Saturn",
          "Scion",
          "Scion",
          "Subaru",
          "Subaru",
          "Subaru",
          "Subaru",
          "Subaru",
          "Subaru",
          "Subaru",
          "Subaru",
          "Subaru",
          "Subaru",
          "Subaru",
          "Suzuki",
          "Suzuki",
          "Suzuki",
          "Suzuki",
          "Suzuki",
          "Suzuki",
          "Suzuki",
          "Suzuki",
          "Toyota",
          "Toyota",
          "Toyota",
          "Toyota",
          "Toyota",
          "Toyota",
          "Toyota",
          "Toyota",
          "Toyota",
          "Toyota",
          "Toyota",
          "Toyota",
          "Toyota",
          "Toyota",
          "Toyota",
          "Toyota",
          "Toyota",
          "Toyota",
          "Toyota",
          "Toyota",
          "Toyota",
          "Toyota",
          "Toyota",
          "Toyota",
          "Toyota",
          "Toyota",
          "Toyota",
          "Toyota",
          "Volkswagen",
          "Volkswagen",
          "Volkswagen",
          "Volkswagen",
          "Volkswagen",
          "Volkswagen",
          "Volkswagen",
          "Volkswagen",
          "Volkswagen",
          "Volkswagen",
          "Volkswagen",
          "Volkswagen",
          "Volkswagen",
          "Volkswagen",
          "Volkswagen",
          "Volvo",
          "Volvo",
          "Volvo",
          "Volvo",
          "Volvo",
          "Volvo",
          "Volvo",
          "Volvo",
          "Volvo",
          "Volvo",
          "Volvo",
          "Volvo"
         ],
         "x0": " ",
         "xaxis": "x",
         "y": [
          17,
          24,
          22,
          20,
          18,
          18,
          17,
          22,
          23,
          20,
          17,
          18,
          20,
          18,
          20,
          18,
          18,
          17,
          17,
          14,
          15,
          20,
          20,
          21,
          18,
          15,
          16,
          16,
          20,
          20,
          19,
          19,
          20,
          20,
          20,
          19,
          19,
          20,
          18,
          18,
          18,
          16,
          16,
          20,
          21,
          19,
          15,
          19,
          20,
          20,
          20,
          18,
          20,
          20,
          18,
          14,
          16,
          18,
          18,
          18,
          18,
          17,
          13,
          14,
          14,
          16,
          19,
          28,
          28,
          26,
          26,
          26,
          21,
          24,
          22,
          21,
          20,
          18,
          23,
          18,
          14,
          19,
          18,
          18,
          14,
          18,
          15,
          13,
          16,
          22,
          22,
          22,
          22,
          21,
          18,
          21,
          19,
          21,
          22,
          18,
          21,
          19,
          18,
          17,
          17,
          15,
          29,
          29,
          21,
          21,
          21,
          18,
          20,
          18,
          12,
          16,
          16,
          16,
          10,
          15,
          15,
          18,
          26,
          27,
          26,
          26,
          21,
          20,
          19,
          17,
          17,
          17,
          17,
          20,
          17,
          17,
          15,
          14,
          24,
          26,
          19,
          15,
          16,
          13,
          16,
          18,
          17,
          13,
          15,
          46,
          60,
          17,
          21,
          21,
          32,
          36,
          32,
          26,
          26,
          32,
          26,
          21,
          21,
          18,
          18,
          20,
          10,
          20,
          29,
          29,
          29,
          26,
          26,
          26,
          19,
          19,
          17,
          17,
          19,
          18,
          18,
          18,
          19,
          17,
          17,
          16,
          15,
          15,
          17,
          18,
          18,
          18,
          18,
          17,
          18,
          18,
          17,
          18,
          18,
          16,
          16,
          16,
          20,
          16,
          16,
          23,
          26,
          25,
          24,
          24,
          24,
          20,
          17,
          16,
          26,
          12,
          12,
          18,
          15,
          13,
          18,
          20,
          18,
          18,
          18,
          18,
          18,
          18,
          18,
          13,
          13,
          20,
          20,
          17,
          17,
          17,
          17,
          17,
          28,
          25,
          22,
          26,
          25,
          24,
          18,
          23,
          23,
          18,
          18,
          24,
          15,
          13,
          14,
          22,
          19,
          20,
          19,
          19,
          20,
          19,
          16,
          16,
          13,
          20,
          17,
          19,
          16,
          18,
          16,
          16,
          14,
          13,
          21,
          17,
          19,
          19,
          16,
          16,
          20,
          17,
          17,
          19,
          17,
          17,
          16,
          19,
          17,
          15,
          21,
          25,
          25,
          23,
          25,
          18,
          18,
          21,
          21,
          18,
          25,
          13,
          16,
          17,
          28,
          28,
          21,
          23,
          21,
          20,
          20,
          19,
          18,
          20,
          20,
          17,
          14,
          20,
          24,
          20,
          19,
          19,
          24,
          20,
          20,
          24,
          20,
          17,
          19,
          18,
          16,
          29,
          14,
          18,
          17,
          18,
          17,
          20,
          18,
          20,
          20,
          21,
          21,
          21,
          21,
          19,
          21,
          26,
          26,
          26,
          26,
          26,
          20,
          24,
          32,
          31,
          22,
          21,
          21,
          20,
          19,
          19,
          20,
          18,
          21,
          21,
          21,
          18,
          19,
          25,
          25,
          24,
          22,
          20,
          24,
          59,
          14,
          18,
          18,
          13,
          22,
          32,
          32,
          32,
          35,
          33,
          35,
          24,
          21,
          24,
          20,
          21,
          21,
          20,
          21,
          19,
          19,
          24,
          26,
          22,
          16,
          14,
          29,
          15,
          24,
          24,
          38,
          24,
          21,
          24,
          22,
          19,
          18,
          16,
          12,
          24,
          22,
          18,
          15,
          22,
          20,
          20,
          18,
          20,
          20,
          21,
          20,
          19,
          22,
          20
         ],
         "y0": " ",
         "yaxis": "y"
        }
       ],
       "layout": {
        "boxmode": "group",
        "legend": {
         "tracegroupgap": 0
        },
        "margin": {
         "t": 60
        },
        "template": {
         "data": {
          "bar": [
           {
            "error_x": {
             "color": "#2a3f5f"
            },
            "error_y": {
             "color": "#2a3f5f"
            },
            "marker": {
             "line": {
              "color": "#E5ECF6",
              "width": 0.5
             },
             "pattern": {
              "fillmode": "overlay",
              "size": 10,
              "solidity": 0.2
             }
            },
            "type": "bar"
           }
          ],
          "barpolar": [
           {
            "marker": {
             "line": {
              "color": "#E5ECF6",
              "width": 0.5
             },
             "pattern": {
              "fillmode": "overlay",
              "size": 10,
              "solidity": 0.2
             }
            },
            "type": "barpolar"
           }
          ],
          "carpet": [
           {
            "aaxis": {
             "endlinecolor": "#2a3f5f",
             "gridcolor": "white",
             "linecolor": "white",
             "minorgridcolor": "white",
             "startlinecolor": "#2a3f5f"
            },
            "baxis": {
             "endlinecolor": "#2a3f5f",
             "gridcolor": "white",
             "linecolor": "white",
             "minorgridcolor": "white",
             "startlinecolor": "#2a3f5f"
            },
            "type": "carpet"
           }
          ],
          "choropleth": [
           {
            "colorbar": {
             "outlinewidth": 0,
             "ticks": ""
            },
            "type": "choropleth"
           }
          ],
          "contour": [
           {
            "colorbar": {
             "outlinewidth": 0,
             "ticks": ""
            },
            "colorscale": [
             [
              0,
              "#0d0887"
             ],
             [
              0.1111111111111111,
              "#46039f"
             ],
             [
              0.2222222222222222,
              "#7201a8"
             ],
             [
              0.3333333333333333,
              "#9c179e"
             ],
             [
              0.4444444444444444,
              "#bd3786"
             ],
             [
              0.5555555555555556,
              "#d8576b"
             ],
             [
              0.6666666666666666,
              "#ed7953"
             ],
             [
              0.7777777777777778,
              "#fb9f3a"
             ],
             [
              0.8888888888888888,
              "#fdca26"
             ],
             [
              1,
              "#f0f921"
             ]
            ],
            "type": "contour"
           }
          ],
          "contourcarpet": [
           {
            "colorbar": {
             "outlinewidth": 0,
             "ticks": ""
            },
            "type": "contourcarpet"
           }
          ],
          "heatmap": [
           {
            "colorbar": {
             "outlinewidth": 0,
             "ticks": ""
            },
            "colorscale": [
             [
              0,
              "#0d0887"
             ],
             [
              0.1111111111111111,
              "#46039f"
             ],
             [
              0.2222222222222222,
              "#7201a8"
             ],
             [
              0.3333333333333333,
              "#9c179e"
             ],
             [
              0.4444444444444444,
              "#bd3786"
             ],
             [
              0.5555555555555556,
              "#d8576b"
             ],
             [
              0.6666666666666666,
              "#ed7953"
             ],
             [
              0.7777777777777778,
              "#fb9f3a"
             ],
             [
              0.8888888888888888,
              "#fdca26"
             ],
             [
              1,
              "#f0f921"
             ]
            ],
            "type": "heatmap"
           }
          ],
          "heatmapgl": [
           {
            "colorbar": {
             "outlinewidth": 0,
             "ticks": ""
            },
            "colorscale": [
             [
              0,
              "#0d0887"
             ],
             [
              0.1111111111111111,
              "#46039f"
             ],
             [
              0.2222222222222222,
              "#7201a8"
             ],
             [
              0.3333333333333333,
              "#9c179e"
             ],
             [
              0.4444444444444444,
              "#bd3786"
             ],
             [
              0.5555555555555556,
              "#d8576b"
             ],
             [
              0.6666666666666666,
              "#ed7953"
             ],
             [
              0.7777777777777778,
              "#fb9f3a"
             ],
             [
              0.8888888888888888,
              "#fdca26"
             ],
             [
              1,
              "#f0f921"
             ]
            ],
            "type": "heatmapgl"
           }
          ],
          "histogram": [
           {
            "marker": {
             "pattern": {
              "fillmode": "overlay",
              "size": 10,
              "solidity": 0.2
             }
            },
            "type": "histogram"
           }
          ],
          "histogram2d": [
           {
            "colorbar": {
             "outlinewidth": 0,
             "ticks": ""
            },
            "colorscale": [
             [
              0,
              "#0d0887"
             ],
             [
              0.1111111111111111,
              "#46039f"
             ],
             [
              0.2222222222222222,
              "#7201a8"
             ],
             [
              0.3333333333333333,
              "#9c179e"
             ],
             [
              0.4444444444444444,
              "#bd3786"
             ],
             [
              0.5555555555555556,
              "#d8576b"
             ],
             [
              0.6666666666666666,
              "#ed7953"
             ],
             [
              0.7777777777777778,
              "#fb9f3a"
             ],
             [
              0.8888888888888888,
              "#fdca26"
             ],
             [
              1,
              "#f0f921"
             ]
            ],
            "type": "histogram2d"
           }
          ],
          "histogram2dcontour": [
           {
            "colorbar": {
             "outlinewidth": 0,
             "ticks": ""
            },
            "colorscale": [
             [
              0,
              "#0d0887"
             ],
             [
              0.1111111111111111,
              "#46039f"
             ],
             [
              0.2222222222222222,
              "#7201a8"
             ],
             [
              0.3333333333333333,
              "#9c179e"
             ],
             [
              0.4444444444444444,
              "#bd3786"
             ],
             [
              0.5555555555555556,
              "#d8576b"
             ],
             [
              0.6666666666666666,
              "#ed7953"
             ],
             [
              0.7777777777777778,
              "#fb9f3a"
             ],
             [
              0.8888888888888888,
              "#fdca26"
             ],
             [
              1,
              "#f0f921"
             ]
            ],
            "type": "histogram2dcontour"
           }
          ],
          "mesh3d": [
           {
            "colorbar": {
             "outlinewidth": 0,
             "ticks": ""
            },
            "type": "mesh3d"
           }
          ],
          "parcoords": [
           {
            "line": {
             "colorbar": {
              "outlinewidth": 0,
              "ticks": ""
             }
            },
            "type": "parcoords"
           }
          ],
          "pie": [
           {
            "automargin": true,
            "type": "pie"
           }
          ],
          "scatter": [
           {
            "fillpattern": {
             "fillmode": "overlay",
             "size": 10,
             "solidity": 0.2
            },
            "type": "scatter"
           }
          ],
          "scatter3d": [
           {
            "line": {
             "colorbar": {
              "outlinewidth": 0,
              "ticks": ""
             }
            },
            "marker": {
             "colorbar": {
              "outlinewidth": 0,
              "ticks": ""
             }
            },
            "type": "scatter3d"
           }
          ],
          "scattercarpet": [
           {
            "marker": {
             "colorbar": {
              "outlinewidth": 0,
              "ticks": ""
             }
            },
            "type": "scattercarpet"
           }
          ],
          "scattergeo": [
           {
            "marker": {
             "colorbar": {
              "outlinewidth": 0,
              "ticks": ""
             }
            },
            "type": "scattergeo"
           }
          ],
          "scattergl": [
           {
            "marker": {
             "colorbar": {
              "outlinewidth": 0,
              "ticks": ""
             }
            },
            "type": "scattergl"
           }
          ],
          "scattermapbox": [
           {
            "marker": {
             "colorbar": {
              "outlinewidth": 0,
              "ticks": ""
             }
            },
            "type": "scattermapbox"
           }
          ],
          "scatterpolar": [
           {
            "marker": {
             "colorbar": {
              "outlinewidth": 0,
              "ticks": ""
             }
            },
            "type": "scatterpolar"
           }
          ],
          "scatterpolargl": [
           {
            "marker": {
             "colorbar": {
              "outlinewidth": 0,
              "ticks": ""
             }
            },
            "type": "scatterpolargl"
           }
          ],
          "scatterternary": [
           {
            "marker": {
             "colorbar": {
              "outlinewidth": 0,
              "ticks": ""
             }
            },
            "type": "scatterternary"
           }
          ],
          "surface": [
           {
            "colorbar": {
             "outlinewidth": 0,
             "ticks": ""
            },
            "colorscale": [
             [
              0,
              "#0d0887"
             ],
             [
              0.1111111111111111,
              "#46039f"
             ],
             [
              0.2222222222222222,
              "#7201a8"
             ],
             [
              0.3333333333333333,
              "#9c179e"
             ],
             [
              0.4444444444444444,
              "#bd3786"
             ],
             [
              0.5555555555555556,
              "#d8576b"
             ],
             [
              0.6666666666666666,
              "#ed7953"
             ],
             [
              0.7777777777777778,
              "#fb9f3a"
             ],
             [
              0.8888888888888888,
              "#fdca26"
             ],
             [
              1,
              "#f0f921"
             ]
            ],
            "type": "surface"
           }
          ],
          "table": [
           {
            "cells": {
             "fill": {
              "color": "#EBF0F8"
             },
             "line": {
              "color": "white"
             }
            },
            "header": {
             "fill": {
              "color": "#C8D4E3"
             },
             "line": {
              "color": "white"
             }
            },
            "type": "table"
           }
          ]
         },
         "layout": {
          "annotationdefaults": {
           "arrowcolor": "#2a3f5f",
           "arrowhead": 0,
           "arrowwidth": 1
          },
          "autotypenumbers": "strict",
          "coloraxis": {
           "colorbar": {
            "outlinewidth": 0,
            "ticks": ""
           }
          },
          "colorscale": {
           "diverging": [
            [
             0,
             "#8e0152"
            ],
            [
             0.1,
             "#c51b7d"
            ],
            [
             0.2,
             "#de77ae"
            ],
            [
             0.3,
             "#f1b6da"
            ],
            [
             0.4,
             "#fde0ef"
            ],
            [
             0.5,
             "#f7f7f7"
            ],
            [
             0.6,
             "#e6f5d0"
            ],
            [
             0.7,
             "#b8e186"
            ],
            [
             0.8,
             "#7fbc41"
            ],
            [
             0.9,
             "#4d9221"
            ],
            [
             1,
             "#276419"
            ]
           ],
           "sequential": [
            [
             0,
             "#0d0887"
            ],
            [
             0.1111111111111111,
             "#46039f"
            ],
            [
             0.2222222222222222,
             "#7201a8"
            ],
            [
             0.3333333333333333,
             "#9c179e"
            ],
            [
             0.4444444444444444,
             "#bd3786"
            ],
            [
             0.5555555555555556,
             "#d8576b"
            ],
            [
             0.6666666666666666,
             "#ed7953"
            ],
            [
             0.7777777777777778,
             "#fb9f3a"
            ],
            [
             0.8888888888888888,
             "#fdca26"
            ],
            [
             1,
             "#f0f921"
            ]
           ],
           "sequentialminus": [
            [
             0,
             "#0d0887"
            ],
            [
             0.1111111111111111,
             "#46039f"
            ],
            [
             0.2222222222222222,
             "#7201a8"
            ],
            [
             0.3333333333333333,
             "#9c179e"
            ],
            [
             0.4444444444444444,
             "#bd3786"
            ],
            [
             0.5555555555555556,
             "#d8576b"
            ],
            [
             0.6666666666666666,
             "#ed7953"
            ],
            [
             0.7777777777777778,
             "#fb9f3a"
            ],
            [
             0.8888888888888888,
             "#fdca26"
            ],
            [
             1,
             "#f0f921"
            ]
           ]
          },
          "colorway": [
           "#636efa",
           "#EF553B",
           "#00cc96",
           "#ab63fa",
           "#FFA15A",
           "#19d3f3",
           "#FF6692",
           "#B6E880",
           "#FF97FF",
           "#FECB52"
          ],
          "font": {
           "color": "#2a3f5f"
          },
          "geo": {
           "bgcolor": "white",
           "lakecolor": "white",
           "landcolor": "#E5ECF6",
           "showlakes": true,
           "showland": true,
           "subunitcolor": "white"
          },
          "hoverlabel": {
           "align": "left"
          },
          "hovermode": "closest",
          "mapbox": {
           "style": "light"
          },
          "paper_bgcolor": "white",
          "plot_bgcolor": "#E5ECF6",
          "polar": {
           "angularaxis": {
            "gridcolor": "white",
            "linecolor": "white",
            "ticks": ""
           },
           "bgcolor": "#E5ECF6",
           "radialaxis": {
            "gridcolor": "white",
            "linecolor": "white",
            "ticks": ""
           }
          },
          "scene": {
           "xaxis": {
            "backgroundcolor": "#E5ECF6",
            "gridcolor": "white",
            "gridwidth": 2,
            "linecolor": "white",
            "showbackground": true,
            "ticks": "",
            "zerolinecolor": "white"
           },
           "yaxis": {
            "backgroundcolor": "#E5ECF6",
            "gridcolor": "white",
            "gridwidth": 2,
            "linecolor": "white",
            "showbackground": true,
            "ticks": "",
            "zerolinecolor": "white"
           },
           "zaxis": {
            "backgroundcolor": "#E5ECF6",
            "gridcolor": "white",
            "gridwidth": 2,
            "linecolor": "white",
            "showbackground": true,
            "ticks": "",
            "zerolinecolor": "white"
           }
          },
          "shapedefaults": {
           "line": {
            "color": "#2a3f5f"
           }
          },
          "ternary": {
           "aaxis": {
            "gridcolor": "white",
            "linecolor": "white",
            "ticks": ""
           },
           "baxis": {
            "gridcolor": "white",
            "linecolor": "white",
            "ticks": ""
           },
           "bgcolor": "#E5ECF6",
           "caxis": {
            "gridcolor": "white",
            "linecolor": "white",
            "ticks": ""
           }
          },
          "title": {
           "x": 0.05
          },
          "xaxis": {
           "automargin": true,
           "gridcolor": "white",
           "linecolor": "white",
           "ticks": "",
           "title": {
            "standoff": 15
           },
           "zerolinecolor": "white",
           "zerolinewidth": 2
          },
          "yaxis": {
           "automargin": true,
           "gridcolor": "white",
           "linecolor": "white",
           "ticks": "",
           "title": {
            "standoff": 15
           },
           "zerolinecolor": "white",
           "zerolinewidth": 2
          }
         }
        },
        "xaxis": {
         "anchor": "y",
         "domain": [
          0,
          1
         ],
         "title": {
          "text": "Make"
         }
        },
        "yaxis": {
         "anchor": "x",
         "domain": [
          0,
          1
         ],
         "title": {
          "text": "MPG_City"
         }
        }
       }
      },
      "text/html": [
       "<div>                            <div id=\"9113512d-1eca-4c03-b9f4-1d996cef7cca\" class=\"plotly-graph-div\" style=\"height:525px; width:100%;\"></div>            <script type=\"text/javascript\">                require([\"plotly\"], function(Plotly) {                    window.PLOTLYENV=window.PLOTLYENV || {};                                    if (document.getElementById(\"9113512d-1eca-4c03-b9f4-1d996cef7cca\")) {                    Plotly.newPlot(                        \"9113512d-1eca-4c03-b9f4-1d996cef7cca\",                        [{\"alignmentgroup\":\"True\",\"hovertemplate\":\"Make=%{x}<br>MPG_City=%{y}<extra></extra>\",\"legendgroup\":\"\",\"marker\":{\"color\":\"#636efa\"},\"name\":\"\",\"notched\":false,\"offsetgroup\":\"\",\"orientation\":\"v\",\"showlegend\":false,\"x\":[\"Acura\",\"Acura\",\"Acura\",\"Acura\",\"Acura\",\"Acura\",\"Acura\",\"Audi\",\"Audi\",\"Audi\",\"Audi\",\"Audi\",\"Audi\",\"Audi\",\"Audi\",\"Audi\",\"Audi\",\"Audi\",\"Audi\",\"Audi\",\"Audi\",\"Audi\",\"Audi\",\"Audi\",\"Audi\",\"Audi\",\"BMW\",\"BMW\",\"BMW\",\"BMW\",\"BMW\",\"BMW\",\"BMW\",\"BMW\",\"BMW\",\"BMW\",\"BMW\",\"BMW\",\"BMW\",\"BMW\",\"BMW\",\"BMW\",\"BMW\",\"BMW\",\"BMW\",\"BMW\",\"Buick\",\"Buick\",\"Buick\",\"Buick\",\"Buick\",\"Buick\",\"Buick\",\"Buick\",\"Buick\",\"Cadillac\",\"Cadillac\",\"Cadillac\",\"Cadillac\",\"Cadillac\",\"Cadillac\",\"Cadillac\",\"Cadillac\",\"Chevrolet\",\"Chevrolet\",\"Chevrolet\",\"Chevrolet\",\"Chevrolet\",\"Chevrolet\",\"Chevrolet\",\"Chevrolet\",\"Chevrolet\",\"Chevrolet\",\"Chevrolet\",\"Chevrolet\",\"Chevrolet\",\"Chevrolet\",\"Chevrolet\",\"Chevrolet\",\"Chevrolet\",\"Chevrolet\",\"Chevrolet\",\"Chevrolet\",\"Chevrolet\",\"Chevrolet\",\"Chevrolet\",\"Chevrolet\",\"Chevrolet\",\"Chevrolet\",\"Chevrolet\",\"Chrysler\",\"Chrysler\",\"Chrysler\",\"Chrysler\",\"Chrysler\",\"Chrysler\",\"Chrysler\",\"Chrysler\",\"Chrysler\",\"Chrysler\",\"Chrysler\",\"Chrysler\",\"Chrysler\",\"Chrysler\",\"Chrysler\",\"Dodge\",\"Dodge\",\"Dodge\",\"Dodge\",\"Dodge\",\"Dodge\",\"Dodge\",\"Dodge\",\"Dodge\",\"Dodge\",\"Dodge\",\"Dodge\",\"Dodge\",\"Ford\",\"Ford\",\"Ford\",\"Ford\",\"Ford\",\"Ford\",\"Ford\",\"Ford\",\"Ford\",\"Ford\",\"Ford\",\"Ford\",\"Ford\",\"Ford\",\"Ford\",\"Ford\",\"Ford\",\"Ford\",\"Ford\",\"Ford\",\"Ford\",\"Ford\",\"Ford\",\"GMC\",\"GMC\",\"GMC\",\"GMC\",\"GMC\",\"GMC\",\"GMC\",\"GMC\",\"Honda\",\"Honda\",\"Honda\",\"Honda\",\"Honda\",\"Honda\",\"Honda\",\"Honda\",\"Honda\",\"Honda\",\"Honda\",\"Honda\",\"Honda\",\"Honda\",\"Honda\",\"Honda\",\"Honda\",\"Hummer\",\"Hyundai\",\"Hyundai\",\"Hyundai\",\"Hyundai\",\"Hyundai\",\"Hyundai\",\"Hyundai\",\"Hyundai\",\"Hyundai\",\"Hyundai\",\"Hyundai\",\"Hyundai\",\"Infiniti\",\"Infiniti\",\"Infiniti\",\"Infiniti\",\"Infiniti\",\"Infiniti\",\"Infiniti\",\"Infiniti\",\"Isuzu\",\"Isuzu\",\"Jaguar\",\"Jaguar\",\"Jaguar\",\"Jaguar\",\"Jaguar\",\"Jaguar\",\"Jaguar\",\"Jaguar\",\"Jaguar\",\"Jaguar\",\"Jaguar\",\"Jaguar\",\"Jeep\",\"Jeep\",\"Jeep\",\"Kia\",\"Kia\",\"Kia\",\"Kia\",\"Kia\",\"Kia\",\"Kia\",\"Kia\",\"Kia\",\"Kia\",\"Kia\",\"Land Rover\",\"Land Rover\",\"Land Rover\",\"Lexus\",\"Lexus\",\"Lexus\",\"Lexus\",\"Lexus\",\"Lexus\",\"Lexus\",\"Lexus\",\"Lexus\",\"Lexus\",\"Lexus\",\"Lincoln\",\"Lincoln\",\"Lincoln\",\"Lincoln\",\"Lincoln\",\"Lincoln\",\"Lincoln\",\"Lincoln\",\"Lincoln\",\"MINI\",\"MINI\",\"Mazda\",\"Mazda\",\"Mazda\",\"Mazda\",\"Mazda\",\"Mazda\",\"Mazda\",\"Mazda\",\"Mazda\",\"Mazda\",\"Mazda\",\"Mercedes-Benz\",\"Mercedes-Benz\",\"Mercedes-Benz\",\"Mercedes-Benz\",\"Mercedes-Benz\",\"Mercedes-Benz\",\"Mercedes-Benz\",\"Mercedes-Benz\",\"Mercedes-Benz\",\"Mercedes-Benz\",\"Mercedes-Benz\",\"Mercedes-Benz\",\"Mercedes-Benz\",\"Mercedes-Benz\",\"Mercedes-Benz\",\"Mercedes-Benz\",\"Mercedes-Benz\",\"Mercedes-Benz\",\"Mercedes-Benz\",\"Mercedes-Benz\",\"Mercedes-Benz\",\"Mercedes-Benz\",\"Mercedes-Benz\",\"Mercedes-Benz\",\"Mercedes-Benz\",\"Mercedes-Benz\",\"Mercury\",\"Mercury\",\"Mercury\",\"Mercury\",\"Mercury\",\"Mercury\",\"Mercury\",\"Mercury\",\"Mercury\",\"Mitsubishi\",\"Mitsubishi\",\"Mitsubishi\",\"Mitsubishi\",\"Mitsubishi\",\"Mitsubishi\",\"Mitsubishi\",\"Mitsubishi\",\"Mitsubishi\",\"Mitsubishi\",\"Mitsubishi\",\"Mitsubishi\",\"Mitsubishi\",\"Nissan\",\"Nissan\",\"Nissan\",\"Nissan\",\"Nissan\",\"Nissan\",\"Nissan\",\"Nissan\",\"Nissan\",\"Nissan\",\"Nissan\",\"Nissan\",\"Nissan\",\"Nissan\",\"Nissan\",\"Nissan\",\"Nissan\",\"Oldsmobile\",\"Oldsmobile\",\"Oldsmobile\",\"Pontiac\",\"Pontiac\",\"Pontiac\",\"Pontiac\",\"Pontiac\",\"Pontiac\",\"Pontiac\",\"Pontiac\",\"Pontiac\",\"Pontiac\",\"Pontiac\",\"Porsche\",\"Porsche\",\"Porsche\",\"Porsche\",\"Porsche\",\"Porsche\",\"Porsche\",\"Saab\",\"Saab\",\"Saab\",\"Saab\",\"Saab\",\"Saab\",\"Saab\",\"Saturn\",\"Saturn\",\"Saturn\",\"Saturn\",\"Saturn\",\"Saturn\",\"Saturn\",\"Saturn\",\"Scion\",\"Scion\",\"Subaru\",\"Subaru\",\"Subaru\",\"Subaru\",\"Subaru\",\"Subaru\",\"Subaru\",\"Subaru\",\"Subaru\",\"Subaru\",\"Subaru\",\"Suzuki\",\"Suzuki\",\"Suzuki\",\"Suzuki\",\"Suzuki\",\"Suzuki\",\"Suzuki\",\"Suzuki\",\"Toyota\",\"Toyota\",\"Toyota\",\"Toyota\",\"Toyota\",\"Toyota\",\"Toyota\",\"Toyota\",\"Toyota\",\"Toyota\",\"Toyota\",\"Toyota\",\"Toyota\",\"Toyota\",\"Toyota\",\"Toyota\",\"Toyota\",\"Toyota\",\"Toyota\",\"Toyota\",\"Toyota\",\"Toyota\",\"Toyota\",\"Toyota\",\"Toyota\",\"Toyota\",\"Toyota\",\"Toyota\",\"Volkswagen\",\"Volkswagen\",\"Volkswagen\",\"Volkswagen\",\"Volkswagen\",\"Volkswagen\",\"Volkswagen\",\"Volkswagen\",\"Volkswagen\",\"Volkswagen\",\"Volkswagen\",\"Volkswagen\",\"Volkswagen\",\"Volkswagen\",\"Volkswagen\",\"Volvo\",\"Volvo\",\"Volvo\",\"Volvo\",\"Volvo\",\"Volvo\",\"Volvo\",\"Volvo\",\"Volvo\",\"Volvo\",\"Volvo\",\"Volvo\"],\"x0\":\" \",\"xaxis\":\"x\",\"y\":[17,24,22,20,18,18,17,22,23,20,17,18,20,18,20,18,18,17,17,14,15,20,20,21,18,15,16,16,20,20,19,19,20,20,20,19,19,20,18,18,18,16,16,20,21,19,15,19,20,20,20,18,20,20,18,14,16,18,18,18,18,17,13,14,14,16,19,28,28,26,26,26,21,24,22,21,20,18,23,18,14,19,18,18,14,18,15,13,16,22,22,22,22,21,18,21,19,21,22,18,21,19,18,17,17,15,29,29,21,21,21,18,20,18,12,16,16,16,10,15,15,18,26,27,26,26,21,20,19,17,17,17,17,20,17,17,15,14,24,26,19,15,16,13,16,18,17,13,15,46,60,17,21,21,32,36,32,26,26,32,26,21,21,18,18,20,10,20,29,29,29,26,26,26,19,19,17,17,19,18,18,18,19,17,17,16,15,15,17,18,18,18,18,17,18,18,17,18,18,16,16,16,20,16,16,23,26,25,24,24,24,20,17,16,26,12,12,18,15,13,18,20,18,18,18,18,18,18,18,13,13,20,20,17,17,17,17,17,28,25,22,26,25,24,18,23,23,18,18,24,15,13,14,22,19,20,19,19,20,19,16,16,13,20,17,19,16,18,16,16,14,13,21,17,19,19,16,16,20,17,17,19,17,17,16,19,17,15,21,25,25,23,25,18,18,21,21,18,25,13,16,17,28,28,21,23,21,20,20,19,18,20,20,17,14,20,24,20,19,19,24,20,20,24,20,17,19,18,16,29,14,18,17,18,17,20,18,20,20,21,21,21,21,19,21,26,26,26,26,26,20,24,32,31,22,21,21,20,19,19,20,18,21,21,21,18,19,25,25,24,22,20,24,59,14,18,18,13,22,32,32,32,35,33,35,24,21,24,20,21,21,20,21,19,19,24,26,22,16,14,29,15,24,24,38,24,21,24,22,19,18,16,12,24,22,18,15,22,20,20,18,20,20,21,20,19,22,20],\"y0\":\" \",\"yaxis\":\"y\",\"type\":\"box\"}],                        {\"template\":{\"data\":{\"histogram2dcontour\":[{\"type\":\"histogram2dcontour\",\"colorbar\":{\"outlinewidth\":0,\"ticks\":\"\"},\"colorscale\":[[0.0,\"#0d0887\"],[0.1111111111111111,\"#46039f\"],[0.2222222222222222,\"#7201a8\"],[0.3333333333333333,\"#9c179e\"],[0.4444444444444444,\"#bd3786\"],[0.5555555555555556,\"#d8576b\"],[0.6666666666666666,\"#ed7953\"],[0.7777777777777778,\"#fb9f3a\"],[0.8888888888888888,\"#fdca26\"],[1.0,\"#f0f921\"]]}],\"choropleth\":[{\"type\":\"choropleth\",\"colorbar\":{\"outlinewidth\":0,\"ticks\":\"\"}}],\"histogram2d\":[{\"type\":\"histogram2d\",\"colorbar\":{\"outlinewidth\":0,\"ticks\":\"\"},\"colorscale\":[[0.0,\"#0d0887\"],[0.1111111111111111,\"#46039f\"],[0.2222222222222222,\"#7201a8\"],[0.3333333333333333,\"#9c179e\"],[0.4444444444444444,\"#bd3786\"],[0.5555555555555556,\"#d8576b\"],[0.6666666666666666,\"#ed7953\"],[0.7777777777777778,\"#fb9f3a\"],[0.8888888888888888,\"#fdca26\"],[1.0,\"#f0f921\"]]}],\"heatmap\":[{\"type\":\"heatmap\",\"colorbar\":{\"outlinewidth\":0,\"ticks\":\"\"},\"colorscale\":[[0.0,\"#0d0887\"],[0.1111111111111111,\"#46039f\"],[0.2222222222222222,\"#7201a8\"],[0.3333333333333333,\"#9c179e\"],[0.4444444444444444,\"#bd3786\"],[0.5555555555555556,\"#d8576b\"],[0.6666666666666666,\"#ed7953\"],[0.7777777777777778,\"#fb9f3a\"],[0.8888888888888888,\"#fdca26\"],[1.0,\"#f0f921\"]]}],\"heatmapgl\":[{\"type\":\"heatmapgl\",\"colorbar\":{\"outlinewidth\":0,\"ticks\":\"\"},\"colorscale\":[[0.0,\"#0d0887\"],[0.1111111111111111,\"#46039f\"],[0.2222222222222222,\"#7201a8\"],[0.3333333333333333,\"#9c179e\"],[0.4444444444444444,\"#bd3786\"],[0.5555555555555556,\"#d8576b\"],[0.6666666666666666,\"#ed7953\"],[0.7777777777777778,\"#fb9f3a\"],[0.8888888888888888,\"#fdca26\"],[1.0,\"#f0f921\"]]}],\"contourcarpet\":[{\"type\":\"contourcarpet\",\"colorbar\":{\"outlinewidth\":0,\"ticks\":\"\"}}],\"contour\":[{\"type\":\"contour\",\"colorbar\":{\"outlinewidth\":0,\"ticks\":\"\"},\"colorscale\":[[0.0,\"#0d0887\"],[0.1111111111111111,\"#46039f\"],[0.2222222222222222,\"#7201a8\"],[0.3333333333333333,\"#9c179e\"],[0.4444444444444444,\"#bd3786\"],[0.5555555555555556,\"#d8576b\"],[0.6666666666666666,\"#ed7953\"],[0.7777777777777778,\"#fb9f3a\"],[0.8888888888888888,\"#fdca26\"],[1.0,\"#f0f921\"]]}],\"surface\":[{\"type\":\"surface\",\"colorbar\":{\"outlinewidth\":0,\"ticks\":\"\"},\"colorscale\":[[0.0,\"#0d0887\"],[0.1111111111111111,\"#46039f\"],[0.2222222222222222,\"#7201a8\"],[0.3333333333333333,\"#9c179e\"],[0.4444444444444444,\"#bd3786\"],[0.5555555555555556,\"#d8576b\"],[0.6666666666666666,\"#ed7953\"],[0.7777777777777778,\"#fb9f3a\"],[0.8888888888888888,\"#fdca26\"],[1.0,\"#f0f921\"]]}],\"mesh3d\":[{\"type\":\"mesh3d\",\"colorbar\":{\"outlinewidth\":0,\"ticks\":\"\"}}],\"scatter\":[{\"fillpattern\":{\"fillmode\":\"overlay\",\"size\":10,\"solidity\":0.2},\"type\":\"scatter\"}],\"parcoords\":[{\"type\":\"parcoords\",\"line\":{\"colorbar\":{\"outlinewidth\":0,\"ticks\":\"\"}}}],\"scatterpolargl\":[{\"type\":\"scatterpolargl\",\"marker\":{\"colorbar\":{\"outlinewidth\":0,\"ticks\":\"\"}}}],\"bar\":[{\"error_x\":{\"color\":\"#2a3f5f\"},\"error_y\":{\"color\":\"#2a3f5f\"},\"marker\":{\"line\":{\"color\":\"#E5ECF6\",\"width\":0.5},\"pattern\":{\"fillmode\":\"overlay\",\"size\":10,\"solidity\":0.2}},\"type\":\"bar\"}],\"scattergeo\":[{\"type\":\"scattergeo\",\"marker\":{\"colorbar\":{\"outlinewidth\":0,\"ticks\":\"\"}}}],\"scatterpolar\":[{\"type\":\"scatterpolar\",\"marker\":{\"colorbar\":{\"outlinewidth\":0,\"ticks\":\"\"}}}],\"histogram\":[{\"marker\":{\"pattern\":{\"fillmode\":\"overlay\",\"size\":10,\"solidity\":0.2}},\"type\":\"histogram\"}],\"scattergl\":[{\"type\":\"scattergl\",\"marker\":{\"colorbar\":{\"outlinewidth\":0,\"ticks\":\"\"}}}],\"scatter3d\":[{\"type\":\"scatter3d\",\"line\":{\"colorbar\":{\"outlinewidth\":0,\"ticks\":\"\"}},\"marker\":{\"colorbar\":{\"outlinewidth\":0,\"ticks\":\"\"}}}],\"scattermapbox\":[{\"type\":\"scattermapbox\",\"marker\":{\"colorbar\":{\"outlinewidth\":0,\"ticks\":\"\"}}}],\"scatterternary\":[{\"type\":\"scatterternary\",\"marker\":{\"colorbar\":{\"outlinewidth\":0,\"ticks\":\"\"}}}],\"scattercarpet\":[{\"type\":\"scattercarpet\",\"marker\":{\"colorbar\":{\"outlinewidth\":0,\"ticks\":\"\"}}}],\"carpet\":[{\"aaxis\":{\"endlinecolor\":\"#2a3f5f\",\"gridcolor\":\"white\",\"linecolor\":\"white\",\"minorgridcolor\":\"white\",\"startlinecolor\":\"#2a3f5f\"},\"baxis\":{\"endlinecolor\":\"#2a3f5f\",\"gridcolor\":\"white\",\"linecolor\":\"white\",\"minorgridcolor\":\"white\",\"startlinecolor\":\"#2a3f5f\"},\"type\":\"carpet\"}],\"table\":[{\"cells\":{\"fill\":{\"color\":\"#EBF0F8\"},\"line\":{\"color\":\"white\"}},\"header\":{\"fill\":{\"color\":\"#C8D4E3\"},\"line\":{\"color\":\"white\"}},\"type\":\"table\"}],\"barpolar\":[{\"marker\":{\"line\":{\"color\":\"#E5ECF6\",\"width\":0.5},\"pattern\":{\"fillmode\":\"overlay\",\"size\":10,\"solidity\":0.2}},\"type\":\"barpolar\"}],\"pie\":[{\"automargin\":true,\"type\":\"pie\"}]},\"layout\":{\"autotypenumbers\":\"strict\",\"colorway\":[\"#636efa\",\"#EF553B\",\"#00cc96\",\"#ab63fa\",\"#FFA15A\",\"#19d3f3\",\"#FF6692\",\"#B6E880\",\"#FF97FF\",\"#FECB52\"],\"font\":{\"color\":\"#2a3f5f\"},\"hovermode\":\"closest\",\"hoverlabel\":{\"align\":\"left\"},\"paper_bgcolor\":\"white\",\"plot_bgcolor\":\"#E5ECF6\",\"polar\":{\"bgcolor\":\"#E5ECF6\",\"angularaxis\":{\"gridcolor\":\"white\",\"linecolor\":\"white\",\"ticks\":\"\"},\"radialaxis\":{\"gridcolor\":\"white\",\"linecolor\":\"white\",\"ticks\":\"\"}},\"ternary\":{\"bgcolor\":\"#E5ECF6\",\"aaxis\":{\"gridcolor\":\"white\",\"linecolor\":\"white\",\"ticks\":\"\"},\"baxis\":{\"gridcolor\":\"white\",\"linecolor\":\"white\",\"ticks\":\"\"},\"caxis\":{\"gridcolor\":\"white\",\"linecolor\":\"white\",\"ticks\":\"\"}},\"coloraxis\":{\"colorbar\":{\"outlinewidth\":0,\"ticks\":\"\"}},\"colorscale\":{\"sequential\":[[0.0,\"#0d0887\"],[0.1111111111111111,\"#46039f\"],[0.2222222222222222,\"#7201a8\"],[0.3333333333333333,\"#9c179e\"],[0.4444444444444444,\"#bd3786\"],[0.5555555555555556,\"#d8576b\"],[0.6666666666666666,\"#ed7953\"],[0.7777777777777778,\"#fb9f3a\"],[0.8888888888888888,\"#fdca26\"],[1.0,\"#f0f921\"]],\"sequentialminus\":[[0.0,\"#0d0887\"],[0.1111111111111111,\"#46039f\"],[0.2222222222222222,\"#7201a8\"],[0.3333333333333333,\"#9c179e\"],[0.4444444444444444,\"#bd3786\"],[0.5555555555555556,\"#d8576b\"],[0.6666666666666666,\"#ed7953\"],[0.7777777777777778,\"#fb9f3a\"],[0.8888888888888888,\"#fdca26\"],[1.0,\"#f0f921\"]],\"diverging\":[[0,\"#8e0152\"],[0.1,\"#c51b7d\"],[0.2,\"#de77ae\"],[0.3,\"#f1b6da\"],[0.4,\"#fde0ef\"],[0.5,\"#f7f7f7\"],[0.6,\"#e6f5d0\"],[0.7,\"#b8e186\"],[0.8,\"#7fbc41\"],[0.9,\"#4d9221\"],[1,\"#276419\"]]},\"xaxis\":{\"gridcolor\":\"white\",\"linecolor\":\"white\",\"ticks\":\"\",\"title\":{\"standoff\":15},\"zerolinecolor\":\"white\",\"automargin\":true,\"zerolinewidth\":2},\"yaxis\":{\"gridcolor\":\"white\",\"linecolor\":\"white\",\"ticks\":\"\",\"title\":{\"standoff\":15},\"zerolinecolor\":\"white\",\"automargin\":true,\"zerolinewidth\":2},\"scene\":{\"xaxis\":{\"backgroundcolor\":\"#E5ECF6\",\"gridcolor\":\"white\",\"linecolor\":\"white\",\"showbackground\":true,\"ticks\":\"\",\"zerolinecolor\":\"white\",\"gridwidth\":2},\"yaxis\":{\"backgroundcolor\":\"#E5ECF6\",\"gridcolor\":\"white\",\"linecolor\":\"white\",\"showbackground\":true,\"ticks\":\"\",\"zerolinecolor\":\"white\",\"gridwidth\":2},\"zaxis\":{\"backgroundcolor\":\"#E5ECF6\",\"gridcolor\":\"white\",\"linecolor\":\"white\",\"showbackground\":true,\"ticks\":\"\",\"zerolinecolor\":\"white\",\"gridwidth\":2}},\"shapedefaults\":{\"line\":{\"color\":\"#2a3f5f\"}},\"annotationdefaults\":{\"arrowcolor\":\"#2a3f5f\",\"arrowhead\":0,\"arrowwidth\":1},\"geo\":{\"bgcolor\":\"white\",\"landcolor\":\"#E5ECF6\",\"subunitcolor\":\"white\",\"showland\":true,\"showlakes\":true,\"lakecolor\":\"white\"},\"title\":{\"x\":0.05},\"mapbox\":{\"style\":\"light\"}}},\"xaxis\":{\"anchor\":\"y\",\"domain\":[0.0,1.0],\"title\":{\"text\":\"Make\"}},\"yaxis\":{\"anchor\":\"x\",\"domain\":[0.0,1.0],\"title\":{\"text\":\"MPG_City\"}},\"legend\":{\"tracegroupgap\":0},\"margin\":{\"t\":60},\"boxmode\":\"group\"},                        {\"responsive\": true}                    ).then(function(){\n",
       "                            \n",
       "var gd = document.getElementById('9113512d-1eca-4c03-b9f4-1d996cef7cca');\n",
       "var x = new MutationObserver(function (mutations, observer) {{\n",
       "        var display = window.getComputedStyle(gd).display;\n",
       "        if (!display || display === 'none') {{\n",
       "            console.log([gd, 'removed!']);\n",
       "            Plotly.purge(gd);\n",
       "            observer.disconnect();\n",
       "        }}\n",
       "}});\n",
       "\n",
       "// Listen for the removal of the full notebook cells\n",
       "var notebookContainer = gd.closest('#notebook-container');\n",
       "if (notebookContainer) {{\n",
       "    x.observe(notebookContainer, {childList: true});\n",
       "}}\n",
       "\n",
       "// Listen for the clearing of the current output cell\n",
       "var outputEl = gd.closest('.output');\n",
       "if (outputEl) {{\n",
       "    x.observe(outputEl, {childList: true});\n",
       "}}\n",
       "\n",
       "                        })                };                });            </script>        </div>"
      ]
     },
     "metadata": {},
     "output_type": "display_data"
    }
   ],
   "source": [
    "px.box(df, x=\"Type\", y=\"MPG_City\")"
   ]
  },
  {
   "cell_type": "markdown",
   "id": "b812f94f",
   "metadata": {},
   "source": [
    "En el gráfico se observa la cantidad de millas por galón que recorre un automóvil en la ciudad por fabricante"
   ]
  },
  {
   "cell_type": "code",
   "execution_count": 55,
   "id": "0c9da7b6",
   "metadata": {},
   "outputs": [
    {
     "data": {
      "application/vnd.plotly.v1+json": {
       "config": {
        "plotlyServerURL": "https://plot.ly"
       },
       "data": [
        {
         "alignmentgroup": "True",
         "hovertemplate": "Model=%{x}<br>MPG_City=%{y}<extra></extra>",
         "legendgroup": "",
         "marker": {
          "color": "#636efa"
         },
         "name": "",
         "notched": false,
         "offsetgroup": "",
         "orientation": "v",
         "showlegend": false,
         "type": "box",
         "x": [
          "MDX",
          "RSX Type S 2dr",
          "TSX 4dr",
          "TL 4dr",
          "3.5 RL 4dr",
          "3.5 RL w/Navigation 4dr",
          "NSX coupe 2dr manual S",
          "A4 1.8T 4dr",
          "A41.8T convertible 2dr",
          "A4 3.0 4dr",
          "A4 3.0 Quattro 4dr manual",
          "A4 3.0 Quattro 4dr auto",
          "A6 3.0 4dr",
          "A6 3.0 Quattro 4dr",
          "A4 3.0 convertible 2dr",
          "A4 3.0 Quattro convertible 2dr",
          "A6 2.7 Turbo Quattro 4dr",
          "A6 4.2 Quattro 4dr",
          "A8 L Quattro 4dr",
          "S4 Quattro 4dr",
          "RS 6 4dr",
          "TT 1.8 convertible 2dr (coupe)",
          "TT 1.8 Quattro 2dr (convertible)",
          "TT 3.2 coupe 2dr (convertible)",
          "A6 3.0 Avant Quattro",
          "S4 Avant Quattro",
          "X3 3.0i",
          "X5 4.4i",
          "325i 4dr",
          "325Ci 2dr",
          "325Ci convertible 2dr",
          "325xi 4dr",
          "330i 4dr",
          "330Ci 2dr",
          "330xi 4dr",
          "525i 4dr",
          "330Ci convertible 2dr",
          "530i 4dr",
          "545iA 4dr",
          "745i 4dr",
          "745Li 4dr",
          "M3 coupe 2dr",
          "M3 convertible 2dr",
          "Z4 convertible 2.5i 2dr",
          "Z4 convertible 3.0i 2dr",
          "325xi Sport",
          "Rainier",
          "Rendezvous CX",
          "Century Custom 4dr",
          "LeSabre Custom 4dr",
          "Regal LS 4dr",
          "Regal GS 4dr",
          "LeSabre Limited 4dr",
          "Park Avenue 4dr",
          "Park Avenue Ultra 4dr",
          "Escalade",
          "SRX V8",
          "CTS VVT 4dr",
          "Deville 4dr",
          "Deville DTS 4dr",
          "Seville SLS 4dr",
          "XLR convertible 2dr",
          "Escalade EXT",
          "Suburban 1500 LT",
          "Tahoe LT",
          "TrailBlazer LT",
          "Tracker",
          "Aveo 4dr",
          "Aveo LS 4dr hatch",
          "Cavalier 2dr",
          "Cavalier 4dr",
          "Cavalier LS 2dr",
          "Impala 4dr",
          "Malibu 4dr",
          "Malibu LS 4dr",
          "Monte Carlo LS 2dr",
          "Impala LS 4dr",
          "Impala SS 4dr",
          "Malibu LT 4dr",
          "Monte Carlo SS 2dr",
          "Astro",
          "Venture LS",
          "Corvette 2dr",
          "Corvette convertible 2dr",
          "Avalanche 1500",
          "Colorado Z85",
          "Silverado 1500 Regular Cab",
          "Silverado SS",
          "SSR",
          "Malibu Maxx LS",
          "PT Cruiser 4dr",
          "PT Cruiser Limited 4dr",
          "Sebring 4dr",
          "Sebring Touring 4dr",
          "300M 4dr",
          "Concorde LX 4dr",
          "Concorde LXi 4dr",
          "PT Cruiser GT 4dr",
          "Sebring convertible 2dr",
          "300M Special Edition 4dr",
          "Sebring Limited convertible 2dr",
          "Town and Country LX",
          "Town and Country Limited",
          "Crossfire 2dr",
          "Pacifica",
          "Durango SLT",
          "Neon SE 4dr",
          "Neon SXT 4dr",
          "Intrepid SE 4dr",
          "Stratus SXT 4dr",
          "Stratus SE 4dr",
          "Intrepid ES 4dr",
          "Caravan SE",
          "Grand Caravan SXT",
          "Viper SRT-10 convertible 2dr",
          "Dakota Regular Cab",
          "Dakota Club Cab",
          "Ram 1500 Regular Cab ST",
          "Excursion 6.8 XLT",
          "Expedition 4.6 XLT",
          "Explorer XLT V6",
          "Escape XLS",
          "Focus ZX3 2dr hatch",
          "Focus LX 4dr",
          "Focus SE 4dr",
          "Focus ZX5 5dr",
          "Focus SVT 2dr",
          "Taurus LX 4dr",
          "Taurus SES Duratec 4dr",
          "Crown Victoria 4dr",
          "Crown Victoria LX 4dr",
          "Crown Victoria LX Sport 4dr",
          "Freestar SE",
          "Mustang 2dr (convertible)",
          "Mustang GT Premium convertible 2dr",
          "Thunderbird Deluxe convert w/hardtop 2d",
          "F-150 Regular Cab XL",
          "F-150 Supercab Lariat",
          "Ranger 2.3 XL Regular Cab",
          "Focus ZTW",
          "Taurus SE",
          "Envoy XUV SLE",
          "Yukon 1500 SLE",
          "Yukon XL 2500 SLT",
          "Safari SLE",
          "Canyon Z85 SL Regular Cab",
          "Sierra Extended Cab 1500",
          "Sierra HD 2500",
          "Sonoma Crew Cab",
          "Civic Hybrid 4dr manual (gas/electric)",
          "Insight 2dr (gas/electric)",
          "Pilot LX",
          "CR-V LX",
          "Element LX",
          "Civic DX 2dr",
          "Civic HX 2dr",
          "Civic LX 4dr",
          "Accord LX 2dr",
          "Accord EX 2dr",
          "Civic EX 4dr",
          "Civic Si 2dr hatch",
          "Accord LX V6 4dr",
          "Accord EX V6 2dr",
          "Odyssey LX",
          "Odyssey EX",
          "S2000 convertible 2dr",
          "H2",
          "Santa Fe GLS",
          "Accent 2dr hatch",
          "Accent GL 4dr",
          "Accent GT 2dr hatch",
          "Elantra GLS 4dr",
          "Elantra GT 4dr",
          "Elantra GT 4dr hatch",
          "Sonata GLS 4dr",
          "Sonata LX 4dr",
          "XG350 4dr",
          "XG350 L 4dr",
          "Tiburon GT V6 2dr",
          "G35 4dr",
          "G35 Sport Coupe 2dr",
          "G35 4dr",
          "I35 4dr",
          "M45 4dr",
          "Q45 Luxury 4dr",
          "FX35",
          "FX45",
          "Ascender S",
          "Rodeo S",
          "X-Type 2.5 4dr",
          "X-Type 3.0 4dr",
          "S-Type 3.0 4dr",
          "S-Type 4.2 4dr",
          "S-Type R 4dr",
          "Vanden Plas 4dr",
          "XJ8 4dr",
          "XJR 4dr",
          "XK8 coupe 2dr",
          "XK8 convertible 2dr",
          "XKR coupe 2dr",
          "XKR convertible 2dr",
          "Grand Cherokee Laredo",
          "Liberty Sport",
          "Wrangler Sahara convertible 2dr",
          "Sorento LX",
          "Optima LX 4dr",
          "Rio 4dr manual",
          "Rio 4dr auto",
          "Spectra 4dr",
          "Spectra GS 4dr hatch",
          "Spectra GSX 4dr hatch",
          "Optima LX V6 4dr",
          "Amanti 4dr",
          "Sedona LX",
          "Rio Cinco",
          "Range Rover HSE",
          "Discovery SE",
          "Freelander SE",
          "GX 470",
          "LX 470",
          "RX 330",
          "ES 330 4dr",
          "IS 300 4dr manual",
          "IS 300 4dr auto",
          "GS 300 4dr",
          "GS 430 4dr",
          "LS 430 4dr",
          "SC 430 convertible 2dr",
          "IS 300 SportCross",
          "Navigator Luxury",
          "Aviator Ultimate",
          "LS V6 Luxury 4dr",
          "LS V6 Premium 4dr",
          "LS V8 Sport 4dr",
          "LS V8 Ultimate 4dr",
          "Town Car Signature 4dr",
          "Town Car Ultimate 4dr",
          "Town Car Ultimate L 4dr",
          "Cooper",
          "Cooper S",
          "Tribute DX 2.0",
          "Mazda3 i 4dr",
          "Mazda3 s 4dr",
          "Mazda6 i 4dr",
          "MPV ES",
          "MX-5 Miata convertible 2dr",
          "MX-5 Miata LS convertible 2dr",
          "RX-8 4dr automatic",
          "RX-8 4dr manual",
          "B2300 SX Regular Cab",
          "B4000 SE Cab Plus",
          "G500",
          "ML500",
          "C230 Sport 2dr",
          "C320 Sport 2dr",
          "C240 4dr",
          "C240 4dr",
          "C320 Sport 4dr",
          "C320 4dr",
          "C320 4dr",
          "C32 AMG 4dr",
          "CL500 2dr",
          "CL600 2dr",
          "CLK320 coupe 2dr (convertible)",
          "CLK500 coupe 2dr (convertible)",
          "E320 4dr",
          "E500 4dr",
          "S430 4dr",
          "S500 4dr",
          "SL500 convertible 2dr",
          "SL55 AMG 2dr",
          "SL600 convertible 2dr",
          "SLK230 convertible 2dr",
          "SLK32 AMG 2dr",
          "C240",
          "E320",
          "E500",
          "Mountaineer",
          "Sable GS 4dr",
          "Grand Marquis GS 4dr",
          "Grand Marquis LS Premium 4dr",
          "Sable LS Premium 4dr",
          "Grand Marquis LS Ultimate 4dr",
          "Marauder 4dr",
          "Monterey Luxury",
          "Sable GS",
          "Endeavor XLS",
          "Montero XLS",
          "Outlander LS",
          "Lancer ES 4dr",
          "Lancer LS 4dr",
          "Galant ES 2.4L 4dr",
          "Lancer OZ Rally 4dr auto",
          "Diamante LS 4dr",
          "Galant GTS 4dr",
          "Eclipse GTS 2dr",
          "Eclipse Spyder GT convertible 2dr",
          "Lancer Evolution 4dr",
          "Lancer Sportback LS",
          "Pathfinder Armada SE",
          "Pathfinder SE",
          "Xterra XE V6",
          "Sentra 1.8 4dr",
          "Sentra 1.8 S 4dr",
          "Altima S 4dr",
          "Sentra SE-R 4dr",
          "Altima SE 4dr",
          "Maxima SE 4dr",
          "Maxima SL 4dr",
          "Quest S",
          "Quest SE",
          "350Z coupe 2dr",
          "350Z Enthusiast convertible 2dr",
          "Frontier King Cab XE V6",
          "Titan King Cab XE",
          "Murano SL",
          "Alero GX 2dr",
          "Alero GLS 2dr",
          "Silhouette GL",
          "Aztekt",
          "Sunfire 1SA 2dr",
          "Grand Am GT 2dr",
          "Grand Prix GT1 4dr",
          "Sunfire 1SC 2dr",
          "Grand Prix GT2 4dr",
          "Bonneville GXP 4dr",
          "Montana",
          "Montana EWB",
          "GTO 2dr",
          "Vibe",
          "Cayenne S",
          "911 Carrera convertible 2dr (coupe)",
          "911 Carrera 4S coupe 2dr (convert)",
          "911 Targa coupe 2dr",
          "911 GT2 2dr",
          "Boxster convertible 2dr",
          "Boxster S convertible 2dr",
          "9-3 Arc Sport 4dr",
          "9-3 Aero 4dr",
          "9-5 Arc 4dr",
          "9-5 Aero 4dr",
          "9-3 Arc convertible 2dr",
          "9-3 Aero convertible 2dr",
          "9-5 Aero",
          "VUE",
          "Ion1 4dr",
          "lon2 4dr",
          "lon3 4dr",
          "lon2 quad coupe 2dr",
          "lon3 quad coupe 2dr",
          "L300-2 4dr",
          "L300 2",
          "xA 4dr hatch",
          "xB",
          "Impreza 2.5 RS 4dr",
          "Legacy L 4dr",
          "Legacy GT 4dr",
          "Outback Limited Sedan 4dr",
          "Outback H6 4dr",
          "Outback H-6 VDC 4dr",
          "Impreza WRX 4dr",
          "Impreza WRX STi 4dr",
          "Baja",
          "Forester X",
          "Outback",
          "XL-7 EX",
          "Vitara LX",
          "Aeno S 4dr",
          "Aerio LX 4dr",
          "Forenza S 4dr",
          "Forenza EX 4dr",
          "Verona LX 4dr",
          "Aerio SX",
          "Prius 4dr (gas/electric)",
          "Sequoia SR5",
          "4Runner SR5 V6",
          "Highlander V6",
          "Land Cruiser",
          "RAV4",
          "Corolla CE 4dr",
          "Corolla S 4dr",
          "Corolla LE 4dr",
          "Echo 2dr manual",
          "Echo 2dr auto",
          "Echo 4dr",
          "Camry LE 4dr",
          "Camry LE V6 4dr",
          "Camry Solara SE 2dr",
          "Camry Solara SE V6 2dr",
          "Avalon XL 4dr",
          "Camry XLE V6 4dr",
          "Camry Solara SLE V6 2dr",
          "Avalon XLS 4dr",
          "Sienna CE",
          "Sienna XLE Limited",
          "Celica GT-S 2dr",
          "MR2 Spyder convertible 2dr",
          "Tacoma",
          "Tundra Regular Cab V6",
          "Tundra Access Cab V6 SR5",
          "Matrix XR",
          "Touareg V6",
          "Golf GLS 4dr",
          "GTI 1.8T 2dr hatch",
          "Jetta GLS TDI 4dr",
          "New Beetle GLS 1.8T 2dr",
          "Jetta GLI VR6 4dr",
          "New Beetle GLS convertible 2dr",
          "Passat GLS 4dr",
          "Passat GLX V6 4MOTION 4dr",
          "Passat W8 4MOTION 4dr",
          "Phaeton 4dr",
          "Phaeton W12 4dr",
          "Jetta GL",
          "Passat GLS 1.8T",
          "Passat W8",
          "XC90 T6",
          "S40 4dr",
          "S60 2.5 4dr",
          "S60 T5 4dr",
          "S60 R 4dr",
          "S80 2.9 4dr",
          "S80 2.5T 4dr",
          "C70 LPT convertible 2dr",
          "C70 HPT convertible 2dr",
          "S80 T6 4dr",
          "V40",
          "XC70"
         ],
         "x0": " ",
         "xaxis": "x",
         "y": [
          17,
          24,
          22,
          20,
          18,
          18,
          17,
          22,
          23,
          20,
          17,
          18,
          20,
          18,
          20,
          18,
          18,
          17,
          17,
          14,
          15,
          20,
          20,
          21,
          18,
          15,
          16,
          16,
          20,
          20,
          19,
          19,
          20,
          20,
          20,
          19,
          19,
          20,
          18,
          18,
          18,
          16,
          16,
          20,
          21,
          19,
          15,
          19,
          20,
          20,
          20,
          18,
          20,
          20,
          18,
          14,
          16,
          18,
          18,
          18,
          18,
          17,
          13,
          14,
          14,
          16,
          19,
          28,
          28,
          26,
          26,
          26,
          21,
          24,
          22,
          21,
          20,
          18,
          23,
          18,
          14,
          19,
          18,
          18,
          14,
          18,
          15,
          13,
          16,
          22,
          22,
          22,
          22,
          21,
          18,
          21,
          19,
          21,
          22,
          18,
          21,
          19,
          18,
          17,
          17,
          15,
          29,
          29,
          21,
          21,
          21,
          18,
          20,
          18,
          12,
          16,
          16,
          16,
          10,
          15,
          15,
          18,
          26,
          27,
          26,
          26,
          21,
          20,
          19,
          17,
          17,
          17,
          17,
          20,
          17,
          17,
          15,
          14,
          24,
          26,
          19,
          15,
          16,
          13,
          16,
          18,
          17,
          13,
          15,
          46,
          60,
          17,
          21,
          21,
          32,
          36,
          32,
          26,
          26,
          32,
          26,
          21,
          21,
          18,
          18,
          20,
          10,
          20,
          29,
          29,
          29,
          26,
          26,
          26,
          19,
          19,
          17,
          17,
          19,
          18,
          18,
          18,
          19,
          17,
          17,
          16,
          15,
          15,
          17,
          18,
          18,
          18,
          18,
          17,
          18,
          18,
          17,
          18,
          18,
          16,
          16,
          16,
          20,
          16,
          16,
          23,
          26,
          25,
          24,
          24,
          24,
          20,
          17,
          16,
          26,
          12,
          12,
          18,
          15,
          13,
          18,
          20,
          18,
          18,
          18,
          18,
          18,
          18,
          18,
          13,
          13,
          20,
          20,
          17,
          17,
          17,
          17,
          17,
          28,
          25,
          22,
          26,
          25,
          24,
          18,
          23,
          23,
          18,
          18,
          24,
          15,
          13,
          14,
          22,
          19,
          20,
          19,
          19,
          20,
          19,
          16,
          16,
          13,
          20,
          17,
          19,
          16,
          18,
          16,
          16,
          14,
          13,
          21,
          17,
          19,
          19,
          16,
          16,
          20,
          17,
          17,
          19,
          17,
          17,
          16,
          19,
          17,
          15,
          21,
          25,
          25,
          23,
          25,
          18,
          18,
          21,
          21,
          18,
          25,
          13,
          16,
          17,
          28,
          28,
          21,
          23,
          21,
          20,
          20,
          19,
          18,
          20,
          20,
          17,
          14,
          20,
          24,
          20,
          19,
          19,
          24,
          20,
          20,
          24,
          20,
          17,
          19,
          18,
          16,
          29,
          14,
          18,
          17,
          18,
          17,
          20,
          18,
          20,
          20,
          21,
          21,
          21,
          21,
          19,
          21,
          26,
          26,
          26,
          26,
          26,
          20,
          24,
          32,
          31,
          22,
          21,
          21,
          20,
          19,
          19,
          20,
          18,
          21,
          21,
          21,
          18,
          19,
          25,
          25,
          24,
          22,
          20,
          24,
          59,
          14,
          18,
          18,
          13,
          22,
          32,
          32,
          32,
          35,
          33,
          35,
          24,
          21,
          24,
          20,
          21,
          21,
          20,
          21,
          19,
          19,
          24,
          26,
          22,
          16,
          14,
          29,
          15,
          24,
          24,
          38,
          24,
          21,
          24,
          22,
          19,
          18,
          16,
          12,
          24,
          22,
          18,
          15,
          22,
          20,
          20,
          18,
          20,
          20,
          21,
          20,
          19,
          22,
          20
         ],
         "y0": " ",
         "yaxis": "y"
        }
       ],
       "layout": {
        "boxmode": "group",
        "legend": {
         "tracegroupgap": 0
        },
        "margin": {
         "t": 60
        },
        "template": {
         "data": {
          "bar": [
           {
            "error_x": {
             "color": "#2a3f5f"
            },
            "error_y": {
             "color": "#2a3f5f"
            },
            "marker": {
             "line": {
              "color": "#E5ECF6",
              "width": 0.5
             },
             "pattern": {
              "fillmode": "overlay",
              "size": 10,
              "solidity": 0.2
             }
            },
            "type": "bar"
           }
          ],
          "barpolar": [
           {
            "marker": {
             "line": {
              "color": "#E5ECF6",
              "width": 0.5
             },
             "pattern": {
              "fillmode": "overlay",
              "size": 10,
              "solidity": 0.2
             }
            },
            "type": "barpolar"
           }
          ],
          "carpet": [
           {
            "aaxis": {
             "endlinecolor": "#2a3f5f",
             "gridcolor": "white",
             "linecolor": "white",
             "minorgridcolor": "white",
             "startlinecolor": "#2a3f5f"
            },
            "baxis": {
             "endlinecolor": "#2a3f5f",
             "gridcolor": "white",
             "linecolor": "white",
             "minorgridcolor": "white",
             "startlinecolor": "#2a3f5f"
            },
            "type": "carpet"
           }
          ],
          "choropleth": [
           {
            "colorbar": {
             "outlinewidth": 0,
             "ticks": ""
            },
            "type": "choropleth"
           }
          ],
          "contour": [
           {
            "colorbar": {
             "outlinewidth": 0,
             "ticks": ""
            },
            "colorscale": [
             [
              0,
              "#0d0887"
             ],
             [
              0.1111111111111111,
              "#46039f"
             ],
             [
              0.2222222222222222,
              "#7201a8"
             ],
             [
              0.3333333333333333,
              "#9c179e"
             ],
             [
              0.4444444444444444,
              "#bd3786"
             ],
             [
              0.5555555555555556,
              "#d8576b"
             ],
             [
              0.6666666666666666,
              "#ed7953"
             ],
             [
              0.7777777777777778,
              "#fb9f3a"
             ],
             [
              0.8888888888888888,
              "#fdca26"
             ],
             [
              1,
              "#f0f921"
             ]
            ],
            "type": "contour"
           }
          ],
          "contourcarpet": [
           {
            "colorbar": {
             "outlinewidth": 0,
             "ticks": ""
            },
            "type": "contourcarpet"
           }
          ],
          "heatmap": [
           {
            "colorbar": {
             "outlinewidth": 0,
             "ticks": ""
            },
            "colorscale": [
             [
              0,
              "#0d0887"
             ],
             [
              0.1111111111111111,
              "#46039f"
             ],
             [
              0.2222222222222222,
              "#7201a8"
             ],
             [
              0.3333333333333333,
              "#9c179e"
             ],
             [
              0.4444444444444444,
              "#bd3786"
             ],
             [
              0.5555555555555556,
              "#d8576b"
             ],
             [
              0.6666666666666666,
              "#ed7953"
             ],
             [
              0.7777777777777778,
              "#fb9f3a"
             ],
             [
              0.8888888888888888,
              "#fdca26"
             ],
             [
              1,
              "#f0f921"
             ]
            ],
            "type": "heatmap"
           }
          ],
          "heatmapgl": [
           {
            "colorbar": {
             "outlinewidth": 0,
             "ticks": ""
            },
            "colorscale": [
             [
              0,
              "#0d0887"
             ],
             [
              0.1111111111111111,
              "#46039f"
             ],
             [
              0.2222222222222222,
              "#7201a8"
             ],
             [
              0.3333333333333333,
              "#9c179e"
             ],
             [
              0.4444444444444444,
              "#bd3786"
             ],
             [
              0.5555555555555556,
              "#d8576b"
             ],
             [
              0.6666666666666666,
              "#ed7953"
             ],
             [
              0.7777777777777778,
              "#fb9f3a"
             ],
             [
              0.8888888888888888,
              "#fdca26"
             ],
             [
              1,
              "#f0f921"
             ]
            ],
            "type": "heatmapgl"
           }
          ],
          "histogram": [
           {
            "marker": {
             "pattern": {
              "fillmode": "overlay",
              "size": 10,
              "solidity": 0.2
             }
            },
            "type": "histogram"
           }
          ],
          "histogram2d": [
           {
            "colorbar": {
             "outlinewidth": 0,
             "ticks": ""
            },
            "colorscale": [
             [
              0,
              "#0d0887"
             ],
             [
              0.1111111111111111,
              "#46039f"
             ],
             [
              0.2222222222222222,
              "#7201a8"
             ],
             [
              0.3333333333333333,
              "#9c179e"
             ],
             [
              0.4444444444444444,
              "#bd3786"
             ],
             [
              0.5555555555555556,
              "#d8576b"
             ],
             [
              0.6666666666666666,
              "#ed7953"
             ],
             [
              0.7777777777777778,
              "#fb9f3a"
             ],
             [
              0.8888888888888888,
              "#fdca26"
             ],
             [
              1,
              "#f0f921"
             ]
            ],
            "type": "histogram2d"
           }
          ],
          "histogram2dcontour": [
           {
            "colorbar": {
             "outlinewidth": 0,
             "ticks": ""
            },
            "colorscale": [
             [
              0,
              "#0d0887"
             ],
             [
              0.1111111111111111,
              "#46039f"
             ],
             [
              0.2222222222222222,
              "#7201a8"
             ],
             [
              0.3333333333333333,
              "#9c179e"
             ],
             [
              0.4444444444444444,
              "#bd3786"
             ],
             [
              0.5555555555555556,
              "#d8576b"
             ],
             [
              0.6666666666666666,
              "#ed7953"
             ],
             [
              0.7777777777777778,
              "#fb9f3a"
             ],
             [
              0.8888888888888888,
              "#fdca26"
             ],
             [
              1,
              "#f0f921"
             ]
            ],
            "type": "histogram2dcontour"
           }
          ],
          "mesh3d": [
           {
            "colorbar": {
             "outlinewidth": 0,
             "ticks": ""
            },
            "type": "mesh3d"
           }
          ],
          "parcoords": [
           {
            "line": {
             "colorbar": {
              "outlinewidth": 0,
              "ticks": ""
             }
            },
            "type": "parcoords"
           }
          ],
          "pie": [
           {
            "automargin": true,
            "type": "pie"
           }
          ],
          "scatter": [
           {
            "fillpattern": {
             "fillmode": "overlay",
             "size": 10,
             "solidity": 0.2
            },
            "type": "scatter"
           }
          ],
          "scatter3d": [
           {
            "line": {
             "colorbar": {
              "outlinewidth": 0,
              "ticks": ""
             }
            },
            "marker": {
             "colorbar": {
              "outlinewidth": 0,
              "ticks": ""
             }
            },
            "type": "scatter3d"
           }
          ],
          "scattercarpet": [
           {
            "marker": {
             "colorbar": {
              "outlinewidth": 0,
              "ticks": ""
             }
            },
            "type": "scattercarpet"
           }
          ],
          "scattergeo": [
           {
            "marker": {
             "colorbar": {
              "outlinewidth": 0,
              "ticks": ""
             }
            },
            "type": "scattergeo"
           }
          ],
          "scattergl": [
           {
            "marker": {
             "colorbar": {
              "outlinewidth": 0,
              "ticks": ""
             }
            },
            "type": "scattergl"
           }
          ],
          "scattermapbox": [
           {
            "marker": {
             "colorbar": {
              "outlinewidth": 0,
              "ticks": ""
             }
            },
            "type": "scattermapbox"
           }
          ],
          "scatterpolar": [
           {
            "marker": {
             "colorbar": {
              "outlinewidth": 0,
              "ticks": ""
             }
            },
            "type": "scatterpolar"
           }
          ],
          "scatterpolargl": [
           {
            "marker": {
             "colorbar": {
              "outlinewidth": 0,
              "ticks": ""
             }
            },
            "type": "scatterpolargl"
           }
          ],
          "scatterternary": [
           {
            "marker": {
             "colorbar": {
              "outlinewidth": 0,
              "ticks": ""
             }
            },
            "type": "scatterternary"
           }
          ],
          "surface": [
           {
            "colorbar": {
             "outlinewidth": 0,
             "ticks": ""
            },
            "colorscale": [
             [
              0,
              "#0d0887"
             ],
             [
              0.1111111111111111,
              "#46039f"
             ],
             [
              0.2222222222222222,
              "#7201a8"
             ],
             [
              0.3333333333333333,
              "#9c179e"
             ],
             [
              0.4444444444444444,
              "#bd3786"
             ],
             [
              0.5555555555555556,
              "#d8576b"
             ],
             [
              0.6666666666666666,
              "#ed7953"
             ],
             [
              0.7777777777777778,
              "#fb9f3a"
             ],
             [
              0.8888888888888888,
              "#fdca26"
             ],
             [
              1,
              "#f0f921"
             ]
            ],
            "type": "surface"
           }
          ],
          "table": [
           {
            "cells": {
             "fill": {
              "color": "#EBF0F8"
             },
             "line": {
              "color": "white"
             }
            },
            "header": {
             "fill": {
              "color": "#C8D4E3"
             },
             "line": {
              "color": "white"
             }
            },
            "type": "table"
           }
          ]
         },
         "layout": {
          "annotationdefaults": {
           "arrowcolor": "#2a3f5f",
           "arrowhead": 0,
           "arrowwidth": 1
          },
          "autotypenumbers": "strict",
          "coloraxis": {
           "colorbar": {
            "outlinewidth": 0,
            "ticks": ""
           }
          },
          "colorscale": {
           "diverging": [
            [
             0,
             "#8e0152"
            ],
            [
             0.1,
             "#c51b7d"
            ],
            [
             0.2,
             "#de77ae"
            ],
            [
             0.3,
             "#f1b6da"
            ],
            [
             0.4,
             "#fde0ef"
            ],
            [
             0.5,
             "#f7f7f7"
            ],
            [
             0.6,
             "#e6f5d0"
            ],
            [
             0.7,
             "#b8e186"
            ],
            [
             0.8,
             "#7fbc41"
            ],
            [
             0.9,
             "#4d9221"
            ],
            [
             1,
             "#276419"
            ]
           ],
           "sequential": [
            [
             0,
             "#0d0887"
            ],
            [
             0.1111111111111111,
             "#46039f"
            ],
            [
             0.2222222222222222,
             "#7201a8"
            ],
            [
             0.3333333333333333,
             "#9c179e"
            ],
            [
             0.4444444444444444,
             "#bd3786"
            ],
            [
             0.5555555555555556,
             "#d8576b"
            ],
            [
             0.6666666666666666,
             "#ed7953"
            ],
            [
             0.7777777777777778,
             "#fb9f3a"
            ],
            [
             0.8888888888888888,
             "#fdca26"
            ],
            [
             1,
             "#f0f921"
            ]
           ],
           "sequentialminus": [
            [
             0,
             "#0d0887"
            ],
            [
             0.1111111111111111,
             "#46039f"
            ],
            [
             0.2222222222222222,
             "#7201a8"
            ],
            [
             0.3333333333333333,
             "#9c179e"
            ],
            [
             0.4444444444444444,
             "#bd3786"
            ],
            [
             0.5555555555555556,
             "#d8576b"
            ],
            [
             0.6666666666666666,
             "#ed7953"
            ],
            [
             0.7777777777777778,
             "#fb9f3a"
            ],
            [
             0.8888888888888888,
             "#fdca26"
            ],
            [
             1,
             "#f0f921"
            ]
           ]
          },
          "colorway": [
           "#636efa",
           "#EF553B",
           "#00cc96",
           "#ab63fa",
           "#FFA15A",
           "#19d3f3",
           "#FF6692",
           "#B6E880",
           "#FF97FF",
           "#FECB52"
          ],
          "font": {
           "color": "#2a3f5f"
          },
          "geo": {
           "bgcolor": "white",
           "lakecolor": "white",
           "landcolor": "#E5ECF6",
           "showlakes": true,
           "showland": true,
           "subunitcolor": "white"
          },
          "hoverlabel": {
           "align": "left"
          },
          "hovermode": "closest",
          "mapbox": {
           "style": "light"
          },
          "paper_bgcolor": "white",
          "plot_bgcolor": "#E5ECF6",
          "polar": {
           "angularaxis": {
            "gridcolor": "white",
            "linecolor": "white",
            "ticks": ""
           },
           "bgcolor": "#E5ECF6",
           "radialaxis": {
            "gridcolor": "white",
            "linecolor": "white",
            "ticks": ""
           }
          },
          "scene": {
           "xaxis": {
            "backgroundcolor": "#E5ECF6",
            "gridcolor": "white",
            "gridwidth": 2,
            "linecolor": "white",
            "showbackground": true,
            "ticks": "",
            "zerolinecolor": "white"
           },
           "yaxis": {
            "backgroundcolor": "#E5ECF6",
            "gridcolor": "white",
            "gridwidth": 2,
            "linecolor": "white",
            "showbackground": true,
            "ticks": "",
            "zerolinecolor": "white"
           },
           "zaxis": {
            "backgroundcolor": "#E5ECF6",
            "gridcolor": "white",
            "gridwidth": 2,
            "linecolor": "white",
            "showbackground": true,
            "ticks": "",
            "zerolinecolor": "white"
           }
          },
          "shapedefaults": {
           "line": {
            "color": "#2a3f5f"
           }
          },
          "ternary": {
           "aaxis": {
            "gridcolor": "white",
            "linecolor": "white",
            "ticks": ""
           },
           "baxis": {
            "gridcolor": "white",
            "linecolor": "white",
            "ticks": ""
           },
           "bgcolor": "#E5ECF6",
           "caxis": {
            "gridcolor": "white",
            "linecolor": "white",
            "ticks": ""
           }
          },
          "title": {
           "x": 0.05
          },
          "xaxis": {
           "automargin": true,
           "gridcolor": "white",
           "linecolor": "white",
           "ticks": "",
           "title": {
            "standoff": 15
           },
           "zerolinecolor": "white",
           "zerolinewidth": 2
          },
          "yaxis": {
           "automargin": true,
           "gridcolor": "white",
           "linecolor": "white",
           "ticks": "",
           "title": {
            "standoff": 15
           },
           "zerolinecolor": "white",
           "zerolinewidth": 2
          }
         }
        },
        "xaxis": {
         "anchor": "y",
         "domain": [
          0,
          1
         ],
         "title": {
          "text": "Model"
         }
        },
        "yaxis": {
         "anchor": "x",
         "domain": [
          0,
          1
         ],
         "title": {
          "text": "MPG_City"
         }
        }
       }
      },
      "text/html": [
       "<div>                            <div id=\"ac1f8695-209d-4f2f-b072-4a44a4bc09e7\" class=\"plotly-graph-div\" style=\"height:525px; width:100%;\"></div>            <script type=\"text/javascript\">                require([\"plotly\"], function(Plotly) {                    window.PLOTLYENV=window.PLOTLYENV || {};                                    if (document.getElementById(\"ac1f8695-209d-4f2f-b072-4a44a4bc09e7\")) {                    Plotly.newPlot(                        \"ac1f8695-209d-4f2f-b072-4a44a4bc09e7\",                        [{\"alignmentgroup\":\"True\",\"hovertemplate\":\"Model=%{x}<br>MPG_City=%{y}<extra></extra>\",\"legendgroup\":\"\",\"marker\":{\"color\":\"#636efa\"},\"name\":\"\",\"notched\":false,\"offsetgroup\":\"\",\"orientation\":\"v\",\"showlegend\":false,\"x\":[\"MDX\",\"RSX Type S 2dr\",\"TSX 4dr\",\"TL 4dr\",\"3.5 RL 4dr\",\"3.5 RL w/Navigation 4dr\",\"NSX coupe 2dr manual S\",\"A4 1.8T 4dr\",\"A41.8T convertible 2dr\",\"A4 3.0 4dr\",\"A4 3.0 Quattro 4dr manual\",\"A4 3.0 Quattro 4dr auto\",\"A6 3.0 4dr\",\"A6 3.0 Quattro 4dr\",\"A4 3.0 convertible 2dr\",\"A4 3.0 Quattro convertible 2dr\",\"A6 2.7 Turbo Quattro 4dr\",\"A6 4.2 Quattro 4dr\",\"A8 L Quattro 4dr\",\"S4 Quattro 4dr\",\"RS 6 4dr\",\"TT 1.8 convertible 2dr (coupe)\",\"TT 1.8 Quattro 2dr (convertible)\",\"TT 3.2 coupe 2dr (convertible)\",\"A6 3.0 Avant Quattro\",\"S4 Avant Quattro\",\"X3 3.0i\",\"X5 4.4i\",\"325i 4dr\",\"325Ci 2dr\",\"325Ci convertible 2dr\",\"325xi 4dr\",\"330i 4dr\",\"330Ci 2dr\",\"330xi 4dr\",\"525i 4dr\",\"330Ci convertible 2dr\",\"530i 4dr\",\"545iA 4dr\",\"745i 4dr\",\"745Li 4dr\",\"M3 coupe 2dr\",\"M3 convertible 2dr\",\"Z4 convertible 2.5i 2dr\",\"Z4 convertible 3.0i 2dr\",\"325xi Sport\",\"Rainier\",\"Rendezvous CX\",\"Century Custom 4dr\",\"LeSabre Custom 4dr\",\"Regal LS 4dr\",\"Regal GS 4dr\",\"LeSabre Limited 4dr\",\"Park Avenue 4dr\",\"Park Avenue Ultra 4dr\",\"Escalade\",\"SRX V8\",\"CTS VVT 4dr\",\"Deville 4dr\",\"Deville DTS 4dr\",\"Seville SLS 4dr\",\"XLR convertible 2dr\",\"Escalade EXT\",\"Suburban 1500 LT\",\"Tahoe LT\",\"TrailBlazer LT\",\"Tracker\",\"Aveo 4dr\",\"Aveo LS 4dr hatch\",\"Cavalier 2dr\",\"Cavalier 4dr\",\"Cavalier LS 2dr\",\"Impala 4dr\",\"Malibu 4dr\",\"Malibu LS 4dr\",\"Monte Carlo LS 2dr\",\"Impala LS 4dr\",\"Impala SS 4dr\",\"Malibu LT 4dr\",\"Monte Carlo SS 2dr\",\"Astro\",\"Venture LS\",\"Corvette 2dr\",\"Corvette convertible 2dr\",\"Avalanche 1500\",\"Colorado Z85\",\"Silverado 1500 Regular Cab\",\"Silverado SS\",\"SSR\",\"Malibu Maxx LS\",\"PT Cruiser 4dr\",\"PT Cruiser Limited 4dr\",\"Sebring 4dr\",\"Sebring Touring 4dr\",\"300M 4dr\",\"Concorde LX 4dr\",\"Concorde LXi 4dr\",\"PT Cruiser GT 4dr\",\"Sebring convertible 2dr\",\"300M Special Edition 4dr\",\"Sebring Limited convertible 2dr\",\"Town and Country LX\",\"Town and Country Limited\",\"Crossfire 2dr\",\"Pacifica\",\"Durango SLT\",\"Neon SE 4dr\",\"Neon SXT 4dr\",\"Intrepid SE 4dr\",\"Stratus SXT 4dr\",\"Stratus SE 4dr\",\"Intrepid ES 4dr\",\"Caravan SE\",\"Grand Caravan SXT\",\"Viper SRT-10 convertible 2dr\",\"Dakota Regular Cab\",\"Dakota Club Cab\",\"Ram 1500 Regular Cab ST\",\"Excursion 6.8 XLT\",\"Expedition 4.6 XLT\",\"Explorer XLT V6\",\"Escape XLS\",\"Focus ZX3 2dr hatch\",\"Focus LX 4dr\",\"Focus SE 4dr\",\"Focus ZX5 5dr\",\"Focus SVT 2dr\",\"Taurus LX 4dr\",\"Taurus SES Duratec 4dr\",\"Crown Victoria 4dr\",\"Crown Victoria LX 4dr\",\"Crown Victoria LX Sport 4dr\",\"Freestar SE\",\"Mustang 2dr (convertible)\",\"Mustang GT Premium convertible 2dr\",\"Thunderbird Deluxe convert w/hardtop 2d\",\"F-150 Regular Cab XL\",\"F-150 Supercab Lariat\",\"Ranger 2.3 XL Regular Cab\",\"Focus ZTW\",\"Taurus SE\",\"Envoy XUV SLE\",\"Yukon 1500 SLE\",\"Yukon XL 2500 SLT\",\"Safari SLE\",\"Canyon Z85 SL Regular Cab\",\"Sierra Extended Cab 1500\",\"Sierra HD 2500\",\"Sonoma Crew Cab\",\"Civic Hybrid 4dr manual (gas/electric)\",\"Insight 2dr (gas/electric)\",\"Pilot LX\",\"CR-V LX\",\"Element LX\",\"Civic DX 2dr\",\"Civic HX 2dr\",\"Civic LX 4dr\",\"Accord LX 2dr\",\"Accord EX 2dr\",\"Civic EX 4dr\",\"Civic Si 2dr hatch\",\"Accord LX V6 4dr\",\"Accord EX V6 2dr\",\"Odyssey LX\",\"Odyssey EX\",\"S2000 convertible 2dr\",\"H2\",\"Santa Fe GLS\",\"Accent 2dr hatch\",\"Accent GL 4dr\",\"Accent GT 2dr hatch\",\"Elantra GLS 4dr\",\"Elantra GT 4dr\",\"Elantra GT 4dr hatch\",\"Sonata GLS 4dr\",\"Sonata LX 4dr\",\"XG350 4dr\",\"XG350 L 4dr\",\"Tiburon GT V6 2dr\",\"G35 4dr\",\"G35 Sport Coupe 2dr\",\"G35 4dr\",\"I35 4dr\",\"M45 4dr\",\"Q45 Luxury 4dr\",\"FX35\",\"FX45\",\"Ascender S\",\"Rodeo S\",\"X-Type 2.5 4dr\",\"X-Type 3.0 4dr\",\"S-Type 3.0 4dr\",\"S-Type 4.2 4dr\",\"S-Type R 4dr\",\"Vanden Plas 4dr\",\"XJ8 4dr\",\"XJR 4dr\",\"XK8 coupe 2dr\",\"XK8 convertible 2dr\",\"XKR coupe 2dr\",\"XKR convertible 2dr\",\"Grand Cherokee Laredo\",\"Liberty Sport\",\"Wrangler Sahara convertible 2dr\",\"Sorento LX\",\"Optima LX 4dr\",\"Rio 4dr manual\",\"Rio 4dr auto\",\"Spectra 4dr\",\"Spectra GS 4dr hatch\",\"Spectra GSX 4dr hatch\",\"Optima LX V6 4dr\",\"Amanti 4dr\",\"Sedona LX\",\"Rio Cinco\",\"Range Rover HSE\",\"Discovery SE\",\"Freelander SE\",\"GX 470\",\"LX 470\",\"RX 330\",\"ES 330 4dr\",\"IS 300 4dr manual\",\"IS 300 4dr auto\",\"GS 300 4dr\",\"GS 430 4dr\",\"LS 430 4dr\",\"SC 430 convertible 2dr\",\"IS 300 SportCross\",\"Navigator Luxury\",\"Aviator Ultimate\",\"LS V6 Luxury 4dr\",\"LS V6 Premium 4dr\",\"LS V8 Sport 4dr\",\"LS V8 Ultimate 4dr\",\"Town Car Signature 4dr\",\"Town Car Ultimate 4dr\",\"Town Car Ultimate L 4dr\",\"Cooper\",\"Cooper S\",\"Tribute DX 2.0\",\"Mazda3 i 4dr\",\"Mazda3 s 4dr\",\"Mazda6 i 4dr\",\"MPV ES\",\"MX-5 Miata convertible 2dr\",\"MX-5 Miata LS convertible 2dr\",\"RX-8 4dr automatic\",\"RX-8 4dr manual\",\"B2300 SX Regular Cab\",\"B4000 SE Cab Plus\",\"G500\",\"ML500\",\"C230 Sport 2dr\",\"C320 Sport 2dr\",\"C240 4dr\",\"C240 4dr\",\"C320 Sport 4dr\",\"C320 4dr\",\"C320 4dr\",\"C32 AMG 4dr\",\"CL500 2dr\",\"CL600 2dr\",\"CLK320 coupe 2dr (convertible)\",\"CLK500 coupe 2dr (convertible)\",\"E320 4dr\",\"E500 4dr\",\"S430 4dr\",\"S500 4dr\",\"SL500 convertible 2dr\",\"SL55 AMG 2dr\",\"SL600 convertible 2dr\",\"SLK230 convertible 2dr\",\"SLK32 AMG 2dr\",\"C240\",\"E320\",\"E500\",\"Mountaineer\",\"Sable GS 4dr\",\"Grand Marquis GS 4dr\",\"Grand Marquis LS Premium 4dr\",\"Sable LS Premium 4dr\",\"Grand Marquis LS Ultimate 4dr\",\"Marauder 4dr\",\"Monterey Luxury\",\"Sable GS\",\"Endeavor XLS\",\"Montero XLS\",\"Outlander LS\",\"Lancer ES 4dr\",\"Lancer LS 4dr\",\"Galant ES 2.4L 4dr\",\"Lancer OZ Rally 4dr auto\",\"Diamante LS 4dr\",\"Galant GTS 4dr\",\"Eclipse GTS 2dr\",\"Eclipse Spyder GT convertible 2dr\",\"Lancer Evolution 4dr\",\"Lancer Sportback LS\",\"Pathfinder Armada SE\",\"Pathfinder SE\",\"Xterra XE V6\",\"Sentra 1.8 4dr\",\"Sentra 1.8 S 4dr\",\"Altima S 4dr\",\"Sentra SE-R 4dr\",\"Altima SE 4dr\",\"Maxima SE 4dr\",\"Maxima SL 4dr\",\"Quest S\",\"Quest SE\",\"350Z coupe 2dr\",\"350Z Enthusiast convertible 2dr\",\"Frontier King Cab XE V6\",\"Titan King Cab XE\",\"Murano SL\",\"Alero GX 2dr\",\"Alero GLS 2dr\",\"Silhouette GL\",\"Aztekt\",\"Sunfire 1SA 2dr\",\"Grand Am GT 2dr\",\"Grand Prix GT1 4dr\",\"Sunfire 1SC 2dr\",\"Grand Prix GT2 4dr\",\"Bonneville GXP 4dr\",\"Montana\",\"Montana EWB\",\"GTO 2dr\",\"Vibe\",\"Cayenne S\",\"911 Carrera convertible 2dr (coupe)\",\"911 Carrera 4S coupe 2dr (convert)\",\"911 Targa coupe 2dr\",\"911 GT2 2dr\",\"Boxster convertible 2dr\",\"Boxster S convertible 2dr\",\"9-3 Arc Sport 4dr\",\"9-3 Aero 4dr\",\"9-5 Arc 4dr\",\"9-5 Aero 4dr\",\"9-3 Arc convertible 2dr\",\"9-3 Aero convertible 2dr\",\"9-5 Aero\",\"VUE\",\"Ion1 4dr\",\"lon2 4dr\",\"lon3 4dr\",\"lon2 quad coupe 2dr\",\"lon3 quad coupe 2dr\",\"L300-2 4dr\",\"L300 2\",\"xA 4dr hatch\",\"xB\",\"Impreza 2.5 RS 4dr\",\"Legacy L 4dr\",\"Legacy GT 4dr\",\"Outback Limited Sedan 4dr\",\"Outback H6 4dr\",\"Outback H-6 VDC 4dr\",\"Impreza WRX 4dr\",\"Impreza WRX STi 4dr\",\"Baja\",\"Forester X\",\"Outback\",\"XL-7 EX\",\"Vitara LX\",\"Aeno S 4dr\",\"Aerio LX 4dr\",\"Forenza S 4dr\",\"Forenza EX 4dr\",\"Verona LX 4dr\",\"Aerio SX\",\"Prius 4dr (gas/electric)\",\"Sequoia SR5\",\"4Runner SR5 V6\",\"Highlander V6\",\"Land Cruiser\",\"RAV4\",\"Corolla CE 4dr\",\"Corolla S 4dr\",\"Corolla LE 4dr\",\"Echo 2dr manual\",\"Echo 2dr auto\",\"Echo 4dr\",\"Camry LE 4dr\",\"Camry LE V6 4dr\",\"Camry Solara SE 2dr\",\"Camry Solara SE V6 2dr\",\"Avalon XL 4dr\",\"Camry XLE V6 4dr\",\"Camry Solara SLE V6 2dr\",\"Avalon XLS 4dr\",\"Sienna CE\",\"Sienna XLE Limited\",\"Celica GT-S 2dr\",\"MR2 Spyder convertible 2dr\",\"Tacoma\",\"Tundra Regular Cab V6\",\"Tundra Access Cab V6 SR5\",\"Matrix XR\",\"Touareg V6\",\"Golf GLS 4dr\",\"GTI 1.8T 2dr hatch\",\"Jetta GLS TDI 4dr\",\"New Beetle GLS 1.8T 2dr\",\"Jetta GLI VR6 4dr\",\"New Beetle GLS convertible 2dr\",\"Passat GLS 4dr\",\"Passat GLX V6 4MOTION 4dr\",\"Passat W8 4MOTION 4dr\",\"Phaeton 4dr\",\"Phaeton W12 4dr\",\"Jetta GL\",\"Passat GLS 1.8T\",\"Passat W8\",\"XC90 T6\",\"S40 4dr\",\"S60 2.5 4dr\",\"S60 T5 4dr\",\"S60 R 4dr\",\"S80 2.9 4dr\",\"S80 2.5T 4dr\",\"C70 LPT convertible 2dr\",\"C70 HPT convertible 2dr\",\"S80 T6 4dr\",\"V40\",\"XC70\"],\"x0\":\" \",\"xaxis\":\"x\",\"y\":[17,24,22,20,18,18,17,22,23,20,17,18,20,18,20,18,18,17,17,14,15,20,20,21,18,15,16,16,20,20,19,19,20,20,20,19,19,20,18,18,18,16,16,20,21,19,15,19,20,20,20,18,20,20,18,14,16,18,18,18,18,17,13,14,14,16,19,28,28,26,26,26,21,24,22,21,20,18,23,18,14,19,18,18,14,18,15,13,16,22,22,22,22,21,18,21,19,21,22,18,21,19,18,17,17,15,29,29,21,21,21,18,20,18,12,16,16,16,10,15,15,18,26,27,26,26,21,20,19,17,17,17,17,20,17,17,15,14,24,26,19,15,16,13,16,18,17,13,15,46,60,17,21,21,32,36,32,26,26,32,26,21,21,18,18,20,10,20,29,29,29,26,26,26,19,19,17,17,19,18,18,18,19,17,17,16,15,15,17,18,18,18,18,17,18,18,17,18,18,16,16,16,20,16,16,23,26,25,24,24,24,20,17,16,26,12,12,18,15,13,18,20,18,18,18,18,18,18,18,13,13,20,20,17,17,17,17,17,28,25,22,26,25,24,18,23,23,18,18,24,15,13,14,22,19,20,19,19,20,19,16,16,13,20,17,19,16,18,16,16,14,13,21,17,19,19,16,16,20,17,17,19,17,17,16,19,17,15,21,25,25,23,25,18,18,21,21,18,25,13,16,17,28,28,21,23,21,20,20,19,18,20,20,17,14,20,24,20,19,19,24,20,20,24,20,17,19,18,16,29,14,18,17,18,17,20,18,20,20,21,21,21,21,19,21,26,26,26,26,26,20,24,32,31,22,21,21,20,19,19,20,18,21,21,21,18,19,25,25,24,22,20,24,59,14,18,18,13,22,32,32,32,35,33,35,24,21,24,20,21,21,20,21,19,19,24,26,22,16,14,29,15,24,24,38,24,21,24,22,19,18,16,12,24,22,18,15,22,20,20,18,20,20,21,20,19,22,20],\"y0\":\" \",\"yaxis\":\"y\",\"type\":\"box\"}],                        {\"template\":{\"data\":{\"histogram2dcontour\":[{\"type\":\"histogram2dcontour\",\"colorbar\":{\"outlinewidth\":0,\"ticks\":\"\"},\"colorscale\":[[0.0,\"#0d0887\"],[0.1111111111111111,\"#46039f\"],[0.2222222222222222,\"#7201a8\"],[0.3333333333333333,\"#9c179e\"],[0.4444444444444444,\"#bd3786\"],[0.5555555555555556,\"#d8576b\"],[0.6666666666666666,\"#ed7953\"],[0.7777777777777778,\"#fb9f3a\"],[0.8888888888888888,\"#fdca26\"],[1.0,\"#f0f921\"]]}],\"choropleth\":[{\"type\":\"choropleth\",\"colorbar\":{\"outlinewidth\":0,\"ticks\":\"\"}}],\"histogram2d\":[{\"type\":\"histogram2d\",\"colorbar\":{\"outlinewidth\":0,\"ticks\":\"\"},\"colorscale\":[[0.0,\"#0d0887\"],[0.1111111111111111,\"#46039f\"],[0.2222222222222222,\"#7201a8\"],[0.3333333333333333,\"#9c179e\"],[0.4444444444444444,\"#bd3786\"],[0.5555555555555556,\"#d8576b\"],[0.6666666666666666,\"#ed7953\"],[0.7777777777777778,\"#fb9f3a\"],[0.8888888888888888,\"#fdca26\"],[1.0,\"#f0f921\"]]}],\"heatmap\":[{\"type\":\"heatmap\",\"colorbar\":{\"outlinewidth\":0,\"ticks\":\"\"},\"colorscale\":[[0.0,\"#0d0887\"],[0.1111111111111111,\"#46039f\"],[0.2222222222222222,\"#7201a8\"],[0.3333333333333333,\"#9c179e\"],[0.4444444444444444,\"#bd3786\"],[0.5555555555555556,\"#d8576b\"],[0.6666666666666666,\"#ed7953\"],[0.7777777777777778,\"#fb9f3a\"],[0.8888888888888888,\"#fdca26\"],[1.0,\"#f0f921\"]]}],\"heatmapgl\":[{\"type\":\"heatmapgl\",\"colorbar\":{\"outlinewidth\":0,\"ticks\":\"\"},\"colorscale\":[[0.0,\"#0d0887\"],[0.1111111111111111,\"#46039f\"],[0.2222222222222222,\"#7201a8\"],[0.3333333333333333,\"#9c179e\"],[0.4444444444444444,\"#bd3786\"],[0.5555555555555556,\"#d8576b\"],[0.6666666666666666,\"#ed7953\"],[0.7777777777777778,\"#fb9f3a\"],[0.8888888888888888,\"#fdca26\"],[1.0,\"#f0f921\"]]}],\"contourcarpet\":[{\"type\":\"contourcarpet\",\"colorbar\":{\"outlinewidth\":0,\"ticks\":\"\"}}],\"contour\":[{\"type\":\"contour\",\"colorbar\":{\"outlinewidth\":0,\"ticks\":\"\"},\"colorscale\":[[0.0,\"#0d0887\"],[0.1111111111111111,\"#46039f\"],[0.2222222222222222,\"#7201a8\"],[0.3333333333333333,\"#9c179e\"],[0.4444444444444444,\"#bd3786\"],[0.5555555555555556,\"#d8576b\"],[0.6666666666666666,\"#ed7953\"],[0.7777777777777778,\"#fb9f3a\"],[0.8888888888888888,\"#fdca26\"],[1.0,\"#f0f921\"]]}],\"surface\":[{\"type\":\"surface\",\"colorbar\":{\"outlinewidth\":0,\"ticks\":\"\"},\"colorscale\":[[0.0,\"#0d0887\"],[0.1111111111111111,\"#46039f\"],[0.2222222222222222,\"#7201a8\"],[0.3333333333333333,\"#9c179e\"],[0.4444444444444444,\"#bd3786\"],[0.5555555555555556,\"#d8576b\"],[0.6666666666666666,\"#ed7953\"],[0.7777777777777778,\"#fb9f3a\"],[0.8888888888888888,\"#fdca26\"],[1.0,\"#f0f921\"]]}],\"mesh3d\":[{\"type\":\"mesh3d\",\"colorbar\":{\"outlinewidth\":0,\"ticks\":\"\"}}],\"scatter\":[{\"fillpattern\":{\"fillmode\":\"overlay\",\"size\":10,\"solidity\":0.2},\"type\":\"scatter\"}],\"parcoords\":[{\"type\":\"parcoords\",\"line\":{\"colorbar\":{\"outlinewidth\":0,\"ticks\":\"\"}}}],\"scatterpolargl\":[{\"type\":\"scatterpolargl\",\"marker\":{\"colorbar\":{\"outlinewidth\":0,\"ticks\":\"\"}}}],\"bar\":[{\"error_x\":{\"color\":\"#2a3f5f\"},\"error_y\":{\"color\":\"#2a3f5f\"},\"marker\":{\"line\":{\"color\":\"#E5ECF6\",\"width\":0.5},\"pattern\":{\"fillmode\":\"overlay\",\"size\":10,\"solidity\":0.2}},\"type\":\"bar\"}],\"scattergeo\":[{\"type\":\"scattergeo\",\"marker\":{\"colorbar\":{\"outlinewidth\":0,\"ticks\":\"\"}}}],\"scatterpolar\":[{\"type\":\"scatterpolar\",\"marker\":{\"colorbar\":{\"outlinewidth\":0,\"ticks\":\"\"}}}],\"histogram\":[{\"marker\":{\"pattern\":{\"fillmode\":\"overlay\",\"size\":10,\"solidity\":0.2}},\"type\":\"histogram\"}],\"scattergl\":[{\"type\":\"scattergl\",\"marker\":{\"colorbar\":{\"outlinewidth\":0,\"ticks\":\"\"}}}],\"scatter3d\":[{\"type\":\"scatter3d\",\"line\":{\"colorbar\":{\"outlinewidth\":0,\"ticks\":\"\"}},\"marker\":{\"colorbar\":{\"outlinewidth\":0,\"ticks\":\"\"}}}],\"scattermapbox\":[{\"type\":\"scattermapbox\",\"marker\":{\"colorbar\":{\"outlinewidth\":0,\"ticks\":\"\"}}}],\"scatterternary\":[{\"type\":\"scatterternary\",\"marker\":{\"colorbar\":{\"outlinewidth\":0,\"ticks\":\"\"}}}],\"scattercarpet\":[{\"type\":\"scattercarpet\",\"marker\":{\"colorbar\":{\"outlinewidth\":0,\"ticks\":\"\"}}}],\"carpet\":[{\"aaxis\":{\"endlinecolor\":\"#2a3f5f\",\"gridcolor\":\"white\",\"linecolor\":\"white\",\"minorgridcolor\":\"white\",\"startlinecolor\":\"#2a3f5f\"},\"baxis\":{\"endlinecolor\":\"#2a3f5f\",\"gridcolor\":\"white\",\"linecolor\":\"white\",\"minorgridcolor\":\"white\",\"startlinecolor\":\"#2a3f5f\"},\"type\":\"carpet\"}],\"table\":[{\"cells\":{\"fill\":{\"color\":\"#EBF0F8\"},\"line\":{\"color\":\"white\"}},\"header\":{\"fill\":{\"color\":\"#C8D4E3\"},\"line\":{\"color\":\"white\"}},\"type\":\"table\"}],\"barpolar\":[{\"marker\":{\"line\":{\"color\":\"#E5ECF6\",\"width\":0.5},\"pattern\":{\"fillmode\":\"overlay\",\"size\":10,\"solidity\":0.2}},\"type\":\"barpolar\"}],\"pie\":[{\"automargin\":true,\"type\":\"pie\"}]},\"layout\":{\"autotypenumbers\":\"strict\",\"colorway\":[\"#636efa\",\"#EF553B\",\"#00cc96\",\"#ab63fa\",\"#FFA15A\",\"#19d3f3\",\"#FF6692\",\"#B6E880\",\"#FF97FF\",\"#FECB52\"],\"font\":{\"color\":\"#2a3f5f\"},\"hovermode\":\"closest\",\"hoverlabel\":{\"align\":\"left\"},\"paper_bgcolor\":\"white\",\"plot_bgcolor\":\"#E5ECF6\",\"polar\":{\"bgcolor\":\"#E5ECF6\",\"angularaxis\":{\"gridcolor\":\"white\",\"linecolor\":\"white\",\"ticks\":\"\"},\"radialaxis\":{\"gridcolor\":\"white\",\"linecolor\":\"white\",\"ticks\":\"\"}},\"ternary\":{\"bgcolor\":\"#E5ECF6\",\"aaxis\":{\"gridcolor\":\"white\",\"linecolor\":\"white\",\"ticks\":\"\"},\"baxis\":{\"gridcolor\":\"white\",\"linecolor\":\"white\",\"ticks\":\"\"},\"caxis\":{\"gridcolor\":\"white\",\"linecolor\":\"white\",\"ticks\":\"\"}},\"coloraxis\":{\"colorbar\":{\"outlinewidth\":0,\"ticks\":\"\"}},\"colorscale\":{\"sequential\":[[0.0,\"#0d0887\"],[0.1111111111111111,\"#46039f\"],[0.2222222222222222,\"#7201a8\"],[0.3333333333333333,\"#9c179e\"],[0.4444444444444444,\"#bd3786\"],[0.5555555555555556,\"#d8576b\"],[0.6666666666666666,\"#ed7953\"],[0.7777777777777778,\"#fb9f3a\"],[0.8888888888888888,\"#fdca26\"],[1.0,\"#f0f921\"]],\"sequentialminus\":[[0.0,\"#0d0887\"],[0.1111111111111111,\"#46039f\"],[0.2222222222222222,\"#7201a8\"],[0.3333333333333333,\"#9c179e\"],[0.4444444444444444,\"#bd3786\"],[0.5555555555555556,\"#d8576b\"],[0.6666666666666666,\"#ed7953\"],[0.7777777777777778,\"#fb9f3a\"],[0.8888888888888888,\"#fdca26\"],[1.0,\"#f0f921\"]],\"diverging\":[[0,\"#8e0152\"],[0.1,\"#c51b7d\"],[0.2,\"#de77ae\"],[0.3,\"#f1b6da\"],[0.4,\"#fde0ef\"],[0.5,\"#f7f7f7\"],[0.6,\"#e6f5d0\"],[0.7,\"#b8e186\"],[0.8,\"#7fbc41\"],[0.9,\"#4d9221\"],[1,\"#276419\"]]},\"xaxis\":{\"gridcolor\":\"white\",\"linecolor\":\"white\",\"ticks\":\"\",\"title\":{\"standoff\":15},\"zerolinecolor\":\"white\",\"automargin\":true,\"zerolinewidth\":2},\"yaxis\":{\"gridcolor\":\"white\",\"linecolor\":\"white\",\"ticks\":\"\",\"title\":{\"standoff\":15},\"zerolinecolor\":\"white\",\"automargin\":true,\"zerolinewidth\":2},\"scene\":{\"xaxis\":{\"backgroundcolor\":\"#E5ECF6\",\"gridcolor\":\"white\",\"linecolor\":\"white\",\"showbackground\":true,\"ticks\":\"\",\"zerolinecolor\":\"white\",\"gridwidth\":2},\"yaxis\":{\"backgroundcolor\":\"#E5ECF6\",\"gridcolor\":\"white\",\"linecolor\":\"white\",\"showbackground\":true,\"ticks\":\"\",\"zerolinecolor\":\"white\",\"gridwidth\":2},\"zaxis\":{\"backgroundcolor\":\"#E5ECF6\",\"gridcolor\":\"white\",\"linecolor\":\"white\",\"showbackground\":true,\"ticks\":\"\",\"zerolinecolor\":\"white\",\"gridwidth\":2}},\"shapedefaults\":{\"line\":{\"color\":\"#2a3f5f\"}},\"annotationdefaults\":{\"arrowcolor\":\"#2a3f5f\",\"arrowhead\":0,\"arrowwidth\":1},\"geo\":{\"bgcolor\":\"white\",\"landcolor\":\"#E5ECF6\",\"subunitcolor\":\"white\",\"showland\":true,\"showlakes\":true,\"lakecolor\":\"white\"},\"title\":{\"x\":0.05},\"mapbox\":{\"style\":\"light\"}}},\"xaxis\":{\"anchor\":\"y\",\"domain\":[0.0,1.0],\"title\":{\"text\":\"Model\"}},\"yaxis\":{\"anchor\":\"x\",\"domain\":[0.0,1.0],\"title\":{\"text\":\"MPG_City\"}},\"legend\":{\"tracegroupgap\":0},\"margin\":{\"t\":60},\"boxmode\":\"group\"},                        {\"responsive\": true}                    ).then(function(){\n",
       "                            \n",
       "var gd = document.getElementById('ac1f8695-209d-4f2f-b072-4a44a4bc09e7');\n",
       "var x = new MutationObserver(function (mutations, observer) {{\n",
       "        var display = window.getComputedStyle(gd).display;\n",
       "        if (!display || display === 'none') {{\n",
       "            console.log([gd, 'removed!']);\n",
       "            Plotly.purge(gd);\n",
       "            observer.disconnect();\n",
       "        }}\n",
       "}});\n",
       "\n",
       "// Listen for the removal of the full notebook cells\n",
       "var notebookContainer = gd.closest('#notebook-container');\n",
       "if (notebookContainer) {{\n",
       "    x.observe(notebookContainer, {childList: true});\n",
       "}}\n",
       "\n",
       "// Listen for the clearing of the current output cell\n",
       "var outputEl = gd.closest('.output');\n",
       "if (outputEl) {{\n",
       "    x.observe(outputEl, {childList: true});\n",
       "}}\n",
       "\n",
       "                        })                };                });            </script>        </div>"
      ]
     },
     "metadata": {},
     "output_type": "display_data"
    }
   ],
   "source": [
    "px.box(df, x=\"Model\", y=\"MPG_City\")"
   ]
  },
  {
   "cell_type": "markdown",
   "id": "e2253e2e",
   "metadata": {},
   "source": [
    "Cada caja nos da información sobre cuántas millas por galón recorre los automóviles de cada modelo. La mayoría aparece solo una línea, esto debido a que solo existe un automóvil con ese modelo"
   ]
  },
  {
   "cell_type": "code",
   "execution_count": 49,
   "id": "3fb714fa",
   "metadata": {},
   "outputs": [
    {
     "data": {
      "application/vnd.plotly.v1+json": {
       "config": {
        "plotlyServerURL": "https://plot.ly"
       },
       "data": [
        {
         "alignmentgroup": "True",
         "hovertemplate": "Type=%{x}<br>MPG_City=%{y}<extra></extra>",
         "legendgroup": "",
         "marker": {
          "color": "#636efa"
         },
         "name": "",
         "notched": false,
         "offsetgroup": "",
         "orientation": "v",
         "showlegend": false,
         "type": "box",
         "x": [
          "SUV",
          "Sedan",
          "Sedan",
          "Sedan",
          "Sedan",
          "Sedan",
          "Sports",
          "Sedan",
          "Sedan",
          "Sedan",
          "Sedan",
          "Sedan",
          "Sedan",
          "Sedan",
          "Sedan",
          "Sedan",
          "Sedan",
          "Sedan",
          "Sedan",
          "Sedan",
          "Sports",
          "Sports",
          "Sports",
          "Sports",
          "Wagon",
          "Wagon",
          "SUV",
          "SUV",
          "Sedan",
          "Sedan",
          "Sedan",
          "Sedan",
          "Sedan",
          "Sedan",
          "Sedan",
          "Sedan",
          "Sedan",
          "Sedan",
          "Sedan",
          "Sedan",
          "Sedan",
          "Sports",
          "Sports",
          "Sports",
          "Sports",
          "Wagon",
          "SUV",
          "SUV",
          "Sedan",
          "Sedan",
          "Sedan",
          "Sedan",
          "Sedan",
          "Sedan",
          "Sedan",
          "SUV",
          "SUV",
          "Sedan",
          "Sedan",
          "Sedan",
          "Sedan",
          "Sports",
          "Truck",
          "SUV",
          "SUV",
          "SUV",
          "SUV",
          "Sedan",
          "Sedan",
          "Sedan",
          "Sedan",
          "Sedan",
          "Sedan",
          "Sedan",
          "Sedan",
          "Sedan",
          "Sedan",
          "Sedan",
          "Sedan",
          "Sedan",
          "Sedan",
          "Sedan",
          "Sports",
          "Sports",
          "Truck",
          "Truck",
          "Truck",
          "Truck",
          "Truck",
          "Wagon",
          "Sedan",
          "Sedan",
          "Sedan",
          "Sedan",
          "Sedan",
          "Sedan",
          "Sedan",
          "Sedan",
          "Sedan",
          "Sedan",
          "Sedan",
          "Sedan",
          "Sedan",
          "Sports",
          "Wagon",
          "SUV",
          "Sedan",
          "Sedan",
          "Sedan",
          "Sedan",
          "Sedan",
          "Sedan",
          "Sedan",
          "Sedan",
          "Sports",
          "Truck",
          "Truck",
          "Truck",
          "SUV",
          "SUV",
          "SUV",
          "SUV",
          "Sedan",
          "Sedan",
          "Sedan",
          "Sedan",
          "Sedan",
          "Sedan",
          "Sedan",
          "Sedan",
          "Sedan",
          "Sedan",
          "Sedan",
          "Sports",
          "Sports",
          "Sports",
          "Truck",
          "Truck",
          "Truck",
          "Wagon",
          "Wagon",
          "SUV",
          "SUV",
          "SUV",
          "Sedan",
          "Truck",
          "Truck",
          "Truck",
          "Truck",
          "Hybrid",
          "Hybrid",
          "SUV",
          "SUV",
          "SUV",
          "Sedan",
          "Sedan",
          "Sedan",
          "Sedan",
          "Sedan",
          "Sedan",
          "Sedan",
          "Sedan",
          "Sedan",
          "Sedan",
          "Sedan",
          "Sports",
          "SUV",
          "SUV",
          "Sedan",
          "Sedan",
          "Sedan",
          "Sedan",
          "Sedan",
          "Sedan",
          "Sedan",
          "Sedan",
          "Sedan",
          "Sedan",
          "Sports",
          "Sedan",
          "Sedan",
          "Sedan",
          "Sedan",
          "Sedan",
          "Sedan",
          "Wagon",
          "Wagon",
          "SUV",
          "SUV",
          "Sedan",
          "Sedan",
          "Sedan",
          "Sedan",
          "Sedan",
          "Sedan",
          "Sedan",
          "Sedan",
          "Sports",
          "Sports",
          "Sports",
          "Sports",
          "SUV",
          "SUV",
          "SUV",
          "SUV",
          "Sedan",
          "Sedan",
          "Sedan",
          "Sedan",
          "Sedan",
          "Sedan",
          "Sedan",
          "Sedan",
          "Sedan",
          "Wagon",
          "SUV",
          "SUV",
          "SUV",
          "SUV",
          "SUV",
          "SUV",
          "Sedan",
          "Sedan",
          "Sedan",
          "Sedan",
          "Sedan",
          "Sedan",
          "Sports",
          "Wagon",
          "SUV",
          "SUV",
          "Sedan",
          "Sedan",
          "Sedan",
          "Sedan",
          "Sedan",
          "Sedan",
          "Sedan",
          "Sedan",
          "Sedan",
          "SUV",
          "Sedan",
          "Sedan",
          "Sedan",
          "Sedan",
          "Sports",
          "Sports",
          "Sports",
          "Sports",
          "Truck",
          "Truck",
          "SUV",
          "SUV",
          "Sedan",
          "Sedan",
          "Sedan",
          "Sedan",
          "Sedan",
          "Sedan",
          "Sedan",
          "Sedan",
          "Sedan",
          "Sedan",
          "Sedan",
          "Sedan",
          "Sedan",
          "Sedan",
          "Sedan",
          "Sedan",
          "Sports",
          "Sports",
          "Sports",
          "Sports",
          "Sports",
          "Wagon",
          "Wagon",
          "Wagon",
          "SUV",
          "Sedan",
          "Sedan",
          "Sedan",
          "Sedan",
          "Sedan",
          "Sedan",
          "Sedan",
          "Wagon",
          "SUV",
          "SUV",
          "SUV",
          "Sedan",
          "Sedan",
          "Sedan",
          "Sedan",
          "Sedan",
          "Sedan",
          "Sports",
          "Sports",
          "Sports",
          "Wagon",
          "SUV",
          "SUV",
          "SUV",
          "Sedan",
          "Sedan",
          "Sedan",
          "Sedan",
          "Sedan",
          "Sedan",
          "Sedan",
          "Sedan",
          "Sedan",
          "Sports",
          "Sports",
          "Truck",
          "Truck",
          "Wagon",
          "Sedan",
          "Sedan",
          "Sedan",
          "SUV",
          "Sedan",
          "Sedan",
          "Sedan",
          "Sedan",
          "Sedan",
          "Sedan",
          "Sedan",
          "Sedan",
          "Sports",
          "Wagon",
          "SUV",
          "Sports",
          "Sports",
          "Sports",
          "Sports",
          "Sports",
          "Sports",
          "Sedan",
          "Sedan",
          "Sedan",
          "Sedan",
          "Sedan",
          "Sedan",
          "Wagon",
          "SUV",
          "Sedan",
          "Sedan",
          "Sedan",
          "Sedan",
          "Sedan",
          "Sedan",
          "Wagon",
          "Sedan",
          "Wagon",
          "Sedan",
          "Sedan",
          "Sedan",
          "Sedan",
          "Sedan",
          "Sedan",
          "Sports",
          "Sports",
          "Truck",
          "Wagon",
          "Wagon",
          "SUV",
          "SUV",
          "Sedan",
          "Sedan",
          "Sedan",
          "Sedan",
          "Sedan",
          "Wagon",
          "Hybrid",
          "SUV",
          "SUV",
          "SUV",
          "SUV",
          "SUV",
          "Sedan",
          "Sedan",
          "Sedan",
          "Sedan",
          "Sedan",
          "Sedan",
          "Sedan",
          "Sedan",
          "Sedan",
          "Sedan",
          "Sedan",
          "Sedan",
          "Sedan",
          "Sedan",
          "Sedan",
          "Sedan",
          "Sports",
          "Sports",
          "Truck",
          "Truck",
          "Truck",
          "Wagon",
          "SUV",
          "Sedan",
          "Sedan",
          "Sedan",
          "Sedan",
          "Sedan",
          "Sedan",
          "Sedan",
          "Sedan",
          "Sedan",
          "Sedan",
          "Sedan",
          "Wagon",
          "Wagon",
          "Wagon",
          "SUV",
          "Sedan",
          "Sedan",
          "Sedan",
          "Sedan",
          "Sedan",
          "Sedan",
          "Sedan",
          "Sedan",
          "Sedan",
          "Wagon",
          "Wagon"
         ],
         "x0": " ",
         "xaxis": "x",
         "y": [
          17,
          24,
          22,
          20,
          18,
          18,
          17,
          22,
          23,
          20,
          17,
          18,
          20,
          18,
          20,
          18,
          18,
          17,
          17,
          14,
          15,
          20,
          20,
          21,
          18,
          15,
          16,
          16,
          20,
          20,
          19,
          19,
          20,
          20,
          20,
          19,
          19,
          20,
          18,
          18,
          18,
          16,
          16,
          20,
          21,
          19,
          15,
          19,
          20,
          20,
          20,
          18,
          20,
          20,
          18,
          14,
          16,
          18,
          18,
          18,
          18,
          17,
          13,
          14,
          14,
          16,
          19,
          28,
          28,
          26,
          26,
          26,
          21,
          24,
          22,
          21,
          20,
          18,
          23,
          18,
          14,
          19,
          18,
          18,
          14,
          18,
          15,
          13,
          16,
          22,
          22,
          22,
          22,
          21,
          18,
          21,
          19,
          21,
          22,
          18,
          21,
          19,
          18,
          17,
          17,
          15,
          29,
          29,
          21,
          21,
          21,
          18,
          20,
          18,
          12,
          16,
          16,
          16,
          10,
          15,
          15,
          18,
          26,
          27,
          26,
          26,
          21,
          20,
          19,
          17,
          17,
          17,
          17,
          20,
          17,
          17,
          15,
          14,
          24,
          26,
          19,
          15,
          16,
          13,
          16,
          18,
          17,
          13,
          15,
          46,
          60,
          17,
          21,
          21,
          32,
          36,
          32,
          26,
          26,
          32,
          26,
          21,
          21,
          18,
          18,
          20,
          10,
          20,
          29,
          29,
          29,
          26,
          26,
          26,
          19,
          19,
          17,
          17,
          19,
          18,
          18,
          18,
          19,
          17,
          17,
          16,
          15,
          15,
          17,
          18,
          18,
          18,
          18,
          17,
          18,
          18,
          17,
          18,
          18,
          16,
          16,
          16,
          20,
          16,
          16,
          23,
          26,
          25,
          24,
          24,
          24,
          20,
          17,
          16,
          26,
          12,
          12,
          18,
          15,
          13,
          18,
          20,
          18,
          18,
          18,
          18,
          18,
          18,
          18,
          13,
          13,
          20,
          20,
          17,
          17,
          17,
          17,
          17,
          28,
          25,
          22,
          26,
          25,
          24,
          18,
          23,
          23,
          18,
          18,
          24,
          15,
          13,
          14,
          22,
          19,
          20,
          19,
          19,
          20,
          19,
          16,
          16,
          13,
          20,
          17,
          19,
          16,
          18,
          16,
          16,
          14,
          13,
          21,
          17,
          19,
          19,
          16,
          16,
          20,
          17,
          17,
          19,
          17,
          17,
          16,
          19,
          17,
          15,
          21,
          25,
          25,
          23,
          25,
          18,
          18,
          21,
          21,
          18,
          25,
          13,
          16,
          17,
          28,
          28,
          21,
          23,
          21,
          20,
          20,
          19,
          18,
          20,
          20,
          17,
          14,
          20,
          24,
          20,
          19,
          19,
          24,
          20,
          20,
          24,
          20,
          17,
          19,
          18,
          16,
          29,
          14,
          18,
          17,
          18,
          17,
          20,
          18,
          20,
          20,
          21,
          21,
          21,
          21,
          19,
          21,
          26,
          26,
          26,
          26,
          26,
          20,
          24,
          32,
          31,
          22,
          21,
          21,
          20,
          19,
          19,
          20,
          18,
          21,
          21,
          21,
          18,
          19,
          25,
          25,
          24,
          22,
          20,
          24,
          59,
          14,
          18,
          18,
          13,
          22,
          32,
          32,
          32,
          35,
          33,
          35,
          24,
          21,
          24,
          20,
          21,
          21,
          20,
          21,
          19,
          19,
          24,
          26,
          22,
          16,
          14,
          29,
          15,
          24,
          24,
          38,
          24,
          21,
          24,
          22,
          19,
          18,
          16,
          12,
          24,
          22,
          18,
          15,
          22,
          20,
          20,
          18,
          20,
          20,
          21,
          20,
          19,
          22,
          20
         ],
         "y0": " ",
         "yaxis": "y"
        }
       ],
       "layout": {
        "boxmode": "group",
        "legend": {
         "tracegroupgap": 0
        },
        "margin": {
         "t": 60
        },
        "template": {
         "data": {
          "bar": [
           {
            "error_x": {
             "color": "#2a3f5f"
            },
            "error_y": {
             "color": "#2a3f5f"
            },
            "marker": {
             "line": {
              "color": "#E5ECF6",
              "width": 0.5
             },
             "pattern": {
              "fillmode": "overlay",
              "size": 10,
              "solidity": 0.2
             }
            },
            "type": "bar"
           }
          ],
          "barpolar": [
           {
            "marker": {
             "line": {
              "color": "#E5ECF6",
              "width": 0.5
             },
             "pattern": {
              "fillmode": "overlay",
              "size": 10,
              "solidity": 0.2
             }
            },
            "type": "barpolar"
           }
          ],
          "carpet": [
           {
            "aaxis": {
             "endlinecolor": "#2a3f5f",
             "gridcolor": "white",
             "linecolor": "white",
             "minorgridcolor": "white",
             "startlinecolor": "#2a3f5f"
            },
            "baxis": {
             "endlinecolor": "#2a3f5f",
             "gridcolor": "white",
             "linecolor": "white",
             "minorgridcolor": "white",
             "startlinecolor": "#2a3f5f"
            },
            "type": "carpet"
           }
          ],
          "choropleth": [
           {
            "colorbar": {
             "outlinewidth": 0,
             "ticks": ""
            },
            "type": "choropleth"
           }
          ],
          "contour": [
           {
            "colorbar": {
             "outlinewidth": 0,
             "ticks": ""
            },
            "colorscale": [
             [
              0,
              "#0d0887"
             ],
             [
              0.1111111111111111,
              "#46039f"
             ],
             [
              0.2222222222222222,
              "#7201a8"
             ],
             [
              0.3333333333333333,
              "#9c179e"
             ],
             [
              0.4444444444444444,
              "#bd3786"
             ],
             [
              0.5555555555555556,
              "#d8576b"
             ],
             [
              0.6666666666666666,
              "#ed7953"
             ],
             [
              0.7777777777777778,
              "#fb9f3a"
             ],
             [
              0.8888888888888888,
              "#fdca26"
             ],
             [
              1,
              "#f0f921"
             ]
            ],
            "type": "contour"
           }
          ],
          "contourcarpet": [
           {
            "colorbar": {
             "outlinewidth": 0,
             "ticks": ""
            },
            "type": "contourcarpet"
           }
          ],
          "heatmap": [
           {
            "colorbar": {
             "outlinewidth": 0,
             "ticks": ""
            },
            "colorscale": [
             [
              0,
              "#0d0887"
             ],
             [
              0.1111111111111111,
              "#46039f"
             ],
             [
              0.2222222222222222,
              "#7201a8"
             ],
             [
              0.3333333333333333,
              "#9c179e"
             ],
             [
              0.4444444444444444,
              "#bd3786"
             ],
             [
              0.5555555555555556,
              "#d8576b"
             ],
             [
              0.6666666666666666,
              "#ed7953"
             ],
             [
              0.7777777777777778,
              "#fb9f3a"
             ],
             [
              0.8888888888888888,
              "#fdca26"
             ],
             [
              1,
              "#f0f921"
             ]
            ],
            "type": "heatmap"
           }
          ],
          "heatmapgl": [
           {
            "colorbar": {
             "outlinewidth": 0,
             "ticks": ""
            },
            "colorscale": [
             [
              0,
              "#0d0887"
             ],
             [
              0.1111111111111111,
              "#46039f"
             ],
             [
              0.2222222222222222,
              "#7201a8"
             ],
             [
              0.3333333333333333,
              "#9c179e"
             ],
             [
              0.4444444444444444,
              "#bd3786"
             ],
             [
              0.5555555555555556,
              "#d8576b"
             ],
             [
              0.6666666666666666,
              "#ed7953"
             ],
             [
              0.7777777777777778,
              "#fb9f3a"
             ],
             [
              0.8888888888888888,
              "#fdca26"
             ],
             [
              1,
              "#f0f921"
             ]
            ],
            "type": "heatmapgl"
           }
          ],
          "histogram": [
           {
            "marker": {
             "pattern": {
              "fillmode": "overlay",
              "size": 10,
              "solidity": 0.2
             }
            },
            "type": "histogram"
           }
          ],
          "histogram2d": [
           {
            "colorbar": {
             "outlinewidth": 0,
             "ticks": ""
            },
            "colorscale": [
             [
              0,
              "#0d0887"
             ],
             [
              0.1111111111111111,
              "#46039f"
             ],
             [
              0.2222222222222222,
              "#7201a8"
             ],
             [
              0.3333333333333333,
              "#9c179e"
             ],
             [
              0.4444444444444444,
              "#bd3786"
             ],
             [
              0.5555555555555556,
              "#d8576b"
             ],
             [
              0.6666666666666666,
              "#ed7953"
             ],
             [
              0.7777777777777778,
              "#fb9f3a"
             ],
             [
              0.8888888888888888,
              "#fdca26"
             ],
             [
              1,
              "#f0f921"
             ]
            ],
            "type": "histogram2d"
           }
          ],
          "histogram2dcontour": [
           {
            "colorbar": {
             "outlinewidth": 0,
             "ticks": ""
            },
            "colorscale": [
             [
              0,
              "#0d0887"
             ],
             [
              0.1111111111111111,
              "#46039f"
             ],
             [
              0.2222222222222222,
              "#7201a8"
             ],
             [
              0.3333333333333333,
              "#9c179e"
             ],
             [
              0.4444444444444444,
              "#bd3786"
             ],
             [
              0.5555555555555556,
              "#d8576b"
             ],
             [
              0.6666666666666666,
              "#ed7953"
             ],
             [
              0.7777777777777778,
              "#fb9f3a"
             ],
             [
              0.8888888888888888,
              "#fdca26"
             ],
             [
              1,
              "#f0f921"
             ]
            ],
            "type": "histogram2dcontour"
           }
          ],
          "mesh3d": [
           {
            "colorbar": {
             "outlinewidth": 0,
             "ticks": ""
            },
            "type": "mesh3d"
           }
          ],
          "parcoords": [
           {
            "line": {
             "colorbar": {
              "outlinewidth": 0,
              "ticks": ""
             }
            },
            "type": "parcoords"
           }
          ],
          "pie": [
           {
            "automargin": true,
            "type": "pie"
           }
          ],
          "scatter": [
           {
            "fillpattern": {
             "fillmode": "overlay",
             "size": 10,
             "solidity": 0.2
            },
            "type": "scatter"
           }
          ],
          "scatter3d": [
           {
            "line": {
             "colorbar": {
              "outlinewidth": 0,
              "ticks": ""
             }
            },
            "marker": {
             "colorbar": {
              "outlinewidth": 0,
              "ticks": ""
             }
            },
            "type": "scatter3d"
           }
          ],
          "scattercarpet": [
           {
            "marker": {
             "colorbar": {
              "outlinewidth": 0,
              "ticks": ""
             }
            },
            "type": "scattercarpet"
           }
          ],
          "scattergeo": [
           {
            "marker": {
             "colorbar": {
              "outlinewidth": 0,
              "ticks": ""
             }
            },
            "type": "scattergeo"
           }
          ],
          "scattergl": [
           {
            "marker": {
             "colorbar": {
              "outlinewidth": 0,
              "ticks": ""
             }
            },
            "type": "scattergl"
           }
          ],
          "scattermapbox": [
           {
            "marker": {
             "colorbar": {
              "outlinewidth": 0,
              "ticks": ""
             }
            },
            "type": "scattermapbox"
           }
          ],
          "scatterpolar": [
           {
            "marker": {
             "colorbar": {
              "outlinewidth": 0,
              "ticks": ""
             }
            },
            "type": "scatterpolar"
           }
          ],
          "scatterpolargl": [
           {
            "marker": {
             "colorbar": {
              "outlinewidth": 0,
              "ticks": ""
             }
            },
            "type": "scatterpolargl"
           }
          ],
          "scatterternary": [
           {
            "marker": {
             "colorbar": {
              "outlinewidth": 0,
              "ticks": ""
             }
            },
            "type": "scatterternary"
           }
          ],
          "surface": [
           {
            "colorbar": {
             "outlinewidth": 0,
             "ticks": ""
            },
            "colorscale": [
             [
              0,
              "#0d0887"
             ],
             [
              0.1111111111111111,
              "#46039f"
             ],
             [
              0.2222222222222222,
              "#7201a8"
             ],
             [
              0.3333333333333333,
              "#9c179e"
             ],
             [
              0.4444444444444444,
              "#bd3786"
             ],
             [
              0.5555555555555556,
              "#d8576b"
             ],
             [
              0.6666666666666666,
              "#ed7953"
             ],
             [
              0.7777777777777778,
              "#fb9f3a"
             ],
             [
              0.8888888888888888,
              "#fdca26"
             ],
             [
              1,
              "#f0f921"
             ]
            ],
            "type": "surface"
           }
          ],
          "table": [
           {
            "cells": {
             "fill": {
              "color": "#EBF0F8"
             },
             "line": {
              "color": "white"
             }
            },
            "header": {
             "fill": {
              "color": "#C8D4E3"
             },
             "line": {
              "color": "white"
             }
            },
            "type": "table"
           }
          ]
         },
         "layout": {
          "annotationdefaults": {
           "arrowcolor": "#2a3f5f",
           "arrowhead": 0,
           "arrowwidth": 1
          },
          "autotypenumbers": "strict",
          "coloraxis": {
           "colorbar": {
            "outlinewidth": 0,
            "ticks": ""
           }
          },
          "colorscale": {
           "diverging": [
            [
             0,
             "#8e0152"
            ],
            [
             0.1,
             "#c51b7d"
            ],
            [
             0.2,
             "#de77ae"
            ],
            [
             0.3,
             "#f1b6da"
            ],
            [
             0.4,
             "#fde0ef"
            ],
            [
             0.5,
             "#f7f7f7"
            ],
            [
             0.6,
             "#e6f5d0"
            ],
            [
             0.7,
             "#b8e186"
            ],
            [
             0.8,
             "#7fbc41"
            ],
            [
             0.9,
             "#4d9221"
            ],
            [
             1,
             "#276419"
            ]
           ],
           "sequential": [
            [
             0,
             "#0d0887"
            ],
            [
             0.1111111111111111,
             "#46039f"
            ],
            [
             0.2222222222222222,
             "#7201a8"
            ],
            [
             0.3333333333333333,
             "#9c179e"
            ],
            [
             0.4444444444444444,
             "#bd3786"
            ],
            [
             0.5555555555555556,
             "#d8576b"
            ],
            [
             0.6666666666666666,
             "#ed7953"
            ],
            [
             0.7777777777777778,
             "#fb9f3a"
            ],
            [
             0.8888888888888888,
             "#fdca26"
            ],
            [
             1,
             "#f0f921"
            ]
           ],
           "sequentialminus": [
            [
             0,
             "#0d0887"
            ],
            [
             0.1111111111111111,
             "#46039f"
            ],
            [
             0.2222222222222222,
             "#7201a8"
            ],
            [
             0.3333333333333333,
             "#9c179e"
            ],
            [
             0.4444444444444444,
             "#bd3786"
            ],
            [
             0.5555555555555556,
             "#d8576b"
            ],
            [
             0.6666666666666666,
             "#ed7953"
            ],
            [
             0.7777777777777778,
             "#fb9f3a"
            ],
            [
             0.8888888888888888,
             "#fdca26"
            ],
            [
             1,
             "#f0f921"
            ]
           ]
          },
          "colorway": [
           "#636efa",
           "#EF553B",
           "#00cc96",
           "#ab63fa",
           "#FFA15A",
           "#19d3f3",
           "#FF6692",
           "#B6E880",
           "#FF97FF",
           "#FECB52"
          ],
          "font": {
           "color": "#2a3f5f"
          },
          "geo": {
           "bgcolor": "white",
           "lakecolor": "white",
           "landcolor": "#E5ECF6",
           "showlakes": true,
           "showland": true,
           "subunitcolor": "white"
          },
          "hoverlabel": {
           "align": "left"
          },
          "hovermode": "closest",
          "mapbox": {
           "style": "light"
          },
          "paper_bgcolor": "white",
          "plot_bgcolor": "#E5ECF6",
          "polar": {
           "angularaxis": {
            "gridcolor": "white",
            "linecolor": "white",
            "ticks": ""
           },
           "bgcolor": "#E5ECF6",
           "radialaxis": {
            "gridcolor": "white",
            "linecolor": "white",
            "ticks": ""
           }
          },
          "scene": {
           "xaxis": {
            "backgroundcolor": "#E5ECF6",
            "gridcolor": "white",
            "gridwidth": 2,
            "linecolor": "white",
            "showbackground": true,
            "ticks": "",
            "zerolinecolor": "white"
           },
           "yaxis": {
            "backgroundcolor": "#E5ECF6",
            "gridcolor": "white",
            "gridwidth": 2,
            "linecolor": "white",
            "showbackground": true,
            "ticks": "",
            "zerolinecolor": "white"
           },
           "zaxis": {
            "backgroundcolor": "#E5ECF6",
            "gridcolor": "white",
            "gridwidth": 2,
            "linecolor": "white",
            "showbackground": true,
            "ticks": "",
            "zerolinecolor": "white"
           }
          },
          "shapedefaults": {
           "line": {
            "color": "#2a3f5f"
           }
          },
          "ternary": {
           "aaxis": {
            "gridcolor": "white",
            "linecolor": "white",
            "ticks": ""
           },
           "baxis": {
            "gridcolor": "white",
            "linecolor": "white",
            "ticks": ""
           },
           "bgcolor": "#E5ECF6",
           "caxis": {
            "gridcolor": "white",
            "linecolor": "white",
            "ticks": ""
           }
          },
          "title": {
           "x": 0.05
          },
          "xaxis": {
           "automargin": true,
           "gridcolor": "white",
           "linecolor": "white",
           "ticks": "",
           "title": {
            "standoff": 15
           },
           "zerolinecolor": "white",
           "zerolinewidth": 2
          },
          "yaxis": {
           "automargin": true,
           "gridcolor": "white",
           "linecolor": "white",
           "ticks": "",
           "title": {
            "standoff": 15
           },
           "zerolinecolor": "white",
           "zerolinewidth": 2
          }
         }
        },
        "xaxis": {
         "anchor": "y",
         "domain": [
          0,
          1
         ],
         "title": {
          "text": "Type"
         }
        },
        "yaxis": {
         "anchor": "x",
         "domain": [
          0,
          1
         ],
         "title": {
          "text": "MPG_City"
         }
        }
       }
      },
      "text/html": [
       "<div>                            <div id=\"38575062-82e7-4a88-9c1a-f39531ffade9\" class=\"plotly-graph-div\" style=\"height:525px; width:100%;\"></div>            <script type=\"text/javascript\">                require([\"plotly\"], function(Plotly) {                    window.PLOTLYENV=window.PLOTLYENV || {};                                    if (document.getElementById(\"38575062-82e7-4a88-9c1a-f39531ffade9\")) {                    Plotly.newPlot(                        \"38575062-82e7-4a88-9c1a-f39531ffade9\",                        [{\"alignmentgroup\":\"True\",\"hovertemplate\":\"Type=%{x}<br>MPG_City=%{y}<extra></extra>\",\"legendgroup\":\"\",\"marker\":{\"color\":\"#636efa\"},\"name\":\"\",\"notched\":false,\"offsetgroup\":\"\",\"orientation\":\"v\",\"showlegend\":false,\"x\":[\"SUV\",\"Sedan\",\"Sedan\",\"Sedan\",\"Sedan\",\"Sedan\",\"Sports\",\"Sedan\",\"Sedan\",\"Sedan\",\"Sedan\",\"Sedan\",\"Sedan\",\"Sedan\",\"Sedan\",\"Sedan\",\"Sedan\",\"Sedan\",\"Sedan\",\"Sedan\",\"Sports\",\"Sports\",\"Sports\",\"Sports\",\"Wagon\",\"Wagon\",\"SUV\",\"SUV\",\"Sedan\",\"Sedan\",\"Sedan\",\"Sedan\",\"Sedan\",\"Sedan\",\"Sedan\",\"Sedan\",\"Sedan\",\"Sedan\",\"Sedan\",\"Sedan\",\"Sedan\",\"Sports\",\"Sports\",\"Sports\",\"Sports\",\"Wagon\",\"SUV\",\"SUV\",\"Sedan\",\"Sedan\",\"Sedan\",\"Sedan\",\"Sedan\",\"Sedan\",\"Sedan\",\"SUV\",\"SUV\",\"Sedan\",\"Sedan\",\"Sedan\",\"Sedan\",\"Sports\",\"Truck\",\"SUV\",\"SUV\",\"SUV\",\"SUV\",\"Sedan\",\"Sedan\",\"Sedan\",\"Sedan\",\"Sedan\",\"Sedan\",\"Sedan\",\"Sedan\",\"Sedan\",\"Sedan\",\"Sedan\",\"Sedan\",\"Sedan\",\"Sedan\",\"Sedan\",\"Sports\",\"Sports\",\"Truck\",\"Truck\",\"Truck\",\"Truck\",\"Truck\",\"Wagon\",\"Sedan\",\"Sedan\",\"Sedan\",\"Sedan\",\"Sedan\",\"Sedan\",\"Sedan\",\"Sedan\",\"Sedan\",\"Sedan\",\"Sedan\",\"Sedan\",\"Sedan\",\"Sports\",\"Wagon\",\"SUV\",\"Sedan\",\"Sedan\",\"Sedan\",\"Sedan\",\"Sedan\",\"Sedan\",\"Sedan\",\"Sedan\",\"Sports\",\"Truck\",\"Truck\",\"Truck\",\"SUV\",\"SUV\",\"SUV\",\"SUV\",\"Sedan\",\"Sedan\",\"Sedan\",\"Sedan\",\"Sedan\",\"Sedan\",\"Sedan\",\"Sedan\",\"Sedan\",\"Sedan\",\"Sedan\",\"Sports\",\"Sports\",\"Sports\",\"Truck\",\"Truck\",\"Truck\",\"Wagon\",\"Wagon\",\"SUV\",\"SUV\",\"SUV\",\"Sedan\",\"Truck\",\"Truck\",\"Truck\",\"Truck\",\"Hybrid\",\"Hybrid\",\"SUV\",\"SUV\",\"SUV\",\"Sedan\",\"Sedan\",\"Sedan\",\"Sedan\",\"Sedan\",\"Sedan\",\"Sedan\",\"Sedan\",\"Sedan\",\"Sedan\",\"Sedan\",\"Sports\",\"SUV\",\"SUV\",\"Sedan\",\"Sedan\",\"Sedan\",\"Sedan\",\"Sedan\",\"Sedan\",\"Sedan\",\"Sedan\",\"Sedan\",\"Sedan\",\"Sports\",\"Sedan\",\"Sedan\",\"Sedan\",\"Sedan\",\"Sedan\",\"Sedan\",\"Wagon\",\"Wagon\",\"SUV\",\"SUV\",\"Sedan\",\"Sedan\",\"Sedan\",\"Sedan\",\"Sedan\",\"Sedan\",\"Sedan\",\"Sedan\",\"Sports\",\"Sports\",\"Sports\",\"Sports\",\"SUV\",\"SUV\",\"SUV\",\"SUV\",\"Sedan\",\"Sedan\",\"Sedan\",\"Sedan\",\"Sedan\",\"Sedan\",\"Sedan\",\"Sedan\",\"Sedan\",\"Wagon\",\"SUV\",\"SUV\",\"SUV\",\"SUV\",\"SUV\",\"SUV\",\"Sedan\",\"Sedan\",\"Sedan\",\"Sedan\",\"Sedan\",\"Sedan\",\"Sports\",\"Wagon\",\"SUV\",\"SUV\",\"Sedan\",\"Sedan\",\"Sedan\",\"Sedan\",\"Sedan\",\"Sedan\",\"Sedan\",\"Sedan\",\"Sedan\",\"SUV\",\"Sedan\",\"Sedan\",\"Sedan\",\"Sedan\",\"Sports\",\"Sports\",\"Sports\",\"Sports\",\"Truck\",\"Truck\",\"SUV\",\"SUV\",\"Sedan\",\"Sedan\",\"Sedan\",\"Sedan\",\"Sedan\",\"Sedan\",\"Sedan\",\"Sedan\",\"Sedan\",\"Sedan\",\"Sedan\",\"Sedan\",\"Sedan\",\"Sedan\",\"Sedan\",\"Sedan\",\"Sports\",\"Sports\",\"Sports\",\"Sports\",\"Sports\",\"Wagon\",\"Wagon\",\"Wagon\",\"SUV\",\"Sedan\",\"Sedan\",\"Sedan\",\"Sedan\",\"Sedan\",\"Sedan\",\"Sedan\",\"Wagon\",\"SUV\",\"SUV\",\"SUV\",\"Sedan\",\"Sedan\",\"Sedan\",\"Sedan\",\"Sedan\",\"Sedan\",\"Sports\",\"Sports\",\"Sports\",\"Wagon\",\"SUV\",\"SUV\",\"SUV\",\"Sedan\",\"Sedan\",\"Sedan\",\"Sedan\",\"Sedan\",\"Sedan\",\"Sedan\",\"Sedan\",\"Sedan\",\"Sports\",\"Sports\",\"Truck\",\"Truck\",\"Wagon\",\"Sedan\",\"Sedan\",\"Sedan\",\"SUV\",\"Sedan\",\"Sedan\",\"Sedan\",\"Sedan\",\"Sedan\",\"Sedan\",\"Sedan\",\"Sedan\",\"Sports\",\"Wagon\",\"SUV\",\"Sports\",\"Sports\",\"Sports\",\"Sports\",\"Sports\",\"Sports\",\"Sedan\",\"Sedan\",\"Sedan\",\"Sedan\",\"Sedan\",\"Sedan\",\"Wagon\",\"SUV\",\"Sedan\",\"Sedan\",\"Sedan\",\"Sedan\",\"Sedan\",\"Sedan\",\"Wagon\",\"Sedan\",\"Wagon\",\"Sedan\",\"Sedan\",\"Sedan\",\"Sedan\",\"Sedan\",\"Sedan\",\"Sports\",\"Sports\",\"Truck\",\"Wagon\",\"Wagon\",\"SUV\",\"SUV\",\"Sedan\",\"Sedan\",\"Sedan\",\"Sedan\",\"Sedan\",\"Wagon\",\"Hybrid\",\"SUV\",\"SUV\",\"SUV\",\"SUV\",\"SUV\",\"Sedan\",\"Sedan\",\"Sedan\",\"Sedan\",\"Sedan\",\"Sedan\",\"Sedan\",\"Sedan\",\"Sedan\",\"Sedan\",\"Sedan\",\"Sedan\",\"Sedan\",\"Sedan\",\"Sedan\",\"Sedan\",\"Sports\",\"Sports\",\"Truck\",\"Truck\",\"Truck\",\"Wagon\",\"SUV\",\"Sedan\",\"Sedan\",\"Sedan\",\"Sedan\",\"Sedan\",\"Sedan\",\"Sedan\",\"Sedan\",\"Sedan\",\"Sedan\",\"Sedan\",\"Wagon\",\"Wagon\",\"Wagon\",\"SUV\",\"Sedan\",\"Sedan\",\"Sedan\",\"Sedan\",\"Sedan\",\"Sedan\",\"Sedan\",\"Sedan\",\"Sedan\",\"Wagon\",\"Wagon\"],\"x0\":\" \",\"xaxis\":\"x\",\"y\":[17,24,22,20,18,18,17,22,23,20,17,18,20,18,20,18,18,17,17,14,15,20,20,21,18,15,16,16,20,20,19,19,20,20,20,19,19,20,18,18,18,16,16,20,21,19,15,19,20,20,20,18,20,20,18,14,16,18,18,18,18,17,13,14,14,16,19,28,28,26,26,26,21,24,22,21,20,18,23,18,14,19,18,18,14,18,15,13,16,22,22,22,22,21,18,21,19,21,22,18,21,19,18,17,17,15,29,29,21,21,21,18,20,18,12,16,16,16,10,15,15,18,26,27,26,26,21,20,19,17,17,17,17,20,17,17,15,14,24,26,19,15,16,13,16,18,17,13,15,46,60,17,21,21,32,36,32,26,26,32,26,21,21,18,18,20,10,20,29,29,29,26,26,26,19,19,17,17,19,18,18,18,19,17,17,16,15,15,17,18,18,18,18,17,18,18,17,18,18,16,16,16,20,16,16,23,26,25,24,24,24,20,17,16,26,12,12,18,15,13,18,20,18,18,18,18,18,18,18,13,13,20,20,17,17,17,17,17,28,25,22,26,25,24,18,23,23,18,18,24,15,13,14,22,19,20,19,19,20,19,16,16,13,20,17,19,16,18,16,16,14,13,21,17,19,19,16,16,20,17,17,19,17,17,16,19,17,15,21,25,25,23,25,18,18,21,21,18,25,13,16,17,28,28,21,23,21,20,20,19,18,20,20,17,14,20,24,20,19,19,24,20,20,24,20,17,19,18,16,29,14,18,17,18,17,20,18,20,20,21,21,21,21,19,21,26,26,26,26,26,20,24,32,31,22,21,21,20,19,19,20,18,21,21,21,18,19,25,25,24,22,20,24,59,14,18,18,13,22,32,32,32,35,33,35,24,21,24,20,21,21,20,21,19,19,24,26,22,16,14,29,15,24,24,38,24,21,24,22,19,18,16,12,24,22,18,15,22,20,20,18,20,20,21,20,19,22,20],\"y0\":\" \",\"yaxis\":\"y\",\"type\":\"box\"}],                        {\"template\":{\"data\":{\"histogram2dcontour\":[{\"type\":\"histogram2dcontour\",\"colorbar\":{\"outlinewidth\":0,\"ticks\":\"\"},\"colorscale\":[[0.0,\"#0d0887\"],[0.1111111111111111,\"#46039f\"],[0.2222222222222222,\"#7201a8\"],[0.3333333333333333,\"#9c179e\"],[0.4444444444444444,\"#bd3786\"],[0.5555555555555556,\"#d8576b\"],[0.6666666666666666,\"#ed7953\"],[0.7777777777777778,\"#fb9f3a\"],[0.8888888888888888,\"#fdca26\"],[1.0,\"#f0f921\"]]}],\"choropleth\":[{\"type\":\"choropleth\",\"colorbar\":{\"outlinewidth\":0,\"ticks\":\"\"}}],\"histogram2d\":[{\"type\":\"histogram2d\",\"colorbar\":{\"outlinewidth\":0,\"ticks\":\"\"},\"colorscale\":[[0.0,\"#0d0887\"],[0.1111111111111111,\"#46039f\"],[0.2222222222222222,\"#7201a8\"],[0.3333333333333333,\"#9c179e\"],[0.4444444444444444,\"#bd3786\"],[0.5555555555555556,\"#d8576b\"],[0.6666666666666666,\"#ed7953\"],[0.7777777777777778,\"#fb9f3a\"],[0.8888888888888888,\"#fdca26\"],[1.0,\"#f0f921\"]]}],\"heatmap\":[{\"type\":\"heatmap\",\"colorbar\":{\"outlinewidth\":0,\"ticks\":\"\"},\"colorscale\":[[0.0,\"#0d0887\"],[0.1111111111111111,\"#46039f\"],[0.2222222222222222,\"#7201a8\"],[0.3333333333333333,\"#9c179e\"],[0.4444444444444444,\"#bd3786\"],[0.5555555555555556,\"#d8576b\"],[0.6666666666666666,\"#ed7953\"],[0.7777777777777778,\"#fb9f3a\"],[0.8888888888888888,\"#fdca26\"],[1.0,\"#f0f921\"]]}],\"heatmapgl\":[{\"type\":\"heatmapgl\",\"colorbar\":{\"outlinewidth\":0,\"ticks\":\"\"},\"colorscale\":[[0.0,\"#0d0887\"],[0.1111111111111111,\"#46039f\"],[0.2222222222222222,\"#7201a8\"],[0.3333333333333333,\"#9c179e\"],[0.4444444444444444,\"#bd3786\"],[0.5555555555555556,\"#d8576b\"],[0.6666666666666666,\"#ed7953\"],[0.7777777777777778,\"#fb9f3a\"],[0.8888888888888888,\"#fdca26\"],[1.0,\"#f0f921\"]]}],\"contourcarpet\":[{\"type\":\"contourcarpet\",\"colorbar\":{\"outlinewidth\":0,\"ticks\":\"\"}}],\"contour\":[{\"type\":\"contour\",\"colorbar\":{\"outlinewidth\":0,\"ticks\":\"\"},\"colorscale\":[[0.0,\"#0d0887\"],[0.1111111111111111,\"#46039f\"],[0.2222222222222222,\"#7201a8\"],[0.3333333333333333,\"#9c179e\"],[0.4444444444444444,\"#bd3786\"],[0.5555555555555556,\"#d8576b\"],[0.6666666666666666,\"#ed7953\"],[0.7777777777777778,\"#fb9f3a\"],[0.8888888888888888,\"#fdca26\"],[1.0,\"#f0f921\"]]}],\"surface\":[{\"type\":\"surface\",\"colorbar\":{\"outlinewidth\":0,\"ticks\":\"\"},\"colorscale\":[[0.0,\"#0d0887\"],[0.1111111111111111,\"#46039f\"],[0.2222222222222222,\"#7201a8\"],[0.3333333333333333,\"#9c179e\"],[0.4444444444444444,\"#bd3786\"],[0.5555555555555556,\"#d8576b\"],[0.6666666666666666,\"#ed7953\"],[0.7777777777777778,\"#fb9f3a\"],[0.8888888888888888,\"#fdca26\"],[1.0,\"#f0f921\"]]}],\"mesh3d\":[{\"type\":\"mesh3d\",\"colorbar\":{\"outlinewidth\":0,\"ticks\":\"\"}}],\"scatter\":[{\"fillpattern\":{\"fillmode\":\"overlay\",\"size\":10,\"solidity\":0.2},\"type\":\"scatter\"}],\"parcoords\":[{\"type\":\"parcoords\",\"line\":{\"colorbar\":{\"outlinewidth\":0,\"ticks\":\"\"}}}],\"scatterpolargl\":[{\"type\":\"scatterpolargl\",\"marker\":{\"colorbar\":{\"outlinewidth\":0,\"ticks\":\"\"}}}],\"bar\":[{\"error_x\":{\"color\":\"#2a3f5f\"},\"error_y\":{\"color\":\"#2a3f5f\"},\"marker\":{\"line\":{\"color\":\"#E5ECF6\",\"width\":0.5},\"pattern\":{\"fillmode\":\"overlay\",\"size\":10,\"solidity\":0.2}},\"type\":\"bar\"}],\"scattergeo\":[{\"type\":\"scattergeo\",\"marker\":{\"colorbar\":{\"outlinewidth\":0,\"ticks\":\"\"}}}],\"scatterpolar\":[{\"type\":\"scatterpolar\",\"marker\":{\"colorbar\":{\"outlinewidth\":0,\"ticks\":\"\"}}}],\"histogram\":[{\"marker\":{\"pattern\":{\"fillmode\":\"overlay\",\"size\":10,\"solidity\":0.2}},\"type\":\"histogram\"}],\"scattergl\":[{\"type\":\"scattergl\",\"marker\":{\"colorbar\":{\"outlinewidth\":0,\"ticks\":\"\"}}}],\"scatter3d\":[{\"type\":\"scatter3d\",\"line\":{\"colorbar\":{\"outlinewidth\":0,\"ticks\":\"\"}},\"marker\":{\"colorbar\":{\"outlinewidth\":0,\"ticks\":\"\"}}}],\"scattermapbox\":[{\"type\":\"scattermapbox\",\"marker\":{\"colorbar\":{\"outlinewidth\":0,\"ticks\":\"\"}}}],\"scatterternary\":[{\"type\":\"scatterternary\",\"marker\":{\"colorbar\":{\"outlinewidth\":0,\"ticks\":\"\"}}}],\"scattercarpet\":[{\"type\":\"scattercarpet\",\"marker\":{\"colorbar\":{\"outlinewidth\":0,\"ticks\":\"\"}}}],\"carpet\":[{\"aaxis\":{\"endlinecolor\":\"#2a3f5f\",\"gridcolor\":\"white\",\"linecolor\":\"white\",\"minorgridcolor\":\"white\",\"startlinecolor\":\"#2a3f5f\"},\"baxis\":{\"endlinecolor\":\"#2a3f5f\",\"gridcolor\":\"white\",\"linecolor\":\"white\",\"minorgridcolor\":\"white\",\"startlinecolor\":\"#2a3f5f\"},\"type\":\"carpet\"}],\"table\":[{\"cells\":{\"fill\":{\"color\":\"#EBF0F8\"},\"line\":{\"color\":\"white\"}},\"header\":{\"fill\":{\"color\":\"#C8D4E3\"},\"line\":{\"color\":\"white\"}},\"type\":\"table\"}],\"barpolar\":[{\"marker\":{\"line\":{\"color\":\"#E5ECF6\",\"width\":0.5},\"pattern\":{\"fillmode\":\"overlay\",\"size\":10,\"solidity\":0.2}},\"type\":\"barpolar\"}],\"pie\":[{\"automargin\":true,\"type\":\"pie\"}]},\"layout\":{\"autotypenumbers\":\"strict\",\"colorway\":[\"#636efa\",\"#EF553B\",\"#00cc96\",\"#ab63fa\",\"#FFA15A\",\"#19d3f3\",\"#FF6692\",\"#B6E880\",\"#FF97FF\",\"#FECB52\"],\"font\":{\"color\":\"#2a3f5f\"},\"hovermode\":\"closest\",\"hoverlabel\":{\"align\":\"left\"},\"paper_bgcolor\":\"white\",\"plot_bgcolor\":\"#E5ECF6\",\"polar\":{\"bgcolor\":\"#E5ECF6\",\"angularaxis\":{\"gridcolor\":\"white\",\"linecolor\":\"white\",\"ticks\":\"\"},\"radialaxis\":{\"gridcolor\":\"white\",\"linecolor\":\"white\",\"ticks\":\"\"}},\"ternary\":{\"bgcolor\":\"#E5ECF6\",\"aaxis\":{\"gridcolor\":\"white\",\"linecolor\":\"white\",\"ticks\":\"\"},\"baxis\":{\"gridcolor\":\"white\",\"linecolor\":\"white\",\"ticks\":\"\"},\"caxis\":{\"gridcolor\":\"white\",\"linecolor\":\"white\",\"ticks\":\"\"}},\"coloraxis\":{\"colorbar\":{\"outlinewidth\":0,\"ticks\":\"\"}},\"colorscale\":{\"sequential\":[[0.0,\"#0d0887\"],[0.1111111111111111,\"#46039f\"],[0.2222222222222222,\"#7201a8\"],[0.3333333333333333,\"#9c179e\"],[0.4444444444444444,\"#bd3786\"],[0.5555555555555556,\"#d8576b\"],[0.6666666666666666,\"#ed7953\"],[0.7777777777777778,\"#fb9f3a\"],[0.8888888888888888,\"#fdca26\"],[1.0,\"#f0f921\"]],\"sequentialminus\":[[0.0,\"#0d0887\"],[0.1111111111111111,\"#46039f\"],[0.2222222222222222,\"#7201a8\"],[0.3333333333333333,\"#9c179e\"],[0.4444444444444444,\"#bd3786\"],[0.5555555555555556,\"#d8576b\"],[0.6666666666666666,\"#ed7953\"],[0.7777777777777778,\"#fb9f3a\"],[0.8888888888888888,\"#fdca26\"],[1.0,\"#f0f921\"]],\"diverging\":[[0,\"#8e0152\"],[0.1,\"#c51b7d\"],[0.2,\"#de77ae\"],[0.3,\"#f1b6da\"],[0.4,\"#fde0ef\"],[0.5,\"#f7f7f7\"],[0.6,\"#e6f5d0\"],[0.7,\"#b8e186\"],[0.8,\"#7fbc41\"],[0.9,\"#4d9221\"],[1,\"#276419\"]]},\"xaxis\":{\"gridcolor\":\"white\",\"linecolor\":\"white\",\"ticks\":\"\",\"title\":{\"standoff\":15},\"zerolinecolor\":\"white\",\"automargin\":true,\"zerolinewidth\":2},\"yaxis\":{\"gridcolor\":\"white\",\"linecolor\":\"white\",\"ticks\":\"\",\"title\":{\"standoff\":15},\"zerolinecolor\":\"white\",\"automargin\":true,\"zerolinewidth\":2},\"scene\":{\"xaxis\":{\"backgroundcolor\":\"#E5ECF6\",\"gridcolor\":\"white\",\"linecolor\":\"white\",\"showbackground\":true,\"ticks\":\"\",\"zerolinecolor\":\"white\",\"gridwidth\":2},\"yaxis\":{\"backgroundcolor\":\"#E5ECF6\",\"gridcolor\":\"white\",\"linecolor\":\"white\",\"showbackground\":true,\"ticks\":\"\",\"zerolinecolor\":\"white\",\"gridwidth\":2},\"zaxis\":{\"backgroundcolor\":\"#E5ECF6\",\"gridcolor\":\"white\",\"linecolor\":\"white\",\"showbackground\":true,\"ticks\":\"\",\"zerolinecolor\":\"white\",\"gridwidth\":2}},\"shapedefaults\":{\"line\":{\"color\":\"#2a3f5f\"}},\"annotationdefaults\":{\"arrowcolor\":\"#2a3f5f\",\"arrowhead\":0,\"arrowwidth\":1},\"geo\":{\"bgcolor\":\"white\",\"landcolor\":\"#E5ECF6\",\"subunitcolor\":\"white\",\"showland\":true,\"showlakes\":true,\"lakecolor\":\"white\"},\"title\":{\"x\":0.05},\"mapbox\":{\"style\":\"light\"}}},\"xaxis\":{\"anchor\":\"y\",\"domain\":[0.0,1.0],\"title\":{\"text\":\"Type\"}},\"yaxis\":{\"anchor\":\"x\",\"domain\":[0.0,1.0],\"title\":{\"text\":\"MPG_City\"}},\"legend\":{\"tracegroupgap\":0},\"margin\":{\"t\":60},\"boxmode\":\"group\"},                        {\"responsive\": true}                    ).then(function(){\n",
       "                            \n",
       "var gd = document.getElementById('38575062-82e7-4a88-9c1a-f39531ffade9');\n",
       "var x = new MutationObserver(function (mutations, observer) {{\n",
       "        var display = window.getComputedStyle(gd).display;\n",
       "        if (!display || display === 'none') {{\n",
       "            console.log([gd, 'removed!']);\n",
       "            Plotly.purge(gd);\n",
       "            observer.disconnect();\n",
       "        }}\n",
       "}});\n",
       "\n",
       "// Listen for the removal of the full notebook cells\n",
       "var notebookContainer = gd.closest('#notebook-container');\n",
       "if (notebookContainer) {{\n",
       "    x.observe(notebookContainer, {childList: true});\n",
       "}}\n",
       "\n",
       "// Listen for the clearing of the current output cell\n",
       "var outputEl = gd.closest('.output');\n",
       "if (outputEl) {{\n",
       "    x.observe(outputEl, {childList: true});\n",
       "}}\n",
       "\n",
       "                        })                };                });            </script>        </div>"
      ]
     },
     "metadata": {},
     "output_type": "display_data"
    }
   ],
   "source": [
    "px.box(df, x=\"Type\", y=\"MPG_City\")"
   ]
  },
  {
   "cell_type": "markdown",
   "id": "d50ba2bc",
   "metadata": {},
   "source": [
    "Cada caja representa la cantidad de millas por galón que recorre cada tipo de automóvil"
   ]
  },
  {
   "cell_type": "code",
   "execution_count": 50,
   "id": "1bff65a9",
   "metadata": {},
   "outputs": [
    {
     "data": {
      "application/vnd.plotly.v1+json": {
       "config": {
        "plotlyServerURL": "https://plot.ly"
       },
       "data": [
        {
         "alignmentgroup": "True",
         "hovertemplate": "Origin=%{x}<br>MPG_City=%{y}<extra></extra>",
         "legendgroup": "",
         "marker": {
          "color": "#636efa"
         },
         "name": "",
         "notched": false,
         "offsetgroup": "",
         "orientation": "v",
         "showlegend": false,
         "type": "box",
         "x": [
          "Asia",
          "Asia",
          "Asia",
          "Asia",
          "Asia",
          "Asia",
          "Asia",
          "Europe",
          "Europe",
          "Europe",
          "Europe",
          "Europe",
          "Europe",
          "Europe",
          "Europe",
          "Europe",
          "Europe",
          "Europe",
          "Europe",
          "Europe",
          "Europe",
          "Europe",
          "Europe",
          "Europe",
          "Europe",
          "Europe",
          "Europe",
          "Europe",
          "Europe",
          "Europe",
          "Europe",
          "Europe",
          "Europe",
          "Europe",
          "Europe",
          "Europe",
          "Europe",
          "Europe",
          "Europe",
          "Europe",
          "Europe",
          "Europe",
          "Europe",
          "Europe",
          "Europe",
          "Europe",
          "USA",
          "USA",
          "USA",
          "USA",
          "USA",
          "USA",
          "USA",
          "USA",
          "USA",
          "USA",
          "USA",
          "USA",
          "USA",
          "USA",
          "USA",
          "USA",
          "USA",
          "USA",
          "USA",
          "USA",
          "USA",
          "USA",
          "USA",
          "USA",
          "USA",
          "USA",
          "USA",
          "USA",
          "USA",
          "USA",
          "USA",
          "USA",
          "USA",
          "USA",
          "USA",
          "USA",
          "USA",
          "USA",
          "USA",
          "USA",
          "USA",
          "USA",
          "USA",
          "USA",
          "USA",
          "USA",
          "USA",
          "USA",
          "USA",
          "USA",
          "USA",
          "USA",
          "USA",
          "USA",
          "USA",
          "USA",
          "USA",
          "USA",
          "USA",
          "USA",
          "USA",
          "USA",
          "USA",
          "USA",
          "USA",
          "USA",
          "USA",
          "USA",
          "USA",
          "USA",
          "USA",
          "USA",
          "USA",
          "USA",
          "USA",
          "USA",
          "USA",
          "USA",
          "USA",
          "USA",
          "USA",
          "USA",
          "USA",
          "USA",
          "USA",
          "USA",
          "USA",
          "USA",
          "USA",
          "USA",
          "USA",
          "USA",
          "USA",
          "USA",
          "USA",
          "USA",
          "USA",
          "USA",
          "USA",
          "USA",
          "USA",
          "USA",
          "USA",
          "Asia",
          "Asia",
          "Asia",
          "Asia",
          "Asia",
          "Asia",
          "Asia",
          "Asia",
          "Asia",
          "Asia",
          "Asia",
          "Asia",
          "Asia",
          "Asia",
          "Asia",
          "Asia",
          "Asia",
          "USA",
          "Asia",
          "Asia",
          "Asia",
          "Asia",
          "Asia",
          "Asia",
          "Asia",
          "Asia",
          "Asia",
          "Asia",
          "Asia",
          "Asia",
          "Asia",
          "Asia",
          "Asia",
          "Asia",
          "Asia",
          "Asia",
          "Asia",
          "Asia",
          "Asia",
          "Asia",
          "Europe",
          "Europe",
          "Europe",
          "Europe",
          "Europe",
          "Europe",
          "Europe",
          "Europe",
          "Europe",
          "Europe",
          "Europe",
          "Europe",
          "USA",
          "USA",
          "USA",
          "Asia",
          "Asia",
          "Asia",
          "Asia",
          "Asia",
          "Asia",
          "Asia",
          "Asia",
          "Asia",
          "Asia",
          "Asia",
          "Europe",
          "Europe",
          "Europe",
          "Asia",
          "Asia",
          "Asia",
          "Asia",
          "Asia",
          "Asia",
          "Asia",
          "Asia",
          "Asia",
          "Asia",
          "Asia",
          "USA",
          "USA",
          "USA",
          "USA",
          "USA",
          "USA",
          "USA",
          "USA",
          "USA",
          "Europe",
          "Europe",
          "Asia",
          "Asia",
          "Asia",
          "Asia",
          "Asia",
          "Asia",
          "Asia",
          "Asia",
          "Asia",
          "Asia",
          "Asia",
          "Europe",
          "Europe",
          "Europe",
          "Europe",
          "Europe",
          "Europe",
          "Europe",
          "Europe",
          "Europe",
          "Europe",
          "Europe",
          "Europe",
          "Europe",
          "Europe",
          "Europe",
          "Europe",
          "Europe",
          "Europe",
          "Europe",
          "Europe",
          "Europe",
          "Europe",
          "Europe",
          "Europe",
          "Europe",
          "Europe",
          "USA",
          "USA",
          "USA",
          "USA",
          "USA",
          "USA",
          "USA",
          "USA",
          "USA",
          "Asia",
          "Asia",
          "Asia",
          "Asia",
          "Asia",
          "Asia",
          "Asia",
          "Asia",
          "Asia",
          "Asia",
          "Asia",
          "Asia",
          "Asia",
          "Asia",
          "Asia",
          "Asia",
          "Asia",
          "Asia",
          "Asia",
          "Asia",
          "Asia",
          "Asia",
          "Asia",
          "Asia",
          "Asia",
          "Asia",
          "Asia",
          "Asia",
          "Asia",
          "Asia",
          "USA",
          "USA",
          "USA",
          "USA",
          "USA",
          "USA",
          "USA",
          "USA",
          "USA",
          "USA",
          "USA",
          "USA",
          "USA",
          "USA",
          "Europe",
          "Europe",
          "Europe",
          "Europe",
          "Europe",
          "Europe",
          "Europe",
          "Europe",
          "Europe",
          "Europe",
          "Europe",
          "Europe",
          "Europe",
          "Europe",
          "USA",
          "USA",
          "USA",
          "USA",
          "USA",
          "USA",
          "USA",
          "USA",
          "Asia",
          "Asia",
          "Asia",
          "Asia",
          "Asia",
          "Asia",
          "Asia",
          "Asia",
          "Asia",
          "Asia",
          "Asia",
          "Asia",
          "Asia",
          "Asia",
          "Asia",
          "Asia",
          "Asia",
          "Asia",
          "Asia",
          "Asia",
          "Asia",
          "Asia",
          "Asia",
          "Asia",
          "Asia",
          "Asia",
          "Asia",
          "Asia",
          "Asia",
          "Asia",
          "Asia",
          "Asia",
          "Asia",
          "Asia",
          "Asia",
          "Asia",
          "Asia",
          "Asia",
          "Asia",
          "Asia",
          "Asia",
          "Asia",
          "Asia",
          "Asia",
          "Asia",
          "Asia",
          "Asia",
          "Asia",
          "Asia",
          "Europe",
          "Europe",
          "Europe",
          "Europe",
          "Europe",
          "Europe",
          "Europe",
          "Europe",
          "Europe",
          "Europe",
          "Europe",
          "Europe",
          "Europe",
          "Europe",
          "Europe",
          "Europe",
          "Europe",
          "Europe",
          "Europe",
          "Europe",
          "Europe",
          "Europe",
          "Europe",
          "Europe",
          "Europe",
          "Europe",
          "Europe"
         ],
         "x0": " ",
         "xaxis": "x",
         "y": [
          17,
          24,
          22,
          20,
          18,
          18,
          17,
          22,
          23,
          20,
          17,
          18,
          20,
          18,
          20,
          18,
          18,
          17,
          17,
          14,
          15,
          20,
          20,
          21,
          18,
          15,
          16,
          16,
          20,
          20,
          19,
          19,
          20,
          20,
          20,
          19,
          19,
          20,
          18,
          18,
          18,
          16,
          16,
          20,
          21,
          19,
          15,
          19,
          20,
          20,
          20,
          18,
          20,
          20,
          18,
          14,
          16,
          18,
          18,
          18,
          18,
          17,
          13,
          14,
          14,
          16,
          19,
          28,
          28,
          26,
          26,
          26,
          21,
          24,
          22,
          21,
          20,
          18,
          23,
          18,
          14,
          19,
          18,
          18,
          14,
          18,
          15,
          13,
          16,
          22,
          22,
          22,
          22,
          21,
          18,
          21,
          19,
          21,
          22,
          18,
          21,
          19,
          18,
          17,
          17,
          15,
          29,
          29,
          21,
          21,
          21,
          18,
          20,
          18,
          12,
          16,
          16,
          16,
          10,
          15,
          15,
          18,
          26,
          27,
          26,
          26,
          21,
          20,
          19,
          17,
          17,
          17,
          17,
          20,
          17,
          17,
          15,
          14,
          24,
          26,
          19,
          15,
          16,
          13,
          16,
          18,
          17,
          13,
          15,
          46,
          60,
          17,
          21,
          21,
          32,
          36,
          32,
          26,
          26,
          32,
          26,
          21,
          21,
          18,
          18,
          20,
          10,
          20,
          29,
          29,
          29,
          26,
          26,
          26,
          19,
          19,
          17,
          17,
          19,
          18,
          18,
          18,
          19,
          17,
          17,
          16,
          15,
          15,
          17,
          18,
          18,
          18,
          18,
          17,
          18,
          18,
          17,
          18,
          18,
          16,
          16,
          16,
          20,
          16,
          16,
          23,
          26,
          25,
          24,
          24,
          24,
          20,
          17,
          16,
          26,
          12,
          12,
          18,
          15,
          13,
          18,
          20,
          18,
          18,
          18,
          18,
          18,
          18,
          18,
          13,
          13,
          20,
          20,
          17,
          17,
          17,
          17,
          17,
          28,
          25,
          22,
          26,
          25,
          24,
          18,
          23,
          23,
          18,
          18,
          24,
          15,
          13,
          14,
          22,
          19,
          20,
          19,
          19,
          20,
          19,
          16,
          16,
          13,
          20,
          17,
          19,
          16,
          18,
          16,
          16,
          14,
          13,
          21,
          17,
          19,
          19,
          16,
          16,
          20,
          17,
          17,
          19,
          17,
          17,
          16,
          19,
          17,
          15,
          21,
          25,
          25,
          23,
          25,
          18,
          18,
          21,
          21,
          18,
          25,
          13,
          16,
          17,
          28,
          28,
          21,
          23,
          21,
          20,
          20,
          19,
          18,
          20,
          20,
          17,
          14,
          20,
          24,
          20,
          19,
          19,
          24,
          20,
          20,
          24,
          20,
          17,
          19,
          18,
          16,
          29,
          14,
          18,
          17,
          18,
          17,
          20,
          18,
          20,
          20,
          21,
          21,
          21,
          21,
          19,
          21,
          26,
          26,
          26,
          26,
          26,
          20,
          24,
          32,
          31,
          22,
          21,
          21,
          20,
          19,
          19,
          20,
          18,
          21,
          21,
          21,
          18,
          19,
          25,
          25,
          24,
          22,
          20,
          24,
          59,
          14,
          18,
          18,
          13,
          22,
          32,
          32,
          32,
          35,
          33,
          35,
          24,
          21,
          24,
          20,
          21,
          21,
          20,
          21,
          19,
          19,
          24,
          26,
          22,
          16,
          14,
          29,
          15,
          24,
          24,
          38,
          24,
          21,
          24,
          22,
          19,
          18,
          16,
          12,
          24,
          22,
          18,
          15,
          22,
          20,
          20,
          18,
          20,
          20,
          21,
          20,
          19,
          22,
          20
         ],
         "y0": " ",
         "yaxis": "y"
        }
       ],
       "layout": {
        "boxmode": "group",
        "legend": {
         "tracegroupgap": 0
        },
        "margin": {
         "t": 60
        },
        "template": {
         "data": {
          "bar": [
           {
            "error_x": {
             "color": "#2a3f5f"
            },
            "error_y": {
             "color": "#2a3f5f"
            },
            "marker": {
             "line": {
              "color": "#E5ECF6",
              "width": 0.5
             },
             "pattern": {
              "fillmode": "overlay",
              "size": 10,
              "solidity": 0.2
             }
            },
            "type": "bar"
           }
          ],
          "barpolar": [
           {
            "marker": {
             "line": {
              "color": "#E5ECF6",
              "width": 0.5
             },
             "pattern": {
              "fillmode": "overlay",
              "size": 10,
              "solidity": 0.2
             }
            },
            "type": "barpolar"
           }
          ],
          "carpet": [
           {
            "aaxis": {
             "endlinecolor": "#2a3f5f",
             "gridcolor": "white",
             "linecolor": "white",
             "minorgridcolor": "white",
             "startlinecolor": "#2a3f5f"
            },
            "baxis": {
             "endlinecolor": "#2a3f5f",
             "gridcolor": "white",
             "linecolor": "white",
             "minorgridcolor": "white",
             "startlinecolor": "#2a3f5f"
            },
            "type": "carpet"
           }
          ],
          "choropleth": [
           {
            "colorbar": {
             "outlinewidth": 0,
             "ticks": ""
            },
            "type": "choropleth"
           }
          ],
          "contour": [
           {
            "colorbar": {
             "outlinewidth": 0,
             "ticks": ""
            },
            "colorscale": [
             [
              0,
              "#0d0887"
             ],
             [
              0.1111111111111111,
              "#46039f"
             ],
             [
              0.2222222222222222,
              "#7201a8"
             ],
             [
              0.3333333333333333,
              "#9c179e"
             ],
             [
              0.4444444444444444,
              "#bd3786"
             ],
             [
              0.5555555555555556,
              "#d8576b"
             ],
             [
              0.6666666666666666,
              "#ed7953"
             ],
             [
              0.7777777777777778,
              "#fb9f3a"
             ],
             [
              0.8888888888888888,
              "#fdca26"
             ],
             [
              1,
              "#f0f921"
             ]
            ],
            "type": "contour"
           }
          ],
          "contourcarpet": [
           {
            "colorbar": {
             "outlinewidth": 0,
             "ticks": ""
            },
            "type": "contourcarpet"
           }
          ],
          "heatmap": [
           {
            "colorbar": {
             "outlinewidth": 0,
             "ticks": ""
            },
            "colorscale": [
             [
              0,
              "#0d0887"
             ],
             [
              0.1111111111111111,
              "#46039f"
             ],
             [
              0.2222222222222222,
              "#7201a8"
             ],
             [
              0.3333333333333333,
              "#9c179e"
             ],
             [
              0.4444444444444444,
              "#bd3786"
             ],
             [
              0.5555555555555556,
              "#d8576b"
             ],
             [
              0.6666666666666666,
              "#ed7953"
             ],
             [
              0.7777777777777778,
              "#fb9f3a"
             ],
             [
              0.8888888888888888,
              "#fdca26"
             ],
             [
              1,
              "#f0f921"
             ]
            ],
            "type": "heatmap"
           }
          ],
          "heatmapgl": [
           {
            "colorbar": {
             "outlinewidth": 0,
             "ticks": ""
            },
            "colorscale": [
             [
              0,
              "#0d0887"
             ],
             [
              0.1111111111111111,
              "#46039f"
             ],
             [
              0.2222222222222222,
              "#7201a8"
             ],
             [
              0.3333333333333333,
              "#9c179e"
             ],
             [
              0.4444444444444444,
              "#bd3786"
             ],
             [
              0.5555555555555556,
              "#d8576b"
             ],
             [
              0.6666666666666666,
              "#ed7953"
             ],
             [
              0.7777777777777778,
              "#fb9f3a"
             ],
             [
              0.8888888888888888,
              "#fdca26"
             ],
             [
              1,
              "#f0f921"
             ]
            ],
            "type": "heatmapgl"
           }
          ],
          "histogram": [
           {
            "marker": {
             "pattern": {
              "fillmode": "overlay",
              "size": 10,
              "solidity": 0.2
             }
            },
            "type": "histogram"
           }
          ],
          "histogram2d": [
           {
            "colorbar": {
             "outlinewidth": 0,
             "ticks": ""
            },
            "colorscale": [
             [
              0,
              "#0d0887"
             ],
             [
              0.1111111111111111,
              "#46039f"
             ],
             [
              0.2222222222222222,
              "#7201a8"
             ],
             [
              0.3333333333333333,
              "#9c179e"
             ],
             [
              0.4444444444444444,
              "#bd3786"
             ],
             [
              0.5555555555555556,
              "#d8576b"
             ],
             [
              0.6666666666666666,
              "#ed7953"
             ],
             [
              0.7777777777777778,
              "#fb9f3a"
             ],
             [
              0.8888888888888888,
              "#fdca26"
             ],
             [
              1,
              "#f0f921"
             ]
            ],
            "type": "histogram2d"
           }
          ],
          "histogram2dcontour": [
           {
            "colorbar": {
             "outlinewidth": 0,
             "ticks": ""
            },
            "colorscale": [
             [
              0,
              "#0d0887"
             ],
             [
              0.1111111111111111,
              "#46039f"
             ],
             [
              0.2222222222222222,
              "#7201a8"
             ],
             [
              0.3333333333333333,
              "#9c179e"
             ],
             [
              0.4444444444444444,
              "#bd3786"
             ],
             [
              0.5555555555555556,
              "#d8576b"
             ],
             [
              0.6666666666666666,
              "#ed7953"
             ],
             [
              0.7777777777777778,
              "#fb9f3a"
             ],
             [
              0.8888888888888888,
              "#fdca26"
             ],
             [
              1,
              "#f0f921"
             ]
            ],
            "type": "histogram2dcontour"
           }
          ],
          "mesh3d": [
           {
            "colorbar": {
             "outlinewidth": 0,
             "ticks": ""
            },
            "type": "mesh3d"
           }
          ],
          "parcoords": [
           {
            "line": {
             "colorbar": {
              "outlinewidth": 0,
              "ticks": ""
             }
            },
            "type": "parcoords"
           }
          ],
          "pie": [
           {
            "automargin": true,
            "type": "pie"
           }
          ],
          "scatter": [
           {
            "fillpattern": {
             "fillmode": "overlay",
             "size": 10,
             "solidity": 0.2
            },
            "type": "scatter"
           }
          ],
          "scatter3d": [
           {
            "line": {
             "colorbar": {
              "outlinewidth": 0,
              "ticks": ""
             }
            },
            "marker": {
             "colorbar": {
              "outlinewidth": 0,
              "ticks": ""
             }
            },
            "type": "scatter3d"
           }
          ],
          "scattercarpet": [
           {
            "marker": {
             "colorbar": {
              "outlinewidth": 0,
              "ticks": ""
             }
            },
            "type": "scattercarpet"
           }
          ],
          "scattergeo": [
           {
            "marker": {
             "colorbar": {
              "outlinewidth": 0,
              "ticks": ""
             }
            },
            "type": "scattergeo"
           }
          ],
          "scattergl": [
           {
            "marker": {
             "colorbar": {
              "outlinewidth": 0,
              "ticks": ""
             }
            },
            "type": "scattergl"
           }
          ],
          "scattermapbox": [
           {
            "marker": {
             "colorbar": {
              "outlinewidth": 0,
              "ticks": ""
             }
            },
            "type": "scattermapbox"
           }
          ],
          "scatterpolar": [
           {
            "marker": {
             "colorbar": {
              "outlinewidth": 0,
              "ticks": ""
             }
            },
            "type": "scatterpolar"
           }
          ],
          "scatterpolargl": [
           {
            "marker": {
             "colorbar": {
              "outlinewidth": 0,
              "ticks": ""
             }
            },
            "type": "scatterpolargl"
           }
          ],
          "scatterternary": [
           {
            "marker": {
             "colorbar": {
              "outlinewidth": 0,
              "ticks": ""
             }
            },
            "type": "scatterternary"
           }
          ],
          "surface": [
           {
            "colorbar": {
             "outlinewidth": 0,
             "ticks": ""
            },
            "colorscale": [
             [
              0,
              "#0d0887"
             ],
             [
              0.1111111111111111,
              "#46039f"
             ],
             [
              0.2222222222222222,
              "#7201a8"
             ],
             [
              0.3333333333333333,
              "#9c179e"
             ],
             [
              0.4444444444444444,
              "#bd3786"
             ],
             [
              0.5555555555555556,
              "#d8576b"
             ],
             [
              0.6666666666666666,
              "#ed7953"
             ],
             [
              0.7777777777777778,
              "#fb9f3a"
             ],
             [
              0.8888888888888888,
              "#fdca26"
             ],
             [
              1,
              "#f0f921"
             ]
            ],
            "type": "surface"
           }
          ],
          "table": [
           {
            "cells": {
             "fill": {
              "color": "#EBF0F8"
             },
             "line": {
              "color": "white"
             }
            },
            "header": {
             "fill": {
              "color": "#C8D4E3"
             },
             "line": {
              "color": "white"
             }
            },
            "type": "table"
           }
          ]
         },
         "layout": {
          "annotationdefaults": {
           "arrowcolor": "#2a3f5f",
           "arrowhead": 0,
           "arrowwidth": 1
          },
          "autotypenumbers": "strict",
          "coloraxis": {
           "colorbar": {
            "outlinewidth": 0,
            "ticks": ""
           }
          },
          "colorscale": {
           "diverging": [
            [
             0,
             "#8e0152"
            ],
            [
             0.1,
             "#c51b7d"
            ],
            [
             0.2,
             "#de77ae"
            ],
            [
             0.3,
             "#f1b6da"
            ],
            [
             0.4,
             "#fde0ef"
            ],
            [
             0.5,
             "#f7f7f7"
            ],
            [
             0.6,
             "#e6f5d0"
            ],
            [
             0.7,
             "#b8e186"
            ],
            [
             0.8,
             "#7fbc41"
            ],
            [
             0.9,
             "#4d9221"
            ],
            [
             1,
             "#276419"
            ]
           ],
           "sequential": [
            [
             0,
             "#0d0887"
            ],
            [
             0.1111111111111111,
             "#46039f"
            ],
            [
             0.2222222222222222,
             "#7201a8"
            ],
            [
             0.3333333333333333,
             "#9c179e"
            ],
            [
             0.4444444444444444,
             "#bd3786"
            ],
            [
             0.5555555555555556,
             "#d8576b"
            ],
            [
             0.6666666666666666,
             "#ed7953"
            ],
            [
             0.7777777777777778,
             "#fb9f3a"
            ],
            [
             0.8888888888888888,
             "#fdca26"
            ],
            [
             1,
             "#f0f921"
            ]
           ],
           "sequentialminus": [
            [
             0,
             "#0d0887"
            ],
            [
             0.1111111111111111,
             "#46039f"
            ],
            [
             0.2222222222222222,
             "#7201a8"
            ],
            [
             0.3333333333333333,
             "#9c179e"
            ],
            [
             0.4444444444444444,
             "#bd3786"
            ],
            [
             0.5555555555555556,
             "#d8576b"
            ],
            [
             0.6666666666666666,
             "#ed7953"
            ],
            [
             0.7777777777777778,
             "#fb9f3a"
            ],
            [
             0.8888888888888888,
             "#fdca26"
            ],
            [
             1,
             "#f0f921"
            ]
           ]
          },
          "colorway": [
           "#636efa",
           "#EF553B",
           "#00cc96",
           "#ab63fa",
           "#FFA15A",
           "#19d3f3",
           "#FF6692",
           "#B6E880",
           "#FF97FF",
           "#FECB52"
          ],
          "font": {
           "color": "#2a3f5f"
          },
          "geo": {
           "bgcolor": "white",
           "lakecolor": "white",
           "landcolor": "#E5ECF6",
           "showlakes": true,
           "showland": true,
           "subunitcolor": "white"
          },
          "hoverlabel": {
           "align": "left"
          },
          "hovermode": "closest",
          "mapbox": {
           "style": "light"
          },
          "paper_bgcolor": "white",
          "plot_bgcolor": "#E5ECF6",
          "polar": {
           "angularaxis": {
            "gridcolor": "white",
            "linecolor": "white",
            "ticks": ""
           },
           "bgcolor": "#E5ECF6",
           "radialaxis": {
            "gridcolor": "white",
            "linecolor": "white",
            "ticks": ""
           }
          },
          "scene": {
           "xaxis": {
            "backgroundcolor": "#E5ECF6",
            "gridcolor": "white",
            "gridwidth": 2,
            "linecolor": "white",
            "showbackground": true,
            "ticks": "",
            "zerolinecolor": "white"
           },
           "yaxis": {
            "backgroundcolor": "#E5ECF6",
            "gridcolor": "white",
            "gridwidth": 2,
            "linecolor": "white",
            "showbackground": true,
            "ticks": "",
            "zerolinecolor": "white"
           },
           "zaxis": {
            "backgroundcolor": "#E5ECF6",
            "gridcolor": "white",
            "gridwidth": 2,
            "linecolor": "white",
            "showbackground": true,
            "ticks": "",
            "zerolinecolor": "white"
           }
          },
          "shapedefaults": {
           "line": {
            "color": "#2a3f5f"
           }
          },
          "ternary": {
           "aaxis": {
            "gridcolor": "white",
            "linecolor": "white",
            "ticks": ""
           },
           "baxis": {
            "gridcolor": "white",
            "linecolor": "white",
            "ticks": ""
           },
           "bgcolor": "#E5ECF6",
           "caxis": {
            "gridcolor": "white",
            "linecolor": "white",
            "ticks": ""
           }
          },
          "title": {
           "x": 0.05
          },
          "xaxis": {
           "automargin": true,
           "gridcolor": "white",
           "linecolor": "white",
           "ticks": "",
           "title": {
            "standoff": 15
           },
           "zerolinecolor": "white",
           "zerolinewidth": 2
          },
          "yaxis": {
           "automargin": true,
           "gridcolor": "white",
           "linecolor": "white",
           "ticks": "",
           "title": {
            "standoff": 15
           },
           "zerolinecolor": "white",
           "zerolinewidth": 2
          }
         }
        },
        "xaxis": {
         "anchor": "y",
         "domain": [
          0,
          1
         ],
         "title": {
          "text": "Origin"
         }
        },
        "yaxis": {
         "anchor": "x",
         "domain": [
          0,
          1
         ],
         "title": {
          "text": "MPG_City"
         }
        }
       }
      },
      "text/html": [
       "<div>                            <div id=\"f824c740-6262-48ff-98ee-21bc65d64098\" class=\"plotly-graph-div\" style=\"height:525px; width:100%;\"></div>            <script type=\"text/javascript\">                require([\"plotly\"], function(Plotly) {                    window.PLOTLYENV=window.PLOTLYENV || {};                                    if (document.getElementById(\"f824c740-6262-48ff-98ee-21bc65d64098\")) {                    Plotly.newPlot(                        \"f824c740-6262-48ff-98ee-21bc65d64098\",                        [{\"alignmentgroup\":\"True\",\"hovertemplate\":\"Origin=%{x}<br>MPG_City=%{y}<extra></extra>\",\"legendgroup\":\"\",\"marker\":{\"color\":\"#636efa\"},\"name\":\"\",\"notched\":false,\"offsetgroup\":\"\",\"orientation\":\"v\",\"showlegend\":false,\"x\":[\"Asia\",\"Asia\",\"Asia\",\"Asia\",\"Asia\",\"Asia\",\"Asia\",\"Europe\",\"Europe\",\"Europe\",\"Europe\",\"Europe\",\"Europe\",\"Europe\",\"Europe\",\"Europe\",\"Europe\",\"Europe\",\"Europe\",\"Europe\",\"Europe\",\"Europe\",\"Europe\",\"Europe\",\"Europe\",\"Europe\",\"Europe\",\"Europe\",\"Europe\",\"Europe\",\"Europe\",\"Europe\",\"Europe\",\"Europe\",\"Europe\",\"Europe\",\"Europe\",\"Europe\",\"Europe\",\"Europe\",\"Europe\",\"Europe\",\"Europe\",\"Europe\",\"Europe\",\"Europe\",\"USA\",\"USA\",\"USA\",\"USA\",\"USA\",\"USA\",\"USA\",\"USA\",\"USA\",\"USA\",\"USA\",\"USA\",\"USA\",\"USA\",\"USA\",\"USA\",\"USA\",\"USA\",\"USA\",\"USA\",\"USA\",\"USA\",\"USA\",\"USA\",\"USA\",\"USA\",\"USA\",\"USA\",\"USA\",\"USA\",\"USA\",\"USA\",\"USA\",\"USA\",\"USA\",\"USA\",\"USA\",\"USA\",\"USA\",\"USA\",\"USA\",\"USA\",\"USA\",\"USA\",\"USA\",\"USA\",\"USA\",\"USA\",\"USA\",\"USA\",\"USA\",\"USA\",\"USA\",\"USA\",\"USA\",\"USA\",\"USA\",\"USA\",\"USA\",\"USA\",\"USA\",\"USA\",\"USA\",\"USA\",\"USA\",\"USA\",\"USA\",\"USA\",\"USA\",\"USA\",\"USA\",\"USA\",\"USA\",\"USA\",\"USA\",\"USA\",\"USA\",\"USA\",\"USA\",\"USA\",\"USA\",\"USA\",\"USA\",\"USA\",\"USA\",\"USA\",\"USA\",\"USA\",\"USA\",\"USA\",\"USA\",\"USA\",\"USA\",\"USA\",\"USA\",\"USA\",\"USA\",\"USA\",\"USA\",\"USA\",\"USA\",\"USA\",\"USA\",\"Asia\",\"Asia\",\"Asia\",\"Asia\",\"Asia\",\"Asia\",\"Asia\",\"Asia\",\"Asia\",\"Asia\",\"Asia\",\"Asia\",\"Asia\",\"Asia\",\"Asia\",\"Asia\",\"Asia\",\"USA\",\"Asia\",\"Asia\",\"Asia\",\"Asia\",\"Asia\",\"Asia\",\"Asia\",\"Asia\",\"Asia\",\"Asia\",\"Asia\",\"Asia\",\"Asia\",\"Asia\",\"Asia\",\"Asia\",\"Asia\",\"Asia\",\"Asia\",\"Asia\",\"Asia\",\"Asia\",\"Europe\",\"Europe\",\"Europe\",\"Europe\",\"Europe\",\"Europe\",\"Europe\",\"Europe\",\"Europe\",\"Europe\",\"Europe\",\"Europe\",\"USA\",\"USA\",\"USA\",\"Asia\",\"Asia\",\"Asia\",\"Asia\",\"Asia\",\"Asia\",\"Asia\",\"Asia\",\"Asia\",\"Asia\",\"Asia\",\"Europe\",\"Europe\",\"Europe\",\"Asia\",\"Asia\",\"Asia\",\"Asia\",\"Asia\",\"Asia\",\"Asia\",\"Asia\",\"Asia\",\"Asia\",\"Asia\",\"USA\",\"USA\",\"USA\",\"USA\",\"USA\",\"USA\",\"USA\",\"USA\",\"USA\",\"Europe\",\"Europe\",\"Asia\",\"Asia\",\"Asia\",\"Asia\",\"Asia\",\"Asia\",\"Asia\",\"Asia\",\"Asia\",\"Asia\",\"Asia\",\"Europe\",\"Europe\",\"Europe\",\"Europe\",\"Europe\",\"Europe\",\"Europe\",\"Europe\",\"Europe\",\"Europe\",\"Europe\",\"Europe\",\"Europe\",\"Europe\",\"Europe\",\"Europe\",\"Europe\",\"Europe\",\"Europe\",\"Europe\",\"Europe\",\"Europe\",\"Europe\",\"Europe\",\"Europe\",\"Europe\",\"USA\",\"USA\",\"USA\",\"USA\",\"USA\",\"USA\",\"USA\",\"USA\",\"USA\",\"Asia\",\"Asia\",\"Asia\",\"Asia\",\"Asia\",\"Asia\",\"Asia\",\"Asia\",\"Asia\",\"Asia\",\"Asia\",\"Asia\",\"Asia\",\"Asia\",\"Asia\",\"Asia\",\"Asia\",\"Asia\",\"Asia\",\"Asia\",\"Asia\",\"Asia\",\"Asia\",\"Asia\",\"Asia\",\"Asia\",\"Asia\",\"Asia\",\"Asia\",\"Asia\",\"USA\",\"USA\",\"USA\",\"USA\",\"USA\",\"USA\",\"USA\",\"USA\",\"USA\",\"USA\",\"USA\",\"USA\",\"USA\",\"USA\",\"Europe\",\"Europe\",\"Europe\",\"Europe\",\"Europe\",\"Europe\",\"Europe\",\"Europe\",\"Europe\",\"Europe\",\"Europe\",\"Europe\",\"Europe\",\"Europe\",\"USA\",\"USA\",\"USA\",\"USA\",\"USA\",\"USA\",\"USA\",\"USA\",\"Asia\",\"Asia\",\"Asia\",\"Asia\",\"Asia\",\"Asia\",\"Asia\",\"Asia\",\"Asia\",\"Asia\",\"Asia\",\"Asia\",\"Asia\",\"Asia\",\"Asia\",\"Asia\",\"Asia\",\"Asia\",\"Asia\",\"Asia\",\"Asia\",\"Asia\",\"Asia\",\"Asia\",\"Asia\",\"Asia\",\"Asia\",\"Asia\",\"Asia\",\"Asia\",\"Asia\",\"Asia\",\"Asia\",\"Asia\",\"Asia\",\"Asia\",\"Asia\",\"Asia\",\"Asia\",\"Asia\",\"Asia\",\"Asia\",\"Asia\",\"Asia\",\"Asia\",\"Asia\",\"Asia\",\"Asia\",\"Asia\",\"Europe\",\"Europe\",\"Europe\",\"Europe\",\"Europe\",\"Europe\",\"Europe\",\"Europe\",\"Europe\",\"Europe\",\"Europe\",\"Europe\",\"Europe\",\"Europe\",\"Europe\",\"Europe\",\"Europe\",\"Europe\",\"Europe\",\"Europe\",\"Europe\",\"Europe\",\"Europe\",\"Europe\",\"Europe\",\"Europe\",\"Europe\"],\"x0\":\" \",\"xaxis\":\"x\",\"y\":[17,24,22,20,18,18,17,22,23,20,17,18,20,18,20,18,18,17,17,14,15,20,20,21,18,15,16,16,20,20,19,19,20,20,20,19,19,20,18,18,18,16,16,20,21,19,15,19,20,20,20,18,20,20,18,14,16,18,18,18,18,17,13,14,14,16,19,28,28,26,26,26,21,24,22,21,20,18,23,18,14,19,18,18,14,18,15,13,16,22,22,22,22,21,18,21,19,21,22,18,21,19,18,17,17,15,29,29,21,21,21,18,20,18,12,16,16,16,10,15,15,18,26,27,26,26,21,20,19,17,17,17,17,20,17,17,15,14,24,26,19,15,16,13,16,18,17,13,15,46,60,17,21,21,32,36,32,26,26,32,26,21,21,18,18,20,10,20,29,29,29,26,26,26,19,19,17,17,19,18,18,18,19,17,17,16,15,15,17,18,18,18,18,17,18,18,17,18,18,16,16,16,20,16,16,23,26,25,24,24,24,20,17,16,26,12,12,18,15,13,18,20,18,18,18,18,18,18,18,13,13,20,20,17,17,17,17,17,28,25,22,26,25,24,18,23,23,18,18,24,15,13,14,22,19,20,19,19,20,19,16,16,13,20,17,19,16,18,16,16,14,13,21,17,19,19,16,16,20,17,17,19,17,17,16,19,17,15,21,25,25,23,25,18,18,21,21,18,25,13,16,17,28,28,21,23,21,20,20,19,18,20,20,17,14,20,24,20,19,19,24,20,20,24,20,17,19,18,16,29,14,18,17,18,17,20,18,20,20,21,21,21,21,19,21,26,26,26,26,26,20,24,32,31,22,21,21,20,19,19,20,18,21,21,21,18,19,25,25,24,22,20,24,59,14,18,18,13,22,32,32,32,35,33,35,24,21,24,20,21,21,20,21,19,19,24,26,22,16,14,29,15,24,24,38,24,21,24,22,19,18,16,12,24,22,18,15,22,20,20,18,20,20,21,20,19,22,20],\"y0\":\" \",\"yaxis\":\"y\",\"type\":\"box\"}],                        {\"template\":{\"data\":{\"histogram2dcontour\":[{\"type\":\"histogram2dcontour\",\"colorbar\":{\"outlinewidth\":0,\"ticks\":\"\"},\"colorscale\":[[0.0,\"#0d0887\"],[0.1111111111111111,\"#46039f\"],[0.2222222222222222,\"#7201a8\"],[0.3333333333333333,\"#9c179e\"],[0.4444444444444444,\"#bd3786\"],[0.5555555555555556,\"#d8576b\"],[0.6666666666666666,\"#ed7953\"],[0.7777777777777778,\"#fb9f3a\"],[0.8888888888888888,\"#fdca26\"],[1.0,\"#f0f921\"]]}],\"choropleth\":[{\"type\":\"choropleth\",\"colorbar\":{\"outlinewidth\":0,\"ticks\":\"\"}}],\"histogram2d\":[{\"type\":\"histogram2d\",\"colorbar\":{\"outlinewidth\":0,\"ticks\":\"\"},\"colorscale\":[[0.0,\"#0d0887\"],[0.1111111111111111,\"#46039f\"],[0.2222222222222222,\"#7201a8\"],[0.3333333333333333,\"#9c179e\"],[0.4444444444444444,\"#bd3786\"],[0.5555555555555556,\"#d8576b\"],[0.6666666666666666,\"#ed7953\"],[0.7777777777777778,\"#fb9f3a\"],[0.8888888888888888,\"#fdca26\"],[1.0,\"#f0f921\"]]}],\"heatmap\":[{\"type\":\"heatmap\",\"colorbar\":{\"outlinewidth\":0,\"ticks\":\"\"},\"colorscale\":[[0.0,\"#0d0887\"],[0.1111111111111111,\"#46039f\"],[0.2222222222222222,\"#7201a8\"],[0.3333333333333333,\"#9c179e\"],[0.4444444444444444,\"#bd3786\"],[0.5555555555555556,\"#d8576b\"],[0.6666666666666666,\"#ed7953\"],[0.7777777777777778,\"#fb9f3a\"],[0.8888888888888888,\"#fdca26\"],[1.0,\"#f0f921\"]]}],\"heatmapgl\":[{\"type\":\"heatmapgl\",\"colorbar\":{\"outlinewidth\":0,\"ticks\":\"\"},\"colorscale\":[[0.0,\"#0d0887\"],[0.1111111111111111,\"#46039f\"],[0.2222222222222222,\"#7201a8\"],[0.3333333333333333,\"#9c179e\"],[0.4444444444444444,\"#bd3786\"],[0.5555555555555556,\"#d8576b\"],[0.6666666666666666,\"#ed7953\"],[0.7777777777777778,\"#fb9f3a\"],[0.8888888888888888,\"#fdca26\"],[1.0,\"#f0f921\"]]}],\"contourcarpet\":[{\"type\":\"contourcarpet\",\"colorbar\":{\"outlinewidth\":0,\"ticks\":\"\"}}],\"contour\":[{\"type\":\"contour\",\"colorbar\":{\"outlinewidth\":0,\"ticks\":\"\"},\"colorscale\":[[0.0,\"#0d0887\"],[0.1111111111111111,\"#46039f\"],[0.2222222222222222,\"#7201a8\"],[0.3333333333333333,\"#9c179e\"],[0.4444444444444444,\"#bd3786\"],[0.5555555555555556,\"#d8576b\"],[0.6666666666666666,\"#ed7953\"],[0.7777777777777778,\"#fb9f3a\"],[0.8888888888888888,\"#fdca26\"],[1.0,\"#f0f921\"]]}],\"surface\":[{\"type\":\"surface\",\"colorbar\":{\"outlinewidth\":0,\"ticks\":\"\"},\"colorscale\":[[0.0,\"#0d0887\"],[0.1111111111111111,\"#46039f\"],[0.2222222222222222,\"#7201a8\"],[0.3333333333333333,\"#9c179e\"],[0.4444444444444444,\"#bd3786\"],[0.5555555555555556,\"#d8576b\"],[0.6666666666666666,\"#ed7953\"],[0.7777777777777778,\"#fb9f3a\"],[0.8888888888888888,\"#fdca26\"],[1.0,\"#f0f921\"]]}],\"mesh3d\":[{\"type\":\"mesh3d\",\"colorbar\":{\"outlinewidth\":0,\"ticks\":\"\"}}],\"scatter\":[{\"fillpattern\":{\"fillmode\":\"overlay\",\"size\":10,\"solidity\":0.2},\"type\":\"scatter\"}],\"parcoords\":[{\"type\":\"parcoords\",\"line\":{\"colorbar\":{\"outlinewidth\":0,\"ticks\":\"\"}}}],\"scatterpolargl\":[{\"type\":\"scatterpolargl\",\"marker\":{\"colorbar\":{\"outlinewidth\":0,\"ticks\":\"\"}}}],\"bar\":[{\"error_x\":{\"color\":\"#2a3f5f\"},\"error_y\":{\"color\":\"#2a3f5f\"},\"marker\":{\"line\":{\"color\":\"#E5ECF6\",\"width\":0.5},\"pattern\":{\"fillmode\":\"overlay\",\"size\":10,\"solidity\":0.2}},\"type\":\"bar\"}],\"scattergeo\":[{\"type\":\"scattergeo\",\"marker\":{\"colorbar\":{\"outlinewidth\":0,\"ticks\":\"\"}}}],\"scatterpolar\":[{\"type\":\"scatterpolar\",\"marker\":{\"colorbar\":{\"outlinewidth\":0,\"ticks\":\"\"}}}],\"histogram\":[{\"marker\":{\"pattern\":{\"fillmode\":\"overlay\",\"size\":10,\"solidity\":0.2}},\"type\":\"histogram\"}],\"scattergl\":[{\"type\":\"scattergl\",\"marker\":{\"colorbar\":{\"outlinewidth\":0,\"ticks\":\"\"}}}],\"scatter3d\":[{\"type\":\"scatter3d\",\"line\":{\"colorbar\":{\"outlinewidth\":0,\"ticks\":\"\"}},\"marker\":{\"colorbar\":{\"outlinewidth\":0,\"ticks\":\"\"}}}],\"scattermapbox\":[{\"type\":\"scattermapbox\",\"marker\":{\"colorbar\":{\"outlinewidth\":0,\"ticks\":\"\"}}}],\"scatterternary\":[{\"type\":\"scatterternary\",\"marker\":{\"colorbar\":{\"outlinewidth\":0,\"ticks\":\"\"}}}],\"scattercarpet\":[{\"type\":\"scattercarpet\",\"marker\":{\"colorbar\":{\"outlinewidth\":0,\"ticks\":\"\"}}}],\"carpet\":[{\"aaxis\":{\"endlinecolor\":\"#2a3f5f\",\"gridcolor\":\"white\",\"linecolor\":\"white\",\"minorgridcolor\":\"white\",\"startlinecolor\":\"#2a3f5f\"},\"baxis\":{\"endlinecolor\":\"#2a3f5f\",\"gridcolor\":\"white\",\"linecolor\":\"white\",\"minorgridcolor\":\"white\",\"startlinecolor\":\"#2a3f5f\"},\"type\":\"carpet\"}],\"table\":[{\"cells\":{\"fill\":{\"color\":\"#EBF0F8\"},\"line\":{\"color\":\"white\"}},\"header\":{\"fill\":{\"color\":\"#C8D4E3\"},\"line\":{\"color\":\"white\"}},\"type\":\"table\"}],\"barpolar\":[{\"marker\":{\"line\":{\"color\":\"#E5ECF6\",\"width\":0.5},\"pattern\":{\"fillmode\":\"overlay\",\"size\":10,\"solidity\":0.2}},\"type\":\"barpolar\"}],\"pie\":[{\"automargin\":true,\"type\":\"pie\"}]},\"layout\":{\"autotypenumbers\":\"strict\",\"colorway\":[\"#636efa\",\"#EF553B\",\"#00cc96\",\"#ab63fa\",\"#FFA15A\",\"#19d3f3\",\"#FF6692\",\"#B6E880\",\"#FF97FF\",\"#FECB52\"],\"font\":{\"color\":\"#2a3f5f\"},\"hovermode\":\"closest\",\"hoverlabel\":{\"align\":\"left\"},\"paper_bgcolor\":\"white\",\"plot_bgcolor\":\"#E5ECF6\",\"polar\":{\"bgcolor\":\"#E5ECF6\",\"angularaxis\":{\"gridcolor\":\"white\",\"linecolor\":\"white\",\"ticks\":\"\"},\"radialaxis\":{\"gridcolor\":\"white\",\"linecolor\":\"white\",\"ticks\":\"\"}},\"ternary\":{\"bgcolor\":\"#E5ECF6\",\"aaxis\":{\"gridcolor\":\"white\",\"linecolor\":\"white\",\"ticks\":\"\"},\"baxis\":{\"gridcolor\":\"white\",\"linecolor\":\"white\",\"ticks\":\"\"},\"caxis\":{\"gridcolor\":\"white\",\"linecolor\":\"white\",\"ticks\":\"\"}},\"coloraxis\":{\"colorbar\":{\"outlinewidth\":0,\"ticks\":\"\"}},\"colorscale\":{\"sequential\":[[0.0,\"#0d0887\"],[0.1111111111111111,\"#46039f\"],[0.2222222222222222,\"#7201a8\"],[0.3333333333333333,\"#9c179e\"],[0.4444444444444444,\"#bd3786\"],[0.5555555555555556,\"#d8576b\"],[0.6666666666666666,\"#ed7953\"],[0.7777777777777778,\"#fb9f3a\"],[0.8888888888888888,\"#fdca26\"],[1.0,\"#f0f921\"]],\"sequentialminus\":[[0.0,\"#0d0887\"],[0.1111111111111111,\"#46039f\"],[0.2222222222222222,\"#7201a8\"],[0.3333333333333333,\"#9c179e\"],[0.4444444444444444,\"#bd3786\"],[0.5555555555555556,\"#d8576b\"],[0.6666666666666666,\"#ed7953\"],[0.7777777777777778,\"#fb9f3a\"],[0.8888888888888888,\"#fdca26\"],[1.0,\"#f0f921\"]],\"diverging\":[[0,\"#8e0152\"],[0.1,\"#c51b7d\"],[0.2,\"#de77ae\"],[0.3,\"#f1b6da\"],[0.4,\"#fde0ef\"],[0.5,\"#f7f7f7\"],[0.6,\"#e6f5d0\"],[0.7,\"#b8e186\"],[0.8,\"#7fbc41\"],[0.9,\"#4d9221\"],[1,\"#276419\"]]},\"xaxis\":{\"gridcolor\":\"white\",\"linecolor\":\"white\",\"ticks\":\"\",\"title\":{\"standoff\":15},\"zerolinecolor\":\"white\",\"automargin\":true,\"zerolinewidth\":2},\"yaxis\":{\"gridcolor\":\"white\",\"linecolor\":\"white\",\"ticks\":\"\",\"title\":{\"standoff\":15},\"zerolinecolor\":\"white\",\"automargin\":true,\"zerolinewidth\":2},\"scene\":{\"xaxis\":{\"backgroundcolor\":\"#E5ECF6\",\"gridcolor\":\"white\",\"linecolor\":\"white\",\"showbackground\":true,\"ticks\":\"\",\"zerolinecolor\":\"white\",\"gridwidth\":2},\"yaxis\":{\"backgroundcolor\":\"#E5ECF6\",\"gridcolor\":\"white\",\"linecolor\":\"white\",\"showbackground\":true,\"ticks\":\"\",\"zerolinecolor\":\"white\",\"gridwidth\":2},\"zaxis\":{\"backgroundcolor\":\"#E5ECF6\",\"gridcolor\":\"white\",\"linecolor\":\"white\",\"showbackground\":true,\"ticks\":\"\",\"zerolinecolor\":\"white\",\"gridwidth\":2}},\"shapedefaults\":{\"line\":{\"color\":\"#2a3f5f\"}},\"annotationdefaults\":{\"arrowcolor\":\"#2a3f5f\",\"arrowhead\":0,\"arrowwidth\":1},\"geo\":{\"bgcolor\":\"white\",\"landcolor\":\"#E5ECF6\",\"subunitcolor\":\"white\",\"showland\":true,\"showlakes\":true,\"lakecolor\":\"white\"},\"title\":{\"x\":0.05},\"mapbox\":{\"style\":\"light\"}}},\"xaxis\":{\"anchor\":\"y\",\"domain\":[0.0,1.0],\"title\":{\"text\":\"Origin\"}},\"yaxis\":{\"anchor\":\"x\",\"domain\":[0.0,1.0],\"title\":{\"text\":\"MPG_City\"}},\"legend\":{\"tracegroupgap\":0},\"margin\":{\"t\":60},\"boxmode\":\"group\"},                        {\"responsive\": true}                    ).then(function(){\n",
       "                            \n",
       "var gd = document.getElementById('f824c740-6262-48ff-98ee-21bc65d64098');\n",
       "var x = new MutationObserver(function (mutations, observer) {{\n",
       "        var display = window.getComputedStyle(gd).display;\n",
       "        if (!display || display === 'none') {{\n",
       "            console.log([gd, 'removed!']);\n",
       "            Plotly.purge(gd);\n",
       "            observer.disconnect();\n",
       "        }}\n",
       "}});\n",
       "\n",
       "// Listen for the removal of the full notebook cells\n",
       "var notebookContainer = gd.closest('#notebook-container');\n",
       "if (notebookContainer) {{\n",
       "    x.observe(notebookContainer, {childList: true});\n",
       "}}\n",
       "\n",
       "// Listen for the clearing of the current output cell\n",
       "var outputEl = gd.closest('.output');\n",
       "if (outputEl) {{\n",
       "    x.observe(outputEl, {childList: true});\n",
       "}}\n",
       "\n",
       "                        })                };                });            </script>        </div>"
      ]
     },
     "metadata": {},
     "output_type": "display_data"
    }
   ],
   "source": [
    "px.box(df, x=\"Origin\", y=\"MPG_City\")"
   ]
  },
  {
   "cell_type": "markdown",
   "id": "3c35dc1e",
   "metadata": {},
   "source": [
    "En el gráfico se muestra la información de cuántas millas por galón recorren los autos según el origen"
   ]
  },
  {
   "cell_type": "code",
   "execution_count": 53,
   "id": "f720d2be",
   "metadata": {},
   "outputs": [
    {
     "data": {
      "application/vnd.plotly.v1+json": {
       "config": {
        "plotlyServerURL": "https://plot.ly"
       },
       "data": [
        {
         "alignmentgroup": "True",
         "hovertemplate": "DriveTrain=%{x}<br>MPG_City=%{y}<extra></extra>",
         "legendgroup": "",
         "marker": {
          "color": "#636efa"
         },
         "name": "",
         "notched": false,
         "offsetgroup": "",
         "orientation": "v",
         "showlegend": false,
         "type": "box",
         "x": [
          "All",
          "Front",
          "Front",
          "Front",
          "Front",
          "Front",
          "Rear",
          "Front",
          "Front",
          "Front",
          "All",
          "All",
          "Front",
          "All",
          "Front",
          "All",
          "All",
          "All",
          "All",
          "All",
          "Front",
          "Front",
          "All",
          "All",
          "All",
          "All",
          "All",
          "All",
          "Rear",
          "Rear",
          "Rear",
          "All",
          "Rear",
          "Rear",
          "All",
          "Rear",
          "Rear",
          "Rear",
          "Rear",
          "Rear",
          "Rear",
          "Rear",
          "Rear",
          "Rear",
          "Rear",
          "All",
          "All",
          "Front",
          "Front",
          "Front",
          "Front",
          "Front",
          "Front",
          "Front",
          "Front",
          "Front",
          "Front",
          "Rear",
          "Front",
          "Front",
          "Front",
          "Rear",
          "All",
          "Front",
          "All",
          "Front",
          "Front",
          "Front",
          "Front",
          "Front",
          "Front",
          "Front",
          "Front",
          "Front",
          "Front",
          "Front",
          "Front",
          "Front",
          "Front",
          "Front",
          "All",
          "Front",
          "Rear",
          "Rear",
          "All",
          "All",
          "Rear",
          "All",
          "Rear",
          "Front",
          "Front",
          "Front",
          "Front",
          "Front",
          "Front",
          "Front",
          "Front",
          "Front",
          "Front",
          "Front",
          "Front",
          "Front",
          "Front",
          "Rear",
          "Rear",
          "All",
          "Front",
          "Front",
          "Front",
          "Front",
          "Front",
          "Front",
          "Front",
          "All",
          "Rear",
          "Rear",
          "Rear",
          "Rear",
          "All",
          "Front",
          "All",
          "All",
          "Front",
          "Front",
          "Front",
          "Front",
          "Front",
          "Front",
          "Front",
          "Rear",
          "Rear",
          "Rear",
          "Front",
          "Rear",
          "Rear",
          "Front",
          "Rear",
          "All",
          "Rear",
          "Front",
          "Front",
          "Front",
          "Front",
          "All",
          "Rear",
          "Rear",
          "Rear",
          "All",
          "All",
          "Front",
          "Front",
          "All",
          "All",
          "All",
          "Front",
          "Front",
          "Front",
          "Front",
          "Front",
          "Front",
          "Front",
          "Front",
          "Front",
          "Front",
          "Front",
          "Rear",
          "All",
          "Front",
          "Front",
          "Front",
          "Front",
          "Front",
          "Front",
          "Front",
          "Front",
          "Front",
          "Front",
          "Front",
          "Front",
          "Rear",
          "Rear",
          "All",
          "Front",
          "Rear",
          "Rear",
          "Rear",
          "All",
          "All",
          "Front",
          "All",
          "All",
          "Rear",
          "Rear",
          "Rear",
          "Rear",
          "Rear",
          "Rear",
          "Rear",
          "Rear",
          "Rear",
          "Rear",
          "Front",
          "All",
          "All",
          "Front",
          "Front",
          "Front",
          "Front",
          "Front",
          "Front",
          "Front",
          "Front",
          "Front",
          "Front",
          "Front",
          "All",
          "All",
          "All",
          "All",
          "All",
          "All",
          "Front",
          "Rear",
          "Rear",
          "Rear",
          "Rear",
          "Rear",
          "Rear",
          "Rear",
          "All",
          "Front",
          "Rear",
          "Rear",
          "Rear",
          "Rear",
          "Rear",
          "Rear",
          "Rear",
          "Front",
          "Front",
          "All",
          "Front",
          "Front",
          "Front",
          "Front",
          "Rear",
          "Rear",
          "Rear",
          "Rear",
          "Rear",
          "All",
          "All",
          "All",
          "Rear",
          "Rear",
          "Rear",
          "All",
          "Rear",
          "Rear",
          "All",
          "Rear",
          "Rear",
          "Rear",
          "Rear",
          "Rear",
          "Rear",
          "Rear",
          "Rear",
          "All",
          "Rear",
          "Rear",
          "Rear",
          "Rear",
          "Rear",
          "Rear",
          "Rear",
          "All",
          "Front",
          "Front",
          "Rear",
          "Rear",
          "Front",
          "Rear",
          "Rear",
          "Front",
          "Front",
          "All",
          "All",
          "Front",
          "Front",
          "Front",
          "Front",
          "Front",
          "Front",
          "Front",
          "Front",
          "Front",
          "Front",
          "Front",
          "Front",
          "Front",
          "Front",
          "Front",
          "Front",
          "Front",
          "Front",
          "Front",
          "Front",
          "Front",
          "Front",
          "Front",
          "Rear",
          "Rear",
          "All",
          "All",
          "Rear",
          "Front",
          "Front",
          "Front",
          "Front",
          "Front",
          "Front",
          "Front",
          "Front",
          "Front",
          "Front",
          "Front",
          "All",
          "Rear",
          "Rear",
          "All",
          "Rear",
          "All",
          "Rear",
          "Rear",
          "Rear",
          "Rear",
          "Front",
          "Front",
          "Front",
          "Front",
          "Front",
          "Front",
          "Front",
          "All",
          "Front",
          "Front",
          "Front",
          "Front",
          "Front",
          "Front",
          "Front",
          "Front",
          "Front",
          "All",
          "All",
          "All",
          "All",
          "All",
          "All",
          "All",
          "All",
          "All",
          "All",
          "All",
          "Front",
          "All",
          "Front",
          "Front",
          "Front",
          "Front",
          "Front",
          "All",
          "Front",
          "All",
          "Front",
          "All",
          "All",
          "All",
          "Front",
          "Front",
          "Front",
          "Front",
          "Front",
          "Front",
          "Front",
          "Front",
          "Front",
          "Front",
          "Front",
          "Front",
          "Front",
          "Front",
          "Front",
          "Front",
          "Front",
          "Rear",
          "Rear",
          "Rear",
          "All",
          "Front",
          "All",
          "Front",
          "Front",
          "Front",
          "Front",
          "Front",
          "Front",
          "Front",
          "Front",
          "Front",
          "Front",
          "Front",
          "Front",
          "Front",
          "Front",
          "All",
          "Front",
          "All",
          "Front",
          "All",
          "Front",
          "All",
          "Front",
          "Front",
          "Front",
          "Front",
          "All"
         ],
         "x0": " ",
         "xaxis": "x",
         "y": [
          17,
          24,
          22,
          20,
          18,
          18,
          17,
          22,
          23,
          20,
          17,
          18,
          20,
          18,
          20,
          18,
          18,
          17,
          17,
          14,
          15,
          20,
          20,
          21,
          18,
          15,
          16,
          16,
          20,
          20,
          19,
          19,
          20,
          20,
          20,
          19,
          19,
          20,
          18,
          18,
          18,
          16,
          16,
          20,
          21,
          19,
          15,
          19,
          20,
          20,
          20,
          18,
          20,
          20,
          18,
          14,
          16,
          18,
          18,
          18,
          18,
          17,
          13,
          14,
          14,
          16,
          19,
          28,
          28,
          26,
          26,
          26,
          21,
          24,
          22,
          21,
          20,
          18,
          23,
          18,
          14,
          19,
          18,
          18,
          14,
          18,
          15,
          13,
          16,
          22,
          22,
          22,
          22,
          21,
          18,
          21,
          19,
          21,
          22,
          18,
          21,
          19,
          18,
          17,
          17,
          15,
          29,
          29,
          21,
          21,
          21,
          18,
          20,
          18,
          12,
          16,
          16,
          16,
          10,
          15,
          15,
          18,
          26,
          27,
          26,
          26,
          21,
          20,
          19,
          17,
          17,
          17,
          17,
          20,
          17,
          17,
          15,
          14,
          24,
          26,
          19,
          15,
          16,
          13,
          16,
          18,
          17,
          13,
          15,
          46,
          60,
          17,
          21,
          21,
          32,
          36,
          32,
          26,
          26,
          32,
          26,
          21,
          21,
          18,
          18,
          20,
          10,
          20,
          29,
          29,
          29,
          26,
          26,
          26,
          19,
          19,
          17,
          17,
          19,
          18,
          18,
          18,
          19,
          17,
          17,
          16,
          15,
          15,
          17,
          18,
          18,
          18,
          18,
          17,
          18,
          18,
          17,
          18,
          18,
          16,
          16,
          16,
          20,
          16,
          16,
          23,
          26,
          25,
          24,
          24,
          24,
          20,
          17,
          16,
          26,
          12,
          12,
          18,
          15,
          13,
          18,
          20,
          18,
          18,
          18,
          18,
          18,
          18,
          18,
          13,
          13,
          20,
          20,
          17,
          17,
          17,
          17,
          17,
          28,
          25,
          22,
          26,
          25,
          24,
          18,
          23,
          23,
          18,
          18,
          24,
          15,
          13,
          14,
          22,
          19,
          20,
          19,
          19,
          20,
          19,
          16,
          16,
          13,
          20,
          17,
          19,
          16,
          18,
          16,
          16,
          14,
          13,
          21,
          17,
          19,
          19,
          16,
          16,
          20,
          17,
          17,
          19,
          17,
          17,
          16,
          19,
          17,
          15,
          21,
          25,
          25,
          23,
          25,
          18,
          18,
          21,
          21,
          18,
          25,
          13,
          16,
          17,
          28,
          28,
          21,
          23,
          21,
          20,
          20,
          19,
          18,
          20,
          20,
          17,
          14,
          20,
          24,
          20,
          19,
          19,
          24,
          20,
          20,
          24,
          20,
          17,
          19,
          18,
          16,
          29,
          14,
          18,
          17,
          18,
          17,
          20,
          18,
          20,
          20,
          21,
          21,
          21,
          21,
          19,
          21,
          26,
          26,
          26,
          26,
          26,
          20,
          24,
          32,
          31,
          22,
          21,
          21,
          20,
          19,
          19,
          20,
          18,
          21,
          21,
          21,
          18,
          19,
          25,
          25,
          24,
          22,
          20,
          24,
          59,
          14,
          18,
          18,
          13,
          22,
          32,
          32,
          32,
          35,
          33,
          35,
          24,
          21,
          24,
          20,
          21,
          21,
          20,
          21,
          19,
          19,
          24,
          26,
          22,
          16,
          14,
          29,
          15,
          24,
          24,
          38,
          24,
          21,
          24,
          22,
          19,
          18,
          16,
          12,
          24,
          22,
          18,
          15,
          22,
          20,
          20,
          18,
          20,
          20,
          21,
          20,
          19,
          22,
          20
         ],
         "y0": " ",
         "yaxis": "y"
        }
       ],
       "layout": {
        "boxmode": "group",
        "legend": {
         "tracegroupgap": 0
        },
        "margin": {
         "t": 60
        },
        "template": {
         "data": {
          "bar": [
           {
            "error_x": {
             "color": "#2a3f5f"
            },
            "error_y": {
             "color": "#2a3f5f"
            },
            "marker": {
             "line": {
              "color": "#E5ECF6",
              "width": 0.5
             },
             "pattern": {
              "fillmode": "overlay",
              "size": 10,
              "solidity": 0.2
             }
            },
            "type": "bar"
           }
          ],
          "barpolar": [
           {
            "marker": {
             "line": {
              "color": "#E5ECF6",
              "width": 0.5
             },
             "pattern": {
              "fillmode": "overlay",
              "size": 10,
              "solidity": 0.2
             }
            },
            "type": "barpolar"
           }
          ],
          "carpet": [
           {
            "aaxis": {
             "endlinecolor": "#2a3f5f",
             "gridcolor": "white",
             "linecolor": "white",
             "minorgridcolor": "white",
             "startlinecolor": "#2a3f5f"
            },
            "baxis": {
             "endlinecolor": "#2a3f5f",
             "gridcolor": "white",
             "linecolor": "white",
             "minorgridcolor": "white",
             "startlinecolor": "#2a3f5f"
            },
            "type": "carpet"
           }
          ],
          "choropleth": [
           {
            "colorbar": {
             "outlinewidth": 0,
             "ticks": ""
            },
            "type": "choropleth"
           }
          ],
          "contour": [
           {
            "colorbar": {
             "outlinewidth": 0,
             "ticks": ""
            },
            "colorscale": [
             [
              0,
              "#0d0887"
             ],
             [
              0.1111111111111111,
              "#46039f"
             ],
             [
              0.2222222222222222,
              "#7201a8"
             ],
             [
              0.3333333333333333,
              "#9c179e"
             ],
             [
              0.4444444444444444,
              "#bd3786"
             ],
             [
              0.5555555555555556,
              "#d8576b"
             ],
             [
              0.6666666666666666,
              "#ed7953"
             ],
             [
              0.7777777777777778,
              "#fb9f3a"
             ],
             [
              0.8888888888888888,
              "#fdca26"
             ],
             [
              1,
              "#f0f921"
             ]
            ],
            "type": "contour"
           }
          ],
          "contourcarpet": [
           {
            "colorbar": {
             "outlinewidth": 0,
             "ticks": ""
            },
            "type": "contourcarpet"
           }
          ],
          "heatmap": [
           {
            "colorbar": {
             "outlinewidth": 0,
             "ticks": ""
            },
            "colorscale": [
             [
              0,
              "#0d0887"
             ],
             [
              0.1111111111111111,
              "#46039f"
             ],
             [
              0.2222222222222222,
              "#7201a8"
             ],
             [
              0.3333333333333333,
              "#9c179e"
             ],
             [
              0.4444444444444444,
              "#bd3786"
             ],
             [
              0.5555555555555556,
              "#d8576b"
             ],
             [
              0.6666666666666666,
              "#ed7953"
             ],
             [
              0.7777777777777778,
              "#fb9f3a"
             ],
             [
              0.8888888888888888,
              "#fdca26"
             ],
             [
              1,
              "#f0f921"
             ]
            ],
            "type": "heatmap"
           }
          ],
          "heatmapgl": [
           {
            "colorbar": {
             "outlinewidth": 0,
             "ticks": ""
            },
            "colorscale": [
             [
              0,
              "#0d0887"
             ],
             [
              0.1111111111111111,
              "#46039f"
             ],
             [
              0.2222222222222222,
              "#7201a8"
             ],
             [
              0.3333333333333333,
              "#9c179e"
             ],
             [
              0.4444444444444444,
              "#bd3786"
             ],
             [
              0.5555555555555556,
              "#d8576b"
             ],
             [
              0.6666666666666666,
              "#ed7953"
             ],
             [
              0.7777777777777778,
              "#fb9f3a"
             ],
             [
              0.8888888888888888,
              "#fdca26"
             ],
             [
              1,
              "#f0f921"
             ]
            ],
            "type": "heatmapgl"
           }
          ],
          "histogram": [
           {
            "marker": {
             "pattern": {
              "fillmode": "overlay",
              "size": 10,
              "solidity": 0.2
             }
            },
            "type": "histogram"
           }
          ],
          "histogram2d": [
           {
            "colorbar": {
             "outlinewidth": 0,
             "ticks": ""
            },
            "colorscale": [
             [
              0,
              "#0d0887"
             ],
             [
              0.1111111111111111,
              "#46039f"
             ],
             [
              0.2222222222222222,
              "#7201a8"
             ],
             [
              0.3333333333333333,
              "#9c179e"
             ],
             [
              0.4444444444444444,
              "#bd3786"
             ],
             [
              0.5555555555555556,
              "#d8576b"
             ],
             [
              0.6666666666666666,
              "#ed7953"
             ],
             [
              0.7777777777777778,
              "#fb9f3a"
             ],
             [
              0.8888888888888888,
              "#fdca26"
             ],
             [
              1,
              "#f0f921"
             ]
            ],
            "type": "histogram2d"
           }
          ],
          "histogram2dcontour": [
           {
            "colorbar": {
             "outlinewidth": 0,
             "ticks": ""
            },
            "colorscale": [
             [
              0,
              "#0d0887"
             ],
             [
              0.1111111111111111,
              "#46039f"
             ],
             [
              0.2222222222222222,
              "#7201a8"
             ],
             [
              0.3333333333333333,
              "#9c179e"
             ],
             [
              0.4444444444444444,
              "#bd3786"
             ],
             [
              0.5555555555555556,
              "#d8576b"
             ],
             [
              0.6666666666666666,
              "#ed7953"
             ],
             [
              0.7777777777777778,
              "#fb9f3a"
             ],
             [
              0.8888888888888888,
              "#fdca26"
             ],
             [
              1,
              "#f0f921"
             ]
            ],
            "type": "histogram2dcontour"
           }
          ],
          "mesh3d": [
           {
            "colorbar": {
             "outlinewidth": 0,
             "ticks": ""
            },
            "type": "mesh3d"
           }
          ],
          "parcoords": [
           {
            "line": {
             "colorbar": {
              "outlinewidth": 0,
              "ticks": ""
             }
            },
            "type": "parcoords"
           }
          ],
          "pie": [
           {
            "automargin": true,
            "type": "pie"
           }
          ],
          "scatter": [
           {
            "fillpattern": {
             "fillmode": "overlay",
             "size": 10,
             "solidity": 0.2
            },
            "type": "scatter"
           }
          ],
          "scatter3d": [
           {
            "line": {
             "colorbar": {
              "outlinewidth": 0,
              "ticks": ""
             }
            },
            "marker": {
             "colorbar": {
              "outlinewidth": 0,
              "ticks": ""
             }
            },
            "type": "scatter3d"
           }
          ],
          "scattercarpet": [
           {
            "marker": {
             "colorbar": {
              "outlinewidth": 0,
              "ticks": ""
             }
            },
            "type": "scattercarpet"
           }
          ],
          "scattergeo": [
           {
            "marker": {
             "colorbar": {
              "outlinewidth": 0,
              "ticks": ""
             }
            },
            "type": "scattergeo"
           }
          ],
          "scattergl": [
           {
            "marker": {
             "colorbar": {
              "outlinewidth": 0,
              "ticks": ""
             }
            },
            "type": "scattergl"
           }
          ],
          "scattermapbox": [
           {
            "marker": {
             "colorbar": {
              "outlinewidth": 0,
              "ticks": ""
             }
            },
            "type": "scattermapbox"
           }
          ],
          "scatterpolar": [
           {
            "marker": {
             "colorbar": {
              "outlinewidth": 0,
              "ticks": ""
             }
            },
            "type": "scatterpolar"
           }
          ],
          "scatterpolargl": [
           {
            "marker": {
             "colorbar": {
              "outlinewidth": 0,
              "ticks": ""
             }
            },
            "type": "scatterpolargl"
           }
          ],
          "scatterternary": [
           {
            "marker": {
             "colorbar": {
              "outlinewidth": 0,
              "ticks": ""
             }
            },
            "type": "scatterternary"
           }
          ],
          "surface": [
           {
            "colorbar": {
             "outlinewidth": 0,
             "ticks": ""
            },
            "colorscale": [
             [
              0,
              "#0d0887"
             ],
             [
              0.1111111111111111,
              "#46039f"
             ],
             [
              0.2222222222222222,
              "#7201a8"
             ],
             [
              0.3333333333333333,
              "#9c179e"
             ],
             [
              0.4444444444444444,
              "#bd3786"
             ],
             [
              0.5555555555555556,
              "#d8576b"
             ],
             [
              0.6666666666666666,
              "#ed7953"
             ],
             [
              0.7777777777777778,
              "#fb9f3a"
             ],
             [
              0.8888888888888888,
              "#fdca26"
             ],
             [
              1,
              "#f0f921"
             ]
            ],
            "type": "surface"
           }
          ],
          "table": [
           {
            "cells": {
             "fill": {
              "color": "#EBF0F8"
             },
             "line": {
              "color": "white"
             }
            },
            "header": {
             "fill": {
              "color": "#C8D4E3"
             },
             "line": {
              "color": "white"
             }
            },
            "type": "table"
           }
          ]
         },
         "layout": {
          "annotationdefaults": {
           "arrowcolor": "#2a3f5f",
           "arrowhead": 0,
           "arrowwidth": 1
          },
          "autotypenumbers": "strict",
          "coloraxis": {
           "colorbar": {
            "outlinewidth": 0,
            "ticks": ""
           }
          },
          "colorscale": {
           "diverging": [
            [
             0,
             "#8e0152"
            ],
            [
             0.1,
             "#c51b7d"
            ],
            [
             0.2,
             "#de77ae"
            ],
            [
             0.3,
             "#f1b6da"
            ],
            [
             0.4,
             "#fde0ef"
            ],
            [
             0.5,
             "#f7f7f7"
            ],
            [
             0.6,
             "#e6f5d0"
            ],
            [
             0.7,
             "#b8e186"
            ],
            [
             0.8,
             "#7fbc41"
            ],
            [
             0.9,
             "#4d9221"
            ],
            [
             1,
             "#276419"
            ]
           ],
           "sequential": [
            [
             0,
             "#0d0887"
            ],
            [
             0.1111111111111111,
             "#46039f"
            ],
            [
             0.2222222222222222,
             "#7201a8"
            ],
            [
             0.3333333333333333,
             "#9c179e"
            ],
            [
             0.4444444444444444,
             "#bd3786"
            ],
            [
             0.5555555555555556,
             "#d8576b"
            ],
            [
             0.6666666666666666,
             "#ed7953"
            ],
            [
             0.7777777777777778,
             "#fb9f3a"
            ],
            [
             0.8888888888888888,
             "#fdca26"
            ],
            [
             1,
             "#f0f921"
            ]
           ],
           "sequentialminus": [
            [
             0,
             "#0d0887"
            ],
            [
             0.1111111111111111,
             "#46039f"
            ],
            [
             0.2222222222222222,
             "#7201a8"
            ],
            [
             0.3333333333333333,
             "#9c179e"
            ],
            [
             0.4444444444444444,
             "#bd3786"
            ],
            [
             0.5555555555555556,
             "#d8576b"
            ],
            [
             0.6666666666666666,
             "#ed7953"
            ],
            [
             0.7777777777777778,
             "#fb9f3a"
            ],
            [
             0.8888888888888888,
             "#fdca26"
            ],
            [
             1,
             "#f0f921"
            ]
           ]
          },
          "colorway": [
           "#636efa",
           "#EF553B",
           "#00cc96",
           "#ab63fa",
           "#FFA15A",
           "#19d3f3",
           "#FF6692",
           "#B6E880",
           "#FF97FF",
           "#FECB52"
          ],
          "font": {
           "color": "#2a3f5f"
          },
          "geo": {
           "bgcolor": "white",
           "lakecolor": "white",
           "landcolor": "#E5ECF6",
           "showlakes": true,
           "showland": true,
           "subunitcolor": "white"
          },
          "hoverlabel": {
           "align": "left"
          },
          "hovermode": "closest",
          "mapbox": {
           "style": "light"
          },
          "paper_bgcolor": "white",
          "plot_bgcolor": "#E5ECF6",
          "polar": {
           "angularaxis": {
            "gridcolor": "white",
            "linecolor": "white",
            "ticks": ""
           },
           "bgcolor": "#E5ECF6",
           "radialaxis": {
            "gridcolor": "white",
            "linecolor": "white",
            "ticks": ""
           }
          },
          "scene": {
           "xaxis": {
            "backgroundcolor": "#E5ECF6",
            "gridcolor": "white",
            "gridwidth": 2,
            "linecolor": "white",
            "showbackground": true,
            "ticks": "",
            "zerolinecolor": "white"
           },
           "yaxis": {
            "backgroundcolor": "#E5ECF6",
            "gridcolor": "white",
            "gridwidth": 2,
            "linecolor": "white",
            "showbackground": true,
            "ticks": "",
            "zerolinecolor": "white"
           },
           "zaxis": {
            "backgroundcolor": "#E5ECF6",
            "gridcolor": "white",
            "gridwidth": 2,
            "linecolor": "white",
            "showbackground": true,
            "ticks": "",
            "zerolinecolor": "white"
           }
          },
          "shapedefaults": {
           "line": {
            "color": "#2a3f5f"
           }
          },
          "ternary": {
           "aaxis": {
            "gridcolor": "white",
            "linecolor": "white",
            "ticks": ""
           },
           "baxis": {
            "gridcolor": "white",
            "linecolor": "white",
            "ticks": ""
           },
           "bgcolor": "#E5ECF6",
           "caxis": {
            "gridcolor": "white",
            "linecolor": "white",
            "ticks": ""
           }
          },
          "title": {
           "x": 0.05
          },
          "xaxis": {
           "automargin": true,
           "gridcolor": "white",
           "linecolor": "white",
           "ticks": "",
           "title": {
            "standoff": 15
           },
           "zerolinecolor": "white",
           "zerolinewidth": 2
          },
          "yaxis": {
           "automargin": true,
           "gridcolor": "white",
           "linecolor": "white",
           "ticks": "",
           "title": {
            "standoff": 15
           },
           "zerolinecolor": "white",
           "zerolinewidth": 2
          }
         }
        },
        "xaxis": {
         "anchor": "y",
         "domain": [
          0,
          1
         ],
         "title": {
          "text": "DriveTrain"
         }
        },
        "yaxis": {
         "anchor": "x",
         "domain": [
          0,
          1
         ],
         "title": {
          "text": "MPG_City"
         }
        }
       }
      },
      "text/html": [
       "<div>                            <div id=\"8ae5ddc8-3d76-4104-ab6a-448e7f7bf92c\" class=\"plotly-graph-div\" style=\"height:525px; width:100%;\"></div>            <script type=\"text/javascript\">                require([\"plotly\"], function(Plotly) {                    window.PLOTLYENV=window.PLOTLYENV || {};                                    if (document.getElementById(\"8ae5ddc8-3d76-4104-ab6a-448e7f7bf92c\")) {                    Plotly.newPlot(                        \"8ae5ddc8-3d76-4104-ab6a-448e7f7bf92c\",                        [{\"alignmentgroup\":\"True\",\"hovertemplate\":\"DriveTrain=%{x}<br>MPG_City=%{y}<extra></extra>\",\"legendgroup\":\"\",\"marker\":{\"color\":\"#636efa\"},\"name\":\"\",\"notched\":false,\"offsetgroup\":\"\",\"orientation\":\"v\",\"showlegend\":false,\"x\":[\"All\",\"Front\",\"Front\",\"Front\",\"Front\",\"Front\",\"Rear\",\"Front\",\"Front\",\"Front\",\"All\",\"All\",\"Front\",\"All\",\"Front\",\"All\",\"All\",\"All\",\"All\",\"All\",\"Front\",\"Front\",\"All\",\"All\",\"All\",\"All\",\"All\",\"All\",\"Rear\",\"Rear\",\"Rear\",\"All\",\"Rear\",\"Rear\",\"All\",\"Rear\",\"Rear\",\"Rear\",\"Rear\",\"Rear\",\"Rear\",\"Rear\",\"Rear\",\"Rear\",\"Rear\",\"All\",\"All\",\"Front\",\"Front\",\"Front\",\"Front\",\"Front\",\"Front\",\"Front\",\"Front\",\"Front\",\"Front\",\"Rear\",\"Front\",\"Front\",\"Front\",\"Rear\",\"All\",\"Front\",\"All\",\"Front\",\"Front\",\"Front\",\"Front\",\"Front\",\"Front\",\"Front\",\"Front\",\"Front\",\"Front\",\"Front\",\"Front\",\"Front\",\"Front\",\"Front\",\"All\",\"Front\",\"Rear\",\"Rear\",\"All\",\"All\",\"Rear\",\"All\",\"Rear\",\"Front\",\"Front\",\"Front\",\"Front\",\"Front\",\"Front\",\"Front\",\"Front\",\"Front\",\"Front\",\"Front\",\"Front\",\"Front\",\"Front\",\"Rear\",\"Rear\",\"All\",\"Front\",\"Front\",\"Front\",\"Front\",\"Front\",\"Front\",\"Front\",\"All\",\"Rear\",\"Rear\",\"Rear\",\"Rear\",\"All\",\"Front\",\"All\",\"All\",\"Front\",\"Front\",\"Front\",\"Front\",\"Front\",\"Front\",\"Front\",\"Rear\",\"Rear\",\"Rear\",\"Front\",\"Rear\",\"Rear\",\"Front\",\"Rear\",\"All\",\"Rear\",\"Front\",\"Front\",\"Front\",\"Front\",\"All\",\"Rear\",\"Rear\",\"Rear\",\"All\",\"All\",\"Front\",\"Front\",\"All\",\"All\",\"All\",\"Front\",\"Front\",\"Front\",\"Front\",\"Front\",\"Front\",\"Front\",\"Front\",\"Front\",\"Front\",\"Front\",\"Rear\",\"All\",\"Front\",\"Front\",\"Front\",\"Front\",\"Front\",\"Front\",\"Front\",\"Front\",\"Front\",\"Front\",\"Front\",\"Front\",\"Rear\",\"Rear\",\"All\",\"Front\",\"Rear\",\"Rear\",\"Rear\",\"All\",\"All\",\"Front\",\"All\",\"All\",\"Rear\",\"Rear\",\"Rear\",\"Rear\",\"Rear\",\"Rear\",\"Rear\",\"Rear\",\"Rear\",\"Rear\",\"Front\",\"All\",\"All\",\"Front\",\"Front\",\"Front\",\"Front\",\"Front\",\"Front\",\"Front\",\"Front\",\"Front\",\"Front\",\"Front\",\"All\",\"All\",\"All\",\"All\",\"All\",\"All\",\"Front\",\"Rear\",\"Rear\",\"Rear\",\"Rear\",\"Rear\",\"Rear\",\"Rear\",\"All\",\"Front\",\"Rear\",\"Rear\",\"Rear\",\"Rear\",\"Rear\",\"Rear\",\"Rear\",\"Front\",\"Front\",\"All\",\"Front\",\"Front\",\"Front\",\"Front\",\"Rear\",\"Rear\",\"Rear\",\"Rear\",\"Rear\",\"All\",\"All\",\"All\",\"Rear\",\"Rear\",\"Rear\",\"All\",\"Rear\",\"Rear\",\"All\",\"Rear\",\"Rear\",\"Rear\",\"Rear\",\"Rear\",\"Rear\",\"Rear\",\"Rear\",\"All\",\"Rear\",\"Rear\",\"Rear\",\"Rear\",\"Rear\",\"Rear\",\"Rear\",\"All\",\"Front\",\"Front\",\"Rear\",\"Rear\",\"Front\",\"Rear\",\"Rear\",\"Front\",\"Front\",\"All\",\"All\",\"Front\",\"Front\",\"Front\",\"Front\",\"Front\",\"Front\",\"Front\",\"Front\",\"Front\",\"Front\",\"Front\",\"Front\",\"Front\",\"Front\",\"Front\",\"Front\",\"Front\",\"Front\",\"Front\",\"Front\",\"Front\",\"Front\",\"Front\",\"Rear\",\"Rear\",\"All\",\"All\",\"Rear\",\"Front\",\"Front\",\"Front\",\"Front\",\"Front\",\"Front\",\"Front\",\"Front\",\"Front\",\"Front\",\"Front\",\"All\",\"Rear\",\"Rear\",\"All\",\"Rear\",\"All\",\"Rear\",\"Rear\",\"Rear\",\"Rear\",\"Front\",\"Front\",\"Front\",\"Front\",\"Front\",\"Front\",\"Front\",\"All\",\"Front\",\"Front\",\"Front\",\"Front\",\"Front\",\"Front\",\"Front\",\"Front\",\"Front\",\"All\",\"All\",\"All\",\"All\",\"All\",\"All\",\"All\",\"All\",\"All\",\"All\",\"All\",\"Front\",\"All\",\"Front\",\"Front\",\"Front\",\"Front\",\"Front\",\"All\",\"Front\",\"All\",\"Front\",\"All\",\"All\",\"All\",\"Front\",\"Front\",\"Front\",\"Front\",\"Front\",\"Front\",\"Front\",\"Front\",\"Front\",\"Front\",\"Front\",\"Front\",\"Front\",\"Front\",\"Front\",\"Front\",\"Front\",\"Rear\",\"Rear\",\"Rear\",\"All\",\"Front\",\"All\",\"Front\",\"Front\",\"Front\",\"Front\",\"Front\",\"Front\",\"Front\",\"Front\",\"Front\",\"Front\",\"Front\",\"Front\",\"Front\",\"Front\",\"All\",\"Front\",\"All\",\"Front\",\"All\",\"Front\",\"All\",\"Front\",\"Front\",\"Front\",\"Front\",\"All\"],\"x0\":\" \",\"xaxis\":\"x\",\"y\":[17,24,22,20,18,18,17,22,23,20,17,18,20,18,20,18,18,17,17,14,15,20,20,21,18,15,16,16,20,20,19,19,20,20,20,19,19,20,18,18,18,16,16,20,21,19,15,19,20,20,20,18,20,20,18,14,16,18,18,18,18,17,13,14,14,16,19,28,28,26,26,26,21,24,22,21,20,18,23,18,14,19,18,18,14,18,15,13,16,22,22,22,22,21,18,21,19,21,22,18,21,19,18,17,17,15,29,29,21,21,21,18,20,18,12,16,16,16,10,15,15,18,26,27,26,26,21,20,19,17,17,17,17,20,17,17,15,14,24,26,19,15,16,13,16,18,17,13,15,46,60,17,21,21,32,36,32,26,26,32,26,21,21,18,18,20,10,20,29,29,29,26,26,26,19,19,17,17,19,18,18,18,19,17,17,16,15,15,17,18,18,18,18,17,18,18,17,18,18,16,16,16,20,16,16,23,26,25,24,24,24,20,17,16,26,12,12,18,15,13,18,20,18,18,18,18,18,18,18,13,13,20,20,17,17,17,17,17,28,25,22,26,25,24,18,23,23,18,18,24,15,13,14,22,19,20,19,19,20,19,16,16,13,20,17,19,16,18,16,16,14,13,21,17,19,19,16,16,20,17,17,19,17,17,16,19,17,15,21,25,25,23,25,18,18,21,21,18,25,13,16,17,28,28,21,23,21,20,20,19,18,20,20,17,14,20,24,20,19,19,24,20,20,24,20,17,19,18,16,29,14,18,17,18,17,20,18,20,20,21,21,21,21,19,21,26,26,26,26,26,20,24,32,31,22,21,21,20,19,19,20,18,21,21,21,18,19,25,25,24,22,20,24,59,14,18,18,13,22,32,32,32,35,33,35,24,21,24,20,21,21,20,21,19,19,24,26,22,16,14,29,15,24,24,38,24,21,24,22,19,18,16,12,24,22,18,15,22,20,20,18,20,20,21,20,19,22,20],\"y0\":\" \",\"yaxis\":\"y\",\"type\":\"box\"}],                        {\"template\":{\"data\":{\"histogram2dcontour\":[{\"type\":\"histogram2dcontour\",\"colorbar\":{\"outlinewidth\":0,\"ticks\":\"\"},\"colorscale\":[[0.0,\"#0d0887\"],[0.1111111111111111,\"#46039f\"],[0.2222222222222222,\"#7201a8\"],[0.3333333333333333,\"#9c179e\"],[0.4444444444444444,\"#bd3786\"],[0.5555555555555556,\"#d8576b\"],[0.6666666666666666,\"#ed7953\"],[0.7777777777777778,\"#fb9f3a\"],[0.8888888888888888,\"#fdca26\"],[1.0,\"#f0f921\"]]}],\"choropleth\":[{\"type\":\"choropleth\",\"colorbar\":{\"outlinewidth\":0,\"ticks\":\"\"}}],\"histogram2d\":[{\"type\":\"histogram2d\",\"colorbar\":{\"outlinewidth\":0,\"ticks\":\"\"},\"colorscale\":[[0.0,\"#0d0887\"],[0.1111111111111111,\"#46039f\"],[0.2222222222222222,\"#7201a8\"],[0.3333333333333333,\"#9c179e\"],[0.4444444444444444,\"#bd3786\"],[0.5555555555555556,\"#d8576b\"],[0.6666666666666666,\"#ed7953\"],[0.7777777777777778,\"#fb9f3a\"],[0.8888888888888888,\"#fdca26\"],[1.0,\"#f0f921\"]]}],\"heatmap\":[{\"type\":\"heatmap\",\"colorbar\":{\"outlinewidth\":0,\"ticks\":\"\"},\"colorscale\":[[0.0,\"#0d0887\"],[0.1111111111111111,\"#46039f\"],[0.2222222222222222,\"#7201a8\"],[0.3333333333333333,\"#9c179e\"],[0.4444444444444444,\"#bd3786\"],[0.5555555555555556,\"#d8576b\"],[0.6666666666666666,\"#ed7953\"],[0.7777777777777778,\"#fb9f3a\"],[0.8888888888888888,\"#fdca26\"],[1.0,\"#f0f921\"]]}],\"heatmapgl\":[{\"type\":\"heatmapgl\",\"colorbar\":{\"outlinewidth\":0,\"ticks\":\"\"},\"colorscale\":[[0.0,\"#0d0887\"],[0.1111111111111111,\"#46039f\"],[0.2222222222222222,\"#7201a8\"],[0.3333333333333333,\"#9c179e\"],[0.4444444444444444,\"#bd3786\"],[0.5555555555555556,\"#d8576b\"],[0.6666666666666666,\"#ed7953\"],[0.7777777777777778,\"#fb9f3a\"],[0.8888888888888888,\"#fdca26\"],[1.0,\"#f0f921\"]]}],\"contourcarpet\":[{\"type\":\"contourcarpet\",\"colorbar\":{\"outlinewidth\":0,\"ticks\":\"\"}}],\"contour\":[{\"type\":\"contour\",\"colorbar\":{\"outlinewidth\":0,\"ticks\":\"\"},\"colorscale\":[[0.0,\"#0d0887\"],[0.1111111111111111,\"#46039f\"],[0.2222222222222222,\"#7201a8\"],[0.3333333333333333,\"#9c179e\"],[0.4444444444444444,\"#bd3786\"],[0.5555555555555556,\"#d8576b\"],[0.6666666666666666,\"#ed7953\"],[0.7777777777777778,\"#fb9f3a\"],[0.8888888888888888,\"#fdca26\"],[1.0,\"#f0f921\"]]}],\"surface\":[{\"type\":\"surface\",\"colorbar\":{\"outlinewidth\":0,\"ticks\":\"\"},\"colorscale\":[[0.0,\"#0d0887\"],[0.1111111111111111,\"#46039f\"],[0.2222222222222222,\"#7201a8\"],[0.3333333333333333,\"#9c179e\"],[0.4444444444444444,\"#bd3786\"],[0.5555555555555556,\"#d8576b\"],[0.6666666666666666,\"#ed7953\"],[0.7777777777777778,\"#fb9f3a\"],[0.8888888888888888,\"#fdca26\"],[1.0,\"#f0f921\"]]}],\"mesh3d\":[{\"type\":\"mesh3d\",\"colorbar\":{\"outlinewidth\":0,\"ticks\":\"\"}}],\"scatter\":[{\"fillpattern\":{\"fillmode\":\"overlay\",\"size\":10,\"solidity\":0.2},\"type\":\"scatter\"}],\"parcoords\":[{\"type\":\"parcoords\",\"line\":{\"colorbar\":{\"outlinewidth\":0,\"ticks\":\"\"}}}],\"scatterpolargl\":[{\"type\":\"scatterpolargl\",\"marker\":{\"colorbar\":{\"outlinewidth\":0,\"ticks\":\"\"}}}],\"bar\":[{\"error_x\":{\"color\":\"#2a3f5f\"},\"error_y\":{\"color\":\"#2a3f5f\"},\"marker\":{\"line\":{\"color\":\"#E5ECF6\",\"width\":0.5},\"pattern\":{\"fillmode\":\"overlay\",\"size\":10,\"solidity\":0.2}},\"type\":\"bar\"}],\"scattergeo\":[{\"type\":\"scattergeo\",\"marker\":{\"colorbar\":{\"outlinewidth\":0,\"ticks\":\"\"}}}],\"scatterpolar\":[{\"type\":\"scatterpolar\",\"marker\":{\"colorbar\":{\"outlinewidth\":0,\"ticks\":\"\"}}}],\"histogram\":[{\"marker\":{\"pattern\":{\"fillmode\":\"overlay\",\"size\":10,\"solidity\":0.2}},\"type\":\"histogram\"}],\"scattergl\":[{\"type\":\"scattergl\",\"marker\":{\"colorbar\":{\"outlinewidth\":0,\"ticks\":\"\"}}}],\"scatter3d\":[{\"type\":\"scatter3d\",\"line\":{\"colorbar\":{\"outlinewidth\":0,\"ticks\":\"\"}},\"marker\":{\"colorbar\":{\"outlinewidth\":0,\"ticks\":\"\"}}}],\"scattermapbox\":[{\"type\":\"scattermapbox\",\"marker\":{\"colorbar\":{\"outlinewidth\":0,\"ticks\":\"\"}}}],\"scatterternary\":[{\"type\":\"scatterternary\",\"marker\":{\"colorbar\":{\"outlinewidth\":0,\"ticks\":\"\"}}}],\"scattercarpet\":[{\"type\":\"scattercarpet\",\"marker\":{\"colorbar\":{\"outlinewidth\":0,\"ticks\":\"\"}}}],\"carpet\":[{\"aaxis\":{\"endlinecolor\":\"#2a3f5f\",\"gridcolor\":\"white\",\"linecolor\":\"white\",\"minorgridcolor\":\"white\",\"startlinecolor\":\"#2a3f5f\"},\"baxis\":{\"endlinecolor\":\"#2a3f5f\",\"gridcolor\":\"white\",\"linecolor\":\"white\",\"minorgridcolor\":\"white\",\"startlinecolor\":\"#2a3f5f\"},\"type\":\"carpet\"}],\"table\":[{\"cells\":{\"fill\":{\"color\":\"#EBF0F8\"},\"line\":{\"color\":\"white\"}},\"header\":{\"fill\":{\"color\":\"#C8D4E3\"},\"line\":{\"color\":\"white\"}},\"type\":\"table\"}],\"barpolar\":[{\"marker\":{\"line\":{\"color\":\"#E5ECF6\",\"width\":0.5},\"pattern\":{\"fillmode\":\"overlay\",\"size\":10,\"solidity\":0.2}},\"type\":\"barpolar\"}],\"pie\":[{\"automargin\":true,\"type\":\"pie\"}]},\"layout\":{\"autotypenumbers\":\"strict\",\"colorway\":[\"#636efa\",\"#EF553B\",\"#00cc96\",\"#ab63fa\",\"#FFA15A\",\"#19d3f3\",\"#FF6692\",\"#B6E880\",\"#FF97FF\",\"#FECB52\"],\"font\":{\"color\":\"#2a3f5f\"},\"hovermode\":\"closest\",\"hoverlabel\":{\"align\":\"left\"},\"paper_bgcolor\":\"white\",\"plot_bgcolor\":\"#E5ECF6\",\"polar\":{\"bgcolor\":\"#E5ECF6\",\"angularaxis\":{\"gridcolor\":\"white\",\"linecolor\":\"white\",\"ticks\":\"\"},\"radialaxis\":{\"gridcolor\":\"white\",\"linecolor\":\"white\",\"ticks\":\"\"}},\"ternary\":{\"bgcolor\":\"#E5ECF6\",\"aaxis\":{\"gridcolor\":\"white\",\"linecolor\":\"white\",\"ticks\":\"\"},\"baxis\":{\"gridcolor\":\"white\",\"linecolor\":\"white\",\"ticks\":\"\"},\"caxis\":{\"gridcolor\":\"white\",\"linecolor\":\"white\",\"ticks\":\"\"}},\"coloraxis\":{\"colorbar\":{\"outlinewidth\":0,\"ticks\":\"\"}},\"colorscale\":{\"sequential\":[[0.0,\"#0d0887\"],[0.1111111111111111,\"#46039f\"],[0.2222222222222222,\"#7201a8\"],[0.3333333333333333,\"#9c179e\"],[0.4444444444444444,\"#bd3786\"],[0.5555555555555556,\"#d8576b\"],[0.6666666666666666,\"#ed7953\"],[0.7777777777777778,\"#fb9f3a\"],[0.8888888888888888,\"#fdca26\"],[1.0,\"#f0f921\"]],\"sequentialminus\":[[0.0,\"#0d0887\"],[0.1111111111111111,\"#46039f\"],[0.2222222222222222,\"#7201a8\"],[0.3333333333333333,\"#9c179e\"],[0.4444444444444444,\"#bd3786\"],[0.5555555555555556,\"#d8576b\"],[0.6666666666666666,\"#ed7953\"],[0.7777777777777778,\"#fb9f3a\"],[0.8888888888888888,\"#fdca26\"],[1.0,\"#f0f921\"]],\"diverging\":[[0,\"#8e0152\"],[0.1,\"#c51b7d\"],[0.2,\"#de77ae\"],[0.3,\"#f1b6da\"],[0.4,\"#fde0ef\"],[0.5,\"#f7f7f7\"],[0.6,\"#e6f5d0\"],[0.7,\"#b8e186\"],[0.8,\"#7fbc41\"],[0.9,\"#4d9221\"],[1,\"#276419\"]]},\"xaxis\":{\"gridcolor\":\"white\",\"linecolor\":\"white\",\"ticks\":\"\",\"title\":{\"standoff\":15},\"zerolinecolor\":\"white\",\"automargin\":true,\"zerolinewidth\":2},\"yaxis\":{\"gridcolor\":\"white\",\"linecolor\":\"white\",\"ticks\":\"\",\"title\":{\"standoff\":15},\"zerolinecolor\":\"white\",\"automargin\":true,\"zerolinewidth\":2},\"scene\":{\"xaxis\":{\"backgroundcolor\":\"#E5ECF6\",\"gridcolor\":\"white\",\"linecolor\":\"white\",\"showbackground\":true,\"ticks\":\"\",\"zerolinecolor\":\"white\",\"gridwidth\":2},\"yaxis\":{\"backgroundcolor\":\"#E5ECF6\",\"gridcolor\":\"white\",\"linecolor\":\"white\",\"showbackground\":true,\"ticks\":\"\",\"zerolinecolor\":\"white\",\"gridwidth\":2},\"zaxis\":{\"backgroundcolor\":\"#E5ECF6\",\"gridcolor\":\"white\",\"linecolor\":\"white\",\"showbackground\":true,\"ticks\":\"\",\"zerolinecolor\":\"white\",\"gridwidth\":2}},\"shapedefaults\":{\"line\":{\"color\":\"#2a3f5f\"}},\"annotationdefaults\":{\"arrowcolor\":\"#2a3f5f\",\"arrowhead\":0,\"arrowwidth\":1},\"geo\":{\"bgcolor\":\"white\",\"landcolor\":\"#E5ECF6\",\"subunitcolor\":\"white\",\"showland\":true,\"showlakes\":true,\"lakecolor\":\"white\"},\"title\":{\"x\":0.05},\"mapbox\":{\"style\":\"light\"}}},\"xaxis\":{\"anchor\":\"y\",\"domain\":[0.0,1.0],\"title\":{\"text\":\"DriveTrain\"}},\"yaxis\":{\"anchor\":\"x\",\"domain\":[0.0,1.0],\"title\":{\"text\":\"MPG_City\"}},\"legend\":{\"tracegroupgap\":0},\"margin\":{\"t\":60},\"boxmode\":\"group\"},                        {\"responsive\": true}                    ).then(function(){\n",
       "                            \n",
       "var gd = document.getElementById('8ae5ddc8-3d76-4104-ab6a-448e7f7bf92c');\n",
       "var x = new MutationObserver(function (mutations, observer) {{\n",
       "        var display = window.getComputedStyle(gd).display;\n",
       "        if (!display || display === 'none') {{\n",
       "            console.log([gd, 'removed!']);\n",
       "            Plotly.purge(gd);\n",
       "            observer.disconnect();\n",
       "        }}\n",
       "}});\n",
       "\n",
       "// Listen for the removal of the full notebook cells\n",
       "var notebookContainer = gd.closest('#notebook-container');\n",
       "if (notebookContainer) {{\n",
       "    x.observe(notebookContainer, {childList: true});\n",
       "}}\n",
       "\n",
       "// Listen for the clearing of the current output cell\n",
       "var outputEl = gd.closest('.output');\n",
       "if (outputEl) {{\n",
       "    x.observe(outputEl, {childList: true});\n",
       "}}\n",
       "\n",
       "                        })                };                });            </script>        </div>"
      ]
     },
     "metadata": {},
     "output_type": "display_data"
    }
   ],
   "source": [
    "px.box(df, x=\"DriveTrain\", y=\"MPG_City\")"
   ]
  },
  {
   "cell_type": "markdown",
   "id": "f50f8da7",
   "metadata": {},
   "source": [
    "En el gráfico se muestra la cantidad de millas por galón que recorre un automóvil según su transmisión"
   ]
  },
  {
   "cell_type": "code",
   "execution_count": 64,
   "id": "f3e817cc",
   "metadata": {},
   "outputs": [
    {
     "data": {
      "application/vnd.plotly.v1+json": {
       "config": {
        "plotlyServerURL": "https://plot.ly"
       },
       "data": [
        {
         "hovertemplate": "MPG_City=%{x}<br>MSRP=%{y}<extra></extra>",
         "legendgroup": "",
         "marker": {
          "color": "#636efa",
          "symbol": "circle"
         },
         "mode": "markers",
         "name": "",
         "orientation": "v",
         "showlegend": false,
         "type": "scatter",
         "x": [
          17,
          24,
          22,
          20,
          18,
          18,
          17,
          22,
          23,
          20,
          17,
          18,
          20,
          18,
          20,
          18,
          18,
          17,
          17,
          14,
          15,
          20,
          20,
          21,
          18,
          15,
          16,
          16,
          20,
          20,
          19,
          19,
          20,
          20,
          20,
          19,
          19,
          20,
          18,
          18,
          18,
          16,
          16,
          20,
          21,
          19,
          15,
          19,
          20,
          20,
          20,
          18,
          20,
          20,
          18,
          14,
          16,
          18,
          18,
          18,
          18,
          17,
          13,
          14,
          14,
          16,
          19,
          28,
          28,
          26,
          26,
          26,
          21,
          24,
          22,
          21,
          20,
          18,
          23,
          18,
          14,
          19,
          18,
          18,
          14,
          18,
          15,
          13,
          16,
          22,
          22,
          22,
          22,
          21,
          18,
          21,
          19,
          21,
          22,
          18,
          21,
          19,
          18,
          17,
          17,
          15,
          29,
          29,
          21,
          21,
          21,
          18,
          20,
          18,
          12,
          16,
          16,
          16,
          10,
          15,
          15,
          18,
          26,
          27,
          26,
          26,
          21,
          20,
          19,
          17,
          17,
          17,
          17,
          20,
          17,
          17,
          15,
          14,
          24,
          26,
          19,
          15,
          16,
          13,
          16,
          18,
          17,
          13,
          15,
          46,
          60,
          17,
          21,
          21,
          32,
          36,
          32,
          26,
          26,
          32,
          26,
          21,
          21,
          18,
          18,
          20,
          10,
          20,
          29,
          29,
          29,
          26,
          26,
          26,
          19,
          19,
          17,
          17,
          19,
          18,
          18,
          18,
          19,
          17,
          17,
          16,
          15,
          15,
          17,
          18,
          18,
          18,
          18,
          17,
          18,
          18,
          17,
          18,
          18,
          16,
          16,
          16,
          20,
          16,
          16,
          23,
          26,
          25,
          24,
          24,
          24,
          20,
          17,
          16,
          26,
          12,
          12,
          18,
          15,
          13,
          18,
          20,
          18,
          18,
          18,
          18,
          18,
          18,
          18,
          13,
          13,
          20,
          20,
          17,
          17,
          17,
          17,
          17,
          28,
          25,
          22,
          26,
          25,
          24,
          18,
          23,
          23,
          18,
          18,
          24,
          15,
          13,
          14,
          22,
          19,
          20,
          19,
          19,
          20,
          19,
          16,
          16,
          13,
          20,
          17,
          19,
          16,
          18,
          16,
          16,
          14,
          13,
          21,
          17,
          19,
          19,
          16,
          16,
          20,
          17,
          17,
          19,
          17,
          17,
          16,
          19,
          17,
          15,
          21,
          25,
          25,
          23,
          25,
          18,
          18,
          21,
          21,
          18,
          25,
          13,
          16,
          17,
          28,
          28,
          21,
          23,
          21,
          20,
          20,
          19,
          18,
          20,
          20,
          17,
          14,
          20,
          24,
          20,
          19,
          19,
          24,
          20,
          20,
          24,
          20,
          17,
          19,
          18,
          16,
          29,
          14,
          18,
          17,
          18,
          17,
          20,
          18,
          20,
          20,
          21,
          21,
          21,
          21,
          19,
          21,
          26,
          26,
          26,
          26,
          26,
          20,
          24,
          32,
          31,
          22,
          21,
          21,
          20,
          19,
          19,
          20,
          18,
          21,
          21,
          21,
          18,
          19,
          25,
          25,
          24,
          22,
          20,
          24,
          59,
          14,
          18,
          18,
          13,
          22,
          32,
          32,
          32,
          35,
          33,
          35,
          24,
          21,
          24,
          20,
          21,
          21,
          20,
          21,
          19,
          19,
          24,
          26,
          22,
          16,
          14,
          29,
          15,
          24,
          24,
          38,
          24,
          21,
          24,
          22,
          19,
          18,
          16,
          12,
          24,
          22,
          18,
          15,
          22,
          20,
          20,
          18,
          20,
          20,
          21,
          20,
          19,
          22,
          20
         ],
         "xaxis": "x",
         "y": [
          36945,
          23820,
          26990,
          33195,
          43755,
          46100,
          89765,
          25940,
          35940,
          31840,
          33430,
          34480,
          36640,
          39640,
          42490,
          44240,
          42840,
          49690,
          69190,
          48040,
          84600,
          35940,
          37390,
          40590,
          40840,
          49090,
          37000,
          52195,
          28495,
          30795,
          37995,
          30245,
          35495,
          36995,
          37245,
          39995,
          44295,
          44995,
          54995,
          69195,
          73195,
          48195,
          56595,
          33895,
          41045,
          32845,
          37895,
          26545,
          22180,
          26470,
          24895,
          28345,
          32245,
          35545,
          40720,
          52795,
          46995,
          30835,
          45445,
          50595,
          47955,
          76200,
          52975,
          42735,
          41465,
          30295,
          20255,
          11690,
          12585,
          14610,
          14810,
          16385,
          21900,
          18995,
          20370,
          21825,
          25000,
          27995,
          23495,
          24225,
          26395,
          27020,
          44535,
          51535,
          36100,
          18760,
          20310,
          40340,
          41995,
          22225,
          17985,
          22000,
          19090,
          21840,
          29865,
          24130,
          26860,
          25955,
          25215,
          33295,
          30950,
          27490,
          38380,
          34495,
          31230,
          32235,
          13670,
          15040,
          22035,
          18820,
          20220,
          24885,
          21795,
          32660,
          81795,
          17630,
          20300,
          20215,
          41475,
          34560,
          29670,
          22515,
          13270,
          13730,
          15460,
          15580,
          19135,
          20320,
          22735,
          24345,
          27370,
          30315,
          26930,
          18345,
          29380,
          37530,
          22010,
          33540,
          14385,
          17475,
          22290,
          31890,
          35725,
          46265,
          25640,
          16530,
          25717,
          29322,
          25395,
          20140,
          19110,
          27560,
          19860,
          18690,
          13270,
          14170,
          15850,
          19860,
          22260,
          17750,
          19490,
          23760,
          26960,
          24950,
          27450,
          33260,
          49995,
          21589,
          10539,
          11839,
          11939,
          13839,
          15389,
          15389,
          19339,
          20339,
          24589,
          26189,
          18739,
          28495,
          29795,
          32445,
          31145,
          42845,
          52545,
          34895,
          36395,
          31849,
          20449,
          29995,
          33995,
          43895,
          49995,
          63120,
          68995,
          59995,
          74995,
          69995,
          74995,
          81995,
          86995,
          27905,
          20130,
          25520,
          19635,
          16040,
          10280,
          11155,
          12360,
          13580,
          14630,
          18435,
          26000,
          20615,
          11905,
          72250,
          39250,
          25995,
          45700,
          64800,
          39195,
          32350,
          31045,
          32415,
          41010,
          48450,
          55750,
          63200,
          32455,
          52775,
          42915,
          32495,
          36895,
          40095,
          43495,
          41815,
          44925,
          50470,
          16999,
          19999,
          21087,
          15500,
          17200,
          19270,
          28750,
          22388,
          25193,
          25700,
          27200,
          14840,
          22350,
          76870,
          46470,
          26060,
          28370,
          32280,
          33480,
          35920,
          37630,
          38830,
          52120,
          94820,
          128420,
          45707,
          52800,
          48170,
          57270,
          74320,
          86970,
          90520,
          121770,
          126670,
          40320,
          56170,
          33780,
          50670,
          60670,
          29995,
          21595,
          24695,
          29595,
          23895,
          30895,
          34495,
          33995,
          22595,
          30492,
          33112,
          18892,
          14622,
          16722,
          19312,
          17232,
          29282,
          25700,
          25092,
          26992,
          29562,
          17495,
          33840,
          27339,
          20939,
          12740,
          14740,
          19240,
          17640,
          23290,
          27490,
          29440,
          24780,
          32780,
          26910,
          34390,
          19479,
          26650,
          28739,
          18825,
          23675,
          28790,
          21595,
          15495,
          22450,
          22395,
          17735,
          24295,
          35995,
          23845,
          31370,
          33500,
          17045,
          56665,
          79165,
          84165,
          76765,
          192465,
          43365,
          52365,
          30860,
          33360,
          35105,
          39465,
          40670,
          43175,
          40845,
          20585,
          10995,
          14300,
          15825,
          14850,
          16350,
          21410,
          23560,
          12965,
          14165,
          19945,
          20445,
          25645,
          27145,
          29345,
          31545,
          25045,
          31545,
          24520,
          21445,
          23895,
          23699,
          17163,
          12884,
          14500,
          12269,
          15568,
          17262,
          16497,
          20510,
          35695,
          27710,
          27930,
          54765,
          20290,
          14085,
          15030,
          15295,
          10760,
          11560,
          11290,
          19560,
          22775,
          19635,
          21965,
          26560,
          25920,
          26510,
          30920,
          23495,
          28800,
          22570,
          25130,
          12800,
          16495,
          25935,
          16695,
          35515,
          18715,
          19825,
          21055,
          21055,
          23785,
          23215,
          23955,
          33180,
          39235,
          65000,
          75000,
          19005,
          24955,
          40235,
          41250,
          25135,
          31745,
          34845,
          37560,
          37730,
          37885,
          40565,
          42565,
          45210,
          26135,
          35145
         ],
         "yaxis": "y"
        }
       ],
       "layout": {
        "legend": {
         "tracegroupgap": 0
        },
        "margin": {
         "t": 60
        },
        "template": {
         "data": {
          "bar": [
           {
            "error_x": {
             "color": "#2a3f5f"
            },
            "error_y": {
             "color": "#2a3f5f"
            },
            "marker": {
             "line": {
              "color": "#E5ECF6",
              "width": 0.5
             },
             "pattern": {
              "fillmode": "overlay",
              "size": 10,
              "solidity": 0.2
             }
            },
            "type": "bar"
           }
          ],
          "barpolar": [
           {
            "marker": {
             "line": {
              "color": "#E5ECF6",
              "width": 0.5
             },
             "pattern": {
              "fillmode": "overlay",
              "size": 10,
              "solidity": 0.2
             }
            },
            "type": "barpolar"
           }
          ],
          "carpet": [
           {
            "aaxis": {
             "endlinecolor": "#2a3f5f",
             "gridcolor": "white",
             "linecolor": "white",
             "minorgridcolor": "white",
             "startlinecolor": "#2a3f5f"
            },
            "baxis": {
             "endlinecolor": "#2a3f5f",
             "gridcolor": "white",
             "linecolor": "white",
             "minorgridcolor": "white",
             "startlinecolor": "#2a3f5f"
            },
            "type": "carpet"
           }
          ],
          "choropleth": [
           {
            "colorbar": {
             "outlinewidth": 0,
             "ticks": ""
            },
            "type": "choropleth"
           }
          ],
          "contour": [
           {
            "colorbar": {
             "outlinewidth": 0,
             "ticks": ""
            },
            "colorscale": [
             [
              0,
              "#0d0887"
             ],
             [
              0.1111111111111111,
              "#46039f"
             ],
             [
              0.2222222222222222,
              "#7201a8"
             ],
             [
              0.3333333333333333,
              "#9c179e"
             ],
             [
              0.4444444444444444,
              "#bd3786"
             ],
             [
              0.5555555555555556,
              "#d8576b"
             ],
             [
              0.6666666666666666,
              "#ed7953"
             ],
             [
              0.7777777777777778,
              "#fb9f3a"
             ],
             [
              0.8888888888888888,
              "#fdca26"
             ],
             [
              1,
              "#f0f921"
             ]
            ],
            "type": "contour"
           }
          ],
          "contourcarpet": [
           {
            "colorbar": {
             "outlinewidth": 0,
             "ticks": ""
            },
            "type": "contourcarpet"
           }
          ],
          "heatmap": [
           {
            "colorbar": {
             "outlinewidth": 0,
             "ticks": ""
            },
            "colorscale": [
             [
              0,
              "#0d0887"
             ],
             [
              0.1111111111111111,
              "#46039f"
             ],
             [
              0.2222222222222222,
              "#7201a8"
             ],
             [
              0.3333333333333333,
              "#9c179e"
             ],
             [
              0.4444444444444444,
              "#bd3786"
             ],
             [
              0.5555555555555556,
              "#d8576b"
             ],
             [
              0.6666666666666666,
              "#ed7953"
             ],
             [
              0.7777777777777778,
              "#fb9f3a"
             ],
             [
              0.8888888888888888,
              "#fdca26"
             ],
             [
              1,
              "#f0f921"
             ]
            ],
            "type": "heatmap"
           }
          ],
          "heatmapgl": [
           {
            "colorbar": {
             "outlinewidth": 0,
             "ticks": ""
            },
            "colorscale": [
             [
              0,
              "#0d0887"
             ],
             [
              0.1111111111111111,
              "#46039f"
             ],
             [
              0.2222222222222222,
              "#7201a8"
             ],
             [
              0.3333333333333333,
              "#9c179e"
             ],
             [
              0.4444444444444444,
              "#bd3786"
             ],
             [
              0.5555555555555556,
              "#d8576b"
             ],
             [
              0.6666666666666666,
              "#ed7953"
             ],
             [
              0.7777777777777778,
              "#fb9f3a"
             ],
             [
              0.8888888888888888,
              "#fdca26"
             ],
             [
              1,
              "#f0f921"
             ]
            ],
            "type": "heatmapgl"
           }
          ],
          "histogram": [
           {
            "marker": {
             "pattern": {
              "fillmode": "overlay",
              "size": 10,
              "solidity": 0.2
             }
            },
            "type": "histogram"
           }
          ],
          "histogram2d": [
           {
            "colorbar": {
             "outlinewidth": 0,
             "ticks": ""
            },
            "colorscale": [
             [
              0,
              "#0d0887"
             ],
             [
              0.1111111111111111,
              "#46039f"
             ],
             [
              0.2222222222222222,
              "#7201a8"
             ],
             [
              0.3333333333333333,
              "#9c179e"
             ],
             [
              0.4444444444444444,
              "#bd3786"
             ],
             [
              0.5555555555555556,
              "#d8576b"
             ],
             [
              0.6666666666666666,
              "#ed7953"
             ],
             [
              0.7777777777777778,
              "#fb9f3a"
             ],
             [
              0.8888888888888888,
              "#fdca26"
             ],
             [
              1,
              "#f0f921"
             ]
            ],
            "type": "histogram2d"
           }
          ],
          "histogram2dcontour": [
           {
            "colorbar": {
             "outlinewidth": 0,
             "ticks": ""
            },
            "colorscale": [
             [
              0,
              "#0d0887"
             ],
             [
              0.1111111111111111,
              "#46039f"
             ],
             [
              0.2222222222222222,
              "#7201a8"
             ],
             [
              0.3333333333333333,
              "#9c179e"
             ],
             [
              0.4444444444444444,
              "#bd3786"
             ],
             [
              0.5555555555555556,
              "#d8576b"
             ],
             [
              0.6666666666666666,
              "#ed7953"
             ],
             [
              0.7777777777777778,
              "#fb9f3a"
             ],
             [
              0.8888888888888888,
              "#fdca26"
             ],
             [
              1,
              "#f0f921"
             ]
            ],
            "type": "histogram2dcontour"
           }
          ],
          "mesh3d": [
           {
            "colorbar": {
             "outlinewidth": 0,
             "ticks": ""
            },
            "type": "mesh3d"
           }
          ],
          "parcoords": [
           {
            "line": {
             "colorbar": {
              "outlinewidth": 0,
              "ticks": ""
             }
            },
            "type": "parcoords"
           }
          ],
          "pie": [
           {
            "automargin": true,
            "type": "pie"
           }
          ],
          "scatter": [
           {
            "fillpattern": {
             "fillmode": "overlay",
             "size": 10,
             "solidity": 0.2
            },
            "type": "scatter"
           }
          ],
          "scatter3d": [
           {
            "line": {
             "colorbar": {
              "outlinewidth": 0,
              "ticks": ""
             }
            },
            "marker": {
             "colorbar": {
              "outlinewidth": 0,
              "ticks": ""
             }
            },
            "type": "scatter3d"
           }
          ],
          "scattercarpet": [
           {
            "marker": {
             "colorbar": {
              "outlinewidth": 0,
              "ticks": ""
             }
            },
            "type": "scattercarpet"
           }
          ],
          "scattergeo": [
           {
            "marker": {
             "colorbar": {
              "outlinewidth": 0,
              "ticks": ""
             }
            },
            "type": "scattergeo"
           }
          ],
          "scattergl": [
           {
            "marker": {
             "colorbar": {
              "outlinewidth": 0,
              "ticks": ""
             }
            },
            "type": "scattergl"
           }
          ],
          "scattermapbox": [
           {
            "marker": {
             "colorbar": {
              "outlinewidth": 0,
              "ticks": ""
             }
            },
            "type": "scattermapbox"
           }
          ],
          "scatterpolar": [
           {
            "marker": {
             "colorbar": {
              "outlinewidth": 0,
              "ticks": ""
             }
            },
            "type": "scatterpolar"
           }
          ],
          "scatterpolargl": [
           {
            "marker": {
             "colorbar": {
              "outlinewidth": 0,
              "ticks": ""
             }
            },
            "type": "scatterpolargl"
           }
          ],
          "scatterternary": [
           {
            "marker": {
             "colorbar": {
              "outlinewidth": 0,
              "ticks": ""
             }
            },
            "type": "scatterternary"
           }
          ],
          "surface": [
           {
            "colorbar": {
             "outlinewidth": 0,
             "ticks": ""
            },
            "colorscale": [
             [
              0,
              "#0d0887"
             ],
             [
              0.1111111111111111,
              "#46039f"
             ],
             [
              0.2222222222222222,
              "#7201a8"
             ],
             [
              0.3333333333333333,
              "#9c179e"
             ],
             [
              0.4444444444444444,
              "#bd3786"
             ],
             [
              0.5555555555555556,
              "#d8576b"
             ],
             [
              0.6666666666666666,
              "#ed7953"
             ],
             [
              0.7777777777777778,
              "#fb9f3a"
             ],
             [
              0.8888888888888888,
              "#fdca26"
             ],
             [
              1,
              "#f0f921"
             ]
            ],
            "type": "surface"
           }
          ],
          "table": [
           {
            "cells": {
             "fill": {
              "color": "#EBF0F8"
             },
             "line": {
              "color": "white"
             }
            },
            "header": {
             "fill": {
              "color": "#C8D4E3"
             },
             "line": {
              "color": "white"
             }
            },
            "type": "table"
           }
          ]
         },
         "layout": {
          "annotationdefaults": {
           "arrowcolor": "#2a3f5f",
           "arrowhead": 0,
           "arrowwidth": 1
          },
          "autotypenumbers": "strict",
          "coloraxis": {
           "colorbar": {
            "outlinewidth": 0,
            "ticks": ""
           }
          },
          "colorscale": {
           "diverging": [
            [
             0,
             "#8e0152"
            ],
            [
             0.1,
             "#c51b7d"
            ],
            [
             0.2,
             "#de77ae"
            ],
            [
             0.3,
             "#f1b6da"
            ],
            [
             0.4,
             "#fde0ef"
            ],
            [
             0.5,
             "#f7f7f7"
            ],
            [
             0.6,
             "#e6f5d0"
            ],
            [
             0.7,
             "#b8e186"
            ],
            [
             0.8,
             "#7fbc41"
            ],
            [
             0.9,
             "#4d9221"
            ],
            [
             1,
             "#276419"
            ]
           ],
           "sequential": [
            [
             0,
             "#0d0887"
            ],
            [
             0.1111111111111111,
             "#46039f"
            ],
            [
             0.2222222222222222,
             "#7201a8"
            ],
            [
             0.3333333333333333,
             "#9c179e"
            ],
            [
             0.4444444444444444,
             "#bd3786"
            ],
            [
             0.5555555555555556,
             "#d8576b"
            ],
            [
             0.6666666666666666,
             "#ed7953"
            ],
            [
             0.7777777777777778,
             "#fb9f3a"
            ],
            [
             0.8888888888888888,
             "#fdca26"
            ],
            [
             1,
             "#f0f921"
            ]
           ],
           "sequentialminus": [
            [
             0,
             "#0d0887"
            ],
            [
             0.1111111111111111,
             "#46039f"
            ],
            [
             0.2222222222222222,
             "#7201a8"
            ],
            [
             0.3333333333333333,
             "#9c179e"
            ],
            [
             0.4444444444444444,
             "#bd3786"
            ],
            [
             0.5555555555555556,
             "#d8576b"
            ],
            [
             0.6666666666666666,
             "#ed7953"
            ],
            [
             0.7777777777777778,
             "#fb9f3a"
            ],
            [
             0.8888888888888888,
             "#fdca26"
            ],
            [
             1,
             "#f0f921"
            ]
           ]
          },
          "colorway": [
           "#636efa",
           "#EF553B",
           "#00cc96",
           "#ab63fa",
           "#FFA15A",
           "#19d3f3",
           "#FF6692",
           "#B6E880",
           "#FF97FF",
           "#FECB52"
          ],
          "font": {
           "color": "#2a3f5f"
          },
          "geo": {
           "bgcolor": "white",
           "lakecolor": "white",
           "landcolor": "#E5ECF6",
           "showlakes": true,
           "showland": true,
           "subunitcolor": "white"
          },
          "hoverlabel": {
           "align": "left"
          },
          "hovermode": "closest",
          "mapbox": {
           "style": "light"
          },
          "paper_bgcolor": "white",
          "plot_bgcolor": "#E5ECF6",
          "polar": {
           "angularaxis": {
            "gridcolor": "white",
            "linecolor": "white",
            "ticks": ""
           },
           "bgcolor": "#E5ECF6",
           "radialaxis": {
            "gridcolor": "white",
            "linecolor": "white",
            "ticks": ""
           }
          },
          "scene": {
           "xaxis": {
            "backgroundcolor": "#E5ECF6",
            "gridcolor": "white",
            "gridwidth": 2,
            "linecolor": "white",
            "showbackground": true,
            "ticks": "",
            "zerolinecolor": "white"
           },
           "yaxis": {
            "backgroundcolor": "#E5ECF6",
            "gridcolor": "white",
            "gridwidth": 2,
            "linecolor": "white",
            "showbackground": true,
            "ticks": "",
            "zerolinecolor": "white"
           },
           "zaxis": {
            "backgroundcolor": "#E5ECF6",
            "gridcolor": "white",
            "gridwidth": 2,
            "linecolor": "white",
            "showbackground": true,
            "ticks": "",
            "zerolinecolor": "white"
           }
          },
          "shapedefaults": {
           "line": {
            "color": "#2a3f5f"
           }
          },
          "ternary": {
           "aaxis": {
            "gridcolor": "white",
            "linecolor": "white",
            "ticks": ""
           },
           "baxis": {
            "gridcolor": "white",
            "linecolor": "white",
            "ticks": ""
           },
           "bgcolor": "#E5ECF6",
           "caxis": {
            "gridcolor": "white",
            "linecolor": "white",
            "ticks": ""
           }
          },
          "title": {
           "x": 0.05
          },
          "xaxis": {
           "automargin": true,
           "gridcolor": "white",
           "linecolor": "white",
           "ticks": "",
           "title": {
            "standoff": 15
           },
           "zerolinecolor": "white",
           "zerolinewidth": 2
          },
          "yaxis": {
           "automargin": true,
           "gridcolor": "white",
           "linecolor": "white",
           "ticks": "",
           "title": {
            "standoff": 15
           },
           "zerolinecolor": "white",
           "zerolinewidth": 2
          }
         }
        },
        "xaxis": {
         "anchor": "y",
         "domain": [
          0,
          1
         ],
         "title": {
          "text": "MPG_City"
         }
        },
        "yaxis": {
         "anchor": "x",
         "domain": [
          0,
          1
         ],
         "title": {
          "text": "MSRP"
         }
        }
       }
      },
      "text/html": [
       "<div>                            <div id=\"d138df13-9be0-4ff6-b152-90b22ec59293\" class=\"plotly-graph-div\" style=\"height:525px; width:100%;\"></div>            <script type=\"text/javascript\">                require([\"plotly\"], function(Plotly) {                    window.PLOTLYENV=window.PLOTLYENV || {};                                    if (document.getElementById(\"d138df13-9be0-4ff6-b152-90b22ec59293\")) {                    Plotly.newPlot(                        \"d138df13-9be0-4ff6-b152-90b22ec59293\",                        [{\"hovertemplate\":\"MPG_City=%{x}<br>MSRP=%{y}<extra></extra>\",\"legendgroup\":\"\",\"marker\":{\"color\":\"#636efa\",\"symbol\":\"circle\"},\"mode\":\"markers\",\"name\":\"\",\"orientation\":\"v\",\"showlegend\":false,\"x\":[17,24,22,20,18,18,17,22,23,20,17,18,20,18,20,18,18,17,17,14,15,20,20,21,18,15,16,16,20,20,19,19,20,20,20,19,19,20,18,18,18,16,16,20,21,19,15,19,20,20,20,18,20,20,18,14,16,18,18,18,18,17,13,14,14,16,19,28,28,26,26,26,21,24,22,21,20,18,23,18,14,19,18,18,14,18,15,13,16,22,22,22,22,21,18,21,19,21,22,18,21,19,18,17,17,15,29,29,21,21,21,18,20,18,12,16,16,16,10,15,15,18,26,27,26,26,21,20,19,17,17,17,17,20,17,17,15,14,24,26,19,15,16,13,16,18,17,13,15,46,60,17,21,21,32,36,32,26,26,32,26,21,21,18,18,20,10,20,29,29,29,26,26,26,19,19,17,17,19,18,18,18,19,17,17,16,15,15,17,18,18,18,18,17,18,18,17,18,18,16,16,16,20,16,16,23,26,25,24,24,24,20,17,16,26,12,12,18,15,13,18,20,18,18,18,18,18,18,18,13,13,20,20,17,17,17,17,17,28,25,22,26,25,24,18,23,23,18,18,24,15,13,14,22,19,20,19,19,20,19,16,16,13,20,17,19,16,18,16,16,14,13,21,17,19,19,16,16,20,17,17,19,17,17,16,19,17,15,21,25,25,23,25,18,18,21,21,18,25,13,16,17,28,28,21,23,21,20,20,19,18,20,20,17,14,20,24,20,19,19,24,20,20,24,20,17,19,18,16,29,14,18,17,18,17,20,18,20,20,21,21,21,21,19,21,26,26,26,26,26,20,24,32,31,22,21,21,20,19,19,20,18,21,21,21,18,19,25,25,24,22,20,24,59,14,18,18,13,22,32,32,32,35,33,35,24,21,24,20,21,21,20,21,19,19,24,26,22,16,14,29,15,24,24,38,24,21,24,22,19,18,16,12,24,22,18,15,22,20,20,18,20,20,21,20,19,22,20],\"xaxis\":\"x\",\"y\":[36945.0,23820.0,26990.0,33195.0,43755.0,46100.0,89765.0,25940.0,35940.0,31840.0,33430.0,34480.0,36640.0,39640.0,42490.0,44240.0,42840.0,49690.0,69190.0,48040.0,84600.0,35940.0,37390.0,40590.0,40840.0,49090.0,37000.0,52195.0,28495.0,30795.0,37995.0,30245.0,35495.0,36995.0,37245.0,39995.0,44295.0,44995.0,54995.0,69195.0,73195.0,48195.0,56595.0,33895.0,41045.0,32845.0,37895.0,26545.0,22180.0,26470.0,24895.0,28345.0,32245.0,35545.0,40720.0,52795.0,46995.0,30835.0,45445.0,50595.0,47955.0,76200.0,52975.0,42735.0,41465.0,30295.0,20255.0,11690.0,12585.0,14610.0,14810.0,16385.0,21900.0,18995.0,20370.0,21825.0,25000.0,27995.0,23495.0,24225.0,26395.0,27020.0,44535.0,51535.0,36100.0,18760.0,20310.0,40340.0,41995.0,22225.0,17985.0,22000.0,19090.0,21840.0,29865.0,24130.0,26860.0,25955.0,25215.0,33295.0,30950.0,27490.0,38380.0,34495.0,31230.0,32235.0,13670.0,15040.0,22035.0,18820.0,20220.0,24885.0,21795.0,32660.0,81795.0,17630.0,20300.0,20215.0,41475.0,34560.0,29670.0,22515.0,13270.0,13730.0,15460.0,15580.0,19135.0,20320.0,22735.0,24345.0,27370.0,30315.0,26930.0,18345.0,29380.0,37530.0,22010.0,33540.0,14385.0,17475.0,22290.0,31890.0,35725.0,46265.0,25640.0,16530.0,25717.0,29322.0,25395.0,20140.0,19110.0,27560.0,19860.0,18690.0,13270.0,14170.0,15850.0,19860.0,22260.0,17750.0,19490.0,23760.0,26960.0,24950.0,27450.0,33260.0,49995.0,21589.0,10539.0,11839.0,11939.0,13839.0,15389.0,15389.0,19339.0,20339.0,24589.0,26189.0,18739.0,28495.0,29795.0,32445.0,31145.0,42845.0,52545.0,34895.0,36395.0,31849.0,20449.0,29995.0,33995.0,43895.0,49995.0,63120.0,68995.0,59995.0,74995.0,69995.0,74995.0,81995.0,86995.0,27905.0,20130.0,25520.0,19635.0,16040.0,10280.0,11155.0,12360.0,13580.0,14630.0,18435.0,26000.0,20615.0,11905.0,72250.0,39250.0,25995.0,45700.0,64800.0,39195.0,32350.0,31045.0,32415.0,41010.0,48450.0,55750.0,63200.0,32455.0,52775.0,42915.0,32495.0,36895.0,40095.0,43495.0,41815.0,44925.0,50470.0,16999.0,19999.0,21087.0,15500.0,17200.0,19270.0,28750.0,22388.0,25193.0,25700.0,27200.0,14840.0,22350.0,76870.0,46470.0,26060.0,28370.0,32280.0,33480.0,35920.0,37630.0,38830.0,52120.0,94820.0,128420.0,45707.0,52800.0,48170.0,57270.0,74320.0,86970.0,90520.0,121770.0,126670.0,40320.0,56170.0,33780.0,50670.0,60670.0,29995.0,21595.0,24695.0,29595.0,23895.0,30895.0,34495.0,33995.0,22595.0,30492.0,33112.0,18892.0,14622.0,16722.0,19312.0,17232.0,29282.0,25700.0,25092.0,26992.0,29562.0,17495.0,33840.0,27339.0,20939.0,12740.0,14740.0,19240.0,17640.0,23290.0,27490.0,29440.0,24780.0,32780.0,26910.0,34390.0,19479.0,26650.0,28739.0,18825.0,23675.0,28790.0,21595.0,15495.0,22450.0,22395.0,17735.0,24295.0,35995.0,23845.0,31370.0,33500.0,17045.0,56665.0,79165.0,84165.0,76765.0,192465.0,43365.0,52365.0,30860.0,33360.0,35105.0,39465.0,40670.0,43175.0,40845.0,20585.0,10995.0,14300.0,15825.0,14850.0,16350.0,21410.0,23560.0,12965.0,14165.0,19945.0,20445.0,25645.0,27145.0,29345.0,31545.0,25045.0,31545.0,24520.0,21445.0,23895.0,23699.0,17163.0,12884.0,14500.0,12269.0,15568.0,17262.0,16497.0,20510.0,35695.0,27710.0,27930.0,54765.0,20290.0,14085.0,15030.0,15295.0,10760.0,11560.0,11290.0,19560.0,22775.0,19635.0,21965.0,26560.0,25920.0,26510.0,30920.0,23495.0,28800.0,22570.0,25130.0,12800.0,16495.0,25935.0,16695.0,35515.0,18715.0,19825.0,21055.0,21055.0,23785.0,23215.0,23955.0,33180.0,39235.0,65000.0,75000.0,19005.0,24955.0,40235.0,41250.0,25135.0,31745.0,34845.0,37560.0,37730.0,37885.0,40565.0,42565.0,45210.0,26135.0,35145.0],\"yaxis\":\"y\",\"type\":\"scatter\"}],                        {\"template\":{\"data\":{\"histogram2dcontour\":[{\"type\":\"histogram2dcontour\",\"colorbar\":{\"outlinewidth\":0,\"ticks\":\"\"},\"colorscale\":[[0.0,\"#0d0887\"],[0.1111111111111111,\"#46039f\"],[0.2222222222222222,\"#7201a8\"],[0.3333333333333333,\"#9c179e\"],[0.4444444444444444,\"#bd3786\"],[0.5555555555555556,\"#d8576b\"],[0.6666666666666666,\"#ed7953\"],[0.7777777777777778,\"#fb9f3a\"],[0.8888888888888888,\"#fdca26\"],[1.0,\"#f0f921\"]]}],\"choropleth\":[{\"type\":\"choropleth\",\"colorbar\":{\"outlinewidth\":0,\"ticks\":\"\"}}],\"histogram2d\":[{\"type\":\"histogram2d\",\"colorbar\":{\"outlinewidth\":0,\"ticks\":\"\"},\"colorscale\":[[0.0,\"#0d0887\"],[0.1111111111111111,\"#46039f\"],[0.2222222222222222,\"#7201a8\"],[0.3333333333333333,\"#9c179e\"],[0.4444444444444444,\"#bd3786\"],[0.5555555555555556,\"#d8576b\"],[0.6666666666666666,\"#ed7953\"],[0.7777777777777778,\"#fb9f3a\"],[0.8888888888888888,\"#fdca26\"],[1.0,\"#f0f921\"]]}],\"heatmap\":[{\"type\":\"heatmap\",\"colorbar\":{\"outlinewidth\":0,\"ticks\":\"\"},\"colorscale\":[[0.0,\"#0d0887\"],[0.1111111111111111,\"#46039f\"],[0.2222222222222222,\"#7201a8\"],[0.3333333333333333,\"#9c179e\"],[0.4444444444444444,\"#bd3786\"],[0.5555555555555556,\"#d8576b\"],[0.6666666666666666,\"#ed7953\"],[0.7777777777777778,\"#fb9f3a\"],[0.8888888888888888,\"#fdca26\"],[1.0,\"#f0f921\"]]}],\"heatmapgl\":[{\"type\":\"heatmapgl\",\"colorbar\":{\"outlinewidth\":0,\"ticks\":\"\"},\"colorscale\":[[0.0,\"#0d0887\"],[0.1111111111111111,\"#46039f\"],[0.2222222222222222,\"#7201a8\"],[0.3333333333333333,\"#9c179e\"],[0.4444444444444444,\"#bd3786\"],[0.5555555555555556,\"#d8576b\"],[0.6666666666666666,\"#ed7953\"],[0.7777777777777778,\"#fb9f3a\"],[0.8888888888888888,\"#fdca26\"],[1.0,\"#f0f921\"]]}],\"contourcarpet\":[{\"type\":\"contourcarpet\",\"colorbar\":{\"outlinewidth\":0,\"ticks\":\"\"}}],\"contour\":[{\"type\":\"contour\",\"colorbar\":{\"outlinewidth\":0,\"ticks\":\"\"},\"colorscale\":[[0.0,\"#0d0887\"],[0.1111111111111111,\"#46039f\"],[0.2222222222222222,\"#7201a8\"],[0.3333333333333333,\"#9c179e\"],[0.4444444444444444,\"#bd3786\"],[0.5555555555555556,\"#d8576b\"],[0.6666666666666666,\"#ed7953\"],[0.7777777777777778,\"#fb9f3a\"],[0.8888888888888888,\"#fdca26\"],[1.0,\"#f0f921\"]]}],\"surface\":[{\"type\":\"surface\",\"colorbar\":{\"outlinewidth\":0,\"ticks\":\"\"},\"colorscale\":[[0.0,\"#0d0887\"],[0.1111111111111111,\"#46039f\"],[0.2222222222222222,\"#7201a8\"],[0.3333333333333333,\"#9c179e\"],[0.4444444444444444,\"#bd3786\"],[0.5555555555555556,\"#d8576b\"],[0.6666666666666666,\"#ed7953\"],[0.7777777777777778,\"#fb9f3a\"],[0.8888888888888888,\"#fdca26\"],[1.0,\"#f0f921\"]]}],\"mesh3d\":[{\"type\":\"mesh3d\",\"colorbar\":{\"outlinewidth\":0,\"ticks\":\"\"}}],\"scatter\":[{\"fillpattern\":{\"fillmode\":\"overlay\",\"size\":10,\"solidity\":0.2},\"type\":\"scatter\"}],\"parcoords\":[{\"type\":\"parcoords\",\"line\":{\"colorbar\":{\"outlinewidth\":0,\"ticks\":\"\"}}}],\"scatterpolargl\":[{\"type\":\"scatterpolargl\",\"marker\":{\"colorbar\":{\"outlinewidth\":0,\"ticks\":\"\"}}}],\"bar\":[{\"error_x\":{\"color\":\"#2a3f5f\"},\"error_y\":{\"color\":\"#2a3f5f\"},\"marker\":{\"line\":{\"color\":\"#E5ECF6\",\"width\":0.5},\"pattern\":{\"fillmode\":\"overlay\",\"size\":10,\"solidity\":0.2}},\"type\":\"bar\"}],\"scattergeo\":[{\"type\":\"scattergeo\",\"marker\":{\"colorbar\":{\"outlinewidth\":0,\"ticks\":\"\"}}}],\"scatterpolar\":[{\"type\":\"scatterpolar\",\"marker\":{\"colorbar\":{\"outlinewidth\":0,\"ticks\":\"\"}}}],\"histogram\":[{\"marker\":{\"pattern\":{\"fillmode\":\"overlay\",\"size\":10,\"solidity\":0.2}},\"type\":\"histogram\"}],\"scattergl\":[{\"type\":\"scattergl\",\"marker\":{\"colorbar\":{\"outlinewidth\":0,\"ticks\":\"\"}}}],\"scatter3d\":[{\"type\":\"scatter3d\",\"line\":{\"colorbar\":{\"outlinewidth\":0,\"ticks\":\"\"}},\"marker\":{\"colorbar\":{\"outlinewidth\":0,\"ticks\":\"\"}}}],\"scattermapbox\":[{\"type\":\"scattermapbox\",\"marker\":{\"colorbar\":{\"outlinewidth\":0,\"ticks\":\"\"}}}],\"scatterternary\":[{\"type\":\"scatterternary\",\"marker\":{\"colorbar\":{\"outlinewidth\":0,\"ticks\":\"\"}}}],\"scattercarpet\":[{\"type\":\"scattercarpet\",\"marker\":{\"colorbar\":{\"outlinewidth\":0,\"ticks\":\"\"}}}],\"carpet\":[{\"aaxis\":{\"endlinecolor\":\"#2a3f5f\",\"gridcolor\":\"white\",\"linecolor\":\"white\",\"minorgridcolor\":\"white\",\"startlinecolor\":\"#2a3f5f\"},\"baxis\":{\"endlinecolor\":\"#2a3f5f\",\"gridcolor\":\"white\",\"linecolor\":\"white\",\"minorgridcolor\":\"white\",\"startlinecolor\":\"#2a3f5f\"},\"type\":\"carpet\"}],\"table\":[{\"cells\":{\"fill\":{\"color\":\"#EBF0F8\"},\"line\":{\"color\":\"white\"}},\"header\":{\"fill\":{\"color\":\"#C8D4E3\"},\"line\":{\"color\":\"white\"}},\"type\":\"table\"}],\"barpolar\":[{\"marker\":{\"line\":{\"color\":\"#E5ECF6\",\"width\":0.5},\"pattern\":{\"fillmode\":\"overlay\",\"size\":10,\"solidity\":0.2}},\"type\":\"barpolar\"}],\"pie\":[{\"automargin\":true,\"type\":\"pie\"}]},\"layout\":{\"autotypenumbers\":\"strict\",\"colorway\":[\"#636efa\",\"#EF553B\",\"#00cc96\",\"#ab63fa\",\"#FFA15A\",\"#19d3f3\",\"#FF6692\",\"#B6E880\",\"#FF97FF\",\"#FECB52\"],\"font\":{\"color\":\"#2a3f5f\"},\"hovermode\":\"closest\",\"hoverlabel\":{\"align\":\"left\"},\"paper_bgcolor\":\"white\",\"plot_bgcolor\":\"#E5ECF6\",\"polar\":{\"bgcolor\":\"#E5ECF6\",\"angularaxis\":{\"gridcolor\":\"white\",\"linecolor\":\"white\",\"ticks\":\"\"},\"radialaxis\":{\"gridcolor\":\"white\",\"linecolor\":\"white\",\"ticks\":\"\"}},\"ternary\":{\"bgcolor\":\"#E5ECF6\",\"aaxis\":{\"gridcolor\":\"white\",\"linecolor\":\"white\",\"ticks\":\"\"},\"baxis\":{\"gridcolor\":\"white\",\"linecolor\":\"white\",\"ticks\":\"\"},\"caxis\":{\"gridcolor\":\"white\",\"linecolor\":\"white\",\"ticks\":\"\"}},\"coloraxis\":{\"colorbar\":{\"outlinewidth\":0,\"ticks\":\"\"}},\"colorscale\":{\"sequential\":[[0.0,\"#0d0887\"],[0.1111111111111111,\"#46039f\"],[0.2222222222222222,\"#7201a8\"],[0.3333333333333333,\"#9c179e\"],[0.4444444444444444,\"#bd3786\"],[0.5555555555555556,\"#d8576b\"],[0.6666666666666666,\"#ed7953\"],[0.7777777777777778,\"#fb9f3a\"],[0.8888888888888888,\"#fdca26\"],[1.0,\"#f0f921\"]],\"sequentialminus\":[[0.0,\"#0d0887\"],[0.1111111111111111,\"#46039f\"],[0.2222222222222222,\"#7201a8\"],[0.3333333333333333,\"#9c179e\"],[0.4444444444444444,\"#bd3786\"],[0.5555555555555556,\"#d8576b\"],[0.6666666666666666,\"#ed7953\"],[0.7777777777777778,\"#fb9f3a\"],[0.8888888888888888,\"#fdca26\"],[1.0,\"#f0f921\"]],\"diverging\":[[0,\"#8e0152\"],[0.1,\"#c51b7d\"],[0.2,\"#de77ae\"],[0.3,\"#f1b6da\"],[0.4,\"#fde0ef\"],[0.5,\"#f7f7f7\"],[0.6,\"#e6f5d0\"],[0.7,\"#b8e186\"],[0.8,\"#7fbc41\"],[0.9,\"#4d9221\"],[1,\"#276419\"]]},\"xaxis\":{\"gridcolor\":\"white\",\"linecolor\":\"white\",\"ticks\":\"\",\"title\":{\"standoff\":15},\"zerolinecolor\":\"white\",\"automargin\":true,\"zerolinewidth\":2},\"yaxis\":{\"gridcolor\":\"white\",\"linecolor\":\"white\",\"ticks\":\"\",\"title\":{\"standoff\":15},\"zerolinecolor\":\"white\",\"automargin\":true,\"zerolinewidth\":2},\"scene\":{\"xaxis\":{\"backgroundcolor\":\"#E5ECF6\",\"gridcolor\":\"white\",\"linecolor\":\"white\",\"showbackground\":true,\"ticks\":\"\",\"zerolinecolor\":\"white\",\"gridwidth\":2},\"yaxis\":{\"backgroundcolor\":\"#E5ECF6\",\"gridcolor\":\"white\",\"linecolor\":\"white\",\"showbackground\":true,\"ticks\":\"\",\"zerolinecolor\":\"white\",\"gridwidth\":2},\"zaxis\":{\"backgroundcolor\":\"#E5ECF6\",\"gridcolor\":\"white\",\"linecolor\":\"white\",\"showbackground\":true,\"ticks\":\"\",\"zerolinecolor\":\"white\",\"gridwidth\":2}},\"shapedefaults\":{\"line\":{\"color\":\"#2a3f5f\"}},\"annotationdefaults\":{\"arrowcolor\":\"#2a3f5f\",\"arrowhead\":0,\"arrowwidth\":1},\"geo\":{\"bgcolor\":\"white\",\"landcolor\":\"#E5ECF6\",\"subunitcolor\":\"white\",\"showland\":true,\"showlakes\":true,\"lakecolor\":\"white\"},\"title\":{\"x\":0.05},\"mapbox\":{\"style\":\"light\"}}},\"xaxis\":{\"anchor\":\"y\",\"domain\":[0.0,1.0],\"title\":{\"text\":\"MPG_City\"}},\"yaxis\":{\"anchor\":\"x\",\"domain\":[0.0,1.0],\"title\":{\"text\":\"MSRP\"}},\"legend\":{\"tracegroupgap\":0},\"margin\":{\"t\":60}},                        {\"responsive\": true}                    ).then(function(){\n",
       "                            \n",
       "var gd = document.getElementById('d138df13-9be0-4ff6-b152-90b22ec59293');\n",
       "var x = new MutationObserver(function (mutations, observer) {{\n",
       "        var display = window.getComputedStyle(gd).display;\n",
       "        if (!display || display === 'none') {{\n",
       "            console.log([gd, 'removed!']);\n",
       "            Plotly.purge(gd);\n",
       "            observer.disconnect();\n",
       "        }}\n",
       "}});\n",
       "\n",
       "// Listen for the removal of the full notebook cells\n",
       "var notebookContainer = gd.closest('#notebook-container');\n",
       "if (notebookContainer) {{\n",
       "    x.observe(notebookContainer, {childList: true});\n",
       "}}\n",
       "\n",
       "// Listen for the clearing of the current output cell\n",
       "var outputEl = gd.closest('.output');\n",
       "if (outputEl) {{\n",
       "    x.observe(outputEl, {childList: true});\n",
       "}}\n",
       "\n",
       "                        })                };                });            </script>        </div>"
      ]
     },
     "metadata": {},
     "output_type": "display_data"
    }
   ],
   "source": [
    "px.scatter(df,x=\"MPG_City\", y=\"MSRP\")"
   ]
  },
  {
   "cell_type": "markdown",
   "id": "72c960c7",
   "metadata": {},
   "source": [
    "En este gráfico los puntos se mustran donde se interceptan las variables \"MSRP\" y \"MPG_City\", por ejemplo en los datos que tenemos hay dos carros que recorren diez millas por galón en ciudad, uno con precio sugerido por el fabricante de 50.000 y otro de 41.475 (Para todos los scatter plot el análisis es similar)"
   ]
  },
  {
   "cell_type": "code",
   "execution_count": 65,
   "id": "9ec06153",
   "metadata": {},
   "outputs": [
    {
     "data": {
      "application/vnd.plotly.v1+json": {
       "config": {
        "plotlyServerURL": "https://plot.ly"
       },
       "data": [
        {
         "hovertemplate": "MPG_City=%{x}<br>Invoice=%{y}<extra></extra>",
         "legendgroup": "",
         "marker": {
          "color": "#636efa",
          "symbol": "circle"
         },
         "mode": "markers",
         "name": "",
         "orientation": "v",
         "showlegend": false,
         "type": "scatter",
         "x": [
          17,
          24,
          22,
          20,
          18,
          18,
          17,
          22,
          23,
          20,
          17,
          18,
          20,
          18,
          20,
          18,
          18,
          17,
          17,
          14,
          15,
          20,
          20,
          21,
          18,
          15,
          16,
          16,
          20,
          20,
          19,
          19,
          20,
          20,
          20,
          19,
          19,
          20,
          18,
          18,
          18,
          16,
          16,
          20,
          21,
          19,
          15,
          19,
          20,
          20,
          20,
          18,
          20,
          20,
          18,
          14,
          16,
          18,
          18,
          18,
          18,
          17,
          13,
          14,
          14,
          16,
          19,
          28,
          28,
          26,
          26,
          26,
          21,
          24,
          22,
          21,
          20,
          18,
          23,
          18,
          14,
          19,
          18,
          18,
          14,
          18,
          15,
          13,
          16,
          22,
          22,
          22,
          22,
          21,
          18,
          21,
          19,
          21,
          22,
          18,
          21,
          19,
          18,
          17,
          17,
          15,
          29,
          29,
          21,
          21,
          21,
          18,
          20,
          18,
          12,
          16,
          16,
          16,
          10,
          15,
          15,
          18,
          26,
          27,
          26,
          26,
          21,
          20,
          19,
          17,
          17,
          17,
          17,
          20,
          17,
          17,
          15,
          14,
          24,
          26,
          19,
          15,
          16,
          13,
          16,
          18,
          17,
          13,
          15,
          46,
          60,
          17,
          21,
          21,
          32,
          36,
          32,
          26,
          26,
          32,
          26,
          21,
          21,
          18,
          18,
          20,
          10,
          20,
          29,
          29,
          29,
          26,
          26,
          26,
          19,
          19,
          17,
          17,
          19,
          18,
          18,
          18,
          19,
          17,
          17,
          16,
          15,
          15,
          17,
          18,
          18,
          18,
          18,
          17,
          18,
          18,
          17,
          18,
          18,
          16,
          16,
          16,
          20,
          16,
          16,
          23,
          26,
          25,
          24,
          24,
          24,
          20,
          17,
          16,
          26,
          12,
          12,
          18,
          15,
          13,
          18,
          20,
          18,
          18,
          18,
          18,
          18,
          18,
          18,
          13,
          13,
          20,
          20,
          17,
          17,
          17,
          17,
          17,
          28,
          25,
          22,
          26,
          25,
          24,
          18,
          23,
          23,
          18,
          18,
          24,
          15,
          13,
          14,
          22,
          19,
          20,
          19,
          19,
          20,
          19,
          16,
          16,
          13,
          20,
          17,
          19,
          16,
          18,
          16,
          16,
          14,
          13,
          21,
          17,
          19,
          19,
          16,
          16,
          20,
          17,
          17,
          19,
          17,
          17,
          16,
          19,
          17,
          15,
          21,
          25,
          25,
          23,
          25,
          18,
          18,
          21,
          21,
          18,
          25,
          13,
          16,
          17,
          28,
          28,
          21,
          23,
          21,
          20,
          20,
          19,
          18,
          20,
          20,
          17,
          14,
          20,
          24,
          20,
          19,
          19,
          24,
          20,
          20,
          24,
          20,
          17,
          19,
          18,
          16,
          29,
          14,
          18,
          17,
          18,
          17,
          20,
          18,
          20,
          20,
          21,
          21,
          21,
          21,
          19,
          21,
          26,
          26,
          26,
          26,
          26,
          20,
          24,
          32,
          31,
          22,
          21,
          21,
          20,
          19,
          19,
          20,
          18,
          21,
          21,
          21,
          18,
          19,
          25,
          25,
          24,
          22,
          20,
          24,
          59,
          14,
          18,
          18,
          13,
          22,
          32,
          32,
          32,
          35,
          33,
          35,
          24,
          21,
          24,
          20,
          21,
          21,
          20,
          21,
          19,
          19,
          24,
          26,
          22,
          16,
          14,
          29,
          15,
          24,
          24,
          38,
          24,
          21,
          24,
          22,
          19,
          18,
          16,
          12,
          24,
          22,
          18,
          15,
          22,
          20,
          20,
          18,
          20,
          20,
          21,
          20,
          19,
          22,
          20
         ],
         "xaxis": "x",
         "y": [
          33337,
          21761,
          24647,
          30299,
          39014,
          41100,
          79978,
          23508,
          32506,
          28846,
          30366,
          31388,
          33129,
          35992,
          38325,
          40075,
          38840,
          44936,
          64740,
          43556,
          76417,
          32512,
          33891,
          36739,
          37060,
          44446,
          33873,
          47720,
          26155,
          28245,
          34800,
          27745,
          32525,
          33890,
          34115,
          36620,
          40530,
          41170,
          50270,
          63190,
          66830,
          44170,
          51815,
          31065,
          37575,
          30110,
          34357,
          24085,
          20351,
          24282,
          22835,
          26047,
          29566,
          32244,
          36927,
          48377,
          43523,
          28575,
          41650,
          46362,
          43841,
          70546,
          48541,
          37422,
          36287,
          27479,
          19108,
          10965,
          11802,
          13697,
          13884,
          15357,
          20095,
          17434,
          18639,
          20026,
          22931,
          25672,
          21551,
          22222,
          23954,
          24518,
          39068,
          45193,
          31689,
          17070,
          18480,
          35399,
          39306,
          20394,
          16919,
          20573,
          17805,
          20284,
          27797,
          22452,
          24909,
          24172,
          23451,
          30884,
          28613,
          25371,
          35063,
          32033,
          28725,
          29472,
          12849,
          14086,
          20502,
          17512,
          18821,
          23058,
          20508,
          29812,
          74451,
          16264,
          18670,
          18076,
          36494,
          30468,
          26983,
          20907,
          12482,
          12906,
          14496,
          14607,
          17878,
          18881,
          20857,
          22856,
          25105,
          27756,
          24498,
          16943,
          26875,
          34483,
          19490,
          29405,
          13717,
          16375,
          20457,
          28922,
          31361,
          40534,
          23215,
          14877,
          22604,
          25759,
          23043,
          18451,
          17911,
          24843,
          18419,
          17334,
          12175,
          12996,
          14531,
          17924,
          20080,
          16265,
          17849,
          21428,
          24304,
          22498,
          24744,
          29965,
          45815,
          20201,
          10107,
          11116,
          11209,
          12781,
          14207,
          14207,
          17574,
          18380,
          22055,
          23486,
          17101,
          26157,
          27536,
          29783,
          28320,
          38792,
          47575,
          31756,
          33121,
          29977,
          19261,
          27355,
          30995,
          40004,
          45556,
          57499,
          62846,
          54656,
          68306,
          63756,
          68306,
          74676,
          79226,
          25686,
          18973,
          23275,
          18630,
          14910,
          9875,
          10705,
          11630,
          12830,
          13790,
          16850,
          23764,
          19400,
          11410,
          65807,
          35777,
          23969,
          39838,
          56455,
          34576,
          28755,
          27404,
          28611,
          36196,
          42232,
          48583,
          55063,
          28647,
          46360,
          39443,
          29969,
          33929,
          36809,
          39869,
          38418,
          41217,
          46208,
          15437,
          18137,
          19742,
          14525,
          15922,
          17817,
          26600,
          20701,
          23285,
          23794,
          25179,
          14070,
          20482,
          71540,
          43268,
          24249,
          26435,
          30071,
          31187,
          33456,
          35046,
          36162,
          48522,
          88324,
          119600,
          41966,
          49104,
          44849,
          53382,
          69168,
          80939,
          84325,
          113388,
          117854,
          37548,
          52289,
          31466,
          47174,
          56474,
          27317,
          19848,
          23217,
          27148,
          21918,
          28318,
          31558,
          30846,
          20748,
          28330,
          30763,
          17569,
          13751,
          15718,
          17957,
          16196,
          27250,
          23883,
          23456,
          25218,
          27466,
          16295,
          30815,
          25972,
          19512,
          12205,
          13747,
          18030,
          16444,
          21580,
          25182,
          26966,
          22958,
          30019,
          25203,
          31845,
          18253,
          24926,
          27300,
          17642,
          21485,
          26120,
          19810,
          14375,
          20595,
          20545,
          16369,
          22284,
          32997,
          21644,
          28454,
          30710,
          15973,
          49865,
          69229,
          72206,
          67128,
          173560,
          37886,
          45766,
          29269,
          31562,
          33011,
          37721,
          38520,
          40883,
          38376,
          19238,
          10319,
          13393,
          14811,
          13904,
          15299,
          19801,
          21779,
          12340,
          13480,
          18399,
          18713,
          23336,
          24687,
          26660,
          28603,
          23022,
          29130,
          22304,
          19646,
          21773,
          22307,
          16949,
          12719,
          14317,
          12116,
          15378,
          17053,
          16291,
          18926,
          31827,
          24801,
          24915,
          47986,
          18553,
          13065,
          13650,
          13889,
          10144,
          10896,
          10642,
          17558,
          20325,
          17722,
          19819,
          23693,
          23125,
          23908,
          27271,
          21198,
          25690,
          20363,
          22787,
          11879,
          14978,
          23520,
          15156,
          32243,
          17478,
          18109,
          19638,
          19638,
          21686,
          21689,
          21898,
          30583,
          36052,
          59912,
          69130,
          17427,
          22801,
          36956,
          38851,
          23701,
          29916,
          32902,
          35382,
          35542,
          35688,
          38203,
          40083,
          42573,
          24641,
          33112
         ],
         "yaxis": "y"
        }
       ],
       "layout": {
        "legend": {
         "tracegroupgap": 0
        },
        "margin": {
         "t": 60
        },
        "template": {
         "data": {
          "bar": [
           {
            "error_x": {
             "color": "#2a3f5f"
            },
            "error_y": {
             "color": "#2a3f5f"
            },
            "marker": {
             "line": {
              "color": "#E5ECF6",
              "width": 0.5
             },
             "pattern": {
              "fillmode": "overlay",
              "size": 10,
              "solidity": 0.2
             }
            },
            "type": "bar"
           }
          ],
          "barpolar": [
           {
            "marker": {
             "line": {
              "color": "#E5ECF6",
              "width": 0.5
             },
             "pattern": {
              "fillmode": "overlay",
              "size": 10,
              "solidity": 0.2
             }
            },
            "type": "barpolar"
           }
          ],
          "carpet": [
           {
            "aaxis": {
             "endlinecolor": "#2a3f5f",
             "gridcolor": "white",
             "linecolor": "white",
             "minorgridcolor": "white",
             "startlinecolor": "#2a3f5f"
            },
            "baxis": {
             "endlinecolor": "#2a3f5f",
             "gridcolor": "white",
             "linecolor": "white",
             "minorgridcolor": "white",
             "startlinecolor": "#2a3f5f"
            },
            "type": "carpet"
           }
          ],
          "choropleth": [
           {
            "colorbar": {
             "outlinewidth": 0,
             "ticks": ""
            },
            "type": "choropleth"
           }
          ],
          "contour": [
           {
            "colorbar": {
             "outlinewidth": 0,
             "ticks": ""
            },
            "colorscale": [
             [
              0,
              "#0d0887"
             ],
             [
              0.1111111111111111,
              "#46039f"
             ],
             [
              0.2222222222222222,
              "#7201a8"
             ],
             [
              0.3333333333333333,
              "#9c179e"
             ],
             [
              0.4444444444444444,
              "#bd3786"
             ],
             [
              0.5555555555555556,
              "#d8576b"
             ],
             [
              0.6666666666666666,
              "#ed7953"
             ],
             [
              0.7777777777777778,
              "#fb9f3a"
             ],
             [
              0.8888888888888888,
              "#fdca26"
             ],
             [
              1,
              "#f0f921"
             ]
            ],
            "type": "contour"
           }
          ],
          "contourcarpet": [
           {
            "colorbar": {
             "outlinewidth": 0,
             "ticks": ""
            },
            "type": "contourcarpet"
           }
          ],
          "heatmap": [
           {
            "colorbar": {
             "outlinewidth": 0,
             "ticks": ""
            },
            "colorscale": [
             [
              0,
              "#0d0887"
             ],
             [
              0.1111111111111111,
              "#46039f"
             ],
             [
              0.2222222222222222,
              "#7201a8"
             ],
             [
              0.3333333333333333,
              "#9c179e"
             ],
             [
              0.4444444444444444,
              "#bd3786"
             ],
             [
              0.5555555555555556,
              "#d8576b"
             ],
             [
              0.6666666666666666,
              "#ed7953"
             ],
             [
              0.7777777777777778,
              "#fb9f3a"
             ],
             [
              0.8888888888888888,
              "#fdca26"
             ],
             [
              1,
              "#f0f921"
             ]
            ],
            "type": "heatmap"
           }
          ],
          "heatmapgl": [
           {
            "colorbar": {
             "outlinewidth": 0,
             "ticks": ""
            },
            "colorscale": [
             [
              0,
              "#0d0887"
             ],
             [
              0.1111111111111111,
              "#46039f"
             ],
             [
              0.2222222222222222,
              "#7201a8"
             ],
             [
              0.3333333333333333,
              "#9c179e"
             ],
             [
              0.4444444444444444,
              "#bd3786"
             ],
             [
              0.5555555555555556,
              "#d8576b"
             ],
             [
              0.6666666666666666,
              "#ed7953"
             ],
             [
              0.7777777777777778,
              "#fb9f3a"
             ],
             [
              0.8888888888888888,
              "#fdca26"
             ],
             [
              1,
              "#f0f921"
             ]
            ],
            "type": "heatmapgl"
           }
          ],
          "histogram": [
           {
            "marker": {
             "pattern": {
              "fillmode": "overlay",
              "size": 10,
              "solidity": 0.2
             }
            },
            "type": "histogram"
           }
          ],
          "histogram2d": [
           {
            "colorbar": {
             "outlinewidth": 0,
             "ticks": ""
            },
            "colorscale": [
             [
              0,
              "#0d0887"
             ],
             [
              0.1111111111111111,
              "#46039f"
             ],
             [
              0.2222222222222222,
              "#7201a8"
             ],
             [
              0.3333333333333333,
              "#9c179e"
             ],
             [
              0.4444444444444444,
              "#bd3786"
             ],
             [
              0.5555555555555556,
              "#d8576b"
             ],
             [
              0.6666666666666666,
              "#ed7953"
             ],
             [
              0.7777777777777778,
              "#fb9f3a"
             ],
             [
              0.8888888888888888,
              "#fdca26"
             ],
             [
              1,
              "#f0f921"
             ]
            ],
            "type": "histogram2d"
           }
          ],
          "histogram2dcontour": [
           {
            "colorbar": {
             "outlinewidth": 0,
             "ticks": ""
            },
            "colorscale": [
             [
              0,
              "#0d0887"
             ],
             [
              0.1111111111111111,
              "#46039f"
             ],
             [
              0.2222222222222222,
              "#7201a8"
             ],
             [
              0.3333333333333333,
              "#9c179e"
             ],
             [
              0.4444444444444444,
              "#bd3786"
             ],
             [
              0.5555555555555556,
              "#d8576b"
             ],
             [
              0.6666666666666666,
              "#ed7953"
             ],
             [
              0.7777777777777778,
              "#fb9f3a"
             ],
             [
              0.8888888888888888,
              "#fdca26"
             ],
             [
              1,
              "#f0f921"
             ]
            ],
            "type": "histogram2dcontour"
           }
          ],
          "mesh3d": [
           {
            "colorbar": {
             "outlinewidth": 0,
             "ticks": ""
            },
            "type": "mesh3d"
           }
          ],
          "parcoords": [
           {
            "line": {
             "colorbar": {
              "outlinewidth": 0,
              "ticks": ""
             }
            },
            "type": "parcoords"
           }
          ],
          "pie": [
           {
            "automargin": true,
            "type": "pie"
           }
          ],
          "scatter": [
           {
            "fillpattern": {
             "fillmode": "overlay",
             "size": 10,
             "solidity": 0.2
            },
            "type": "scatter"
           }
          ],
          "scatter3d": [
           {
            "line": {
             "colorbar": {
              "outlinewidth": 0,
              "ticks": ""
             }
            },
            "marker": {
             "colorbar": {
              "outlinewidth": 0,
              "ticks": ""
             }
            },
            "type": "scatter3d"
           }
          ],
          "scattercarpet": [
           {
            "marker": {
             "colorbar": {
              "outlinewidth": 0,
              "ticks": ""
             }
            },
            "type": "scattercarpet"
           }
          ],
          "scattergeo": [
           {
            "marker": {
             "colorbar": {
              "outlinewidth": 0,
              "ticks": ""
             }
            },
            "type": "scattergeo"
           }
          ],
          "scattergl": [
           {
            "marker": {
             "colorbar": {
              "outlinewidth": 0,
              "ticks": ""
             }
            },
            "type": "scattergl"
           }
          ],
          "scattermapbox": [
           {
            "marker": {
             "colorbar": {
              "outlinewidth": 0,
              "ticks": ""
             }
            },
            "type": "scattermapbox"
           }
          ],
          "scatterpolar": [
           {
            "marker": {
             "colorbar": {
              "outlinewidth": 0,
              "ticks": ""
             }
            },
            "type": "scatterpolar"
           }
          ],
          "scatterpolargl": [
           {
            "marker": {
             "colorbar": {
              "outlinewidth": 0,
              "ticks": ""
             }
            },
            "type": "scatterpolargl"
           }
          ],
          "scatterternary": [
           {
            "marker": {
             "colorbar": {
              "outlinewidth": 0,
              "ticks": ""
             }
            },
            "type": "scatterternary"
           }
          ],
          "surface": [
           {
            "colorbar": {
             "outlinewidth": 0,
             "ticks": ""
            },
            "colorscale": [
             [
              0,
              "#0d0887"
             ],
             [
              0.1111111111111111,
              "#46039f"
             ],
             [
              0.2222222222222222,
              "#7201a8"
             ],
             [
              0.3333333333333333,
              "#9c179e"
             ],
             [
              0.4444444444444444,
              "#bd3786"
             ],
             [
              0.5555555555555556,
              "#d8576b"
             ],
             [
              0.6666666666666666,
              "#ed7953"
             ],
             [
              0.7777777777777778,
              "#fb9f3a"
             ],
             [
              0.8888888888888888,
              "#fdca26"
             ],
             [
              1,
              "#f0f921"
             ]
            ],
            "type": "surface"
           }
          ],
          "table": [
           {
            "cells": {
             "fill": {
              "color": "#EBF0F8"
             },
             "line": {
              "color": "white"
             }
            },
            "header": {
             "fill": {
              "color": "#C8D4E3"
             },
             "line": {
              "color": "white"
             }
            },
            "type": "table"
           }
          ]
         },
         "layout": {
          "annotationdefaults": {
           "arrowcolor": "#2a3f5f",
           "arrowhead": 0,
           "arrowwidth": 1
          },
          "autotypenumbers": "strict",
          "coloraxis": {
           "colorbar": {
            "outlinewidth": 0,
            "ticks": ""
           }
          },
          "colorscale": {
           "diverging": [
            [
             0,
             "#8e0152"
            ],
            [
             0.1,
             "#c51b7d"
            ],
            [
             0.2,
             "#de77ae"
            ],
            [
             0.3,
             "#f1b6da"
            ],
            [
             0.4,
             "#fde0ef"
            ],
            [
             0.5,
             "#f7f7f7"
            ],
            [
             0.6,
             "#e6f5d0"
            ],
            [
             0.7,
             "#b8e186"
            ],
            [
             0.8,
             "#7fbc41"
            ],
            [
             0.9,
             "#4d9221"
            ],
            [
             1,
             "#276419"
            ]
           ],
           "sequential": [
            [
             0,
             "#0d0887"
            ],
            [
             0.1111111111111111,
             "#46039f"
            ],
            [
             0.2222222222222222,
             "#7201a8"
            ],
            [
             0.3333333333333333,
             "#9c179e"
            ],
            [
             0.4444444444444444,
             "#bd3786"
            ],
            [
             0.5555555555555556,
             "#d8576b"
            ],
            [
             0.6666666666666666,
             "#ed7953"
            ],
            [
             0.7777777777777778,
             "#fb9f3a"
            ],
            [
             0.8888888888888888,
             "#fdca26"
            ],
            [
             1,
             "#f0f921"
            ]
           ],
           "sequentialminus": [
            [
             0,
             "#0d0887"
            ],
            [
             0.1111111111111111,
             "#46039f"
            ],
            [
             0.2222222222222222,
             "#7201a8"
            ],
            [
             0.3333333333333333,
             "#9c179e"
            ],
            [
             0.4444444444444444,
             "#bd3786"
            ],
            [
             0.5555555555555556,
             "#d8576b"
            ],
            [
             0.6666666666666666,
             "#ed7953"
            ],
            [
             0.7777777777777778,
             "#fb9f3a"
            ],
            [
             0.8888888888888888,
             "#fdca26"
            ],
            [
             1,
             "#f0f921"
            ]
           ]
          },
          "colorway": [
           "#636efa",
           "#EF553B",
           "#00cc96",
           "#ab63fa",
           "#FFA15A",
           "#19d3f3",
           "#FF6692",
           "#B6E880",
           "#FF97FF",
           "#FECB52"
          ],
          "font": {
           "color": "#2a3f5f"
          },
          "geo": {
           "bgcolor": "white",
           "lakecolor": "white",
           "landcolor": "#E5ECF6",
           "showlakes": true,
           "showland": true,
           "subunitcolor": "white"
          },
          "hoverlabel": {
           "align": "left"
          },
          "hovermode": "closest",
          "mapbox": {
           "style": "light"
          },
          "paper_bgcolor": "white",
          "plot_bgcolor": "#E5ECF6",
          "polar": {
           "angularaxis": {
            "gridcolor": "white",
            "linecolor": "white",
            "ticks": ""
           },
           "bgcolor": "#E5ECF6",
           "radialaxis": {
            "gridcolor": "white",
            "linecolor": "white",
            "ticks": ""
           }
          },
          "scene": {
           "xaxis": {
            "backgroundcolor": "#E5ECF6",
            "gridcolor": "white",
            "gridwidth": 2,
            "linecolor": "white",
            "showbackground": true,
            "ticks": "",
            "zerolinecolor": "white"
           },
           "yaxis": {
            "backgroundcolor": "#E5ECF6",
            "gridcolor": "white",
            "gridwidth": 2,
            "linecolor": "white",
            "showbackground": true,
            "ticks": "",
            "zerolinecolor": "white"
           },
           "zaxis": {
            "backgroundcolor": "#E5ECF6",
            "gridcolor": "white",
            "gridwidth": 2,
            "linecolor": "white",
            "showbackground": true,
            "ticks": "",
            "zerolinecolor": "white"
           }
          },
          "shapedefaults": {
           "line": {
            "color": "#2a3f5f"
           }
          },
          "ternary": {
           "aaxis": {
            "gridcolor": "white",
            "linecolor": "white",
            "ticks": ""
           },
           "baxis": {
            "gridcolor": "white",
            "linecolor": "white",
            "ticks": ""
           },
           "bgcolor": "#E5ECF6",
           "caxis": {
            "gridcolor": "white",
            "linecolor": "white",
            "ticks": ""
           }
          },
          "title": {
           "x": 0.05
          },
          "xaxis": {
           "automargin": true,
           "gridcolor": "white",
           "linecolor": "white",
           "ticks": "",
           "title": {
            "standoff": 15
           },
           "zerolinecolor": "white",
           "zerolinewidth": 2
          },
          "yaxis": {
           "automargin": true,
           "gridcolor": "white",
           "linecolor": "white",
           "ticks": "",
           "title": {
            "standoff": 15
           },
           "zerolinecolor": "white",
           "zerolinewidth": 2
          }
         }
        },
        "xaxis": {
         "anchor": "y",
         "domain": [
          0,
          1
         ],
         "title": {
          "text": "MPG_City"
         }
        },
        "yaxis": {
         "anchor": "x",
         "domain": [
          0,
          1
         ],
         "title": {
          "text": "Invoice"
         }
        }
       }
      },
      "text/html": [
       "<div>                            <div id=\"00abc528-f2be-49ce-a94a-66ae4a6745dd\" class=\"plotly-graph-div\" style=\"height:525px; width:100%;\"></div>            <script type=\"text/javascript\">                require([\"plotly\"], function(Plotly) {                    window.PLOTLYENV=window.PLOTLYENV || {};                                    if (document.getElementById(\"00abc528-f2be-49ce-a94a-66ae4a6745dd\")) {                    Plotly.newPlot(                        \"00abc528-f2be-49ce-a94a-66ae4a6745dd\",                        [{\"hovertemplate\":\"MPG_City=%{x}<br>Invoice=%{y}<extra></extra>\",\"legendgroup\":\"\",\"marker\":{\"color\":\"#636efa\",\"symbol\":\"circle\"},\"mode\":\"markers\",\"name\":\"\",\"orientation\":\"v\",\"showlegend\":false,\"x\":[17,24,22,20,18,18,17,22,23,20,17,18,20,18,20,18,18,17,17,14,15,20,20,21,18,15,16,16,20,20,19,19,20,20,20,19,19,20,18,18,18,16,16,20,21,19,15,19,20,20,20,18,20,20,18,14,16,18,18,18,18,17,13,14,14,16,19,28,28,26,26,26,21,24,22,21,20,18,23,18,14,19,18,18,14,18,15,13,16,22,22,22,22,21,18,21,19,21,22,18,21,19,18,17,17,15,29,29,21,21,21,18,20,18,12,16,16,16,10,15,15,18,26,27,26,26,21,20,19,17,17,17,17,20,17,17,15,14,24,26,19,15,16,13,16,18,17,13,15,46,60,17,21,21,32,36,32,26,26,32,26,21,21,18,18,20,10,20,29,29,29,26,26,26,19,19,17,17,19,18,18,18,19,17,17,16,15,15,17,18,18,18,18,17,18,18,17,18,18,16,16,16,20,16,16,23,26,25,24,24,24,20,17,16,26,12,12,18,15,13,18,20,18,18,18,18,18,18,18,13,13,20,20,17,17,17,17,17,28,25,22,26,25,24,18,23,23,18,18,24,15,13,14,22,19,20,19,19,20,19,16,16,13,20,17,19,16,18,16,16,14,13,21,17,19,19,16,16,20,17,17,19,17,17,16,19,17,15,21,25,25,23,25,18,18,21,21,18,25,13,16,17,28,28,21,23,21,20,20,19,18,20,20,17,14,20,24,20,19,19,24,20,20,24,20,17,19,18,16,29,14,18,17,18,17,20,18,20,20,21,21,21,21,19,21,26,26,26,26,26,20,24,32,31,22,21,21,20,19,19,20,18,21,21,21,18,19,25,25,24,22,20,24,59,14,18,18,13,22,32,32,32,35,33,35,24,21,24,20,21,21,20,21,19,19,24,26,22,16,14,29,15,24,24,38,24,21,24,22,19,18,16,12,24,22,18,15,22,20,20,18,20,20,21,20,19,22,20],\"xaxis\":\"x\",\"y\":[33337.0,21761.0,24647.0,30299.0,39014.0,41100.0,79978.0,23508.0,32506.0,28846.0,30366.0,31388.0,33129.0,35992.0,38325.0,40075.0,38840.0,44936.0,64740.0,43556.0,76417.0,32512.0,33891.0,36739.0,37060.0,44446.0,33873.0,47720.0,26155.0,28245.0,34800.0,27745.0,32525.0,33890.0,34115.0,36620.0,40530.0,41170.0,50270.0,63190.0,66830.0,44170.0,51815.0,31065.0,37575.0,30110.0,34357.0,24085.0,20351.0,24282.0,22835.0,26047.0,29566.0,32244.0,36927.0,48377.0,43523.0,28575.0,41650.0,46362.0,43841.0,70546.0,48541.0,37422.0,36287.0,27479.0,19108.0,10965.0,11802.0,13697.0,13884.0,15357.0,20095.0,17434.0,18639.0,20026.0,22931.0,25672.0,21551.0,22222.0,23954.0,24518.0,39068.0,45193.0,31689.0,17070.0,18480.0,35399.0,39306.0,20394.0,16919.0,20573.0,17805.0,20284.0,27797.0,22452.0,24909.0,24172.0,23451.0,30884.0,28613.0,25371.0,35063.0,32033.0,28725.0,29472.0,12849.0,14086.0,20502.0,17512.0,18821.0,23058.0,20508.0,29812.0,74451.0,16264.0,18670.0,18076.0,36494.0,30468.0,26983.0,20907.0,12482.0,12906.0,14496.0,14607.0,17878.0,18881.0,20857.0,22856.0,25105.0,27756.0,24498.0,16943.0,26875.0,34483.0,19490.0,29405.0,13717.0,16375.0,20457.0,28922.0,31361.0,40534.0,23215.0,14877.0,22604.0,25759.0,23043.0,18451.0,17911.0,24843.0,18419.0,17334.0,12175.0,12996.0,14531.0,17924.0,20080.0,16265.0,17849.0,21428.0,24304.0,22498.0,24744.0,29965.0,45815.0,20201.0,10107.0,11116.0,11209.0,12781.0,14207.0,14207.0,17574.0,18380.0,22055.0,23486.0,17101.0,26157.0,27536.0,29783.0,28320.0,38792.0,47575.0,31756.0,33121.0,29977.0,19261.0,27355.0,30995.0,40004.0,45556.0,57499.0,62846.0,54656.0,68306.0,63756.0,68306.0,74676.0,79226.0,25686.0,18973.0,23275.0,18630.0,14910.0,9875.0,10705.0,11630.0,12830.0,13790.0,16850.0,23764.0,19400.0,11410.0,65807.0,35777.0,23969.0,39838.0,56455.0,34576.0,28755.0,27404.0,28611.0,36196.0,42232.0,48583.0,55063.0,28647.0,46360.0,39443.0,29969.0,33929.0,36809.0,39869.0,38418.0,41217.0,46208.0,15437.0,18137.0,19742.0,14525.0,15922.0,17817.0,26600.0,20701.0,23285.0,23794.0,25179.0,14070.0,20482.0,71540.0,43268.0,24249.0,26435.0,30071.0,31187.0,33456.0,35046.0,36162.0,48522.0,88324.0,119600.0,41966.0,49104.0,44849.0,53382.0,69168.0,80939.0,84325.0,113388.0,117854.0,37548.0,52289.0,31466.0,47174.0,56474.0,27317.0,19848.0,23217.0,27148.0,21918.0,28318.0,31558.0,30846.0,20748.0,28330.0,30763.0,17569.0,13751.0,15718.0,17957.0,16196.0,27250.0,23883.0,23456.0,25218.0,27466.0,16295.0,30815.0,25972.0,19512.0,12205.0,13747.0,18030.0,16444.0,21580.0,25182.0,26966.0,22958.0,30019.0,25203.0,31845.0,18253.0,24926.0,27300.0,17642.0,21485.0,26120.0,19810.0,14375.0,20595.0,20545.0,16369.0,22284.0,32997.0,21644.0,28454.0,30710.0,15973.0,49865.0,69229.0,72206.0,67128.0,173560.0,37886.0,45766.0,29269.0,31562.0,33011.0,37721.0,38520.0,40883.0,38376.0,19238.0,10319.0,13393.0,14811.0,13904.0,15299.0,19801.0,21779.0,12340.0,13480.0,18399.0,18713.0,23336.0,24687.0,26660.0,28603.0,23022.0,29130.0,22304.0,19646.0,21773.0,22307.0,16949.0,12719.0,14317.0,12116.0,15378.0,17053.0,16291.0,18926.0,31827.0,24801.0,24915.0,47986.0,18553.0,13065.0,13650.0,13889.0,10144.0,10896.0,10642.0,17558.0,20325.0,17722.0,19819.0,23693.0,23125.0,23908.0,27271.0,21198.0,25690.0,20363.0,22787.0,11879.0,14978.0,23520.0,15156.0,32243.0,17478.0,18109.0,19638.0,19638.0,21686.0,21689.0,21898.0,30583.0,36052.0,59912.0,69130.0,17427.0,22801.0,36956.0,38851.0,23701.0,29916.0,32902.0,35382.0,35542.0,35688.0,38203.0,40083.0,42573.0,24641.0,33112.0],\"yaxis\":\"y\",\"type\":\"scatter\"}],                        {\"template\":{\"data\":{\"histogram2dcontour\":[{\"type\":\"histogram2dcontour\",\"colorbar\":{\"outlinewidth\":0,\"ticks\":\"\"},\"colorscale\":[[0.0,\"#0d0887\"],[0.1111111111111111,\"#46039f\"],[0.2222222222222222,\"#7201a8\"],[0.3333333333333333,\"#9c179e\"],[0.4444444444444444,\"#bd3786\"],[0.5555555555555556,\"#d8576b\"],[0.6666666666666666,\"#ed7953\"],[0.7777777777777778,\"#fb9f3a\"],[0.8888888888888888,\"#fdca26\"],[1.0,\"#f0f921\"]]}],\"choropleth\":[{\"type\":\"choropleth\",\"colorbar\":{\"outlinewidth\":0,\"ticks\":\"\"}}],\"histogram2d\":[{\"type\":\"histogram2d\",\"colorbar\":{\"outlinewidth\":0,\"ticks\":\"\"},\"colorscale\":[[0.0,\"#0d0887\"],[0.1111111111111111,\"#46039f\"],[0.2222222222222222,\"#7201a8\"],[0.3333333333333333,\"#9c179e\"],[0.4444444444444444,\"#bd3786\"],[0.5555555555555556,\"#d8576b\"],[0.6666666666666666,\"#ed7953\"],[0.7777777777777778,\"#fb9f3a\"],[0.8888888888888888,\"#fdca26\"],[1.0,\"#f0f921\"]]}],\"heatmap\":[{\"type\":\"heatmap\",\"colorbar\":{\"outlinewidth\":0,\"ticks\":\"\"},\"colorscale\":[[0.0,\"#0d0887\"],[0.1111111111111111,\"#46039f\"],[0.2222222222222222,\"#7201a8\"],[0.3333333333333333,\"#9c179e\"],[0.4444444444444444,\"#bd3786\"],[0.5555555555555556,\"#d8576b\"],[0.6666666666666666,\"#ed7953\"],[0.7777777777777778,\"#fb9f3a\"],[0.8888888888888888,\"#fdca26\"],[1.0,\"#f0f921\"]]}],\"heatmapgl\":[{\"type\":\"heatmapgl\",\"colorbar\":{\"outlinewidth\":0,\"ticks\":\"\"},\"colorscale\":[[0.0,\"#0d0887\"],[0.1111111111111111,\"#46039f\"],[0.2222222222222222,\"#7201a8\"],[0.3333333333333333,\"#9c179e\"],[0.4444444444444444,\"#bd3786\"],[0.5555555555555556,\"#d8576b\"],[0.6666666666666666,\"#ed7953\"],[0.7777777777777778,\"#fb9f3a\"],[0.8888888888888888,\"#fdca26\"],[1.0,\"#f0f921\"]]}],\"contourcarpet\":[{\"type\":\"contourcarpet\",\"colorbar\":{\"outlinewidth\":0,\"ticks\":\"\"}}],\"contour\":[{\"type\":\"contour\",\"colorbar\":{\"outlinewidth\":0,\"ticks\":\"\"},\"colorscale\":[[0.0,\"#0d0887\"],[0.1111111111111111,\"#46039f\"],[0.2222222222222222,\"#7201a8\"],[0.3333333333333333,\"#9c179e\"],[0.4444444444444444,\"#bd3786\"],[0.5555555555555556,\"#d8576b\"],[0.6666666666666666,\"#ed7953\"],[0.7777777777777778,\"#fb9f3a\"],[0.8888888888888888,\"#fdca26\"],[1.0,\"#f0f921\"]]}],\"surface\":[{\"type\":\"surface\",\"colorbar\":{\"outlinewidth\":0,\"ticks\":\"\"},\"colorscale\":[[0.0,\"#0d0887\"],[0.1111111111111111,\"#46039f\"],[0.2222222222222222,\"#7201a8\"],[0.3333333333333333,\"#9c179e\"],[0.4444444444444444,\"#bd3786\"],[0.5555555555555556,\"#d8576b\"],[0.6666666666666666,\"#ed7953\"],[0.7777777777777778,\"#fb9f3a\"],[0.8888888888888888,\"#fdca26\"],[1.0,\"#f0f921\"]]}],\"mesh3d\":[{\"type\":\"mesh3d\",\"colorbar\":{\"outlinewidth\":0,\"ticks\":\"\"}}],\"scatter\":[{\"fillpattern\":{\"fillmode\":\"overlay\",\"size\":10,\"solidity\":0.2},\"type\":\"scatter\"}],\"parcoords\":[{\"type\":\"parcoords\",\"line\":{\"colorbar\":{\"outlinewidth\":0,\"ticks\":\"\"}}}],\"scatterpolargl\":[{\"type\":\"scatterpolargl\",\"marker\":{\"colorbar\":{\"outlinewidth\":0,\"ticks\":\"\"}}}],\"bar\":[{\"error_x\":{\"color\":\"#2a3f5f\"},\"error_y\":{\"color\":\"#2a3f5f\"},\"marker\":{\"line\":{\"color\":\"#E5ECF6\",\"width\":0.5},\"pattern\":{\"fillmode\":\"overlay\",\"size\":10,\"solidity\":0.2}},\"type\":\"bar\"}],\"scattergeo\":[{\"type\":\"scattergeo\",\"marker\":{\"colorbar\":{\"outlinewidth\":0,\"ticks\":\"\"}}}],\"scatterpolar\":[{\"type\":\"scatterpolar\",\"marker\":{\"colorbar\":{\"outlinewidth\":0,\"ticks\":\"\"}}}],\"histogram\":[{\"marker\":{\"pattern\":{\"fillmode\":\"overlay\",\"size\":10,\"solidity\":0.2}},\"type\":\"histogram\"}],\"scattergl\":[{\"type\":\"scattergl\",\"marker\":{\"colorbar\":{\"outlinewidth\":0,\"ticks\":\"\"}}}],\"scatter3d\":[{\"type\":\"scatter3d\",\"line\":{\"colorbar\":{\"outlinewidth\":0,\"ticks\":\"\"}},\"marker\":{\"colorbar\":{\"outlinewidth\":0,\"ticks\":\"\"}}}],\"scattermapbox\":[{\"type\":\"scattermapbox\",\"marker\":{\"colorbar\":{\"outlinewidth\":0,\"ticks\":\"\"}}}],\"scatterternary\":[{\"type\":\"scatterternary\",\"marker\":{\"colorbar\":{\"outlinewidth\":0,\"ticks\":\"\"}}}],\"scattercarpet\":[{\"type\":\"scattercarpet\",\"marker\":{\"colorbar\":{\"outlinewidth\":0,\"ticks\":\"\"}}}],\"carpet\":[{\"aaxis\":{\"endlinecolor\":\"#2a3f5f\",\"gridcolor\":\"white\",\"linecolor\":\"white\",\"minorgridcolor\":\"white\",\"startlinecolor\":\"#2a3f5f\"},\"baxis\":{\"endlinecolor\":\"#2a3f5f\",\"gridcolor\":\"white\",\"linecolor\":\"white\",\"minorgridcolor\":\"white\",\"startlinecolor\":\"#2a3f5f\"},\"type\":\"carpet\"}],\"table\":[{\"cells\":{\"fill\":{\"color\":\"#EBF0F8\"},\"line\":{\"color\":\"white\"}},\"header\":{\"fill\":{\"color\":\"#C8D4E3\"},\"line\":{\"color\":\"white\"}},\"type\":\"table\"}],\"barpolar\":[{\"marker\":{\"line\":{\"color\":\"#E5ECF6\",\"width\":0.5},\"pattern\":{\"fillmode\":\"overlay\",\"size\":10,\"solidity\":0.2}},\"type\":\"barpolar\"}],\"pie\":[{\"automargin\":true,\"type\":\"pie\"}]},\"layout\":{\"autotypenumbers\":\"strict\",\"colorway\":[\"#636efa\",\"#EF553B\",\"#00cc96\",\"#ab63fa\",\"#FFA15A\",\"#19d3f3\",\"#FF6692\",\"#B6E880\",\"#FF97FF\",\"#FECB52\"],\"font\":{\"color\":\"#2a3f5f\"},\"hovermode\":\"closest\",\"hoverlabel\":{\"align\":\"left\"},\"paper_bgcolor\":\"white\",\"plot_bgcolor\":\"#E5ECF6\",\"polar\":{\"bgcolor\":\"#E5ECF6\",\"angularaxis\":{\"gridcolor\":\"white\",\"linecolor\":\"white\",\"ticks\":\"\"},\"radialaxis\":{\"gridcolor\":\"white\",\"linecolor\":\"white\",\"ticks\":\"\"}},\"ternary\":{\"bgcolor\":\"#E5ECF6\",\"aaxis\":{\"gridcolor\":\"white\",\"linecolor\":\"white\",\"ticks\":\"\"},\"baxis\":{\"gridcolor\":\"white\",\"linecolor\":\"white\",\"ticks\":\"\"},\"caxis\":{\"gridcolor\":\"white\",\"linecolor\":\"white\",\"ticks\":\"\"}},\"coloraxis\":{\"colorbar\":{\"outlinewidth\":0,\"ticks\":\"\"}},\"colorscale\":{\"sequential\":[[0.0,\"#0d0887\"],[0.1111111111111111,\"#46039f\"],[0.2222222222222222,\"#7201a8\"],[0.3333333333333333,\"#9c179e\"],[0.4444444444444444,\"#bd3786\"],[0.5555555555555556,\"#d8576b\"],[0.6666666666666666,\"#ed7953\"],[0.7777777777777778,\"#fb9f3a\"],[0.8888888888888888,\"#fdca26\"],[1.0,\"#f0f921\"]],\"sequentialminus\":[[0.0,\"#0d0887\"],[0.1111111111111111,\"#46039f\"],[0.2222222222222222,\"#7201a8\"],[0.3333333333333333,\"#9c179e\"],[0.4444444444444444,\"#bd3786\"],[0.5555555555555556,\"#d8576b\"],[0.6666666666666666,\"#ed7953\"],[0.7777777777777778,\"#fb9f3a\"],[0.8888888888888888,\"#fdca26\"],[1.0,\"#f0f921\"]],\"diverging\":[[0,\"#8e0152\"],[0.1,\"#c51b7d\"],[0.2,\"#de77ae\"],[0.3,\"#f1b6da\"],[0.4,\"#fde0ef\"],[0.5,\"#f7f7f7\"],[0.6,\"#e6f5d0\"],[0.7,\"#b8e186\"],[0.8,\"#7fbc41\"],[0.9,\"#4d9221\"],[1,\"#276419\"]]},\"xaxis\":{\"gridcolor\":\"white\",\"linecolor\":\"white\",\"ticks\":\"\",\"title\":{\"standoff\":15},\"zerolinecolor\":\"white\",\"automargin\":true,\"zerolinewidth\":2},\"yaxis\":{\"gridcolor\":\"white\",\"linecolor\":\"white\",\"ticks\":\"\",\"title\":{\"standoff\":15},\"zerolinecolor\":\"white\",\"automargin\":true,\"zerolinewidth\":2},\"scene\":{\"xaxis\":{\"backgroundcolor\":\"#E5ECF6\",\"gridcolor\":\"white\",\"linecolor\":\"white\",\"showbackground\":true,\"ticks\":\"\",\"zerolinecolor\":\"white\",\"gridwidth\":2},\"yaxis\":{\"backgroundcolor\":\"#E5ECF6\",\"gridcolor\":\"white\",\"linecolor\":\"white\",\"showbackground\":true,\"ticks\":\"\",\"zerolinecolor\":\"white\",\"gridwidth\":2},\"zaxis\":{\"backgroundcolor\":\"#E5ECF6\",\"gridcolor\":\"white\",\"linecolor\":\"white\",\"showbackground\":true,\"ticks\":\"\",\"zerolinecolor\":\"white\",\"gridwidth\":2}},\"shapedefaults\":{\"line\":{\"color\":\"#2a3f5f\"}},\"annotationdefaults\":{\"arrowcolor\":\"#2a3f5f\",\"arrowhead\":0,\"arrowwidth\":1},\"geo\":{\"bgcolor\":\"white\",\"landcolor\":\"#E5ECF6\",\"subunitcolor\":\"white\",\"showland\":true,\"showlakes\":true,\"lakecolor\":\"white\"},\"title\":{\"x\":0.05},\"mapbox\":{\"style\":\"light\"}}},\"xaxis\":{\"anchor\":\"y\",\"domain\":[0.0,1.0],\"title\":{\"text\":\"MPG_City\"}},\"yaxis\":{\"anchor\":\"x\",\"domain\":[0.0,1.0],\"title\":{\"text\":\"Invoice\"}},\"legend\":{\"tracegroupgap\":0},\"margin\":{\"t\":60}},                        {\"responsive\": true}                    ).then(function(){\n",
       "                            \n",
       "var gd = document.getElementById('00abc528-f2be-49ce-a94a-66ae4a6745dd');\n",
       "var x = new MutationObserver(function (mutations, observer) {{\n",
       "        var display = window.getComputedStyle(gd).display;\n",
       "        if (!display || display === 'none') {{\n",
       "            console.log([gd, 'removed!']);\n",
       "            Plotly.purge(gd);\n",
       "            observer.disconnect();\n",
       "        }}\n",
       "}});\n",
       "\n",
       "// Listen for the removal of the full notebook cells\n",
       "var notebookContainer = gd.closest('#notebook-container');\n",
       "if (notebookContainer) {{\n",
       "    x.observe(notebookContainer, {childList: true});\n",
       "}}\n",
       "\n",
       "// Listen for the clearing of the current output cell\n",
       "var outputEl = gd.closest('.output');\n",
       "if (outputEl) {{\n",
       "    x.observe(outputEl, {childList: true});\n",
       "}}\n",
       "\n",
       "                        })                };                });            </script>        </div>"
      ]
     },
     "metadata": {},
     "output_type": "display_data"
    }
   ],
   "source": [
    "px.scatter(df,x=\"MPG_City\", y=\"Invoice\")"
   ]
  },
  {
   "cell_type": "code",
   "execution_count": 66,
   "id": "81f08517",
   "metadata": {},
   "outputs": [
    {
     "data": {
      "application/vnd.plotly.v1+json": {
       "config": {
        "plotlyServerURL": "https://plot.ly"
       },
       "data": [
        {
         "hovertemplate": "MPG_City=%{x}<br>EngineSize=%{y}<extra></extra>",
         "legendgroup": "",
         "marker": {
          "color": "#636efa",
          "symbol": "circle"
         },
         "mode": "markers",
         "name": "",
         "orientation": "v",
         "showlegend": false,
         "type": "scatter",
         "x": [
          17,
          24,
          22,
          20,
          18,
          18,
          17,
          22,
          23,
          20,
          17,
          18,
          20,
          18,
          20,
          18,
          18,
          17,
          17,
          14,
          15,
          20,
          20,
          21,
          18,
          15,
          16,
          16,
          20,
          20,
          19,
          19,
          20,
          20,
          20,
          19,
          19,
          20,
          18,
          18,
          18,
          16,
          16,
          20,
          21,
          19,
          15,
          19,
          20,
          20,
          20,
          18,
          20,
          20,
          18,
          14,
          16,
          18,
          18,
          18,
          18,
          17,
          13,
          14,
          14,
          16,
          19,
          28,
          28,
          26,
          26,
          26,
          21,
          24,
          22,
          21,
          20,
          18,
          23,
          18,
          14,
          19,
          18,
          18,
          14,
          18,
          15,
          13,
          16,
          22,
          22,
          22,
          22,
          21,
          18,
          21,
          19,
          21,
          22,
          18,
          21,
          19,
          18,
          17,
          17,
          15,
          29,
          29,
          21,
          21,
          21,
          18,
          20,
          18,
          12,
          16,
          16,
          16,
          10,
          15,
          15,
          18,
          26,
          27,
          26,
          26,
          21,
          20,
          19,
          17,
          17,
          17,
          17,
          20,
          17,
          17,
          15,
          14,
          24,
          26,
          19,
          15,
          16,
          13,
          16,
          18,
          17,
          13,
          15,
          46,
          60,
          17,
          21,
          21,
          32,
          36,
          32,
          26,
          26,
          32,
          26,
          21,
          21,
          18,
          18,
          20,
          10,
          20,
          29,
          29,
          29,
          26,
          26,
          26,
          19,
          19,
          17,
          17,
          19,
          18,
          18,
          18,
          19,
          17,
          17,
          16,
          15,
          15,
          17,
          18,
          18,
          18,
          18,
          17,
          18,
          18,
          17,
          18,
          18,
          16,
          16,
          16,
          20,
          16,
          16,
          23,
          26,
          25,
          24,
          24,
          24,
          20,
          17,
          16,
          26,
          12,
          12,
          18,
          15,
          13,
          18,
          20,
          18,
          18,
          18,
          18,
          18,
          18,
          18,
          13,
          13,
          20,
          20,
          17,
          17,
          17,
          17,
          17,
          28,
          25,
          22,
          26,
          25,
          24,
          18,
          23,
          23,
          18,
          18,
          24,
          15,
          13,
          14,
          22,
          19,
          20,
          19,
          19,
          20,
          19,
          16,
          16,
          13,
          20,
          17,
          19,
          16,
          18,
          16,
          16,
          14,
          13,
          21,
          17,
          19,
          19,
          16,
          16,
          20,
          17,
          17,
          19,
          17,
          17,
          16,
          19,
          17,
          15,
          21,
          25,
          25,
          23,
          25,
          18,
          18,
          21,
          21,
          18,
          25,
          13,
          16,
          17,
          28,
          28,
          21,
          23,
          21,
          20,
          20,
          19,
          18,
          20,
          20,
          17,
          14,
          20,
          24,
          20,
          19,
          19,
          24,
          20,
          20,
          24,
          20,
          17,
          19,
          18,
          16,
          29,
          14,
          18,
          17,
          18,
          17,
          20,
          18,
          20,
          20,
          21,
          21,
          21,
          21,
          19,
          21,
          26,
          26,
          26,
          26,
          26,
          20,
          24,
          32,
          31,
          22,
          21,
          21,
          20,
          19,
          19,
          20,
          18,
          21,
          21,
          21,
          18,
          19,
          25,
          25,
          24,
          22,
          20,
          24,
          59,
          14,
          18,
          18,
          13,
          22,
          32,
          32,
          32,
          35,
          33,
          35,
          24,
          21,
          24,
          20,
          21,
          21,
          20,
          21,
          19,
          19,
          24,
          26,
          22,
          16,
          14,
          29,
          15,
          24,
          24,
          38,
          24,
          21,
          24,
          22,
          19,
          18,
          16,
          12,
          24,
          22,
          18,
          15,
          22,
          20,
          20,
          18,
          20,
          20,
          21,
          20,
          19,
          22,
          20
         ],
         "xaxis": "x",
         "y": [
          3.5,
          2,
          2.4,
          3.2,
          3.5,
          3.5,
          3.2,
          1.8,
          1.8,
          3,
          3,
          3,
          3,
          3,
          3,
          3,
          2.7,
          4.2,
          4.2,
          4.2,
          4.2,
          1.8,
          1.8,
          3.2,
          3,
          4.2,
          3,
          4.4,
          2.5,
          2.5,
          2.5,
          2.5,
          3,
          3,
          3,
          2.5,
          3,
          3,
          4.4,
          4.4,
          4.4,
          3.2,
          3.2,
          2.5,
          3,
          2.5,
          4.2,
          3.4,
          3.1,
          3.8,
          3.8,
          3.8,
          3.8,
          3.8,
          3.8,
          5.3,
          4.6,
          3.6,
          4.6,
          4.6,
          4.6,
          4.6,
          6,
          5.3,
          5.3,
          4.2,
          2.5,
          1.6,
          1.6,
          2.2,
          2.2,
          2.2,
          3.4,
          2.2,
          3.5,
          3.4,
          3.8,
          3.8,
          3.5,
          3.8,
          4.3,
          3.4,
          5.7,
          5.7,
          5.3,
          2.8,
          4.3,
          6,
          5.3,
          3.5,
          2.4,
          2.4,
          2.4,
          2.7,
          3.5,
          2.7,
          3.5,
          2.4,
          2.4,
          3.5,
          2.7,
          3.3,
          3.8,
          3.2,
          3.5,
          4.7,
          2,
          2,
          2.7,
          2.4,
          2.4,
          3.5,
          2.4,
          3.8,
          8.3,
          3.7,
          3.7,
          3.7,
          6.8,
          4.6,
          4,
          3,
          2,
          2,
          2,
          2,
          2,
          3,
          3,
          4.6,
          4.6,
          4.6,
          3.9,
          3.8,
          4.6,
          3.9,
          4.6,
          5.4,
          2.3,
          2,
          3,
          4.2,
          4.8,
          6,
          4.3,
          2.8,
          4.8,
          6,
          4.3,
          1.4,
          2,
          3.5,
          2.4,
          2.4,
          1.7,
          1.7,
          1.7,
          2.4,
          2.4,
          1.7,
          2,
          3,
          3,
          3.5,
          3.5,
          2.2,
          6,
          2.7,
          1.6,
          1.6,
          1.6,
          2,
          2,
          2,
          2.7,
          2.7,
          3.5,
          3.5,
          2.7,
          3.5,
          3.5,
          3.5,
          3.5,
          4.5,
          4.5,
          3.5,
          4.5,
          4.2,
          3.2,
          2.5,
          3,
          3,
          4.2,
          4.2,
          4.2,
          4.2,
          4.2,
          4.2,
          4.2,
          4.2,
          4.2,
          4,
          2.4,
          4,
          3.5,
          2.4,
          1.6,
          1.6,
          1.8,
          1.8,
          1.8,
          2.7,
          3.5,
          3.5,
          1.6,
          4.4,
          4.6,
          2.5,
          4.7,
          4.7,
          3.3,
          3.3,
          3,
          3,
          3,
          4.3,
          4.3,
          4.3,
          3,
          5.4,
          4.6,
          3,
          3,
          3.9,
          3.9,
          4.6,
          4.6,
          4.6,
          1.6,
          1.6,
          2,
          2,
          2.3,
          2.3,
          3,
          1.8,
          1.8,
          1.3,
          1.3,
          2.3,
          4,
          5,
          5,
          1.8,
          3.2,
          2.6,
          2.6,
          3.2,
          3.2,
          3.2,
          3.2,
          5,
          5.5,
          3.2,
          5,
          3.2,
          5,
          4.3,
          5,
          5,
          5.5,
          5.5,
          2.3,
          3.2,
          2.6,
          3.2,
          5,
          4,
          3,
          4.6,
          4.6,
          3,
          4.6,
          4.6,
          4.2,
          3,
          3.8,
          3.8,
          2.4,
          2,
          2,
          2.4,
          2,
          3.5,
          3.8,
          3,
          3,
          2,
          2.4,
          5.6,
          3.5,
          3.3,
          1.8,
          1.8,
          2.5,
          2.5,
          3.5,
          3.5,
          3.5,
          3.5,
          3.5,
          3.5,
          3.5,
          3.3,
          5.6,
          3.5,
          2.2,
          3.4,
          3.4,
          3.4,
          2.2,
          3.4,
          3.8,
          2.2,
          3.8,
          4.6,
          3.4,
          3.4,
          5.7,
          1.8,
          4.5,
          3.6,
          3.6,
          3.6,
          3.6,
          2.7,
          3.2,
          2,
          2,
          2.3,
          2.3,
          2,
          2,
          2.3,
          2.2,
          2.2,
          2.2,
          2.2,
          2.2,
          2.2,
          3,
          2.2,
          1.5,
          1.5,
          2.5,
          2.5,
          2.5,
          2.5,
          3,
          3,
          2,
          2.5,
          2.5,
          2.5,
          2.5,
          2.7,
          2.5,
          2.3,
          2.3,
          2,
          2,
          2.5,
          2.3,
          1.5,
          4.7,
          4,
          3.3,
          4.7,
          2.4,
          1.8,
          1.8,
          1.8,
          1.5,
          1.5,
          1.5,
          2.4,
          3,
          2.4,
          3.3,
          3,
          3,
          3.3,
          3,
          3.3,
          3.3,
          1.8,
          1.8,
          2.4,
          3.4,
          3.4,
          1.8,
          3.2,
          2,
          1.8,
          1.9,
          1.8,
          2.8,
          2,
          1.8,
          2.8,
          4,
          4.2,
          6,
          2,
          1.8,
          4,
          2.9,
          1.9,
          2.5,
          2.3,
          2.5,
          2.9,
          2.5,
          2.4,
          2.3,
          2.9,
          1.9,
          2.5
         ],
         "yaxis": "y"
        }
       ],
       "layout": {
        "legend": {
         "tracegroupgap": 0
        },
        "margin": {
         "t": 60
        },
        "template": {
         "data": {
          "bar": [
           {
            "error_x": {
             "color": "#2a3f5f"
            },
            "error_y": {
             "color": "#2a3f5f"
            },
            "marker": {
             "line": {
              "color": "#E5ECF6",
              "width": 0.5
             },
             "pattern": {
              "fillmode": "overlay",
              "size": 10,
              "solidity": 0.2
             }
            },
            "type": "bar"
           }
          ],
          "barpolar": [
           {
            "marker": {
             "line": {
              "color": "#E5ECF6",
              "width": 0.5
             },
             "pattern": {
              "fillmode": "overlay",
              "size": 10,
              "solidity": 0.2
             }
            },
            "type": "barpolar"
           }
          ],
          "carpet": [
           {
            "aaxis": {
             "endlinecolor": "#2a3f5f",
             "gridcolor": "white",
             "linecolor": "white",
             "minorgridcolor": "white",
             "startlinecolor": "#2a3f5f"
            },
            "baxis": {
             "endlinecolor": "#2a3f5f",
             "gridcolor": "white",
             "linecolor": "white",
             "minorgridcolor": "white",
             "startlinecolor": "#2a3f5f"
            },
            "type": "carpet"
           }
          ],
          "choropleth": [
           {
            "colorbar": {
             "outlinewidth": 0,
             "ticks": ""
            },
            "type": "choropleth"
           }
          ],
          "contour": [
           {
            "colorbar": {
             "outlinewidth": 0,
             "ticks": ""
            },
            "colorscale": [
             [
              0,
              "#0d0887"
             ],
             [
              0.1111111111111111,
              "#46039f"
             ],
             [
              0.2222222222222222,
              "#7201a8"
             ],
             [
              0.3333333333333333,
              "#9c179e"
             ],
             [
              0.4444444444444444,
              "#bd3786"
             ],
             [
              0.5555555555555556,
              "#d8576b"
             ],
             [
              0.6666666666666666,
              "#ed7953"
             ],
             [
              0.7777777777777778,
              "#fb9f3a"
             ],
             [
              0.8888888888888888,
              "#fdca26"
             ],
             [
              1,
              "#f0f921"
             ]
            ],
            "type": "contour"
           }
          ],
          "contourcarpet": [
           {
            "colorbar": {
             "outlinewidth": 0,
             "ticks": ""
            },
            "type": "contourcarpet"
           }
          ],
          "heatmap": [
           {
            "colorbar": {
             "outlinewidth": 0,
             "ticks": ""
            },
            "colorscale": [
             [
              0,
              "#0d0887"
             ],
             [
              0.1111111111111111,
              "#46039f"
             ],
             [
              0.2222222222222222,
              "#7201a8"
             ],
             [
              0.3333333333333333,
              "#9c179e"
             ],
             [
              0.4444444444444444,
              "#bd3786"
             ],
             [
              0.5555555555555556,
              "#d8576b"
             ],
             [
              0.6666666666666666,
              "#ed7953"
             ],
             [
              0.7777777777777778,
              "#fb9f3a"
             ],
             [
              0.8888888888888888,
              "#fdca26"
             ],
             [
              1,
              "#f0f921"
             ]
            ],
            "type": "heatmap"
           }
          ],
          "heatmapgl": [
           {
            "colorbar": {
             "outlinewidth": 0,
             "ticks": ""
            },
            "colorscale": [
             [
              0,
              "#0d0887"
             ],
             [
              0.1111111111111111,
              "#46039f"
             ],
             [
              0.2222222222222222,
              "#7201a8"
             ],
             [
              0.3333333333333333,
              "#9c179e"
             ],
             [
              0.4444444444444444,
              "#bd3786"
             ],
             [
              0.5555555555555556,
              "#d8576b"
             ],
             [
              0.6666666666666666,
              "#ed7953"
             ],
             [
              0.7777777777777778,
              "#fb9f3a"
             ],
             [
              0.8888888888888888,
              "#fdca26"
             ],
             [
              1,
              "#f0f921"
             ]
            ],
            "type": "heatmapgl"
           }
          ],
          "histogram": [
           {
            "marker": {
             "pattern": {
              "fillmode": "overlay",
              "size": 10,
              "solidity": 0.2
             }
            },
            "type": "histogram"
           }
          ],
          "histogram2d": [
           {
            "colorbar": {
             "outlinewidth": 0,
             "ticks": ""
            },
            "colorscale": [
             [
              0,
              "#0d0887"
             ],
             [
              0.1111111111111111,
              "#46039f"
             ],
             [
              0.2222222222222222,
              "#7201a8"
             ],
             [
              0.3333333333333333,
              "#9c179e"
             ],
             [
              0.4444444444444444,
              "#bd3786"
             ],
             [
              0.5555555555555556,
              "#d8576b"
             ],
             [
              0.6666666666666666,
              "#ed7953"
             ],
             [
              0.7777777777777778,
              "#fb9f3a"
             ],
             [
              0.8888888888888888,
              "#fdca26"
             ],
             [
              1,
              "#f0f921"
             ]
            ],
            "type": "histogram2d"
           }
          ],
          "histogram2dcontour": [
           {
            "colorbar": {
             "outlinewidth": 0,
             "ticks": ""
            },
            "colorscale": [
             [
              0,
              "#0d0887"
             ],
             [
              0.1111111111111111,
              "#46039f"
             ],
             [
              0.2222222222222222,
              "#7201a8"
             ],
             [
              0.3333333333333333,
              "#9c179e"
             ],
             [
              0.4444444444444444,
              "#bd3786"
             ],
             [
              0.5555555555555556,
              "#d8576b"
             ],
             [
              0.6666666666666666,
              "#ed7953"
             ],
             [
              0.7777777777777778,
              "#fb9f3a"
             ],
             [
              0.8888888888888888,
              "#fdca26"
             ],
             [
              1,
              "#f0f921"
             ]
            ],
            "type": "histogram2dcontour"
           }
          ],
          "mesh3d": [
           {
            "colorbar": {
             "outlinewidth": 0,
             "ticks": ""
            },
            "type": "mesh3d"
           }
          ],
          "parcoords": [
           {
            "line": {
             "colorbar": {
              "outlinewidth": 0,
              "ticks": ""
             }
            },
            "type": "parcoords"
           }
          ],
          "pie": [
           {
            "automargin": true,
            "type": "pie"
           }
          ],
          "scatter": [
           {
            "fillpattern": {
             "fillmode": "overlay",
             "size": 10,
             "solidity": 0.2
            },
            "type": "scatter"
           }
          ],
          "scatter3d": [
           {
            "line": {
             "colorbar": {
              "outlinewidth": 0,
              "ticks": ""
             }
            },
            "marker": {
             "colorbar": {
              "outlinewidth": 0,
              "ticks": ""
             }
            },
            "type": "scatter3d"
           }
          ],
          "scattercarpet": [
           {
            "marker": {
             "colorbar": {
              "outlinewidth": 0,
              "ticks": ""
             }
            },
            "type": "scattercarpet"
           }
          ],
          "scattergeo": [
           {
            "marker": {
             "colorbar": {
              "outlinewidth": 0,
              "ticks": ""
             }
            },
            "type": "scattergeo"
           }
          ],
          "scattergl": [
           {
            "marker": {
             "colorbar": {
              "outlinewidth": 0,
              "ticks": ""
             }
            },
            "type": "scattergl"
           }
          ],
          "scattermapbox": [
           {
            "marker": {
             "colorbar": {
              "outlinewidth": 0,
              "ticks": ""
             }
            },
            "type": "scattermapbox"
           }
          ],
          "scatterpolar": [
           {
            "marker": {
             "colorbar": {
              "outlinewidth": 0,
              "ticks": ""
             }
            },
            "type": "scatterpolar"
           }
          ],
          "scatterpolargl": [
           {
            "marker": {
             "colorbar": {
              "outlinewidth": 0,
              "ticks": ""
             }
            },
            "type": "scatterpolargl"
           }
          ],
          "scatterternary": [
           {
            "marker": {
             "colorbar": {
              "outlinewidth": 0,
              "ticks": ""
             }
            },
            "type": "scatterternary"
           }
          ],
          "surface": [
           {
            "colorbar": {
             "outlinewidth": 0,
             "ticks": ""
            },
            "colorscale": [
             [
              0,
              "#0d0887"
             ],
             [
              0.1111111111111111,
              "#46039f"
             ],
             [
              0.2222222222222222,
              "#7201a8"
             ],
             [
              0.3333333333333333,
              "#9c179e"
             ],
             [
              0.4444444444444444,
              "#bd3786"
             ],
             [
              0.5555555555555556,
              "#d8576b"
             ],
             [
              0.6666666666666666,
              "#ed7953"
             ],
             [
              0.7777777777777778,
              "#fb9f3a"
             ],
             [
              0.8888888888888888,
              "#fdca26"
             ],
             [
              1,
              "#f0f921"
             ]
            ],
            "type": "surface"
           }
          ],
          "table": [
           {
            "cells": {
             "fill": {
              "color": "#EBF0F8"
             },
             "line": {
              "color": "white"
             }
            },
            "header": {
             "fill": {
              "color": "#C8D4E3"
             },
             "line": {
              "color": "white"
             }
            },
            "type": "table"
           }
          ]
         },
         "layout": {
          "annotationdefaults": {
           "arrowcolor": "#2a3f5f",
           "arrowhead": 0,
           "arrowwidth": 1
          },
          "autotypenumbers": "strict",
          "coloraxis": {
           "colorbar": {
            "outlinewidth": 0,
            "ticks": ""
           }
          },
          "colorscale": {
           "diverging": [
            [
             0,
             "#8e0152"
            ],
            [
             0.1,
             "#c51b7d"
            ],
            [
             0.2,
             "#de77ae"
            ],
            [
             0.3,
             "#f1b6da"
            ],
            [
             0.4,
             "#fde0ef"
            ],
            [
             0.5,
             "#f7f7f7"
            ],
            [
             0.6,
             "#e6f5d0"
            ],
            [
             0.7,
             "#b8e186"
            ],
            [
             0.8,
             "#7fbc41"
            ],
            [
             0.9,
             "#4d9221"
            ],
            [
             1,
             "#276419"
            ]
           ],
           "sequential": [
            [
             0,
             "#0d0887"
            ],
            [
             0.1111111111111111,
             "#46039f"
            ],
            [
             0.2222222222222222,
             "#7201a8"
            ],
            [
             0.3333333333333333,
             "#9c179e"
            ],
            [
             0.4444444444444444,
             "#bd3786"
            ],
            [
             0.5555555555555556,
             "#d8576b"
            ],
            [
             0.6666666666666666,
             "#ed7953"
            ],
            [
             0.7777777777777778,
             "#fb9f3a"
            ],
            [
             0.8888888888888888,
             "#fdca26"
            ],
            [
             1,
             "#f0f921"
            ]
           ],
           "sequentialminus": [
            [
             0,
             "#0d0887"
            ],
            [
             0.1111111111111111,
             "#46039f"
            ],
            [
             0.2222222222222222,
             "#7201a8"
            ],
            [
             0.3333333333333333,
             "#9c179e"
            ],
            [
             0.4444444444444444,
             "#bd3786"
            ],
            [
             0.5555555555555556,
             "#d8576b"
            ],
            [
             0.6666666666666666,
             "#ed7953"
            ],
            [
             0.7777777777777778,
             "#fb9f3a"
            ],
            [
             0.8888888888888888,
             "#fdca26"
            ],
            [
             1,
             "#f0f921"
            ]
           ]
          },
          "colorway": [
           "#636efa",
           "#EF553B",
           "#00cc96",
           "#ab63fa",
           "#FFA15A",
           "#19d3f3",
           "#FF6692",
           "#B6E880",
           "#FF97FF",
           "#FECB52"
          ],
          "font": {
           "color": "#2a3f5f"
          },
          "geo": {
           "bgcolor": "white",
           "lakecolor": "white",
           "landcolor": "#E5ECF6",
           "showlakes": true,
           "showland": true,
           "subunitcolor": "white"
          },
          "hoverlabel": {
           "align": "left"
          },
          "hovermode": "closest",
          "mapbox": {
           "style": "light"
          },
          "paper_bgcolor": "white",
          "plot_bgcolor": "#E5ECF6",
          "polar": {
           "angularaxis": {
            "gridcolor": "white",
            "linecolor": "white",
            "ticks": ""
           },
           "bgcolor": "#E5ECF6",
           "radialaxis": {
            "gridcolor": "white",
            "linecolor": "white",
            "ticks": ""
           }
          },
          "scene": {
           "xaxis": {
            "backgroundcolor": "#E5ECF6",
            "gridcolor": "white",
            "gridwidth": 2,
            "linecolor": "white",
            "showbackground": true,
            "ticks": "",
            "zerolinecolor": "white"
           },
           "yaxis": {
            "backgroundcolor": "#E5ECF6",
            "gridcolor": "white",
            "gridwidth": 2,
            "linecolor": "white",
            "showbackground": true,
            "ticks": "",
            "zerolinecolor": "white"
           },
           "zaxis": {
            "backgroundcolor": "#E5ECF6",
            "gridcolor": "white",
            "gridwidth": 2,
            "linecolor": "white",
            "showbackground": true,
            "ticks": "",
            "zerolinecolor": "white"
           }
          },
          "shapedefaults": {
           "line": {
            "color": "#2a3f5f"
           }
          },
          "ternary": {
           "aaxis": {
            "gridcolor": "white",
            "linecolor": "white",
            "ticks": ""
           },
           "baxis": {
            "gridcolor": "white",
            "linecolor": "white",
            "ticks": ""
           },
           "bgcolor": "#E5ECF6",
           "caxis": {
            "gridcolor": "white",
            "linecolor": "white",
            "ticks": ""
           }
          },
          "title": {
           "x": 0.05
          },
          "xaxis": {
           "automargin": true,
           "gridcolor": "white",
           "linecolor": "white",
           "ticks": "",
           "title": {
            "standoff": 15
           },
           "zerolinecolor": "white",
           "zerolinewidth": 2
          },
          "yaxis": {
           "automargin": true,
           "gridcolor": "white",
           "linecolor": "white",
           "ticks": "",
           "title": {
            "standoff": 15
           },
           "zerolinecolor": "white",
           "zerolinewidth": 2
          }
         }
        },
        "xaxis": {
         "anchor": "y",
         "domain": [
          0,
          1
         ],
         "title": {
          "text": "MPG_City"
         }
        },
        "yaxis": {
         "anchor": "x",
         "domain": [
          0,
          1
         ],
         "title": {
          "text": "EngineSize"
         }
        }
       }
      },
      "text/html": [
       "<div>                            <div id=\"151c97b6-3d25-4c07-ba8f-439daeb3d999\" class=\"plotly-graph-div\" style=\"height:525px; width:100%;\"></div>            <script type=\"text/javascript\">                require([\"plotly\"], function(Plotly) {                    window.PLOTLYENV=window.PLOTLYENV || {};                                    if (document.getElementById(\"151c97b6-3d25-4c07-ba8f-439daeb3d999\")) {                    Plotly.newPlot(                        \"151c97b6-3d25-4c07-ba8f-439daeb3d999\",                        [{\"hovertemplate\":\"MPG_City=%{x}<br>EngineSize=%{y}<extra></extra>\",\"legendgroup\":\"\",\"marker\":{\"color\":\"#636efa\",\"symbol\":\"circle\"},\"mode\":\"markers\",\"name\":\"\",\"orientation\":\"v\",\"showlegend\":false,\"x\":[17,24,22,20,18,18,17,22,23,20,17,18,20,18,20,18,18,17,17,14,15,20,20,21,18,15,16,16,20,20,19,19,20,20,20,19,19,20,18,18,18,16,16,20,21,19,15,19,20,20,20,18,20,20,18,14,16,18,18,18,18,17,13,14,14,16,19,28,28,26,26,26,21,24,22,21,20,18,23,18,14,19,18,18,14,18,15,13,16,22,22,22,22,21,18,21,19,21,22,18,21,19,18,17,17,15,29,29,21,21,21,18,20,18,12,16,16,16,10,15,15,18,26,27,26,26,21,20,19,17,17,17,17,20,17,17,15,14,24,26,19,15,16,13,16,18,17,13,15,46,60,17,21,21,32,36,32,26,26,32,26,21,21,18,18,20,10,20,29,29,29,26,26,26,19,19,17,17,19,18,18,18,19,17,17,16,15,15,17,18,18,18,18,17,18,18,17,18,18,16,16,16,20,16,16,23,26,25,24,24,24,20,17,16,26,12,12,18,15,13,18,20,18,18,18,18,18,18,18,13,13,20,20,17,17,17,17,17,28,25,22,26,25,24,18,23,23,18,18,24,15,13,14,22,19,20,19,19,20,19,16,16,13,20,17,19,16,18,16,16,14,13,21,17,19,19,16,16,20,17,17,19,17,17,16,19,17,15,21,25,25,23,25,18,18,21,21,18,25,13,16,17,28,28,21,23,21,20,20,19,18,20,20,17,14,20,24,20,19,19,24,20,20,24,20,17,19,18,16,29,14,18,17,18,17,20,18,20,20,21,21,21,21,19,21,26,26,26,26,26,20,24,32,31,22,21,21,20,19,19,20,18,21,21,21,18,19,25,25,24,22,20,24,59,14,18,18,13,22,32,32,32,35,33,35,24,21,24,20,21,21,20,21,19,19,24,26,22,16,14,29,15,24,24,38,24,21,24,22,19,18,16,12,24,22,18,15,22,20,20,18,20,20,21,20,19,22,20],\"xaxis\":\"x\",\"y\":[3.5,2.0,2.4,3.2,3.5,3.5,3.2,1.8,1.8,3.0,3.0,3.0,3.0,3.0,3.0,3.0,2.7,4.2,4.2,4.2,4.2,1.8,1.8,3.2,3.0,4.2,3.0,4.4,2.5,2.5,2.5,2.5,3.0,3.0,3.0,2.5,3.0,3.0,4.4,4.4,4.4,3.2,3.2,2.5,3.0,2.5,4.2,3.4,3.1,3.8,3.8,3.8,3.8,3.8,3.8,5.3,4.6,3.6,4.6,4.6,4.6,4.6,6.0,5.3,5.3,4.2,2.5,1.6,1.6,2.2,2.2,2.2,3.4,2.2,3.5,3.4,3.8,3.8,3.5,3.8,4.3,3.4,5.7,5.7,5.3,2.8,4.3,6.0,5.3,3.5,2.4,2.4,2.4,2.7,3.5,2.7,3.5,2.4,2.4,3.5,2.7,3.3,3.8,3.2,3.5,4.7,2.0,2.0,2.7,2.4,2.4,3.5,2.4,3.8,8.3,3.7,3.7,3.7,6.8,4.6,4.0,3.0,2.0,2.0,2.0,2.0,2.0,3.0,3.0,4.6,4.6,4.6,3.9,3.8,4.6,3.9,4.6,5.4,2.3,2.0,3.0,4.2,4.8,6.0,4.3,2.8,4.8,6.0,4.3,1.4,2.0,3.5,2.4,2.4,1.7,1.7,1.7,2.4,2.4,1.7,2.0,3.0,3.0,3.5,3.5,2.2,6.0,2.7,1.6,1.6,1.6,2.0,2.0,2.0,2.7,2.7,3.5,3.5,2.7,3.5,3.5,3.5,3.5,4.5,4.5,3.5,4.5,4.2,3.2,2.5,3.0,3.0,4.2,4.2,4.2,4.2,4.2,4.2,4.2,4.2,4.2,4.0,2.4,4.0,3.5,2.4,1.6,1.6,1.8,1.8,1.8,2.7,3.5,3.5,1.6,4.4,4.6,2.5,4.7,4.7,3.3,3.3,3.0,3.0,3.0,4.3,4.3,4.3,3.0,5.4,4.6,3.0,3.0,3.9,3.9,4.6,4.6,4.6,1.6,1.6,2.0,2.0,2.3,2.3,3.0,1.8,1.8,1.3,1.3,2.3,4.0,5.0,5.0,1.8,3.2,2.6,2.6,3.2,3.2,3.2,3.2,5.0,5.5,3.2,5.0,3.2,5.0,4.3,5.0,5.0,5.5,5.5,2.3,3.2,2.6,3.2,5.0,4.0,3.0,4.6,4.6,3.0,4.6,4.6,4.2,3.0,3.8,3.8,2.4,2.0,2.0,2.4,2.0,3.5,3.8,3.0,3.0,2.0,2.4,5.6,3.5,3.3,1.8,1.8,2.5,2.5,3.5,3.5,3.5,3.5,3.5,3.5,3.5,3.3,5.6,3.5,2.2,3.4,3.4,3.4,2.2,3.4,3.8,2.2,3.8,4.6,3.4,3.4,5.7,1.8,4.5,3.6,3.6,3.6,3.6,2.7,3.2,2.0,2.0,2.3,2.3,2.0,2.0,2.3,2.2,2.2,2.2,2.2,2.2,2.2,3.0,2.2,1.5,1.5,2.5,2.5,2.5,2.5,3.0,3.0,2.0,2.5,2.5,2.5,2.5,2.7,2.5,2.3,2.3,2.0,2.0,2.5,2.3,1.5,4.7,4.0,3.3,4.7,2.4,1.8,1.8,1.8,1.5,1.5,1.5,2.4,3.0,2.4,3.3,3.0,3.0,3.3,3.0,3.3,3.3,1.8,1.8,2.4,3.4,3.4,1.8,3.2,2.0,1.8,1.9,1.8,2.8,2.0,1.8,2.8,4.0,4.2,6.0,2.0,1.8,4.0,2.9,1.9,2.5,2.3,2.5,2.9,2.5,2.4,2.3,2.9,1.9,2.5],\"yaxis\":\"y\",\"type\":\"scatter\"}],                        {\"template\":{\"data\":{\"histogram2dcontour\":[{\"type\":\"histogram2dcontour\",\"colorbar\":{\"outlinewidth\":0,\"ticks\":\"\"},\"colorscale\":[[0.0,\"#0d0887\"],[0.1111111111111111,\"#46039f\"],[0.2222222222222222,\"#7201a8\"],[0.3333333333333333,\"#9c179e\"],[0.4444444444444444,\"#bd3786\"],[0.5555555555555556,\"#d8576b\"],[0.6666666666666666,\"#ed7953\"],[0.7777777777777778,\"#fb9f3a\"],[0.8888888888888888,\"#fdca26\"],[1.0,\"#f0f921\"]]}],\"choropleth\":[{\"type\":\"choropleth\",\"colorbar\":{\"outlinewidth\":0,\"ticks\":\"\"}}],\"histogram2d\":[{\"type\":\"histogram2d\",\"colorbar\":{\"outlinewidth\":0,\"ticks\":\"\"},\"colorscale\":[[0.0,\"#0d0887\"],[0.1111111111111111,\"#46039f\"],[0.2222222222222222,\"#7201a8\"],[0.3333333333333333,\"#9c179e\"],[0.4444444444444444,\"#bd3786\"],[0.5555555555555556,\"#d8576b\"],[0.6666666666666666,\"#ed7953\"],[0.7777777777777778,\"#fb9f3a\"],[0.8888888888888888,\"#fdca26\"],[1.0,\"#f0f921\"]]}],\"heatmap\":[{\"type\":\"heatmap\",\"colorbar\":{\"outlinewidth\":0,\"ticks\":\"\"},\"colorscale\":[[0.0,\"#0d0887\"],[0.1111111111111111,\"#46039f\"],[0.2222222222222222,\"#7201a8\"],[0.3333333333333333,\"#9c179e\"],[0.4444444444444444,\"#bd3786\"],[0.5555555555555556,\"#d8576b\"],[0.6666666666666666,\"#ed7953\"],[0.7777777777777778,\"#fb9f3a\"],[0.8888888888888888,\"#fdca26\"],[1.0,\"#f0f921\"]]}],\"heatmapgl\":[{\"type\":\"heatmapgl\",\"colorbar\":{\"outlinewidth\":0,\"ticks\":\"\"},\"colorscale\":[[0.0,\"#0d0887\"],[0.1111111111111111,\"#46039f\"],[0.2222222222222222,\"#7201a8\"],[0.3333333333333333,\"#9c179e\"],[0.4444444444444444,\"#bd3786\"],[0.5555555555555556,\"#d8576b\"],[0.6666666666666666,\"#ed7953\"],[0.7777777777777778,\"#fb9f3a\"],[0.8888888888888888,\"#fdca26\"],[1.0,\"#f0f921\"]]}],\"contourcarpet\":[{\"type\":\"contourcarpet\",\"colorbar\":{\"outlinewidth\":0,\"ticks\":\"\"}}],\"contour\":[{\"type\":\"contour\",\"colorbar\":{\"outlinewidth\":0,\"ticks\":\"\"},\"colorscale\":[[0.0,\"#0d0887\"],[0.1111111111111111,\"#46039f\"],[0.2222222222222222,\"#7201a8\"],[0.3333333333333333,\"#9c179e\"],[0.4444444444444444,\"#bd3786\"],[0.5555555555555556,\"#d8576b\"],[0.6666666666666666,\"#ed7953\"],[0.7777777777777778,\"#fb9f3a\"],[0.8888888888888888,\"#fdca26\"],[1.0,\"#f0f921\"]]}],\"surface\":[{\"type\":\"surface\",\"colorbar\":{\"outlinewidth\":0,\"ticks\":\"\"},\"colorscale\":[[0.0,\"#0d0887\"],[0.1111111111111111,\"#46039f\"],[0.2222222222222222,\"#7201a8\"],[0.3333333333333333,\"#9c179e\"],[0.4444444444444444,\"#bd3786\"],[0.5555555555555556,\"#d8576b\"],[0.6666666666666666,\"#ed7953\"],[0.7777777777777778,\"#fb9f3a\"],[0.8888888888888888,\"#fdca26\"],[1.0,\"#f0f921\"]]}],\"mesh3d\":[{\"type\":\"mesh3d\",\"colorbar\":{\"outlinewidth\":0,\"ticks\":\"\"}}],\"scatter\":[{\"fillpattern\":{\"fillmode\":\"overlay\",\"size\":10,\"solidity\":0.2},\"type\":\"scatter\"}],\"parcoords\":[{\"type\":\"parcoords\",\"line\":{\"colorbar\":{\"outlinewidth\":0,\"ticks\":\"\"}}}],\"scatterpolargl\":[{\"type\":\"scatterpolargl\",\"marker\":{\"colorbar\":{\"outlinewidth\":0,\"ticks\":\"\"}}}],\"bar\":[{\"error_x\":{\"color\":\"#2a3f5f\"},\"error_y\":{\"color\":\"#2a3f5f\"},\"marker\":{\"line\":{\"color\":\"#E5ECF6\",\"width\":0.5},\"pattern\":{\"fillmode\":\"overlay\",\"size\":10,\"solidity\":0.2}},\"type\":\"bar\"}],\"scattergeo\":[{\"type\":\"scattergeo\",\"marker\":{\"colorbar\":{\"outlinewidth\":0,\"ticks\":\"\"}}}],\"scatterpolar\":[{\"type\":\"scatterpolar\",\"marker\":{\"colorbar\":{\"outlinewidth\":0,\"ticks\":\"\"}}}],\"histogram\":[{\"marker\":{\"pattern\":{\"fillmode\":\"overlay\",\"size\":10,\"solidity\":0.2}},\"type\":\"histogram\"}],\"scattergl\":[{\"type\":\"scattergl\",\"marker\":{\"colorbar\":{\"outlinewidth\":0,\"ticks\":\"\"}}}],\"scatter3d\":[{\"type\":\"scatter3d\",\"line\":{\"colorbar\":{\"outlinewidth\":0,\"ticks\":\"\"}},\"marker\":{\"colorbar\":{\"outlinewidth\":0,\"ticks\":\"\"}}}],\"scattermapbox\":[{\"type\":\"scattermapbox\",\"marker\":{\"colorbar\":{\"outlinewidth\":0,\"ticks\":\"\"}}}],\"scatterternary\":[{\"type\":\"scatterternary\",\"marker\":{\"colorbar\":{\"outlinewidth\":0,\"ticks\":\"\"}}}],\"scattercarpet\":[{\"type\":\"scattercarpet\",\"marker\":{\"colorbar\":{\"outlinewidth\":0,\"ticks\":\"\"}}}],\"carpet\":[{\"aaxis\":{\"endlinecolor\":\"#2a3f5f\",\"gridcolor\":\"white\",\"linecolor\":\"white\",\"minorgridcolor\":\"white\",\"startlinecolor\":\"#2a3f5f\"},\"baxis\":{\"endlinecolor\":\"#2a3f5f\",\"gridcolor\":\"white\",\"linecolor\":\"white\",\"minorgridcolor\":\"white\",\"startlinecolor\":\"#2a3f5f\"},\"type\":\"carpet\"}],\"table\":[{\"cells\":{\"fill\":{\"color\":\"#EBF0F8\"},\"line\":{\"color\":\"white\"}},\"header\":{\"fill\":{\"color\":\"#C8D4E3\"},\"line\":{\"color\":\"white\"}},\"type\":\"table\"}],\"barpolar\":[{\"marker\":{\"line\":{\"color\":\"#E5ECF6\",\"width\":0.5},\"pattern\":{\"fillmode\":\"overlay\",\"size\":10,\"solidity\":0.2}},\"type\":\"barpolar\"}],\"pie\":[{\"automargin\":true,\"type\":\"pie\"}]},\"layout\":{\"autotypenumbers\":\"strict\",\"colorway\":[\"#636efa\",\"#EF553B\",\"#00cc96\",\"#ab63fa\",\"#FFA15A\",\"#19d3f3\",\"#FF6692\",\"#B6E880\",\"#FF97FF\",\"#FECB52\"],\"font\":{\"color\":\"#2a3f5f\"},\"hovermode\":\"closest\",\"hoverlabel\":{\"align\":\"left\"},\"paper_bgcolor\":\"white\",\"plot_bgcolor\":\"#E5ECF6\",\"polar\":{\"bgcolor\":\"#E5ECF6\",\"angularaxis\":{\"gridcolor\":\"white\",\"linecolor\":\"white\",\"ticks\":\"\"},\"radialaxis\":{\"gridcolor\":\"white\",\"linecolor\":\"white\",\"ticks\":\"\"}},\"ternary\":{\"bgcolor\":\"#E5ECF6\",\"aaxis\":{\"gridcolor\":\"white\",\"linecolor\":\"white\",\"ticks\":\"\"},\"baxis\":{\"gridcolor\":\"white\",\"linecolor\":\"white\",\"ticks\":\"\"},\"caxis\":{\"gridcolor\":\"white\",\"linecolor\":\"white\",\"ticks\":\"\"}},\"coloraxis\":{\"colorbar\":{\"outlinewidth\":0,\"ticks\":\"\"}},\"colorscale\":{\"sequential\":[[0.0,\"#0d0887\"],[0.1111111111111111,\"#46039f\"],[0.2222222222222222,\"#7201a8\"],[0.3333333333333333,\"#9c179e\"],[0.4444444444444444,\"#bd3786\"],[0.5555555555555556,\"#d8576b\"],[0.6666666666666666,\"#ed7953\"],[0.7777777777777778,\"#fb9f3a\"],[0.8888888888888888,\"#fdca26\"],[1.0,\"#f0f921\"]],\"sequentialminus\":[[0.0,\"#0d0887\"],[0.1111111111111111,\"#46039f\"],[0.2222222222222222,\"#7201a8\"],[0.3333333333333333,\"#9c179e\"],[0.4444444444444444,\"#bd3786\"],[0.5555555555555556,\"#d8576b\"],[0.6666666666666666,\"#ed7953\"],[0.7777777777777778,\"#fb9f3a\"],[0.8888888888888888,\"#fdca26\"],[1.0,\"#f0f921\"]],\"diverging\":[[0,\"#8e0152\"],[0.1,\"#c51b7d\"],[0.2,\"#de77ae\"],[0.3,\"#f1b6da\"],[0.4,\"#fde0ef\"],[0.5,\"#f7f7f7\"],[0.6,\"#e6f5d0\"],[0.7,\"#b8e186\"],[0.8,\"#7fbc41\"],[0.9,\"#4d9221\"],[1,\"#276419\"]]},\"xaxis\":{\"gridcolor\":\"white\",\"linecolor\":\"white\",\"ticks\":\"\",\"title\":{\"standoff\":15},\"zerolinecolor\":\"white\",\"automargin\":true,\"zerolinewidth\":2},\"yaxis\":{\"gridcolor\":\"white\",\"linecolor\":\"white\",\"ticks\":\"\",\"title\":{\"standoff\":15},\"zerolinecolor\":\"white\",\"automargin\":true,\"zerolinewidth\":2},\"scene\":{\"xaxis\":{\"backgroundcolor\":\"#E5ECF6\",\"gridcolor\":\"white\",\"linecolor\":\"white\",\"showbackground\":true,\"ticks\":\"\",\"zerolinecolor\":\"white\",\"gridwidth\":2},\"yaxis\":{\"backgroundcolor\":\"#E5ECF6\",\"gridcolor\":\"white\",\"linecolor\":\"white\",\"showbackground\":true,\"ticks\":\"\",\"zerolinecolor\":\"white\",\"gridwidth\":2},\"zaxis\":{\"backgroundcolor\":\"#E5ECF6\",\"gridcolor\":\"white\",\"linecolor\":\"white\",\"showbackground\":true,\"ticks\":\"\",\"zerolinecolor\":\"white\",\"gridwidth\":2}},\"shapedefaults\":{\"line\":{\"color\":\"#2a3f5f\"}},\"annotationdefaults\":{\"arrowcolor\":\"#2a3f5f\",\"arrowhead\":0,\"arrowwidth\":1},\"geo\":{\"bgcolor\":\"white\",\"landcolor\":\"#E5ECF6\",\"subunitcolor\":\"white\",\"showland\":true,\"showlakes\":true,\"lakecolor\":\"white\"},\"title\":{\"x\":0.05},\"mapbox\":{\"style\":\"light\"}}},\"xaxis\":{\"anchor\":\"y\",\"domain\":[0.0,1.0],\"title\":{\"text\":\"MPG_City\"}},\"yaxis\":{\"anchor\":\"x\",\"domain\":[0.0,1.0],\"title\":{\"text\":\"EngineSize\"}},\"legend\":{\"tracegroupgap\":0},\"margin\":{\"t\":60}},                        {\"responsive\": true}                    ).then(function(){\n",
       "                            \n",
       "var gd = document.getElementById('151c97b6-3d25-4c07-ba8f-439daeb3d999');\n",
       "var x = new MutationObserver(function (mutations, observer) {{\n",
       "        var display = window.getComputedStyle(gd).display;\n",
       "        if (!display || display === 'none') {{\n",
       "            console.log([gd, 'removed!']);\n",
       "            Plotly.purge(gd);\n",
       "            observer.disconnect();\n",
       "        }}\n",
       "}});\n",
       "\n",
       "// Listen for the removal of the full notebook cells\n",
       "var notebookContainer = gd.closest('#notebook-container');\n",
       "if (notebookContainer) {{\n",
       "    x.observe(notebookContainer, {childList: true});\n",
       "}}\n",
       "\n",
       "// Listen for the clearing of the current output cell\n",
       "var outputEl = gd.closest('.output');\n",
       "if (outputEl) {{\n",
       "    x.observe(outputEl, {childList: true});\n",
       "}}\n",
       "\n",
       "                        })                };                });            </script>        </div>"
      ]
     },
     "metadata": {},
     "output_type": "display_data"
    }
   ],
   "source": [
    "px.scatter(df,x=\"MPG_City\", y=\"EngineSize\")"
   ]
  },
  {
   "cell_type": "code",
   "execution_count": 67,
   "id": "0a98fcf3",
   "metadata": {},
   "outputs": [
    {
     "data": {
      "application/vnd.plotly.v1+json": {
       "config": {
        "plotlyServerURL": "https://plot.ly"
       },
       "data": [
        {
         "hovertemplate": "MPG_City=%{x}<br>Cylinders=%{y}<extra></extra>",
         "legendgroup": "",
         "marker": {
          "color": "#636efa",
          "symbol": "circle"
         },
         "mode": "markers",
         "name": "",
         "orientation": "v",
         "showlegend": false,
         "type": "scatter",
         "x": [
          17,
          24,
          22,
          20,
          18,
          18,
          17,
          22,
          23,
          20,
          17,
          18,
          20,
          18,
          20,
          18,
          18,
          17,
          17,
          14,
          15,
          20,
          20,
          21,
          18,
          15,
          16,
          16,
          20,
          20,
          19,
          19,
          20,
          20,
          20,
          19,
          19,
          20,
          18,
          18,
          18,
          16,
          16,
          20,
          21,
          19,
          15,
          19,
          20,
          20,
          20,
          18,
          20,
          20,
          18,
          14,
          16,
          18,
          18,
          18,
          18,
          17,
          13,
          14,
          14,
          16,
          19,
          28,
          28,
          26,
          26,
          26,
          21,
          24,
          22,
          21,
          20,
          18,
          23,
          18,
          14,
          19,
          18,
          18,
          14,
          18,
          15,
          13,
          16,
          22,
          22,
          22,
          22,
          21,
          18,
          21,
          19,
          21,
          22,
          18,
          21,
          19,
          18,
          17,
          17,
          15,
          29,
          29,
          21,
          21,
          21,
          18,
          20,
          18,
          12,
          16,
          16,
          16,
          10,
          15,
          15,
          18,
          26,
          27,
          26,
          26,
          21,
          20,
          19,
          17,
          17,
          17,
          17,
          20,
          17,
          17,
          15,
          14,
          24,
          26,
          19,
          15,
          16,
          13,
          16,
          18,
          17,
          13,
          15,
          46,
          60,
          17,
          21,
          21,
          32,
          36,
          32,
          26,
          26,
          32,
          26,
          21,
          21,
          18,
          18,
          20,
          10,
          20,
          29,
          29,
          29,
          26,
          26,
          26,
          19,
          19,
          17,
          17,
          19,
          18,
          18,
          18,
          19,
          17,
          17,
          16,
          15,
          15,
          17,
          18,
          18,
          18,
          18,
          17,
          18,
          18,
          17,
          18,
          18,
          16,
          16,
          16,
          20,
          16,
          16,
          23,
          26,
          25,
          24,
          24,
          24,
          20,
          17,
          16,
          26,
          12,
          12,
          18,
          15,
          13,
          18,
          20,
          18,
          18,
          18,
          18,
          18,
          18,
          18,
          13,
          13,
          20,
          20,
          17,
          17,
          17,
          17,
          17,
          28,
          25,
          22,
          26,
          25,
          24,
          18,
          23,
          23,
          18,
          18,
          24,
          15,
          13,
          14,
          22,
          19,
          20,
          19,
          19,
          20,
          19,
          16,
          16,
          13,
          20,
          17,
          19,
          16,
          18,
          16,
          16,
          14,
          13,
          21,
          17,
          19,
          19,
          16,
          16,
          20,
          17,
          17,
          19,
          17,
          17,
          16,
          19,
          17,
          15,
          21,
          25,
          25,
          23,
          25,
          18,
          18,
          21,
          21,
          18,
          25,
          13,
          16,
          17,
          28,
          28,
          21,
          23,
          21,
          20,
          20,
          19,
          18,
          20,
          20,
          17,
          14,
          20,
          24,
          20,
          19,
          19,
          24,
          20,
          20,
          24,
          20,
          17,
          19,
          18,
          16,
          29,
          14,
          18,
          17,
          18,
          17,
          20,
          18,
          20,
          20,
          21,
          21,
          21,
          21,
          19,
          21,
          26,
          26,
          26,
          26,
          26,
          20,
          24,
          32,
          31,
          22,
          21,
          21,
          20,
          19,
          19,
          20,
          18,
          21,
          21,
          21,
          18,
          19,
          25,
          25,
          24,
          22,
          20,
          24,
          59,
          14,
          18,
          18,
          13,
          22,
          32,
          32,
          32,
          35,
          33,
          35,
          24,
          21,
          24,
          20,
          21,
          21,
          20,
          21,
          19,
          19,
          24,
          26,
          22,
          16,
          14,
          29,
          15,
          24,
          24,
          38,
          24,
          21,
          24,
          22,
          19,
          18,
          16,
          12,
          24,
          22,
          18,
          15,
          22,
          20,
          20,
          18,
          20,
          20,
          21,
          20,
          19,
          22,
          20
         ],
         "xaxis": "x",
         "y": [
          6,
          4,
          4,
          6,
          6,
          6,
          6,
          4,
          4,
          6,
          6,
          6,
          6,
          6,
          6,
          6,
          6,
          8,
          8,
          8,
          8,
          4,
          4,
          6,
          6,
          8,
          6,
          8,
          6,
          6,
          6,
          6,
          6,
          6,
          6,
          6,
          6,
          6,
          8,
          8,
          8,
          6,
          6,
          6,
          6,
          6,
          6,
          6,
          6,
          6,
          6,
          6,
          6,
          6,
          6,
          8,
          8,
          6,
          8,
          8,
          8,
          8,
          8,
          8,
          8,
          6,
          6,
          4,
          4,
          4,
          4,
          4,
          6,
          4,
          6,
          6,
          6,
          6,
          6,
          6,
          6,
          6,
          8,
          8,
          8,
          4,
          6,
          8,
          8,
          6,
          4,
          4,
          4,
          6,
          6,
          6,
          6,
          4,
          4,
          6,
          6,
          6,
          6,
          6,
          6,
          8,
          4,
          4,
          6,
          4,
          4,
          6,
          4,
          6,
          10,
          6,
          6,
          6,
          10,
          8,
          6,
          6,
          4,
          4,
          4,
          4,
          4,
          6,
          6,
          8,
          8,
          8,
          6,
          6,
          8,
          8,
          8,
          8,
          4,
          4,
          6,
          6,
          8,
          8,
          6,
          4,
          8,
          8,
          6,
          4,
          3,
          6,
          4,
          4,
          4,
          4,
          4,
          4,
          4,
          4,
          4,
          6,
          6,
          6,
          6,
          4,
          8,
          6,
          4,
          4,
          4,
          4,
          4,
          4,
          6,
          6,
          6,
          6,
          6,
          6,
          6,
          6,
          6,
          8,
          8,
          6,
          8,
          6,
          6,
          6,
          6,
          6,
          8,
          8,
          8,
          8,
          8,
          8,
          8,
          8,
          8,
          6,
          4,
          6,
          6,
          4,
          4,
          4,
          4,
          4,
          4,
          6,
          6,
          6,
          4,
          8,
          8,
          6,
          8,
          8,
          6,
          6,
          6,
          6,
          6,
          8,
          8,
          8,
          6,
          8,
          8,
          6,
          6,
          8,
          8,
          8,
          8,
          8,
          4,
          4,
          4,
          4,
          4,
          4,
          6,
          4,
          4,
          null,
          null,
          4,
          6,
          8,
          8,
          4,
          6,
          6,
          6,
          6,
          6,
          6,
          6,
          8,
          12,
          6,
          8,
          6,
          8,
          8,
          8,
          8,
          8,
          12,
          4,
          6,
          6,
          6,
          8,
          6,
          6,
          8,
          8,
          6,
          8,
          8,
          6,
          6,
          6,
          6,
          4,
          4,
          4,
          4,
          4,
          6,
          6,
          6,
          6,
          4,
          4,
          8,
          6,
          6,
          4,
          4,
          4,
          4,
          6,
          6,
          6,
          6,
          6,
          6,
          6,
          6,
          8,
          6,
          4,
          6,
          6,
          6,
          4,
          6,
          6,
          4,
          6,
          8,
          6,
          6,
          8,
          4,
          8,
          6,
          6,
          6,
          6,
          6,
          6,
          4,
          4,
          4,
          4,
          4,
          4,
          4,
          4,
          4,
          4,
          4,
          4,
          4,
          6,
          4,
          4,
          4,
          4,
          4,
          4,
          4,
          6,
          6,
          4,
          4,
          4,
          4,
          4,
          6,
          6,
          4,
          4,
          4,
          4,
          6,
          4,
          4,
          8,
          6,
          6,
          8,
          4,
          4,
          4,
          4,
          4,
          4,
          4,
          4,
          6,
          4,
          6,
          6,
          6,
          6,
          6,
          6,
          6,
          4,
          4,
          4,
          6,
          6,
          4,
          6,
          4,
          4,
          4,
          4,
          6,
          4,
          4,
          6,
          8,
          8,
          12,
          4,
          4,
          8,
          6,
          4,
          5,
          5,
          5,
          6,
          5,
          5,
          5,
          6,
          4,
          5
         ],
         "yaxis": "y"
        }
       ],
       "layout": {
        "legend": {
         "tracegroupgap": 0
        },
        "margin": {
         "t": 60
        },
        "template": {
         "data": {
          "bar": [
           {
            "error_x": {
             "color": "#2a3f5f"
            },
            "error_y": {
             "color": "#2a3f5f"
            },
            "marker": {
             "line": {
              "color": "#E5ECF6",
              "width": 0.5
             },
             "pattern": {
              "fillmode": "overlay",
              "size": 10,
              "solidity": 0.2
             }
            },
            "type": "bar"
           }
          ],
          "barpolar": [
           {
            "marker": {
             "line": {
              "color": "#E5ECF6",
              "width": 0.5
             },
             "pattern": {
              "fillmode": "overlay",
              "size": 10,
              "solidity": 0.2
             }
            },
            "type": "barpolar"
           }
          ],
          "carpet": [
           {
            "aaxis": {
             "endlinecolor": "#2a3f5f",
             "gridcolor": "white",
             "linecolor": "white",
             "minorgridcolor": "white",
             "startlinecolor": "#2a3f5f"
            },
            "baxis": {
             "endlinecolor": "#2a3f5f",
             "gridcolor": "white",
             "linecolor": "white",
             "minorgridcolor": "white",
             "startlinecolor": "#2a3f5f"
            },
            "type": "carpet"
           }
          ],
          "choropleth": [
           {
            "colorbar": {
             "outlinewidth": 0,
             "ticks": ""
            },
            "type": "choropleth"
           }
          ],
          "contour": [
           {
            "colorbar": {
             "outlinewidth": 0,
             "ticks": ""
            },
            "colorscale": [
             [
              0,
              "#0d0887"
             ],
             [
              0.1111111111111111,
              "#46039f"
             ],
             [
              0.2222222222222222,
              "#7201a8"
             ],
             [
              0.3333333333333333,
              "#9c179e"
             ],
             [
              0.4444444444444444,
              "#bd3786"
             ],
             [
              0.5555555555555556,
              "#d8576b"
             ],
             [
              0.6666666666666666,
              "#ed7953"
             ],
             [
              0.7777777777777778,
              "#fb9f3a"
             ],
             [
              0.8888888888888888,
              "#fdca26"
             ],
             [
              1,
              "#f0f921"
             ]
            ],
            "type": "contour"
           }
          ],
          "contourcarpet": [
           {
            "colorbar": {
             "outlinewidth": 0,
             "ticks": ""
            },
            "type": "contourcarpet"
           }
          ],
          "heatmap": [
           {
            "colorbar": {
             "outlinewidth": 0,
             "ticks": ""
            },
            "colorscale": [
             [
              0,
              "#0d0887"
             ],
             [
              0.1111111111111111,
              "#46039f"
             ],
             [
              0.2222222222222222,
              "#7201a8"
             ],
             [
              0.3333333333333333,
              "#9c179e"
             ],
             [
              0.4444444444444444,
              "#bd3786"
             ],
             [
              0.5555555555555556,
              "#d8576b"
             ],
             [
              0.6666666666666666,
              "#ed7953"
             ],
             [
              0.7777777777777778,
              "#fb9f3a"
             ],
             [
              0.8888888888888888,
              "#fdca26"
             ],
             [
              1,
              "#f0f921"
             ]
            ],
            "type": "heatmap"
           }
          ],
          "heatmapgl": [
           {
            "colorbar": {
             "outlinewidth": 0,
             "ticks": ""
            },
            "colorscale": [
             [
              0,
              "#0d0887"
             ],
             [
              0.1111111111111111,
              "#46039f"
             ],
             [
              0.2222222222222222,
              "#7201a8"
             ],
             [
              0.3333333333333333,
              "#9c179e"
             ],
             [
              0.4444444444444444,
              "#bd3786"
             ],
             [
              0.5555555555555556,
              "#d8576b"
             ],
             [
              0.6666666666666666,
              "#ed7953"
             ],
             [
              0.7777777777777778,
              "#fb9f3a"
             ],
             [
              0.8888888888888888,
              "#fdca26"
             ],
             [
              1,
              "#f0f921"
             ]
            ],
            "type": "heatmapgl"
           }
          ],
          "histogram": [
           {
            "marker": {
             "pattern": {
              "fillmode": "overlay",
              "size": 10,
              "solidity": 0.2
             }
            },
            "type": "histogram"
           }
          ],
          "histogram2d": [
           {
            "colorbar": {
             "outlinewidth": 0,
             "ticks": ""
            },
            "colorscale": [
             [
              0,
              "#0d0887"
             ],
             [
              0.1111111111111111,
              "#46039f"
             ],
             [
              0.2222222222222222,
              "#7201a8"
             ],
             [
              0.3333333333333333,
              "#9c179e"
             ],
             [
              0.4444444444444444,
              "#bd3786"
             ],
             [
              0.5555555555555556,
              "#d8576b"
             ],
             [
              0.6666666666666666,
              "#ed7953"
             ],
             [
              0.7777777777777778,
              "#fb9f3a"
             ],
             [
              0.8888888888888888,
              "#fdca26"
             ],
             [
              1,
              "#f0f921"
             ]
            ],
            "type": "histogram2d"
           }
          ],
          "histogram2dcontour": [
           {
            "colorbar": {
             "outlinewidth": 0,
             "ticks": ""
            },
            "colorscale": [
             [
              0,
              "#0d0887"
             ],
             [
              0.1111111111111111,
              "#46039f"
             ],
             [
              0.2222222222222222,
              "#7201a8"
             ],
             [
              0.3333333333333333,
              "#9c179e"
             ],
             [
              0.4444444444444444,
              "#bd3786"
             ],
             [
              0.5555555555555556,
              "#d8576b"
             ],
             [
              0.6666666666666666,
              "#ed7953"
             ],
             [
              0.7777777777777778,
              "#fb9f3a"
             ],
             [
              0.8888888888888888,
              "#fdca26"
             ],
             [
              1,
              "#f0f921"
             ]
            ],
            "type": "histogram2dcontour"
           }
          ],
          "mesh3d": [
           {
            "colorbar": {
             "outlinewidth": 0,
             "ticks": ""
            },
            "type": "mesh3d"
           }
          ],
          "parcoords": [
           {
            "line": {
             "colorbar": {
              "outlinewidth": 0,
              "ticks": ""
             }
            },
            "type": "parcoords"
           }
          ],
          "pie": [
           {
            "automargin": true,
            "type": "pie"
           }
          ],
          "scatter": [
           {
            "fillpattern": {
             "fillmode": "overlay",
             "size": 10,
             "solidity": 0.2
            },
            "type": "scatter"
           }
          ],
          "scatter3d": [
           {
            "line": {
             "colorbar": {
              "outlinewidth": 0,
              "ticks": ""
             }
            },
            "marker": {
             "colorbar": {
              "outlinewidth": 0,
              "ticks": ""
             }
            },
            "type": "scatter3d"
           }
          ],
          "scattercarpet": [
           {
            "marker": {
             "colorbar": {
              "outlinewidth": 0,
              "ticks": ""
             }
            },
            "type": "scattercarpet"
           }
          ],
          "scattergeo": [
           {
            "marker": {
             "colorbar": {
              "outlinewidth": 0,
              "ticks": ""
             }
            },
            "type": "scattergeo"
           }
          ],
          "scattergl": [
           {
            "marker": {
             "colorbar": {
              "outlinewidth": 0,
              "ticks": ""
             }
            },
            "type": "scattergl"
           }
          ],
          "scattermapbox": [
           {
            "marker": {
             "colorbar": {
              "outlinewidth": 0,
              "ticks": ""
             }
            },
            "type": "scattermapbox"
           }
          ],
          "scatterpolar": [
           {
            "marker": {
             "colorbar": {
              "outlinewidth": 0,
              "ticks": ""
             }
            },
            "type": "scatterpolar"
           }
          ],
          "scatterpolargl": [
           {
            "marker": {
             "colorbar": {
              "outlinewidth": 0,
              "ticks": ""
             }
            },
            "type": "scatterpolargl"
           }
          ],
          "scatterternary": [
           {
            "marker": {
             "colorbar": {
              "outlinewidth": 0,
              "ticks": ""
             }
            },
            "type": "scatterternary"
           }
          ],
          "surface": [
           {
            "colorbar": {
             "outlinewidth": 0,
             "ticks": ""
            },
            "colorscale": [
             [
              0,
              "#0d0887"
             ],
             [
              0.1111111111111111,
              "#46039f"
             ],
             [
              0.2222222222222222,
              "#7201a8"
             ],
             [
              0.3333333333333333,
              "#9c179e"
             ],
             [
              0.4444444444444444,
              "#bd3786"
             ],
             [
              0.5555555555555556,
              "#d8576b"
             ],
             [
              0.6666666666666666,
              "#ed7953"
             ],
             [
              0.7777777777777778,
              "#fb9f3a"
             ],
             [
              0.8888888888888888,
              "#fdca26"
             ],
             [
              1,
              "#f0f921"
             ]
            ],
            "type": "surface"
           }
          ],
          "table": [
           {
            "cells": {
             "fill": {
              "color": "#EBF0F8"
             },
             "line": {
              "color": "white"
             }
            },
            "header": {
             "fill": {
              "color": "#C8D4E3"
             },
             "line": {
              "color": "white"
             }
            },
            "type": "table"
           }
          ]
         },
         "layout": {
          "annotationdefaults": {
           "arrowcolor": "#2a3f5f",
           "arrowhead": 0,
           "arrowwidth": 1
          },
          "autotypenumbers": "strict",
          "coloraxis": {
           "colorbar": {
            "outlinewidth": 0,
            "ticks": ""
           }
          },
          "colorscale": {
           "diverging": [
            [
             0,
             "#8e0152"
            ],
            [
             0.1,
             "#c51b7d"
            ],
            [
             0.2,
             "#de77ae"
            ],
            [
             0.3,
             "#f1b6da"
            ],
            [
             0.4,
             "#fde0ef"
            ],
            [
             0.5,
             "#f7f7f7"
            ],
            [
             0.6,
             "#e6f5d0"
            ],
            [
             0.7,
             "#b8e186"
            ],
            [
             0.8,
             "#7fbc41"
            ],
            [
             0.9,
             "#4d9221"
            ],
            [
             1,
             "#276419"
            ]
           ],
           "sequential": [
            [
             0,
             "#0d0887"
            ],
            [
             0.1111111111111111,
             "#46039f"
            ],
            [
             0.2222222222222222,
             "#7201a8"
            ],
            [
             0.3333333333333333,
             "#9c179e"
            ],
            [
             0.4444444444444444,
             "#bd3786"
            ],
            [
             0.5555555555555556,
             "#d8576b"
            ],
            [
             0.6666666666666666,
             "#ed7953"
            ],
            [
             0.7777777777777778,
             "#fb9f3a"
            ],
            [
             0.8888888888888888,
             "#fdca26"
            ],
            [
             1,
             "#f0f921"
            ]
           ],
           "sequentialminus": [
            [
             0,
             "#0d0887"
            ],
            [
             0.1111111111111111,
             "#46039f"
            ],
            [
             0.2222222222222222,
             "#7201a8"
            ],
            [
             0.3333333333333333,
             "#9c179e"
            ],
            [
             0.4444444444444444,
             "#bd3786"
            ],
            [
             0.5555555555555556,
             "#d8576b"
            ],
            [
             0.6666666666666666,
             "#ed7953"
            ],
            [
             0.7777777777777778,
             "#fb9f3a"
            ],
            [
             0.8888888888888888,
             "#fdca26"
            ],
            [
             1,
             "#f0f921"
            ]
           ]
          },
          "colorway": [
           "#636efa",
           "#EF553B",
           "#00cc96",
           "#ab63fa",
           "#FFA15A",
           "#19d3f3",
           "#FF6692",
           "#B6E880",
           "#FF97FF",
           "#FECB52"
          ],
          "font": {
           "color": "#2a3f5f"
          },
          "geo": {
           "bgcolor": "white",
           "lakecolor": "white",
           "landcolor": "#E5ECF6",
           "showlakes": true,
           "showland": true,
           "subunitcolor": "white"
          },
          "hoverlabel": {
           "align": "left"
          },
          "hovermode": "closest",
          "mapbox": {
           "style": "light"
          },
          "paper_bgcolor": "white",
          "plot_bgcolor": "#E5ECF6",
          "polar": {
           "angularaxis": {
            "gridcolor": "white",
            "linecolor": "white",
            "ticks": ""
           },
           "bgcolor": "#E5ECF6",
           "radialaxis": {
            "gridcolor": "white",
            "linecolor": "white",
            "ticks": ""
           }
          },
          "scene": {
           "xaxis": {
            "backgroundcolor": "#E5ECF6",
            "gridcolor": "white",
            "gridwidth": 2,
            "linecolor": "white",
            "showbackground": true,
            "ticks": "",
            "zerolinecolor": "white"
           },
           "yaxis": {
            "backgroundcolor": "#E5ECF6",
            "gridcolor": "white",
            "gridwidth": 2,
            "linecolor": "white",
            "showbackground": true,
            "ticks": "",
            "zerolinecolor": "white"
           },
           "zaxis": {
            "backgroundcolor": "#E5ECF6",
            "gridcolor": "white",
            "gridwidth": 2,
            "linecolor": "white",
            "showbackground": true,
            "ticks": "",
            "zerolinecolor": "white"
           }
          },
          "shapedefaults": {
           "line": {
            "color": "#2a3f5f"
           }
          },
          "ternary": {
           "aaxis": {
            "gridcolor": "white",
            "linecolor": "white",
            "ticks": ""
           },
           "baxis": {
            "gridcolor": "white",
            "linecolor": "white",
            "ticks": ""
           },
           "bgcolor": "#E5ECF6",
           "caxis": {
            "gridcolor": "white",
            "linecolor": "white",
            "ticks": ""
           }
          },
          "title": {
           "x": 0.05
          },
          "xaxis": {
           "automargin": true,
           "gridcolor": "white",
           "linecolor": "white",
           "ticks": "",
           "title": {
            "standoff": 15
           },
           "zerolinecolor": "white",
           "zerolinewidth": 2
          },
          "yaxis": {
           "automargin": true,
           "gridcolor": "white",
           "linecolor": "white",
           "ticks": "",
           "title": {
            "standoff": 15
           },
           "zerolinecolor": "white",
           "zerolinewidth": 2
          }
         }
        },
        "xaxis": {
         "anchor": "y",
         "domain": [
          0,
          1
         ],
         "title": {
          "text": "MPG_City"
         }
        },
        "yaxis": {
         "anchor": "x",
         "domain": [
          0,
          1
         ],
         "title": {
          "text": "Cylinders"
         }
        }
       }
      },
      "text/html": [
       "<div>                            <div id=\"e1bffc7e-0e4f-477f-ad09-2a9e345af15c\" class=\"plotly-graph-div\" style=\"height:525px; width:100%;\"></div>            <script type=\"text/javascript\">                require([\"plotly\"], function(Plotly) {                    window.PLOTLYENV=window.PLOTLYENV || {};                                    if (document.getElementById(\"e1bffc7e-0e4f-477f-ad09-2a9e345af15c\")) {                    Plotly.newPlot(                        \"e1bffc7e-0e4f-477f-ad09-2a9e345af15c\",                        [{\"hovertemplate\":\"MPG_City=%{x}<br>Cylinders=%{y}<extra></extra>\",\"legendgroup\":\"\",\"marker\":{\"color\":\"#636efa\",\"symbol\":\"circle\"},\"mode\":\"markers\",\"name\":\"\",\"orientation\":\"v\",\"showlegend\":false,\"x\":[17,24,22,20,18,18,17,22,23,20,17,18,20,18,20,18,18,17,17,14,15,20,20,21,18,15,16,16,20,20,19,19,20,20,20,19,19,20,18,18,18,16,16,20,21,19,15,19,20,20,20,18,20,20,18,14,16,18,18,18,18,17,13,14,14,16,19,28,28,26,26,26,21,24,22,21,20,18,23,18,14,19,18,18,14,18,15,13,16,22,22,22,22,21,18,21,19,21,22,18,21,19,18,17,17,15,29,29,21,21,21,18,20,18,12,16,16,16,10,15,15,18,26,27,26,26,21,20,19,17,17,17,17,20,17,17,15,14,24,26,19,15,16,13,16,18,17,13,15,46,60,17,21,21,32,36,32,26,26,32,26,21,21,18,18,20,10,20,29,29,29,26,26,26,19,19,17,17,19,18,18,18,19,17,17,16,15,15,17,18,18,18,18,17,18,18,17,18,18,16,16,16,20,16,16,23,26,25,24,24,24,20,17,16,26,12,12,18,15,13,18,20,18,18,18,18,18,18,18,13,13,20,20,17,17,17,17,17,28,25,22,26,25,24,18,23,23,18,18,24,15,13,14,22,19,20,19,19,20,19,16,16,13,20,17,19,16,18,16,16,14,13,21,17,19,19,16,16,20,17,17,19,17,17,16,19,17,15,21,25,25,23,25,18,18,21,21,18,25,13,16,17,28,28,21,23,21,20,20,19,18,20,20,17,14,20,24,20,19,19,24,20,20,24,20,17,19,18,16,29,14,18,17,18,17,20,18,20,20,21,21,21,21,19,21,26,26,26,26,26,20,24,32,31,22,21,21,20,19,19,20,18,21,21,21,18,19,25,25,24,22,20,24,59,14,18,18,13,22,32,32,32,35,33,35,24,21,24,20,21,21,20,21,19,19,24,26,22,16,14,29,15,24,24,38,24,21,24,22,19,18,16,12,24,22,18,15,22,20,20,18,20,20,21,20,19,22,20],\"xaxis\":\"x\",\"y\":[6.0,4.0,4.0,6.0,6.0,6.0,6.0,4.0,4.0,6.0,6.0,6.0,6.0,6.0,6.0,6.0,6.0,8.0,8.0,8.0,8.0,4.0,4.0,6.0,6.0,8.0,6.0,8.0,6.0,6.0,6.0,6.0,6.0,6.0,6.0,6.0,6.0,6.0,8.0,8.0,8.0,6.0,6.0,6.0,6.0,6.0,6.0,6.0,6.0,6.0,6.0,6.0,6.0,6.0,6.0,8.0,8.0,6.0,8.0,8.0,8.0,8.0,8.0,8.0,8.0,6.0,6.0,4.0,4.0,4.0,4.0,4.0,6.0,4.0,6.0,6.0,6.0,6.0,6.0,6.0,6.0,6.0,8.0,8.0,8.0,4.0,6.0,8.0,8.0,6.0,4.0,4.0,4.0,6.0,6.0,6.0,6.0,4.0,4.0,6.0,6.0,6.0,6.0,6.0,6.0,8.0,4.0,4.0,6.0,4.0,4.0,6.0,4.0,6.0,10.0,6.0,6.0,6.0,10.0,8.0,6.0,6.0,4.0,4.0,4.0,4.0,4.0,6.0,6.0,8.0,8.0,8.0,6.0,6.0,8.0,8.0,8.0,8.0,4.0,4.0,6.0,6.0,8.0,8.0,6.0,4.0,8.0,8.0,6.0,4.0,3.0,6.0,4.0,4.0,4.0,4.0,4.0,4.0,4.0,4.0,4.0,6.0,6.0,6.0,6.0,4.0,8.0,6.0,4.0,4.0,4.0,4.0,4.0,4.0,6.0,6.0,6.0,6.0,6.0,6.0,6.0,6.0,6.0,8.0,8.0,6.0,8.0,6.0,6.0,6.0,6.0,6.0,8.0,8.0,8.0,8.0,8.0,8.0,8.0,8.0,8.0,6.0,4.0,6.0,6.0,4.0,4.0,4.0,4.0,4.0,4.0,6.0,6.0,6.0,4.0,8.0,8.0,6.0,8.0,8.0,6.0,6.0,6.0,6.0,6.0,8.0,8.0,8.0,6.0,8.0,8.0,6.0,6.0,8.0,8.0,8.0,8.0,8.0,4.0,4.0,4.0,4.0,4.0,4.0,6.0,4.0,4.0,null,null,4.0,6.0,8.0,8.0,4.0,6.0,6.0,6.0,6.0,6.0,6.0,6.0,8.0,12.0,6.0,8.0,6.0,8.0,8.0,8.0,8.0,8.0,12.0,4.0,6.0,6.0,6.0,8.0,6.0,6.0,8.0,8.0,6.0,8.0,8.0,6.0,6.0,6.0,6.0,4.0,4.0,4.0,4.0,4.0,6.0,6.0,6.0,6.0,4.0,4.0,8.0,6.0,6.0,4.0,4.0,4.0,4.0,6.0,6.0,6.0,6.0,6.0,6.0,6.0,6.0,8.0,6.0,4.0,6.0,6.0,6.0,4.0,6.0,6.0,4.0,6.0,8.0,6.0,6.0,8.0,4.0,8.0,6.0,6.0,6.0,6.0,6.0,6.0,4.0,4.0,4.0,4.0,4.0,4.0,4.0,4.0,4.0,4.0,4.0,4.0,4.0,6.0,4.0,4.0,4.0,4.0,4.0,4.0,4.0,6.0,6.0,4.0,4.0,4.0,4.0,4.0,6.0,6.0,4.0,4.0,4.0,4.0,6.0,4.0,4.0,8.0,6.0,6.0,8.0,4.0,4.0,4.0,4.0,4.0,4.0,4.0,4.0,6.0,4.0,6.0,6.0,6.0,6.0,6.0,6.0,6.0,4.0,4.0,4.0,6.0,6.0,4.0,6.0,4.0,4.0,4.0,4.0,6.0,4.0,4.0,6.0,8.0,8.0,12.0,4.0,4.0,8.0,6.0,4.0,5.0,5.0,5.0,6.0,5.0,5.0,5.0,6.0,4.0,5.0],\"yaxis\":\"y\",\"type\":\"scatter\"}],                        {\"template\":{\"data\":{\"histogram2dcontour\":[{\"type\":\"histogram2dcontour\",\"colorbar\":{\"outlinewidth\":0,\"ticks\":\"\"},\"colorscale\":[[0.0,\"#0d0887\"],[0.1111111111111111,\"#46039f\"],[0.2222222222222222,\"#7201a8\"],[0.3333333333333333,\"#9c179e\"],[0.4444444444444444,\"#bd3786\"],[0.5555555555555556,\"#d8576b\"],[0.6666666666666666,\"#ed7953\"],[0.7777777777777778,\"#fb9f3a\"],[0.8888888888888888,\"#fdca26\"],[1.0,\"#f0f921\"]]}],\"choropleth\":[{\"type\":\"choropleth\",\"colorbar\":{\"outlinewidth\":0,\"ticks\":\"\"}}],\"histogram2d\":[{\"type\":\"histogram2d\",\"colorbar\":{\"outlinewidth\":0,\"ticks\":\"\"},\"colorscale\":[[0.0,\"#0d0887\"],[0.1111111111111111,\"#46039f\"],[0.2222222222222222,\"#7201a8\"],[0.3333333333333333,\"#9c179e\"],[0.4444444444444444,\"#bd3786\"],[0.5555555555555556,\"#d8576b\"],[0.6666666666666666,\"#ed7953\"],[0.7777777777777778,\"#fb9f3a\"],[0.8888888888888888,\"#fdca26\"],[1.0,\"#f0f921\"]]}],\"heatmap\":[{\"type\":\"heatmap\",\"colorbar\":{\"outlinewidth\":0,\"ticks\":\"\"},\"colorscale\":[[0.0,\"#0d0887\"],[0.1111111111111111,\"#46039f\"],[0.2222222222222222,\"#7201a8\"],[0.3333333333333333,\"#9c179e\"],[0.4444444444444444,\"#bd3786\"],[0.5555555555555556,\"#d8576b\"],[0.6666666666666666,\"#ed7953\"],[0.7777777777777778,\"#fb9f3a\"],[0.8888888888888888,\"#fdca26\"],[1.0,\"#f0f921\"]]}],\"heatmapgl\":[{\"type\":\"heatmapgl\",\"colorbar\":{\"outlinewidth\":0,\"ticks\":\"\"},\"colorscale\":[[0.0,\"#0d0887\"],[0.1111111111111111,\"#46039f\"],[0.2222222222222222,\"#7201a8\"],[0.3333333333333333,\"#9c179e\"],[0.4444444444444444,\"#bd3786\"],[0.5555555555555556,\"#d8576b\"],[0.6666666666666666,\"#ed7953\"],[0.7777777777777778,\"#fb9f3a\"],[0.8888888888888888,\"#fdca26\"],[1.0,\"#f0f921\"]]}],\"contourcarpet\":[{\"type\":\"contourcarpet\",\"colorbar\":{\"outlinewidth\":0,\"ticks\":\"\"}}],\"contour\":[{\"type\":\"contour\",\"colorbar\":{\"outlinewidth\":0,\"ticks\":\"\"},\"colorscale\":[[0.0,\"#0d0887\"],[0.1111111111111111,\"#46039f\"],[0.2222222222222222,\"#7201a8\"],[0.3333333333333333,\"#9c179e\"],[0.4444444444444444,\"#bd3786\"],[0.5555555555555556,\"#d8576b\"],[0.6666666666666666,\"#ed7953\"],[0.7777777777777778,\"#fb9f3a\"],[0.8888888888888888,\"#fdca26\"],[1.0,\"#f0f921\"]]}],\"surface\":[{\"type\":\"surface\",\"colorbar\":{\"outlinewidth\":0,\"ticks\":\"\"},\"colorscale\":[[0.0,\"#0d0887\"],[0.1111111111111111,\"#46039f\"],[0.2222222222222222,\"#7201a8\"],[0.3333333333333333,\"#9c179e\"],[0.4444444444444444,\"#bd3786\"],[0.5555555555555556,\"#d8576b\"],[0.6666666666666666,\"#ed7953\"],[0.7777777777777778,\"#fb9f3a\"],[0.8888888888888888,\"#fdca26\"],[1.0,\"#f0f921\"]]}],\"mesh3d\":[{\"type\":\"mesh3d\",\"colorbar\":{\"outlinewidth\":0,\"ticks\":\"\"}}],\"scatter\":[{\"fillpattern\":{\"fillmode\":\"overlay\",\"size\":10,\"solidity\":0.2},\"type\":\"scatter\"}],\"parcoords\":[{\"type\":\"parcoords\",\"line\":{\"colorbar\":{\"outlinewidth\":0,\"ticks\":\"\"}}}],\"scatterpolargl\":[{\"type\":\"scatterpolargl\",\"marker\":{\"colorbar\":{\"outlinewidth\":0,\"ticks\":\"\"}}}],\"bar\":[{\"error_x\":{\"color\":\"#2a3f5f\"},\"error_y\":{\"color\":\"#2a3f5f\"},\"marker\":{\"line\":{\"color\":\"#E5ECF6\",\"width\":0.5},\"pattern\":{\"fillmode\":\"overlay\",\"size\":10,\"solidity\":0.2}},\"type\":\"bar\"}],\"scattergeo\":[{\"type\":\"scattergeo\",\"marker\":{\"colorbar\":{\"outlinewidth\":0,\"ticks\":\"\"}}}],\"scatterpolar\":[{\"type\":\"scatterpolar\",\"marker\":{\"colorbar\":{\"outlinewidth\":0,\"ticks\":\"\"}}}],\"histogram\":[{\"marker\":{\"pattern\":{\"fillmode\":\"overlay\",\"size\":10,\"solidity\":0.2}},\"type\":\"histogram\"}],\"scattergl\":[{\"type\":\"scattergl\",\"marker\":{\"colorbar\":{\"outlinewidth\":0,\"ticks\":\"\"}}}],\"scatter3d\":[{\"type\":\"scatter3d\",\"line\":{\"colorbar\":{\"outlinewidth\":0,\"ticks\":\"\"}},\"marker\":{\"colorbar\":{\"outlinewidth\":0,\"ticks\":\"\"}}}],\"scattermapbox\":[{\"type\":\"scattermapbox\",\"marker\":{\"colorbar\":{\"outlinewidth\":0,\"ticks\":\"\"}}}],\"scatterternary\":[{\"type\":\"scatterternary\",\"marker\":{\"colorbar\":{\"outlinewidth\":0,\"ticks\":\"\"}}}],\"scattercarpet\":[{\"type\":\"scattercarpet\",\"marker\":{\"colorbar\":{\"outlinewidth\":0,\"ticks\":\"\"}}}],\"carpet\":[{\"aaxis\":{\"endlinecolor\":\"#2a3f5f\",\"gridcolor\":\"white\",\"linecolor\":\"white\",\"minorgridcolor\":\"white\",\"startlinecolor\":\"#2a3f5f\"},\"baxis\":{\"endlinecolor\":\"#2a3f5f\",\"gridcolor\":\"white\",\"linecolor\":\"white\",\"minorgridcolor\":\"white\",\"startlinecolor\":\"#2a3f5f\"},\"type\":\"carpet\"}],\"table\":[{\"cells\":{\"fill\":{\"color\":\"#EBF0F8\"},\"line\":{\"color\":\"white\"}},\"header\":{\"fill\":{\"color\":\"#C8D4E3\"},\"line\":{\"color\":\"white\"}},\"type\":\"table\"}],\"barpolar\":[{\"marker\":{\"line\":{\"color\":\"#E5ECF6\",\"width\":0.5},\"pattern\":{\"fillmode\":\"overlay\",\"size\":10,\"solidity\":0.2}},\"type\":\"barpolar\"}],\"pie\":[{\"automargin\":true,\"type\":\"pie\"}]},\"layout\":{\"autotypenumbers\":\"strict\",\"colorway\":[\"#636efa\",\"#EF553B\",\"#00cc96\",\"#ab63fa\",\"#FFA15A\",\"#19d3f3\",\"#FF6692\",\"#B6E880\",\"#FF97FF\",\"#FECB52\"],\"font\":{\"color\":\"#2a3f5f\"},\"hovermode\":\"closest\",\"hoverlabel\":{\"align\":\"left\"},\"paper_bgcolor\":\"white\",\"plot_bgcolor\":\"#E5ECF6\",\"polar\":{\"bgcolor\":\"#E5ECF6\",\"angularaxis\":{\"gridcolor\":\"white\",\"linecolor\":\"white\",\"ticks\":\"\"},\"radialaxis\":{\"gridcolor\":\"white\",\"linecolor\":\"white\",\"ticks\":\"\"}},\"ternary\":{\"bgcolor\":\"#E5ECF6\",\"aaxis\":{\"gridcolor\":\"white\",\"linecolor\":\"white\",\"ticks\":\"\"},\"baxis\":{\"gridcolor\":\"white\",\"linecolor\":\"white\",\"ticks\":\"\"},\"caxis\":{\"gridcolor\":\"white\",\"linecolor\":\"white\",\"ticks\":\"\"}},\"coloraxis\":{\"colorbar\":{\"outlinewidth\":0,\"ticks\":\"\"}},\"colorscale\":{\"sequential\":[[0.0,\"#0d0887\"],[0.1111111111111111,\"#46039f\"],[0.2222222222222222,\"#7201a8\"],[0.3333333333333333,\"#9c179e\"],[0.4444444444444444,\"#bd3786\"],[0.5555555555555556,\"#d8576b\"],[0.6666666666666666,\"#ed7953\"],[0.7777777777777778,\"#fb9f3a\"],[0.8888888888888888,\"#fdca26\"],[1.0,\"#f0f921\"]],\"sequentialminus\":[[0.0,\"#0d0887\"],[0.1111111111111111,\"#46039f\"],[0.2222222222222222,\"#7201a8\"],[0.3333333333333333,\"#9c179e\"],[0.4444444444444444,\"#bd3786\"],[0.5555555555555556,\"#d8576b\"],[0.6666666666666666,\"#ed7953\"],[0.7777777777777778,\"#fb9f3a\"],[0.8888888888888888,\"#fdca26\"],[1.0,\"#f0f921\"]],\"diverging\":[[0,\"#8e0152\"],[0.1,\"#c51b7d\"],[0.2,\"#de77ae\"],[0.3,\"#f1b6da\"],[0.4,\"#fde0ef\"],[0.5,\"#f7f7f7\"],[0.6,\"#e6f5d0\"],[0.7,\"#b8e186\"],[0.8,\"#7fbc41\"],[0.9,\"#4d9221\"],[1,\"#276419\"]]},\"xaxis\":{\"gridcolor\":\"white\",\"linecolor\":\"white\",\"ticks\":\"\",\"title\":{\"standoff\":15},\"zerolinecolor\":\"white\",\"automargin\":true,\"zerolinewidth\":2},\"yaxis\":{\"gridcolor\":\"white\",\"linecolor\":\"white\",\"ticks\":\"\",\"title\":{\"standoff\":15},\"zerolinecolor\":\"white\",\"automargin\":true,\"zerolinewidth\":2},\"scene\":{\"xaxis\":{\"backgroundcolor\":\"#E5ECF6\",\"gridcolor\":\"white\",\"linecolor\":\"white\",\"showbackground\":true,\"ticks\":\"\",\"zerolinecolor\":\"white\",\"gridwidth\":2},\"yaxis\":{\"backgroundcolor\":\"#E5ECF6\",\"gridcolor\":\"white\",\"linecolor\":\"white\",\"showbackground\":true,\"ticks\":\"\",\"zerolinecolor\":\"white\",\"gridwidth\":2},\"zaxis\":{\"backgroundcolor\":\"#E5ECF6\",\"gridcolor\":\"white\",\"linecolor\":\"white\",\"showbackground\":true,\"ticks\":\"\",\"zerolinecolor\":\"white\",\"gridwidth\":2}},\"shapedefaults\":{\"line\":{\"color\":\"#2a3f5f\"}},\"annotationdefaults\":{\"arrowcolor\":\"#2a3f5f\",\"arrowhead\":0,\"arrowwidth\":1},\"geo\":{\"bgcolor\":\"white\",\"landcolor\":\"#E5ECF6\",\"subunitcolor\":\"white\",\"showland\":true,\"showlakes\":true,\"lakecolor\":\"white\"},\"title\":{\"x\":0.05},\"mapbox\":{\"style\":\"light\"}}},\"xaxis\":{\"anchor\":\"y\",\"domain\":[0.0,1.0],\"title\":{\"text\":\"MPG_City\"}},\"yaxis\":{\"anchor\":\"x\",\"domain\":[0.0,1.0],\"title\":{\"text\":\"Cylinders\"}},\"legend\":{\"tracegroupgap\":0},\"margin\":{\"t\":60}},                        {\"responsive\": true}                    ).then(function(){\n",
       "                            \n",
       "var gd = document.getElementById('e1bffc7e-0e4f-477f-ad09-2a9e345af15c');\n",
       "var x = new MutationObserver(function (mutations, observer) {{\n",
       "        var display = window.getComputedStyle(gd).display;\n",
       "        if (!display || display === 'none') {{\n",
       "            console.log([gd, 'removed!']);\n",
       "            Plotly.purge(gd);\n",
       "            observer.disconnect();\n",
       "        }}\n",
       "}});\n",
       "\n",
       "// Listen for the removal of the full notebook cells\n",
       "var notebookContainer = gd.closest('#notebook-container');\n",
       "if (notebookContainer) {{\n",
       "    x.observe(notebookContainer, {childList: true});\n",
       "}}\n",
       "\n",
       "// Listen for the clearing of the current output cell\n",
       "var outputEl = gd.closest('.output');\n",
       "if (outputEl) {{\n",
       "    x.observe(outputEl, {childList: true});\n",
       "}}\n",
       "\n",
       "                        })                };                });            </script>        </div>"
      ]
     },
     "metadata": {},
     "output_type": "display_data"
    }
   ],
   "source": [
    "px.scatter(df,x=\"MPG_City\", y=\"Cylinders\")"
   ]
  },
  {
   "cell_type": "code",
   "execution_count": 68,
   "id": "43f72f6b",
   "metadata": {},
   "outputs": [
    {
     "data": {
      "application/vnd.plotly.v1+json": {
       "config": {
        "plotlyServerURL": "https://plot.ly"
       },
       "data": [
        {
         "hovertemplate": "MPG_City=%{x}<br>Horsepower=%{y}<extra></extra>",
         "legendgroup": "",
         "marker": {
          "color": "#636efa",
          "symbol": "circle"
         },
         "mode": "markers",
         "name": "",
         "orientation": "v",
         "showlegend": false,
         "type": "scatter",
         "x": [
          17,
          24,
          22,
          20,
          18,
          18,
          17,
          22,
          23,
          20,
          17,
          18,
          20,
          18,
          20,
          18,
          18,
          17,
          17,
          14,
          15,
          20,
          20,
          21,
          18,
          15,
          16,
          16,
          20,
          20,
          19,
          19,
          20,
          20,
          20,
          19,
          19,
          20,
          18,
          18,
          18,
          16,
          16,
          20,
          21,
          19,
          15,
          19,
          20,
          20,
          20,
          18,
          20,
          20,
          18,
          14,
          16,
          18,
          18,
          18,
          18,
          17,
          13,
          14,
          14,
          16,
          19,
          28,
          28,
          26,
          26,
          26,
          21,
          24,
          22,
          21,
          20,
          18,
          23,
          18,
          14,
          19,
          18,
          18,
          14,
          18,
          15,
          13,
          16,
          22,
          22,
          22,
          22,
          21,
          18,
          21,
          19,
          21,
          22,
          18,
          21,
          19,
          18,
          17,
          17,
          15,
          29,
          29,
          21,
          21,
          21,
          18,
          20,
          18,
          12,
          16,
          16,
          16,
          10,
          15,
          15,
          18,
          26,
          27,
          26,
          26,
          21,
          20,
          19,
          17,
          17,
          17,
          17,
          20,
          17,
          17,
          15,
          14,
          24,
          26,
          19,
          15,
          16,
          13,
          16,
          18,
          17,
          13,
          15,
          46,
          60,
          17,
          21,
          21,
          32,
          36,
          32,
          26,
          26,
          32,
          26,
          21,
          21,
          18,
          18,
          20,
          10,
          20,
          29,
          29,
          29,
          26,
          26,
          26,
          19,
          19,
          17,
          17,
          19,
          18,
          18,
          18,
          19,
          17,
          17,
          16,
          15,
          15,
          17,
          18,
          18,
          18,
          18,
          17,
          18,
          18,
          17,
          18,
          18,
          16,
          16,
          16,
          20,
          16,
          16,
          23,
          26,
          25,
          24,
          24,
          24,
          20,
          17,
          16,
          26,
          12,
          12,
          18,
          15,
          13,
          18,
          20,
          18,
          18,
          18,
          18,
          18,
          18,
          18,
          13,
          13,
          20,
          20,
          17,
          17,
          17,
          17,
          17,
          28,
          25,
          22,
          26,
          25,
          24,
          18,
          23,
          23,
          18,
          18,
          24,
          15,
          13,
          14,
          22,
          19,
          20,
          19,
          19,
          20,
          19,
          16,
          16,
          13,
          20,
          17,
          19,
          16,
          18,
          16,
          16,
          14,
          13,
          21,
          17,
          19,
          19,
          16,
          16,
          20,
          17,
          17,
          19,
          17,
          17,
          16,
          19,
          17,
          15,
          21,
          25,
          25,
          23,
          25,
          18,
          18,
          21,
          21,
          18,
          25,
          13,
          16,
          17,
          28,
          28,
          21,
          23,
          21,
          20,
          20,
          19,
          18,
          20,
          20,
          17,
          14,
          20,
          24,
          20,
          19,
          19,
          24,
          20,
          20,
          24,
          20,
          17,
          19,
          18,
          16,
          29,
          14,
          18,
          17,
          18,
          17,
          20,
          18,
          20,
          20,
          21,
          21,
          21,
          21,
          19,
          21,
          26,
          26,
          26,
          26,
          26,
          20,
          24,
          32,
          31,
          22,
          21,
          21,
          20,
          19,
          19,
          20,
          18,
          21,
          21,
          21,
          18,
          19,
          25,
          25,
          24,
          22,
          20,
          24,
          59,
          14,
          18,
          18,
          13,
          22,
          32,
          32,
          32,
          35,
          33,
          35,
          24,
          21,
          24,
          20,
          21,
          21,
          20,
          21,
          19,
          19,
          24,
          26,
          22,
          16,
          14,
          29,
          15,
          24,
          24,
          38,
          24,
          21,
          24,
          22,
          19,
          18,
          16,
          12,
          24,
          22,
          18,
          15,
          22,
          20,
          20,
          18,
          20,
          20,
          21,
          20,
          19,
          22,
          20
         ],
         "xaxis": "x",
         "y": [
          265,
          200,
          200,
          270,
          225,
          225,
          290,
          170,
          170,
          220,
          220,
          220,
          220,
          220,
          220,
          220,
          250,
          300,
          330,
          340,
          450,
          180,
          225,
          250,
          220,
          340,
          225,
          325,
          184,
          184,
          184,
          184,
          225,
          225,
          225,
          184,
          225,
          225,
          325,
          325,
          325,
          333,
          333,
          184,
          225,
          184,
          275,
          185,
          175,
          205,
          200,
          240,
          205,
          205,
          240,
          295,
          320,
          255,
          275,
          300,
          275,
          320,
          345,
          295,
          295,
          275,
          165,
          103,
          103,
          140,
          140,
          140,
          180,
          145,
          200,
          180,
          200,
          240,
          200,
          200,
          190,
          185,
          350,
          350,
          295,
          175,
          200,
          300,
          300,
          200,
          150,
          150,
          150,
          200,
          250,
          200,
          232,
          220,
          150,
          255,
          200,
          180,
          215,
          215,
          250,
          230,
          132,
          132,
          200,
          150,
          150,
          232,
          150,
          215,
          500,
          210,
          210,
          215,
          310,
          232,
          210,
          201,
          130,
          110,
          130,
          130,
          170,
          155,
          201,
          224,
          224,
          239,
          193,
          193,
          260,
          280,
          231,
          300,
          143,
          130,
          155,
          275,
          285,
          325,
          190,
          175,
          285,
          300,
          190,
          93,
          73,
          240,
          160,
          160,
          115,
          117,
          115,
          160,
          160,
          127,
          160,
          240,
          240,
          240,
          240,
          240,
          316,
          173,
          103,
          103,
          103,
          138,
          138,
          138,
          170,
          170,
          194,
          194,
          172,
          260,
          280,
          260,
          255,
          340,
          340,
          280,
          315,
          275,
          193,
          192,
          227,
          235,
          294,
          390,
          294,
          294,
          390,
          294,
          294,
          390,
          390,
          195,
          150,
          190,
          192,
          138,
          104,
          104,
          124,
          124,
          124,
          170,
          195,
          195,
          104,
          282,
          217,
          174,
          235,
          235,
          230,
          225,
          215,
          215,
          220,
          300,
          290,
          300,
          215,
          300,
          302,
          232,
          232,
          280,
          280,
          239,
          239,
          239,
          115,
          163,
          130,
          148,
          160,
          160,
          200,
          142,
          142,
          197,
          238,
          143,
          207,
          292,
          288,
          189,
          215,
          168,
          168,
          215,
          215,
          215,
          349,
          302,
          493,
          215,
          302,
          221,
          302,
          275,
          302,
          302,
          493,
          493,
          192,
          349,
          168,
          221,
          302,
          210,
          155,
          224,
          224,
          201,
          224,
          302,
          201,
          155,
          215,
          215,
          160,
          120,
          120,
          160,
          120,
          205,
          230,
          210,
          210,
          271,
          160,
          305,
          240,
          180,
          126,
          126,
          175,
          165,
          245,
          265,
          265,
          240,
          240,
          287,
          287,
          180,
          305,
          245,
          140,
          170,
          185,
          185,
          140,
          175,
          200,
          140,
          200,
          275,
          185,
          185,
          340,
          130,
          340,
          315,
          315,
          315,
          477,
          228,
          258,
          210,
          210,
          220,
          250,
          210,
          210,
          250,
          143,
          140,
          140,
          140,
          140,
          140,
          182,
          140,
          108,
          108,
          165,
          165,
          165,
          165,
          212,
          212,
          227,
          300,
          165,
          165,
          165,
          185,
          165,
          155,
          155,
          119,
          119,
          155,
          155,
          110,
          240,
          245,
          230,
          325,
          161,
          130,
          130,
          130,
          108,
          108,
          108,
          157,
          210,
          157,
          225,
          210,
          210,
          225,
          210,
          230,
          230,
          180,
          138,
          142,
          190,
          190,
          130,
          220,
          115,
          180,
          100,
          150,
          200,
          115,
          170,
          190,
          270,
          335,
          420,
          115,
          170,
          270,
          268,
          170,
          208,
          247,
          300,
          208,
          194,
          197,
          242,
          268,
          170,
          208
         ],
         "yaxis": "y"
        }
       ],
       "layout": {
        "legend": {
         "tracegroupgap": 0
        },
        "margin": {
         "t": 60
        },
        "template": {
         "data": {
          "bar": [
           {
            "error_x": {
             "color": "#2a3f5f"
            },
            "error_y": {
             "color": "#2a3f5f"
            },
            "marker": {
             "line": {
              "color": "#E5ECF6",
              "width": 0.5
             },
             "pattern": {
              "fillmode": "overlay",
              "size": 10,
              "solidity": 0.2
             }
            },
            "type": "bar"
           }
          ],
          "barpolar": [
           {
            "marker": {
             "line": {
              "color": "#E5ECF6",
              "width": 0.5
             },
             "pattern": {
              "fillmode": "overlay",
              "size": 10,
              "solidity": 0.2
             }
            },
            "type": "barpolar"
           }
          ],
          "carpet": [
           {
            "aaxis": {
             "endlinecolor": "#2a3f5f",
             "gridcolor": "white",
             "linecolor": "white",
             "minorgridcolor": "white",
             "startlinecolor": "#2a3f5f"
            },
            "baxis": {
             "endlinecolor": "#2a3f5f",
             "gridcolor": "white",
             "linecolor": "white",
             "minorgridcolor": "white",
             "startlinecolor": "#2a3f5f"
            },
            "type": "carpet"
           }
          ],
          "choropleth": [
           {
            "colorbar": {
             "outlinewidth": 0,
             "ticks": ""
            },
            "type": "choropleth"
           }
          ],
          "contour": [
           {
            "colorbar": {
             "outlinewidth": 0,
             "ticks": ""
            },
            "colorscale": [
             [
              0,
              "#0d0887"
             ],
             [
              0.1111111111111111,
              "#46039f"
             ],
             [
              0.2222222222222222,
              "#7201a8"
             ],
             [
              0.3333333333333333,
              "#9c179e"
             ],
             [
              0.4444444444444444,
              "#bd3786"
             ],
             [
              0.5555555555555556,
              "#d8576b"
             ],
             [
              0.6666666666666666,
              "#ed7953"
             ],
             [
              0.7777777777777778,
              "#fb9f3a"
             ],
             [
              0.8888888888888888,
              "#fdca26"
             ],
             [
              1,
              "#f0f921"
             ]
            ],
            "type": "contour"
           }
          ],
          "contourcarpet": [
           {
            "colorbar": {
             "outlinewidth": 0,
             "ticks": ""
            },
            "type": "contourcarpet"
           }
          ],
          "heatmap": [
           {
            "colorbar": {
             "outlinewidth": 0,
             "ticks": ""
            },
            "colorscale": [
             [
              0,
              "#0d0887"
             ],
             [
              0.1111111111111111,
              "#46039f"
             ],
             [
              0.2222222222222222,
              "#7201a8"
             ],
             [
              0.3333333333333333,
              "#9c179e"
             ],
             [
              0.4444444444444444,
              "#bd3786"
             ],
             [
              0.5555555555555556,
              "#d8576b"
             ],
             [
              0.6666666666666666,
              "#ed7953"
             ],
             [
              0.7777777777777778,
              "#fb9f3a"
             ],
             [
              0.8888888888888888,
              "#fdca26"
             ],
             [
              1,
              "#f0f921"
             ]
            ],
            "type": "heatmap"
           }
          ],
          "heatmapgl": [
           {
            "colorbar": {
             "outlinewidth": 0,
             "ticks": ""
            },
            "colorscale": [
             [
              0,
              "#0d0887"
             ],
             [
              0.1111111111111111,
              "#46039f"
             ],
             [
              0.2222222222222222,
              "#7201a8"
             ],
             [
              0.3333333333333333,
              "#9c179e"
             ],
             [
              0.4444444444444444,
              "#bd3786"
             ],
             [
              0.5555555555555556,
              "#d8576b"
             ],
             [
              0.6666666666666666,
              "#ed7953"
             ],
             [
              0.7777777777777778,
              "#fb9f3a"
             ],
             [
              0.8888888888888888,
              "#fdca26"
             ],
             [
              1,
              "#f0f921"
             ]
            ],
            "type": "heatmapgl"
           }
          ],
          "histogram": [
           {
            "marker": {
             "pattern": {
              "fillmode": "overlay",
              "size": 10,
              "solidity": 0.2
             }
            },
            "type": "histogram"
           }
          ],
          "histogram2d": [
           {
            "colorbar": {
             "outlinewidth": 0,
             "ticks": ""
            },
            "colorscale": [
             [
              0,
              "#0d0887"
             ],
             [
              0.1111111111111111,
              "#46039f"
             ],
             [
              0.2222222222222222,
              "#7201a8"
             ],
             [
              0.3333333333333333,
              "#9c179e"
             ],
             [
              0.4444444444444444,
              "#bd3786"
             ],
             [
              0.5555555555555556,
              "#d8576b"
             ],
             [
              0.6666666666666666,
              "#ed7953"
             ],
             [
              0.7777777777777778,
              "#fb9f3a"
             ],
             [
              0.8888888888888888,
              "#fdca26"
             ],
             [
              1,
              "#f0f921"
             ]
            ],
            "type": "histogram2d"
           }
          ],
          "histogram2dcontour": [
           {
            "colorbar": {
             "outlinewidth": 0,
             "ticks": ""
            },
            "colorscale": [
             [
              0,
              "#0d0887"
             ],
             [
              0.1111111111111111,
              "#46039f"
             ],
             [
              0.2222222222222222,
              "#7201a8"
             ],
             [
              0.3333333333333333,
              "#9c179e"
             ],
             [
              0.4444444444444444,
              "#bd3786"
             ],
             [
              0.5555555555555556,
              "#d8576b"
             ],
             [
              0.6666666666666666,
              "#ed7953"
             ],
             [
              0.7777777777777778,
              "#fb9f3a"
             ],
             [
              0.8888888888888888,
              "#fdca26"
             ],
             [
              1,
              "#f0f921"
             ]
            ],
            "type": "histogram2dcontour"
           }
          ],
          "mesh3d": [
           {
            "colorbar": {
             "outlinewidth": 0,
             "ticks": ""
            },
            "type": "mesh3d"
           }
          ],
          "parcoords": [
           {
            "line": {
             "colorbar": {
              "outlinewidth": 0,
              "ticks": ""
             }
            },
            "type": "parcoords"
           }
          ],
          "pie": [
           {
            "automargin": true,
            "type": "pie"
           }
          ],
          "scatter": [
           {
            "fillpattern": {
             "fillmode": "overlay",
             "size": 10,
             "solidity": 0.2
            },
            "type": "scatter"
           }
          ],
          "scatter3d": [
           {
            "line": {
             "colorbar": {
              "outlinewidth": 0,
              "ticks": ""
             }
            },
            "marker": {
             "colorbar": {
              "outlinewidth": 0,
              "ticks": ""
             }
            },
            "type": "scatter3d"
           }
          ],
          "scattercarpet": [
           {
            "marker": {
             "colorbar": {
              "outlinewidth": 0,
              "ticks": ""
             }
            },
            "type": "scattercarpet"
           }
          ],
          "scattergeo": [
           {
            "marker": {
             "colorbar": {
              "outlinewidth": 0,
              "ticks": ""
             }
            },
            "type": "scattergeo"
           }
          ],
          "scattergl": [
           {
            "marker": {
             "colorbar": {
              "outlinewidth": 0,
              "ticks": ""
             }
            },
            "type": "scattergl"
           }
          ],
          "scattermapbox": [
           {
            "marker": {
             "colorbar": {
              "outlinewidth": 0,
              "ticks": ""
             }
            },
            "type": "scattermapbox"
           }
          ],
          "scatterpolar": [
           {
            "marker": {
             "colorbar": {
              "outlinewidth": 0,
              "ticks": ""
             }
            },
            "type": "scatterpolar"
           }
          ],
          "scatterpolargl": [
           {
            "marker": {
             "colorbar": {
              "outlinewidth": 0,
              "ticks": ""
             }
            },
            "type": "scatterpolargl"
           }
          ],
          "scatterternary": [
           {
            "marker": {
             "colorbar": {
              "outlinewidth": 0,
              "ticks": ""
             }
            },
            "type": "scatterternary"
           }
          ],
          "surface": [
           {
            "colorbar": {
             "outlinewidth": 0,
             "ticks": ""
            },
            "colorscale": [
             [
              0,
              "#0d0887"
             ],
             [
              0.1111111111111111,
              "#46039f"
             ],
             [
              0.2222222222222222,
              "#7201a8"
             ],
             [
              0.3333333333333333,
              "#9c179e"
             ],
             [
              0.4444444444444444,
              "#bd3786"
             ],
             [
              0.5555555555555556,
              "#d8576b"
             ],
             [
              0.6666666666666666,
              "#ed7953"
             ],
             [
              0.7777777777777778,
              "#fb9f3a"
             ],
             [
              0.8888888888888888,
              "#fdca26"
             ],
             [
              1,
              "#f0f921"
             ]
            ],
            "type": "surface"
           }
          ],
          "table": [
           {
            "cells": {
             "fill": {
              "color": "#EBF0F8"
             },
             "line": {
              "color": "white"
             }
            },
            "header": {
             "fill": {
              "color": "#C8D4E3"
             },
             "line": {
              "color": "white"
             }
            },
            "type": "table"
           }
          ]
         },
         "layout": {
          "annotationdefaults": {
           "arrowcolor": "#2a3f5f",
           "arrowhead": 0,
           "arrowwidth": 1
          },
          "autotypenumbers": "strict",
          "coloraxis": {
           "colorbar": {
            "outlinewidth": 0,
            "ticks": ""
           }
          },
          "colorscale": {
           "diverging": [
            [
             0,
             "#8e0152"
            ],
            [
             0.1,
             "#c51b7d"
            ],
            [
             0.2,
             "#de77ae"
            ],
            [
             0.3,
             "#f1b6da"
            ],
            [
             0.4,
             "#fde0ef"
            ],
            [
             0.5,
             "#f7f7f7"
            ],
            [
             0.6,
             "#e6f5d0"
            ],
            [
             0.7,
             "#b8e186"
            ],
            [
             0.8,
             "#7fbc41"
            ],
            [
             0.9,
             "#4d9221"
            ],
            [
             1,
             "#276419"
            ]
           ],
           "sequential": [
            [
             0,
             "#0d0887"
            ],
            [
             0.1111111111111111,
             "#46039f"
            ],
            [
             0.2222222222222222,
             "#7201a8"
            ],
            [
             0.3333333333333333,
             "#9c179e"
            ],
            [
             0.4444444444444444,
             "#bd3786"
            ],
            [
             0.5555555555555556,
             "#d8576b"
            ],
            [
             0.6666666666666666,
             "#ed7953"
            ],
            [
             0.7777777777777778,
             "#fb9f3a"
            ],
            [
             0.8888888888888888,
             "#fdca26"
            ],
            [
             1,
             "#f0f921"
            ]
           ],
           "sequentialminus": [
            [
             0,
             "#0d0887"
            ],
            [
             0.1111111111111111,
             "#46039f"
            ],
            [
             0.2222222222222222,
             "#7201a8"
            ],
            [
             0.3333333333333333,
             "#9c179e"
            ],
            [
             0.4444444444444444,
             "#bd3786"
            ],
            [
             0.5555555555555556,
             "#d8576b"
            ],
            [
             0.6666666666666666,
             "#ed7953"
            ],
            [
             0.7777777777777778,
             "#fb9f3a"
            ],
            [
             0.8888888888888888,
             "#fdca26"
            ],
            [
             1,
             "#f0f921"
            ]
           ]
          },
          "colorway": [
           "#636efa",
           "#EF553B",
           "#00cc96",
           "#ab63fa",
           "#FFA15A",
           "#19d3f3",
           "#FF6692",
           "#B6E880",
           "#FF97FF",
           "#FECB52"
          ],
          "font": {
           "color": "#2a3f5f"
          },
          "geo": {
           "bgcolor": "white",
           "lakecolor": "white",
           "landcolor": "#E5ECF6",
           "showlakes": true,
           "showland": true,
           "subunitcolor": "white"
          },
          "hoverlabel": {
           "align": "left"
          },
          "hovermode": "closest",
          "mapbox": {
           "style": "light"
          },
          "paper_bgcolor": "white",
          "plot_bgcolor": "#E5ECF6",
          "polar": {
           "angularaxis": {
            "gridcolor": "white",
            "linecolor": "white",
            "ticks": ""
           },
           "bgcolor": "#E5ECF6",
           "radialaxis": {
            "gridcolor": "white",
            "linecolor": "white",
            "ticks": ""
           }
          },
          "scene": {
           "xaxis": {
            "backgroundcolor": "#E5ECF6",
            "gridcolor": "white",
            "gridwidth": 2,
            "linecolor": "white",
            "showbackground": true,
            "ticks": "",
            "zerolinecolor": "white"
           },
           "yaxis": {
            "backgroundcolor": "#E5ECF6",
            "gridcolor": "white",
            "gridwidth": 2,
            "linecolor": "white",
            "showbackground": true,
            "ticks": "",
            "zerolinecolor": "white"
           },
           "zaxis": {
            "backgroundcolor": "#E5ECF6",
            "gridcolor": "white",
            "gridwidth": 2,
            "linecolor": "white",
            "showbackground": true,
            "ticks": "",
            "zerolinecolor": "white"
           }
          },
          "shapedefaults": {
           "line": {
            "color": "#2a3f5f"
           }
          },
          "ternary": {
           "aaxis": {
            "gridcolor": "white",
            "linecolor": "white",
            "ticks": ""
           },
           "baxis": {
            "gridcolor": "white",
            "linecolor": "white",
            "ticks": ""
           },
           "bgcolor": "#E5ECF6",
           "caxis": {
            "gridcolor": "white",
            "linecolor": "white",
            "ticks": ""
           }
          },
          "title": {
           "x": 0.05
          },
          "xaxis": {
           "automargin": true,
           "gridcolor": "white",
           "linecolor": "white",
           "ticks": "",
           "title": {
            "standoff": 15
           },
           "zerolinecolor": "white",
           "zerolinewidth": 2
          },
          "yaxis": {
           "automargin": true,
           "gridcolor": "white",
           "linecolor": "white",
           "ticks": "",
           "title": {
            "standoff": 15
           },
           "zerolinecolor": "white",
           "zerolinewidth": 2
          }
         }
        },
        "xaxis": {
         "anchor": "y",
         "domain": [
          0,
          1
         ],
         "title": {
          "text": "MPG_City"
         }
        },
        "yaxis": {
         "anchor": "x",
         "domain": [
          0,
          1
         ],
         "title": {
          "text": "Horsepower"
         }
        }
       }
      },
      "text/html": [
       "<div>                            <div id=\"b88c051b-b9fa-4585-8298-7d06dcf334db\" class=\"plotly-graph-div\" style=\"height:525px; width:100%;\"></div>            <script type=\"text/javascript\">                require([\"plotly\"], function(Plotly) {                    window.PLOTLYENV=window.PLOTLYENV || {};                                    if (document.getElementById(\"b88c051b-b9fa-4585-8298-7d06dcf334db\")) {                    Plotly.newPlot(                        \"b88c051b-b9fa-4585-8298-7d06dcf334db\",                        [{\"hovertemplate\":\"MPG_City=%{x}<br>Horsepower=%{y}<extra></extra>\",\"legendgroup\":\"\",\"marker\":{\"color\":\"#636efa\",\"symbol\":\"circle\"},\"mode\":\"markers\",\"name\":\"\",\"orientation\":\"v\",\"showlegend\":false,\"x\":[17,24,22,20,18,18,17,22,23,20,17,18,20,18,20,18,18,17,17,14,15,20,20,21,18,15,16,16,20,20,19,19,20,20,20,19,19,20,18,18,18,16,16,20,21,19,15,19,20,20,20,18,20,20,18,14,16,18,18,18,18,17,13,14,14,16,19,28,28,26,26,26,21,24,22,21,20,18,23,18,14,19,18,18,14,18,15,13,16,22,22,22,22,21,18,21,19,21,22,18,21,19,18,17,17,15,29,29,21,21,21,18,20,18,12,16,16,16,10,15,15,18,26,27,26,26,21,20,19,17,17,17,17,20,17,17,15,14,24,26,19,15,16,13,16,18,17,13,15,46,60,17,21,21,32,36,32,26,26,32,26,21,21,18,18,20,10,20,29,29,29,26,26,26,19,19,17,17,19,18,18,18,19,17,17,16,15,15,17,18,18,18,18,17,18,18,17,18,18,16,16,16,20,16,16,23,26,25,24,24,24,20,17,16,26,12,12,18,15,13,18,20,18,18,18,18,18,18,18,13,13,20,20,17,17,17,17,17,28,25,22,26,25,24,18,23,23,18,18,24,15,13,14,22,19,20,19,19,20,19,16,16,13,20,17,19,16,18,16,16,14,13,21,17,19,19,16,16,20,17,17,19,17,17,16,19,17,15,21,25,25,23,25,18,18,21,21,18,25,13,16,17,28,28,21,23,21,20,20,19,18,20,20,17,14,20,24,20,19,19,24,20,20,24,20,17,19,18,16,29,14,18,17,18,17,20,18,20,20,21,21,21,21,19,21,26,26,26,26,26,20,24,32,31,22,21,21,20,19,19,20,18,21,21,21,18,19,25,25,24,22,20,24,59,14,18,18,13,22,32,32,32,35,33,35,24,21,24,20,21,21,20,21,19,19,24,26,22,16,14,29,15,24,24,38,24,21,24,22,19,18,16,12,24,22,18,15,22,20,20,18,20,20,21,20,19,22,20],\"xaxis\":\"x\",\"y\":[265,200,200,270,225,225,290,170,170,220,220,220,220,220,220,220,250,300,330,340,450,180,225,250,220,340,225,325,184,184,184,184,225,225,225,184,225,225,325,325,325,333,333,184,225,184,275,185,175,205,200,240,205,205,240,295,320,255,275,300,275,320,345,295,295,275,165,103,103,140,140,140,180,145,200,180,200,240,200,200,190,185,350,350,295,175,200,300,300,200,150,150,150,200,250,200,232,220,150,255,200,180,215,215,250,230,132,132,200,150,150,232,150,215,500,210,210,215,310,232,210,201,130,110,130,130,170,155,201,224,224,239,193,193,260,280,231,300,143,130,155,275,285,325,190,175,285,300,190,93,73,240,160,160,115,117,115,160,160,127,160,240,240,240,240,240,316,173,103,103,103,138,138,138,170,170,194,194,172,260,280,260,255,340,340,280,315,275,193,192,227,235,294,390,294,294,390,294,294,390,390,195,150,190,192,138,104,104,124,124,124,170,195,195,104,282,217,174,235,235,230,225,215,215,220,300,290,300,215,300,302,232,232,280,280,239,239,239,115,163,130,148,160,160,200,142,142,197,238,143,207,292,288,189,215,168,168,215,215,215,349,302,493,215,302,221,302,275,302,302,493,493,192,349,168,221,302,210,155,224,224,201,224,302,201,155,215,215,160,120,120,160,120,205,230,210,210,271,160,305,240,180,126,126,175,165,245,265,265,240,240,287,287,180,305,245,140,170,185,185,140,175,200,140,200,275,185,185,340,130,340,315,315,315,477,228,258,210,210,220,250,210,210,250,143,140,140,140,140,140,182,140,108,108,165,165,165,165,212,212,227,300,165,165,165,185,165,155,155,119,119,155,155,110,240,245,230,325,161,130,130,130,108,108,108,157,210,157,225,210,210,225,210,230,230,180,138,142,190,190,130,220,115,180,100,150,200,115,170,190,270,335,420,115,170,270,268,170,208,247,300,208,194,197,242,268,170,208],\"yaxis\":\"y\",\"type\":\"scatter\"}],                        {\"template\":{\"data\":{\"histogram2dcontour\":[{\"type\":\"histogram2dcontour\",\"colorbar\":{\"outlinewidth\":0,\"ticks\":\"\"},\"colorscale\":[[0.0,\"#0d0887\"],[0.1111111111111111,\"#46039f\"],[0.2222222222222222,\"#7201a8\"],[0.3333333333333333,\"#9c179e\"],[0.4444444444444444,\"#bd3786\"],[0.5555555555555556,\"#d8576b\"],[0.6666666666666666,\"#ed7953\"],[0.7777777777777778,\"#fb9f3a\"],[0.8888888888888888,\"#fdca26\"],[1.0,\"#f0f921\"]]}],\"choropleth\":[{\"type\":\"choropleth\",\"colorbar\":{\"outlinewidth\":0,\"ticks\":\"\"}}],\"histogram2d\":[{\"type\":\"histogram2d\",\"colorbar\":{\"outlinewidth\":0,\"ticks\":\"\"},\"colorscale\":[[0.0,\"#0d0887\"],[0.1111111111111111,\"#46039f\"],[0.2222222222222222,\"#7201a8\"],[0.3333333333333333,\"#9c179e\"],[0.4444444444444444,\"#bd3786\"],[0.5555555555555556,\"#d8576b\"],[0.6666666666666666,\"#ed7953\"],[0.7777777777777778,\"#fb9f3a\"],[0.8888888888888888,\"#fdca26\"],[1.0,\"#f0f921\"]]}],\"heatmap\":[{\"type\":\"heatmap\",\"colorbar\":{\"outlinewidth\":0,\"ticks\":\"\"},\"colorscale\":[[0.0,\"#0d0887\"],[0.1111111111111111,\"#46039f\"],[0.2222222222222222,\"#7201a8\"],[0.3333333333333333,\"#9c179e\"],[0.4444444444444444,\"#bd3786\"],[0.5555555555555556,\"#d8576b\"],[0.6666666666666666,\"#ed7953\"],[0.7777777777777778,\"#fb9f3a\"],[0.8888888888888888,\"#fdca26\"],[1.0,\"#f0f921\"]]}],\"heatmapgl\":[{\"type\":\"heatmapgl\",\"colorbar\":{\"outlinewidth\":0,\"ticks\":\"\"},\"colorscale\":[[0.0,\"#0d0887\"],[0.1111111111111111,\"#46039f\"],[0.2222222222222222,\"#7201a8\"],[0.3333333333333333,\"#9c179e\"],[0.4444444444444444,\"#bd3786\"],[0.5555555555555556,\"#d8576b\"],[0.6666666666666666,\"#ed7953\"],[0.7777777777777778,\"#fb9f3a\"],[0.8888888888888888,\"#fdca26\"],[1.0,\"#f0f921\"]]}],\"contourcarpet\":[{\"type\":\"contourcarpet\",\"colorbar\":{\"outlinewidth\":0,\"ticks\":\"\"}}],\"contour\":[{\"type\":\"contour\",\"colorbar\":{\"outlinewidth\":0,\"ticks\":\"\"},\"colorscale\":[[0.0,\"#0d0887\"],[0.1111111111111111,\"#46039f\"],[0.2222222222222222,\"#7201a8\"],[0.3333333333333333,\"#9c179e\"],[0.4444444444444444,\"#bd3786\"],[0.5555555555555556,\"#d8576b\"],[0.6666666666666666,\"#ed7953\"],[0.7777777777777778,\"#fb9f3a\"],[0.8888888888888888,\"#fdca26\"],[1.0,\"#f0f921\"]]}],\"surface\":[{\"type\":\"surface\",\"colorbar\":{\"outlinewidth\":0,\"ticks\":\"\"},\"colorscale\":[[0.0,\"#0d0887\"],[0.1111111111111111,\"#46039f\"],[0.2222222222222222,\"#7201a8\"],[0.3333333333333333,\"#9c179e\"],[0.4444444444444444,\"#bd3786\"],[0.5555555555555556,\"#d8576b\"],[0.6666666666666666,\"#ed7953\"],[0.7777777777777778,\"#fb9f3a\"],[0.8888888888888888,\"#fdca26\"],[1.0,\"#f0f921\"]]}],\"mesh3d\":[{\"type\":\"mesh3d\",\"colorbar\":{\"outlinewidth\":0,\"ticks\":\"\"}}],\"scatter\":[{\"fillpattern\":{\"fillmode\":\"overlay\",\"size\":10,\"solidity\":0.2},\"type\":\"scatter\"}],\"parcoords\":[{\"type\":\"parcoords\",\"line\":{\"colorbar\":{\"outlinewidth\":0,\"ticks\":\"\"}}}],\"scatterpolargl\":[{\"type\":\"scatterpolargl\",\"marker\":{\"colorbar\":{\"outlinewidth\":0,\"ticks\":\"\"}}}],\"bar\":[{\"error_x\":{\"color\":\"#2a3f5f\"},\"error_y\":{\"color\":\"#2a3f5f\"},\"marker\":{\"line\":{\"color\":\"#E5ECF6\",\"width\":0.5},\"pattern\":{\"fillmode\":\"overlay\",\"size\":10,\"solidity\":0.2}},\"type\":\"bar\"}],\"scattergeo\":[{\"type\":\"scattergeo\",\"marker\":{\"colorbar\":{\"outlinewidth\":0,\"ticks\":\"\"}}}],\"scatterpolar\":[{\"type\":\"scatterpolar\",\"marker\":{\"colorbar\":{\"outlinewidth\":0,\"ticks\":\"\"}}}],\"histogram\":[{\"marker\":{\"pattern\":{\"fillmode\":\"overlay\",\"size\":10,\"solidity\":0.2}},\"type\":\"histogram\"}],\"scattergl\":[{\"type\":\"scattergl\",\"marker\":{\"colorbar\":{\"outlinewidth\":0,\"ticks\":\"\"}}}],\"scatter3d\":[{\"type\":\"scatter3d\",\"line\":{\"colorbar\":{\"outlinewidth\":0,\"ticks\":\"\"}},\"marker\":{\"colorbar\":{\"outlinewidth\":0,\"ticks\":\"\"}}}],\"scattermapbox\":[{\"type\":\"scattermapbox\",\"marker\":{\"colorbar\":{\"outlinewidth\":0,\"ticks\":\"\"}}}],\"scatterternary\":[{\"type\":\"scatterternary\",\"marker\":{\"colorbar\":{\"outlinewidth\":0,\"ticks\":\"\"}}}],\"scattercarpet\":[{\"type\":\"scattercarpet\",\"marker\":{\"colorbar\":{\"outlinewidth\":0,\"ticks\":\"\"}}}],\"carpet\":[{\"aaxis\":{\"endlinecolor\":\"#2a3f5f\",\"gridcolor\":\"white\",\"linecolor\":\"white\",\"minorgridcolor\":\"white\",\"startlinecolor\":\"#2a3f5f\"},\"baxis\":{\"endlinecolor\":\"#2a3f5f\",\"gridcolor\":\"white\",\"linecolor\":\"white\",\"minorgridcolor\":\"white\",\"startlinecolor\":\"#2a3f5f\"},\"type\":\"carpet\"}],\"table\":[{\"cells\":{\"fill\":{\"color\":\"#EBF0F8\"},\"line\":{\"color\":\"white\"}},\"header\":{\"fill\":{\"color\":\"#C8D4E3\"},\"line\":{\"color\":\"white\"}},\"type\":\"table\"}],\"barpolar\":[{\"marker\":{\"line\":{\"color\":\"#E5ECF6\",\"width\":0.5},\"pattern\":{\"fillmode\":\"overlay\",\"size\":10,\"solidity\":0.2}},\"type\":\"barpolar\"}],\"pie\":[{\"automargin\":true,\"type\":\"pie\"}]},\"layout\":{\"autotypenumbers\":\"strict\",\"colorway\":[\"#636efa\",\"#EF553B\",\"#00cc96\",\"#ab63fa\",\"#FFA15A\",\"#19d3f3\",\"#FF6692\",\"#B6E880\",\"#FF97FF\",\"#FECB52\"],\"font\":{\"color\":\"#2a3f5f\"},\"hovermode\":\"closest\",\"hoverlabel\":{\"align\":\"left\"},\"paper_bgcolor\":\"white\",\"plot_bgcolor\":\"#E5ECF6\",\"polar\":{\"bgcolor\":\"#E5ECF6\",\"angularaxis\":{\"gridcolor\":\"white\",\"linecolor\":\"white\",\"ticks\":\"\"},\"radialaxis\":{\"gridcolor\":\"white\",\"linecolor\":\"white\",\"ticks\":\"\"}},\"ternary\":{\"bgcolor\":\"#E5ECF6\",\"aaxis\":{\"gridcolor\":\"white\",\"linecolor\":\"white\",\"ticks\":\"\"},\"baxis\":{\"gridcolor\":\"white\",\"linecolor\":\"white\",\"ticks\":\"\"},\"caxis\":{\"gridcolor\":\"white\",\"linecolor\":\"white\",\"ticks\":\"\"}},\"coloraxis\":{\"colorbar\":{\"outlinewidth\":0,\"ticks\":\"\"}},\"colorscale\":{\"sequential\":[[0.0,\"#0d0887\"],[0.1111111111111111,\"#46039f\"],[0.2222222222222222,\"#7201a8\"],[0.3333333333333333,\"#9c179e\"],[0.4444444444444444,\"#bd3786\"],[0.5555555555555556,\"#d8576b\"],[0.6666666666666666,\"#ed7953\"],[0.7777777777777778,\"#fb9f3a\"],[0.8888888888888888,\"#fdca26\"],[1.0,\"#f0f921\"]],\"sequentialminus\":[[0.0,\"#0d0887\"],[0.1111111111111111,\"#46039f\"],[0.2222222222222222,\"#7201a8\"],[0.3333333333333333,\"#9c179e\"],[0.4444444444444444,\"#bd3786\"],[0.5555555555555556,\"#d8576b\"],[0.6666666666666666,\"#ed7953\"],[0.7777777777777778,\"#fb9f3a\"],[0.8888888888888888,\"#fdca26\"],[1.0,\"#f0f921\"]],\"diverging\":[[0,\"#8e0152\"],[0.1,\"#c51b7d\"],[0.2,\"#de77ae\"],[0.3,\"#f1b6da\"],[0.4,\"#fde0ef\"],[0.5,\"#f7f7f7\"],[0.6,\"#e6f5d0\"],[0.7,\"#b8e186\"],[0.8,\"#7fbc41\"],[0.9,\"#4d9221\"],[1,\"#276419\"]]},\"xaxis\":{\"gridcolor\":\"white\",\"linecolor\":\"white\",\"ticks\":\"\",\"title\":{\"standoff\":15},\"zerolinecolor\":\"white\",\"automargin\":true,\"zerolinewidth\":2},\"yaxis\":{\"gridcolor\":\"white\",\"linecolor\":\"white\",\"ticks\":\"\",\"title\":{\"standoff\":15},\"zerolinecolor\":\"white\",\"automargin\":true,\"zerolinewidth\":2},\"scene\":{\"xaxis\":{\"backgroundcolor\":\"#E5ECF6\",\"gridcolor\":\"white\",\"linecolor\":\"white\",\"showbackground\":true,\"ticks\":\"\",\"zerolinecolor\":\"white\",\"gridwidth\":2},\"yaxis\":{\"backgroundcolor\":\"#E5ECF6\",\"gridcolor\":\"white\",\"linecolor\":\"white\",\"showbackground\":true,\"ticks\":\"\",\"zerolinecolor\":\"white\",\"gridwidth\":2},\"zaxis\":{\"backgroundcolor\":\"#E5ECF6\",\"gridcolor\":\"white\",\"linecolor\":\"white\",\"showbackground\":true,\"ticks\":\"\",\"zerolinecolor\":\"white\",\"gridwidth\":2}},\"shapedefaults\":{\"line\":{\"color\":\"#2a3f5f\"}},\"annotationdefaults\":{\"arrowcolor\":\"#2a3f5f\",\"arrowhead\":0,\"arrowwidth\":1},\"geo\":{\"bgcolor\":\"white\",\"landcolor\":\"#E5ECF6\",\"subunitcolor\":\"white\",\"showland\":true,\"showlakes\":true,\"lakecolor\":\"white\"},\"title\":{\"x\":0.05},\"mapbox\":{\"style\":\"light\"}}},\"xaxis\":{\"anchor\":\"y\",\"domain\":[0.0,1.0],\"title\":{\"text\":\"MPG_City\"}},\"yaxis\":{\"anchor\":\"x\",\"domain\":[0.0,1.0],\"title\":{\"text\":\"Horsepower\"}},\"legend\":{\"tracegroupgap\":0},\"margin\":{\"t\":60}},                        {\"responsive\": true}                    ).then(function(){\n",
       "                            \n",
       "var gd = document.getElementById('b88c051b-b9fa-4585-8298-7d06dcf334db');\n",
       "var x = new MutationObserver(function (mutations, observer) {{\n",
       "        var display = window.getComputedStyle(gd).display;\n",
       "        if (!display || display === 'none') {{\n",
       "            console.log([gd, 'removed!']);\n",
       "            Plotly.purge(gd);\n",
       "            observer.disconnect();\n",
       "        }}\n",
       "}});\n",
       "\n",
       "// Listen for the removal of the full notebook cells\n",
       "var notebookContainer = gd.closest('#notebook-container');\n",
       "if (notebookContainer) {{\n",
       "    x.observe(notebookContainer, {childList: true});\n",
       "}}\n",
       "\n",
       "// Listen for the clearing of the current output cell\n",
       "var outputEl = gd.closest('.output');\n",
       "if (outputEl) {{\n",
       "    x.observe(outputEl, {childList: true});\n",
       "}}\n",
       "\n",
       "                        })                };                });            </script>        </div>"
      ]
     },
     "metadata": {},
     "output_type": "display_data"
    }
   ],
   "source": [
    "px.scatter(df,x=\"MPG_City\", y=\"Horsepower\")"
   ]
  },
  {
   "cell_type": "code",
   "execution_count": 70,
   "id": "eb5b016d",
   "metadata": {},
   "outputs": [
    {
     "data": {
      "application/vnd.plotly.v1+json": {
       "config": {
        "plotlyServerURL": "https://plot.ly"
       },
       "data": [
        {
         "hovertemplate": "MPG_City=%{x}<br>MPG_Highway=%{y}<extra></extra>",
         "legendgroup": "",
         "marker": {
          "color": "#636efa",
          "symbol": "circle"
         },
         "mode": "markers",
         "name": "",
         "orientation": "v",
         "showlegend": false,
         "type": "scatter",
         "x": [
          17,
          24,
          22,
          20,
          18,
          18,
          17,
          22,
          23,
          20,
          17,
          18,
          20,
          18,
          20,
          18,
          18,
          17,
          17,
          14,
          15,
          20,
          20,
          21,
          18,
          15,
          16,
          16,
          20,
          20,
          19,
          19,
          20,
          20,
          20,
          19,
          19,
          20,
          18,
          18,
          18,
          16,
          16,
          20,
          21,
          19,
          15,
          19,
          20,
          20,
          20,
          18,
          20,
          20,
          18,
          14,
          16,
          18,
          18,
          18,
          18,
          17,
          13,
          14,
          14,
          16,
          19,
          28,
          28,
          26,
          26,
          26,
          21,
          24,
          22,
          21,
          20,
          18,
          23,
          18,
          14,
          19,
          18,
          18,
          14,
          18,
          15,
          13,
          16,
          22,
          22,
          22,
          22,
          21,
          18,
          21,
          19,
          21,
          22,
          18,
          21,
          19,
          18,
          17,
          17,
          15,
          29,
          29,
          21,
          21,
          21,
          18,
          20,
          18,
          12,
          16,
          16,
          16,
          10,
          15,
          15,
          18,
          26,
          27,
          26,
          26,
          21,
          20,
          19,
          17,
          17,
          17,
          17,
          20,
          17,
          17,
          15,
          14,
          24,
          26,
          19,
          15,
          16,
          13,
          16,
          18,
          17,
          13,
          15,
          46,
          60,
          17,
          21,
          21,
          32,
          36,
          32,
          26,
          26,
          32,
          26,
          21,
          21,
          18,
          18,
          20,
          10,
          20,
          29,
          29,
          29,
          26,
          26,
          26,
          19,
          19,
          17,
          17,
          19,
          18,
          18,
          18,
          19,
          17,
          17,
          16,
          15,
          15,
          17,
          18,
          18,
          18,
          18,
          17,
          18,
          18,
          17,
          18,
          18,
          16,
          16,
          16,
          20,
          16,
          16,
          23,
          26,
          25,
          24,
          24,
          24,
          20,
          17,
          16,
          26,
          12,
          12,
          18,
          15,
          13,
          18,
          20,
          18,
          18,
          18,
          18,
          18,
          18,
          18,
          13,
          13,
          20,
          20,
          17,
          17,
          17,
          17,
          17,
          28,
          25,
          22,
          26,
          25,
          24,
          18,
          23,
          23,
          18,
          18,
          24,
          15,
          13,
          14,
          22,
          19,
          20,
          19,
          19,
          20,
          19,
          16,
          16,
          13,
          20,
          17,
          19,
          16,
          18,
          16,
          16,
          14,
          13,
          21,
          17,
          19,
          19,
          16,
          16,
          20,
          17,
          17,
          19,
          17,
          17,
          16,
          19,
          17,
          15,
          21,
          25,
          25,
          23,
          25,
          18,
          18,
          21,
          21,
          18,
          25,
          13,
          16,
          17,
          28,
          28,
          21,
          23,
          21,
          20,
          20,
          19,
          18,
          20,
          20,
          17,
          14,
          20,
          24,
          20,
          19,
          19,
          24,
          20,
          20,
          24,
          20,
          17,
          19,
          18,
          16,
          29,
          14,
          18,
          17,
          18,
          17,
          20,
          18,
          20,
          20,
          21,
          21,
          21,
          21,
          19,
          21,
          26,
          26,
          26,
          26,
          26,
          20,
          24,
          32,
          31,
          22,
          21,
          21,
          20,
          19,
          19,
          20,
          18,
          21,
          21,
          21,
          18,
          19,
          25,
          25,
          24,
          22,
          20,
          24,
          59,
          14,
          18,
          18,
          13,
          22,
          32,
          32,
          32,
          35,
          33,
          35,
          24,
          21,
          24,
          20,
          21,
          21,
          20,
          21,
          19,
          19,
          24,
          26,
          22,
          16,
          14,
          29,
          15,
          24,
          24,
          38,
          24,
          21,
          24,
          22,
          19,
          18,
          16,
          12,
          24,
          22,
          18,
          15,
          22,
          20,
          20,
          18,
          20,
          20,
          21,
          20,
          19,
          22,
          20
         ],
         "xaxis": "x",
         "y": [
          23,
          31,
          29,
          28,
          24,
          24,
          24,
          31,
          30,
          28,
          26,
          25,
          27,
          25,
          27,
          25,
          25,
          24,
          24,
          20,
          22,
          28,
          28,
          29,
          25,
          21,
          23,
          22,
          29,
          29,
          27,
          27,
          30,
          30,
          29,
          28,
          28,
          30,
          26,
          26,
          26,
          24,
          23,
          28,
          29,
          26,
          21,
          26,
          30,
          29,
          30,
          28,
          29,
          29,
          28,
          18,
          21,
          25,
          26,
          26,
          26,
          25,
          17,
          18,
          18,
          21,
          22,
          34,
          34,
          37,
          37,
          37,
          32,
          34,
          30,
          32,
          30,
          28,
          32,
          28,
          17,
          26,
          25,
          25,
          18,
          23,
          21,
          17,
          19,
          30,
          29,
          29,
          30,
          28,
          27,
          29,
          27,
          27,
          30,
          27,
          28,
          26,
          25,
          25,
          23,
          21,
          36,
          36,
          29,
          28,
          28,
          27,
          26,
          25,
          20,
          22,
          22,
          21,
          13,
          19,
          20,
          23,
          33,
          36,
          33,
          33,
          28,
          27,
          26,
          25,
          25,
          25,
          23,
          29,
          25,
          24,
          19,
          18,
          29,
          33,
          26,
          19,
          19,
          17,
          20,
          25,
          20,
          18,
          19,
          51,
          66,
          22,
          25,
          24,
          38,
          44,
          38,
          34,
          34,
          37,
          30,
          30,
          30,
          25,
          25,
          25,
          12,
          26,
          33,
          33,
          33,
          34,
          34,
          34,
          27,
          27,
          26,
          26,
          26,
          26,
          26,
          26,
          26,
          23,
          23,
          22,
          19,
          20,
          21,
          26,
          25,
          26,
          28,
          24,
          28,
          28,
          24,
          26,
          26,
          23,
          23,
          21,
          24,
          19,
          19,
          30,
          33,
          32,
          32,
          32,
          32,
          27,
          25,
          22,
          33,
          16,
          16,
          21,
          19,
          17,
          24,
          29,
          25,
          24,
          25,
          23,
          25,
          23,
          24,
          18,
          18,
          26,
          26,
          24,
          24,
          25,
          25,
          25,
          37,
          34,
          25,
          34,
          31,
          32,
          25,
          28,
          28,
          25,
          24,
          29,
          19,
          14,
          17,
          30,
          26,
          25,
          25,
          26,
          26,
          27,
          21,
          24,
          19,
          26,
          22,
          27,
          20,
          26,
          24,
          23,
          21,
          19,
          29,
          22,
          25,
          27,
          24,
          21,
          27,
          25,
          25,
          26,
          25,
          23,
          23,
          26,
          21,
          19,
          27,
          31,
          31,
          30,
          31,
          25,
          26,
          28,
          28,
          26,
          31,
          19,
          21,
          20,
          35,
          35,
          26,
          28,
          26,
          28,
          28,
          26,
          25,
          26,
          26,
          20,
          18,
          25,
          32,
          29,
          26,
          26,
          33,
          29,
          30,
          33,
          30,
          20,
          26,
          24,
          20,
          36,
          18,
          26,
          24,
          26,
          24,
          29,
          26,
          28,
          28,
          29,
          29,
          29,
          30,
          29,
          26,
          35,
          35,
          35,
          35,
          35,
          28,
          34,
          38,
          35,
          28,
          28,
          28,
          27,
          26,
          26,
          27,
          24,
          28,
          28,
          28,
          22,
          22,
          31,
          31,
          31,
          30,
          27,
          29,
          51,
          17,
          21,
          24,
          17,
          27,
          40,
          40,
          40,
          43,
          39,
          43,
          33,
          29,
          33,
          29,
          29,
          29,
          29,
          29,
          27,
          27,
          33,
          32,
          27,
          18,
          17,
          36,
          20,
          31,
          31,
          46,
          31,
          30,
          30,
          31,
          26,
          25,
          22,
          19,
          30,
          31,
          25,
          20,
          29,
          27,
          28,
          25,
          28,
          27,
          28,
          26,
          26,
          29,
          27
         ],
         "yaxis": "y"
        }
       ],
       "layout": {
        "legend": {
         "tracegroupgap": 0
        },
        "margin": {
         "t": 60
        },
        "template": {
         "data": {
          "bar": [
           {
            "error_x": {
             "color": "#2a3f5f"
            },
            "error_y": {
             "color": "#2a3f5f"
            },
            "marker": {
             "line": {
              "color": "#E5ECF6",
              "width": 0.5
             },
             "pattern": {
              "fillmode": "overlay",
              "size": 10,
              "solidity": 0.2
             }
            },
            "type": "bar"
           }
          ],
          "barpolar": [
           {
            "marker": {
             "line": {
              "color": "#E5ECF6",
              "width": 0.5
             },
             "pattern": {
              "fillmode": "overlay",
              "size": 10,
              "solidity": 0.2
             }
            },
            "type": "barpolar"
           }
          ],
          "carpet": [
           {
            "aaxis": {
             "endlinecolor": "#2a3f5f",
             "gridcolor": "white",
             "linecolor": "white",
             "minorgridcolor": "white",
             "startlinecolor": "#2a3f5f"
            },
            "baxis": {
             "endlinecolor": "#2a3f5f",
             "gridcolor": "white",
             "linecolor": "white",
             "minorgridcolor": "white",
             "startlinecolor": "#2a3f5f"
            },
            "type": "carpet"
           }
          ],
          "choropleth": [
           {
            "colorbar": {
             "outlinewidth": 0,
             "ticks": ""
            },
            "type": "choropleth"
           }
          ],
          "contour": [
           {
            "colorbar": {
             "outlinewidth": 0,
             "ticks": ""
            },
            "colorscale": [
             [
              0,
              "#0d0887"
             ],
             [
              0.1111111111111111,
              "#46039f"
             ],
             [
              0.2222222222222222,
              "#7201a8"
             ],
             [
              0.3333333333333333,
              "#9c179e"
             ],
             [
              0.4444444444444444,
              "#bd3786"
             ],
             [
              0.5555555555555556,
              "#d8576b"
             ],
             [
              0.6666666666666666,
              "#ed7953"
             ],
             [
              0.7777777777777778,
              "#fb9f3a"
             ],
             [
              0.8888888888888888,
              "#fdca26"
             ],
             [
              1,
              "#f0f921"
             ]
            ],
            "type": "contour"
           }
          ],
          "contourcarpet": [
           {
            "colorbar": {
             "outlinewidth": 0,
             "ticks": ""
            },
            "type": "contourcarpet"
           }
          ],
          "heatmap": [
           {
            "colorbar": {
             "outlinewidth": 0,
             "ticks": ""
            },
            "colorscale": [
             [
              0,
              "#0d0887"
             ],
             [
              0.1111111111111111,
              "#46039f"
             ],
             [
              0.2222222222222222,
              "#7201a8"
             ],
             [
              0.3333333333333333,
              "#9c179e"
             ],
             [
              0.4444444444444444,
              "#bd3786"
             ],
             [
              0.5555555555555556,
              "#d8576b"
             ],
             [
              0.6666666666666666,
              "#ed7953"
             ],
             [
              0.7777777777777778,
              "#fb9f3a"
             ],
             [
              0.8888888888888888,
              "#fdca26"
             ],
             [
              1,
              "#f0f921"
             ]
            ],
            "type": "heatmap"
           }
          ],
          "heatmapgl": [
           {
            "colorbar": {
             "outlinewidth": 0,
             "ticks": ""
            },
            "colorscale": [
             [
              0,
              "#0d0887"
             ],
             [
              0.1111111111111111,
              "#46039f"
             ],
             [
              0.2222222222222222,
              "#7201a8"
             ],
             [
              0.3333333333333333,
              "#9c179e"
             ],
             [
              0.4444444444444444,
              "#bd3786"
             ],
             [
              0.5555555555555556,
              "#d8576b"
             ],
             [
              0.6666666666666666,
              "#ed7953"
             ],
             [
              0.7777777777777778,
              "#fb9f3a"
             ],
             [
              0.8888888888888888,
              "#fdca26"
             ],
             [
              1,
              "#f0f921"
             ]
            ],
            "type": "heatmapgl"
           }
          ],
          "histogram": [
           {
            "marker": {
             "pattern": {
              "fillmode": "overlay",
              "size": 10,
              "solidity": 0.2
             }
            },
            "type": "histogram"
           }
          ],
          "histogram2d": [
           {
            "colorbar": {
             "outlinewidth": 0,
             "ticks": ""
            },
            "colorscale": [
             [
              0,
              "#0d0887"
             ],
             [
              0.1111111111111111,
              "#46039f"
             ],
             [
              0.2222222222222222,
              "#7201a8"
             ],
             [
              0.3333333333333333,
              "#9c179e"
             ],
             [
              0.4444444444444444,
              "#bd3786"
             ],
             [
              0.5555555555555556,
              "#d8576b"
             ],
             [
              0.6666666666666666,
              "#ed7953"
             ],
             [
              0.7777777777777778,
              "#fb9f3a"
             ],
             [
              0.8888888888888888,
              "#fdca26"
             ],
             [
              1,
              "#f0f921"
             ]
            ],
            "type": "histogram2d"
           }
          ],
          "histogram2dcontour": [
           {
            "colorbar": {
             "outlinewidth": 0,
             "ticks": ""
            },
            "colorscale": [
             [
              0,
              "#0d0887"
             ],
             [
              0.1111111111111111,
              "#46039f"
             ],
             [
              0.2222222222222222,
              "#7201a8"
             ],
             [
              0.3333333333333333,
              "#9c179e"
             ],
             [
              0.4444444444444444,
              "#bd3786"
             ],
             [
              0.5555555555555556,
              "#d8576b"
             ],
             [
              0.6666666666666666,
              "#ed7953"
             ],
             [
              0.7777777777777778,
              "#fb9f3a"
             ],
             [
              0.8888888888888888,
              "#fdca26"
             ],
             [
              1,
              "#f0f921"
             ]
            ],
            "type": "histogram2dcontour"
           }
          ],
          "mesh3d": [
           {
            "colorbar": {
             "outlinewidth": 0,
             "ticks": ""
            },
            "type": "mesh3d"
           }
          ],
          "parcoords": [
           {
            "line": {
             "colorbar": {
              "outlinewidth": 0,
              "ticks": ""
             }
            },
            "type": "parcoords"
           }
          ],
          "pie": [
           {
            "automargin": true,
            "type": "pie"
           }
          ],
          "scatter": [
           {
            "fillpattern": {
             "fillmode": "overlay",
             "size": 10,
             "solidity": 0.2
            },
            "type": "scatter"
           }
          ],
          "scatter3d": [
           {
            "line": {
             "colorbar": {
              "outlinewidth": 0,
              "ticks": ""
             }
            },
            "marker": {
             "colorbar": {
              "outlinewidth": 0,
              "ticks": ""
             }
            },
            "type": "scatter3d"
           }
          ],
          "scattercarpet": [
           {
            "marker": {
             "colorbar": {
              "outlinewidth": 0,
              "ticks": ""
             }
            },
            "type": "scattercarpet"
           }
          ],
          "scattergeo": [
           {
            "marker": {
             "colorbar": {
              "outlinewidth": 0,
              "ticks": ""
             }
            },
            "type": "scattergeo"
           }
          ],
          "scattergl": [
           {
            "marker": {
             "colorbar": {
              "outlinewidth": 0,
              "ticks": ""
             }
            },
            "type": "scattergl"
           }
          ],
          "scattermapbox": [
           {
            "marker": {
             "colorbar": {
              "outlinewidth": 0,
              "ticks": ""
             }
            },
            "type": "scattermapbox"
           }
          ],
          "scatterpolar": [
           {
            "marker": {
             "colorbar": {
              "outlinewidth": 0,
              "ticks": ""
             }
            },
            "type": "scatterpolar"
           }
          ],
          "scatterpolargl": [
           {
            "marker": {
             "colorbar": {
              "outlinewidth": 0,
              "ticks": ""
             }
            },
            "type": "scatterpolargl"
           }
          ],
          "scatterternary": [
           {
            "marker": {
             "colorbar": {
              "outlinewidth": 0,
              "ticks": ""
             }
            },
            "type": "scatterternary"
           }
          ],
          "surface": [
           {
            "colorbar": {
             "outlinewidth": 0,
             "ticks": ""
            },
            "colorscale": [
             [
              0,
              "#0d0887"
             ],
             [
              0.1111111111111111,
              "#46039f"
             ],
             [
              0.2222222222222222,
              "#7201a8"
             ],
             [
              0.3333333333333333,
              "#9c179e"
             ],
             [
              0.4444444444444444,
              "#bd3786"
             ],
             [
              0.5555555555555556,
              "#d8576b"
             ],
             [
              0.6666666666666666,
              "#ed7953"
             ],
             [
              0.7777777777777778,
              "#fb9f3a"
             ],
             [
              0.8888888888888888,
              "#fdca26"
             ],
             [
              1,
              "#f0f921"
             ]
            ],
            "type": "surface"
           }
          ],
          "table": [
           {
            "cells": {
             "fill": {
              "color": "#EBF0F8"
             },
             "line": {
              "color": "white"
             }
            },
            "header": {
             "fill": {
              "color": "#C8D4E3"
             },
             "line": {
              "color": "white"
             }
            },
            "type": "table"
           }
          ]
         },
         "layout": {
          "annotationdefaults": {
           "arrowcolor": "#2a3f5f",
           "arrowhead": 0,
           "arrowwidth": 1
          },
          "autotypenumbers": "strict",
          "coloraxis": {
           "colorbar": {
            "outlinewidth": 0,
            "ticks": ""
           }
          },
          "colorscale": {
           "diverging": [
            [
             0,
             "#8e0152"
            ],
            [
             0.1,
             "#c51b7d"
            ],
            [
             0.2,
             "#de77ae"
            ],
            [
             0.3,
             "#f1b6da"
            ],
            [
             0.4,
             "#fde0ef"
            ],
            [
             0.5,
             "#f7f7f7"
            ],
            [
             0.6,
             "#e6f5d0"
            ],
            [
             0.7,
             "#b8e186"
            ],
            [
             0.8,
             "#7fbc41"
            ],
            [
             0.9,
             "#4d9221"
            ],
            [
             1,
             "#276419"
            ]
           ],
           "sequential": [
            [
             0,
             "#0d0887"
            ],
            [
             0.1111111111111111,
             "#46039f"
            ],
            [
             0.2222222222222222,
             "#7201a8"
            ],
            [
             0.3333333333333333,
             "#9c179e"
            ],
            [
             0.4444444444444444,
             "#bd3786"
            ],
            [
             0.5555555555555556,
             "#d8576b"
            ],
            [
             0.6666666666666666,
             "#ed7953"
            ],
            [
             0.7777777777777778,
             "#fb9f3a"
            ],
            [
             0.8888888888888888,
             "#fdca26"
            ],
            [
             1,
             "#f0f921"
            ]
           ],
           "sequentialminus": [
            [
             0,
             "#0d0887"
            ],
            [
             0.1111111111111111,
             "#46039f"
            ],
            [
             0.2222222222222222,
             "#7201a8"
            ],
            [
             0.3333333333333333,
             "#9c179e"
            ],
            [
             0.4444444444444444,
             "#bd3786"
            ],
            [
             0.5555555555555556,
             "#d8576b"
            ],
            [
             0.6666666666666666,
             "#ed7953"
            ],
            [
             0.7777777777777778,
             "#fb9f3a"
            ],
            [
             0.8888888888888888,
             "#fdca26"
            ],
            [
             1,
             "#f0f921"
            ]
           ]
          },
          "colorway": [
           "#636efa",
           "#EF553B",
           "#00cc96",
           "#ab63fa",
           "#FFA15A",
           "#19d3f3",
           "#FF6692",
           "#B6E880",
           "#FF97FF",
           "#FECB52"
          ],
          "font": {
           "color": "#2a3f5f"
          },
          "geo": {
           "bgcolor": "white",
           "lakecolor": "white",
           "landcolor": "#E5ECF6",
           "showlakes": true,
           "showland": true,
           "subunitcolor": "white"
          },
          "hoverlabel": {
           "align": "left"
          },
          "hovermode": "closest",
          "mapbox": {
           "style": "light"
          },
          "paper_bgcolor": "white",
          "plot_bgcolor": "#E5ECF6",
          "polar": {
           "angularaxis": {
            "gridcolor": "white",
            "linecolor": "white",
            "ticks": ""
           },
           "bgcolor": "#E5ECF6",
           "radialaxis": {
            "gridcolor": "white",
            "linecolor": "white",
            "ticks": ""
           }
          },
          "scene": {
           "xaxis": {
            "backgroundcolor": "#E5ECF6",
            "gridcolor": "white",
            "gridwidth": 2,
            "linecolor": "white",
            "showbackground": true,
            "ticks": "",
            "zerolinecolor": "white"
           },
           "yaxis": {
            "backgroundcolor": "#E5ECF6",
            "gridcolor": "white",
            "gridwidth": 2,
            "linecolor": "white",
            "showbackground": true,
            "ticks": "",
            "zerolinecolor": "white"
           },
           "zaxis": {
            "backgroundcolor": "#E5ECF6",
            "gridcolor": "white",
            "gridwidth": 2,
            "linecolor": "white",
            "showbackground": true,
            "ticks": "",
            "zerolinecolor": "white"
           }
          },
          "shapedefaults": {
           "line": {
            "color": "#2a3f5f"
           }
          },
          "ternary": {
           "aaxis": {
            "gridcolor": "white",
            "linecolor": "white",
            "ticks": ""
           },
           "baxis": {
            "gridcolor": "white",
            "linecolor": "white",
            "ticks": ""
           },
           "bgcolor": "#E5ECF6",
           "caxis": {
            "gridcolor": "white",
            "linecolor": "white",
            "ticks": ""
           }
          },
          "title": {
           "x": 0.05
          },
          "xaxis": {
           "automargin": true,
           "gridcolor": "white",
           "linecolor": "white",
           "ticks": "",
           "title": {
            "standoff": 15
           },
           "zerolinecolor": "white",
           "zerolinewidth": 2
          },
          "yaxis": {
           "automargin": true,
           "gridcolor": "white",
           "linecolor": "white",
           "ticks": "",
           "title": {
            "standoff": 15
           },
           "zerolinecolor": "white",
           "zerolinewidth": 2
          }
         }
        },
        "xaxis": {
         "anchor": "y",
         "domain": [
          0,
          1
         ],
         "title": {
          "text": "MPG_City"
         }
        },
        "yaxis": {
         "anchor": "x",
         "domain": [
          0,
          1
         ],
         "title": {
          "text": "MPG_Highway"
         }
        }
       }
      },
      "text/html": [
       "<div>                            <div id=\"00373a53-0bb7-48fe-85b6-7d1f23cab76a\" class=\"plotly-graph-div\" style=\"height:525px; width:100%;\"></div>            <script type=\"text/javascript\">                require([\"plotly\"], function(Plotly) {                    window.PLOTLYENV=window.PLOTLYENV || {};                                    if (document.getElementById(\"00373a53-0bb7-48fe-85b6-7d1f23cab76a\")) {                    Plotly.newPlot(                        \"00373a53-0bb7-48fe-85b6-7d1f23cab76a\",                        [{\"hovertemplate\":\"MPG_City=%{x}<br>MPG_Highway=%{y}<extra></extra>\",\"legendgroup\":\"\",\"marker\":{\"color\":\"#636efa\",\"symbol\":\"circle\"},\"mode\":\"markers\",\"name\":\"\",\"orientation\":\"v\",\"showlegend\":false,\"x\":[17,24,22,20,18,18,17,22,23,20,17,18,20,18,20,18,18,17,17,14,15,20,20,21,18,15,16,16,20,20,19,19,20,20,20,19,19,20,18,18,18,16,16,20,21,19,15,19,20,20,20,18,20,20,18,14,16,18,18,18,18,17,13,14,14,16,19,28,28,26,26,26,21,24,22,21,20,18,23,18,14,19,18,18,14,18,15,13,16,22,22,22,22,21,18,21,19,21,22,18,21,19,18,17,17,15,29,29,21,21,21,18,20,18,12,16,16,16,10,15,15,18,26,27,26,26,21,20,19,17,17,17,17,20,17,17,15,14,24,26,19,15,16,13,16,18,17,13,15,46,60,17,21,21,32,36,32,26,26,32,26,21,21,18,18,20,10,20,29,29,29,26,26,26,19,19,17,17,19,18,18,18,19,17,17,16,15,15,17,18,18,18,18,17,18,18,17,18,18,16,16,16,20,16,16,23,26,25,24,24,24,20,17,16,26,12,12,18,15,13,18,20,18,18,18,18,18,18,18,13,13,20,20,17,17,17,17,17,28,25,22,26,25,24,18,23,23,18,18,24,15,13,14,22,19,20,19,19,20,19,16,16,13,20,17,19,16,18,16,16,14,13,21,17,19,19,16,16,20,17,17,19,17,17,16,19,17,15,21,25,25,23,25,18,18,21,21,18,25,13,16,17,28,28,21,23,21,20,20,19,18,20,20,17,14,20,24,20,19,19,24,20,20,24,20,17,19,18,16,29,14,18,17,18,17,20,18,20,20,21,21,21,21,19,21,26,26,26,26,26,20,24,32,31,22,21,21,20,19,19,20,18,21,21,21,18,19,25,25,24,22,20,24,59,14,18,18,13,22,32,32,32,35,33,35,24,21,24,20,21,21,20,21,19,19,24,26,22,16,14,29,15,24,24,38,24,21,24,22,19,18,16,12,24,22,18,15,22,20,20,18,20,20,21,20,19,22,20],\"xaxis\":\"x\",\"y\":[23,31,29,28,24,24,24,31,30,28,26,25,27,25,27,25,25,24,24,20,22,28,28,29,25,21,23,22,29,29,27,27,30,30,29,28,28,30,26,26,26,24,23,28,29,26,21,26,30,29,30,28,29,29,28,18,21,25,26,26,26,25,17,18,18,21,22,34,34,37,37,37,32,34,30,32,30,28,32,28,17,26,25,25,18,23,21,17,19,30,29,29,30,28,27,29,27,27,30,27,28,26,25,25,23,21,36,36,29,28,28,27,26,25,20,22,22,21,13,19,20,23,33,36,33,33,28,27,26,25,25,25,23,29,25,24,19,18,29,33,26,19,19,17,20,25,20,18,19,51,66,22,25,24,38,44,38,34,34,37,30,30,30,25,25,25,12,26,33,33,33,34,34,34,27,27,26,26,26,26,26,26,26,23,23,22,19,20,21,26,25,26,28,24,28,28,24,26,26,23,23,21,24,19,19,30,33,32,32,32,32,27,25,22,33,16,16,21,19,17,24,29,25,24,25,23,25,23,24,18,18,26,26,24,24,25,25,25,37,34,25,34,31,32,25,28,28,25,24,29,19,14,17,30,26,25,25,26,26,27,21,24,19,26,22,27,20,26,24,23,21,19,29,22,25,27,24,21,27,25,25,26,25,23,23,26,21,19,27,31,31,30,31,25,26,28,28,26,31,19,21,20,35,35,26,28,26,28,28,26,25,26,26,20,18,25,32,29,26,26,33,29,30,33,30,20,26,24,20,36,18,26,24,26,24,29,26,28,28,29,29,29,30,29,26,35,35,35,35,35,28,34,38,35,28,28,28,27,26,26,27,24,28,28,28,22,22,31,31,31,30,27,29,51,17,21,24,17,27,40,40,40,43,39,43,33,29,33,29,29,29,29,29,27,27,33,32,27,18,17,36,20,31,31,46,31,30,30,31,26,25,22,19,30,31,25,20,29,27,28,25,28,27,28,26,26,29,27],\"yaxis\":\"y\",\"type\":\"scatter\"}],                        {\"template\":{\"data\":{\"histogram2dcontour\":[{\"type\":\"histogram2dcontour\",\"colorbar\":{\"outlinewidth\":0,\"ticks\":\"\"},\"colorscale\":[[0.0,\"#0d0887\"],[0.1111111111111111,\"#46039f\"],[0.2222222222222222,\"#7201a8\"],[0.3333333333333333,\"#9c179e\"],[0.4444444444444444,\"#bd3786\"],[0.5555555555555556,\"#d8576b\"],[0.6666666666666666,\"#ed7953\"],[0.7777777777777778,\"#fb9f3a\"],[0.8888888888888888,\"#fdca26\"],[1.0,\"#f0f921\"]]}],\"choropleth\":[{\"type\":\"choropleth\",\"colorbar\":{\"outlinewidth\":0,\"ticks\":\"\"}}],\"histogram2d\":[{\"type\":\"histogram2d\",\"colorbar\":{\"outlinewidth\":0,\"ticks\":\"\"},\"colorscale\":[[0.0,\"#0d0887\"],[0.1111111111111111,\"#46039f\"],[0.2222222222222222,\"#7201a8\"],[0.3333333333333333,\"#9c179e\"],[0.4444444444444444,\"#bd3786\"],[0.5555555555555556,\"#d8576b\"],[0.6666666666666666,\"#ed7953\"],[0.7777777777777778,\"#fb9f3a\"],[0.8888888888888888,\"#fdca26\"],[1.0,\"#f0f921\"]]}],\"heatmap\":[{\"type\":\"heatmap\",\"colorbar\":{\"outlinewidth\":0,\"ticks\":\"\"},\"colorscale\":[[0.0,\"#0d0887\"],[0.1111111111111111,\"#46039f\"],[0.2222222222222222,\"#7201a8\"],[0.3333333333333333,\"#9c179e\"],[0.4444444444444444,\"#bd3786\"],[0.5555555555555556,\"#d8576b\"],[0.6666666666666666,\"#ed7953\"],[0.7777777777777778,\"#fb9f3a\"],[0.8888888888888888,\"#fdca26\"],[1.0,\"#f0f921\"]]}],\"heatmapgl\":[{\"type\":\"heatmapgl\",\"colorbar\":{\"outlinewidth\":0,\"ticks\":\"\"},\"colorscale\":[[0.0,\"#0d0887\"],[0.1111111111111111,\"#46039f\"],[0.2222222222222222,\"#7201a8\"],[0.3333333333333333,\"#9c179e\"],[0.4444444444444444,\"#bd3786\"],[0.5555555555555556,\"#d8576b\"],[0.6666666666666666,\"#ed7953\"],[0.7777777777777778,\"#fb9f3a\"],[0.8888888888888888,\"#fdca26\"],[1.0,\"#f0f921\"]]}],\"contourcarpet\":[{\"type\":\"contourcarpet\",\"colorbar\":{\"outlinewidth\":0,\"ticks\":\"\"}}],\"contour\":[{\"type\":\"contour\",\"colorbar\":{\"outlinewidth\":0,\"ticks\":\"\"},\"colorscale\":[[0.0,\"#0d0887\"],[0.1111111111111111,\"#46039f\"],[0.2222222222222222,\"#7201a8\"],[0.3333333333333333,\"#9c179e\"],[0.4444444444444444,\"#bd3786\"],[0.5555555555555556,\"#d8576b\"],[0.6666666666666666,\"#ed7953\"],[0.7777777777777778,\"#fb9f3a\"],[0.8888888888888888,\"#fdca26\"],[1.0,\"#f0f921\"]]}],\"surface\":[{\"type\":\"surface\",\"colorbar\":{\"outlinewidth\":0,\"ticks\":\"\"},\"colorscale\":[[0.0,\"#0d0887\"],[0.1111111111111111,\"#46039f\"],[0.2222222222222222,\"#7201a8\"],[0.3333333333333333,\"#9c179e\"],[0.4444444444444444,\"#bd3786\"],[0.5555555555555556,\"#d8576b\"],[0.6666666666666666,\"#ed7953\"],[0.7777777777777778,\"#fb9f3a\"],[0.8888888888888888,\"#fdca26\"],[1.0,\"#f0f921\"]]}],\"mesh3d\":[{\"type\":\"mesh3d\",\"colorbar\":{\"outlinewidth\":0,\"ticks\":\"\"}}],\"scatter\":[{\"fillpattern\":{\"fillmode\":\"overlay\",\"size\":10,\"solidity\":0.2},\"type\":\"scatter\"}],\"parcoords\":[{\"type\":\"parcoords\",\"line\":{\"colorbar\":{\"outlinewidth\":0,\"ticks\":\"\"}}}],\"scatterpolargl\":[{\"type\":\"scatterpolargl\",\"marker\":{\"colorbar\":{\"outlinewidth\":0,\"ticks\":\"\"}}}],\"bar\":[{\"error_x\":{\"color\":\"#2a3f5f\"},\"error_y\":{\"color\":\"#2a3f5f\"},\"marker\":{\"line\":{\"color\":\"#E5ECF6\",\"width\":0.5},\"pattern\":{\"fillmode\":\"overlay\",\"size\":10,\"solidity\":0.2}},\"type\":\"bar\"}],\"scattergeo\":[{\"type\":\"scattergeo\",\"marker\":{\"colorbar\":{\"outlinewidth\":0,\"ticks\":\"\"}}}],\"scatterpolar\":[{\"type\":\"scatterpolar\",\"marker\":{\"colorbar\":{\"outlinewidth\":0,\"ticks\":\"\"}}}],\"histogram\":[{\"marker\":{\"pattern\":{\"fillmode\":\"overlay\",\"size\":10,\"solidity\":0.2}},\"type\":\"histogram\"}],\"scattergl\":[{\"type\":\"scattergl\",\"marker\":{\"colorbar\":{\"outlinewidth\":0,\"ticks\":\"\"}}}],\"scatter3d\":[{\"type\":\"scatter3d\",\"line\":{\"colorbar\":{\"outlinewidth\":0,\"ticks\":\"\"}},\"marker\":{\"colorbar\":{\"outlinewidth\":0,\"ticks\":\"\"}}}],\"scattermapbox\":[{\"type\":\"scattermapbox\",\"marker\":{\"colorbar\":{\"outlinewidth\":0,\"ticks\":\"\"}}}],\"scatterternary\":[{\"type\":\"scatterternary\",\"marker\":{\"colorbar\":{\"outlinewidth\":0,\"ticks\":\"\"}}}],\"scattercarpet\":[{\"type\":\"scattercarpet\",\"marker\":{\"colorbar\":{\"outlinewidth\":0,\"ticks\":\"\"}}}],\"carpet\":[{\"aaxis\":{\"endlinecolor\":\"#2a3f5f\",\"gridcolor\":\"white\",\"linecolor\":\"white\",\"minorgridcolor\":\"white\",\"startlinecolor\":\"#2a3f5f\"},\"baxis\":{\"endlinecolor\":\"#2a3f5f\",\"gridcolor\":\"white\",\"linecolor\":\"white\",\"minorgridcolor\":\"white\",\"startlinecolor\":\"#2a3f5f\"},\"type\":\"carpet\"}],\"table\":[{\"cells\":{\"fill\":{\"color\":\"#EBF0F8\"},\"line\":{\"color\":\"white\"}},\"header\":{\"fill\":{\"color\":\"#C8D4E3\"},\"line\":{\"color\":\"white\"}},\"type\":\"table\"}],\"barpolar\":[{\"marker\":{\"line\":{\"color\":\"#E5ECF6\",\"width\":0.5},\"pattern\":{\"fillmode\":\"overlay\",\"size\":10,\"solidity\":0.2}},\"type\":\"barpolar\"}],\"pie\":[{\"automargin\":true,\"type\":\"pie\"}]},\"layout\":{\"autotypenumbers\":\"strict\",\"colorway\":[\"#636efa\",\"#EF553B\",\"#00cc96\",\"#ab63fa\",\"#FFA15A\",\"#19d3f3\",\"#FF6692\",\"#B6E880\",\"#FF97FF\",\"#FECB52\"],\"font\":{\"color\":\"#2a3f5f\"},\"hovermode\":\"closest\",\"hoverlabel\":{\"align\":\"left\"},\"paper_bgcolor\":\"white\",\"plot_bgcolor\":\"#E5ECF6\",\"polar\":{\"bgcolor\":\"#E5ECF6\",\"angularaxis\":{\"gridcolor\":\"white\",\"linecolor\":\"white\",\"ticks\":\"\"},\"radialaxis\":{\"gridcolor\":\"white\",\"linecolor\":\"white\",\"ticks\":\"\"}},\"ternary\":{\"bgcolor\":\"#E5ECF6\",\"aaxis\":{\"gridcolor\":\"white\",\"linecolor\":\"white\",\"ticks\":\"\"},\"baxis\":{\"gridcolor\":\"white\",\"linecolor\":\"white\",\"ticks\":\"\"},\"caxis\":{\"gridcolor\":\"white\",\"linecolor\":\"white\",\"ticks\":\"\"}},\"coloraxis\":{\"colorbar\":{\"outlinewidth\":0,\"ticks\":\"\"}},\"colorscale\":{\"sequential\":[[0.0,\"#0d0887\"],[0.1111111111111111,\"#46039f\"],[0.2222222222222222,\"#7201a8\"],[0.3333333333333333,\"#9c179e\"],[0.4444444444444444,\"#bd3786\"],[0.5555555555555556,\"#d8576b\"],[0.6666666666666666,\"#ed7953\"],[0.7777777777777778,\"#fb9f3a\"],[0.8888888888888888,\"#fdca26\"],[1.0,\"#f0f921\"]],\"sequentialminus\":[[0.0,\"#0d0887\"],[0.1111111111111111,\"#46039f\"],[0.2222222222222222,\"#7201a8\"],[0.3333333333333333,\"#9c179e\"],[0.4444444444444444,\"#bd3786\"],[0.5555555555555556,\"#d8576b\"],[0.6666666666666666,\"#ed7953\"],[0.7777777777777778,\"#fb9f3a\"],[0.8888888888888888,\"#fdca26\"],[1.0,\"#f0f921\"]],\"diverging\":[[0,\"#8e0152\"],[0.1,\"#c51b7d\"],[0.2,\"#de77ae\"],[0.3,\"#f1b6da\"],[0.4,\"#fde0ef\"],[0.5,\"#f7f7f7\"],[0.6,\"#e6f5d0\"],[0.7,\"#b8e186\"],[0.8,\"#7fbc41\"],[0.9,\"#4d9221\"],[1,\"#276419\"]]},\"xaxis\":{\"gridcolor\":\"white\",\"linecolor\":\"white\",\"ticks\":\"\",\"title\":{\"standoff\":15},\"zerolinecolor\":\"white\",\"automargin\":true,\"zerolinewidth\":2},\"yaxis\":{\"gridcolor\":\"white\",\"linecolor\":\"white\",\"ticks\":\"\",\"title\":{\"standoff\":15},\"zerolinecolor\":\"white\",\"automargin\":true,\"zerolinewidth\":2},\"scene\":{\"xaxis\":{\"backgroundcolor\":\"#E5ECF6\",\"gridcolor\":\"white\",\"linecolor\":\"white\",\"showbackground\":true,\"ticks\":\"\",\"zerolinecolor\":\"white\",\"gridwidth\":2},\"yaxis\":{\"backgroundcolor\":\"#E5ECF6\",\"gridcolor\":\"white\",\"linecolor\":\"white\",\"showbackground\":true,\"ticks\":\"\",\"zerolinecolor\":\"white\",\"gridwidth\":2},\"zaxis\":{\"backgroundcolor\":\"#E5ECF6\",\"gridcolor\":\"white\",\"linecolor\":\"white\",\"showbackground\":true,\"ticks\":\"\",\"zerolinecolor\":\"white\",\"gridwidth\":2}},\"shapedefaults\":{\"line\":{\"color\":\"#2a3f5f\"}},\"annotationdefaults\":{\"arrowcolor\":\"#2a3f5f\",\"arrowhead\":0,\"arrowwidth\":1},\"geo\":{\"bgcolor\":\"white\",\"landcolor\":\"#E5ECF6\",\"subunitcolor\":\"white\",\"showland\":true,\"showlakes\":true,\"lakecolor\":\"white\"},\"title\":{\"x\":0.05},\"mapbox\":{\"style\":\"light\"}}},\"xaxis\":{\"anchor\":\"y\",\"domain\":[0.0,1.0],\"title\":{\"text\":\"MPG_City\"}},\"yaxis\":{\"anchor\":\"x\",\"domain\":[0.0,1.0],\"title\":{\"text\":\"MPG_Highway\"}},\"legend\":{\"tracegroupgap\":0},\"margin\":{\"t\":60}},                        {\"responsive\": true}                    ).then(function(){\n",
       "                            \n",
       "var gd = document.getElementById('00373a53-0bb7-48fe-85b6-7d1f23cab76a');\n",
       "var x = new MutationObserver(function (mutations, observer) {{\n",
       "        var display = window.getComputedStyle(gd).display;\n",
       "        if (!display || display === 'none') {{\n",
       "            console.log([gd, 'removed!']);\n",
       "            Plotly.purge(gd);\n",
       "            observer.disconnect();\n",
       "        }}\n",
       "}});\n",
       "\n",
       "// Listen for the removal of the full notebook cells\n",
       "var notebookContainer = gd.closest('#notebook-container');\n",
       "if (notebookContainer) {{\n",
       "    x.observe(notebookContainer, {childList: true});\n",
       "}}\n",
       "\n",
       "// Listen for the clearing of the current output cell\n",
       "var outputEl = gd.closest('.output');\n",
       "if (outputEl) {{\n",
       "    x.observe(outputEl, {childList: true});\n",
       "}}\n",
       "\n",
       "                        })                };                });            </script>        </div>"
      ]
     },
     "metadata": {},
     "output_type": "display_data"
    }
   ],
   "source": [
    "px.scatter(df,x=\"MPG_City\", y=\"MPG_Highway\")"
   ]
  },
  {
   "cell_type": "code",
   "execution_count": 71,
   "id": "e5cb2de9",
   "metadata": {},
   "outputs": [
    {
     "data": {
      "application/vnd.plotly.v1+json": {
       "config": {
        "plotlyServerURL": "https://plot.ly"
       },
       "data": [
        {
         "hovertemplate": "MPG_City=%{x}<br>Weight=%{y}<extra></extra>",
         "legendgroup": "",
         "marker": {
          "color": "#636efa",
          "symbol": "circle"
         },
         "mode": "markers",
         "name": "",
         "orientation": "v",
         "showlegend": false,
         "type": "scatter",
         "x": [
          17,
          24,
          22,
          20,
          18,
          18,
          17,
          22,
          23,
          20,
          17,
          18,
          20,
          18,
          20,
          18,
          18,
          17,
          17,
          14,
          15,
          20,
          20,
          21,
          18,
          15,
          16,
          16,
          20,
          20,
          19,
          19,
          20,
          20,
          20,
          19,
          19,
          20,
          18,
          18,
          18,
          16,
          16,
          20,
          21,
          19,
          15,
          19,
          20,
          20,
          20,
          18,
          20,
          20,
          18,
          14,
          16,
          18,
          18,
          18,
          18,
          17,
          13,
          14,
          14,
          16,
          19,
          28,
          28,
          26,
          26,
          26,
          21,
          24,
          22,
          21,
          20,
          18,
          23,
          18,
          14,
          19,
          18,
          18,
          14,
          18,
          15,
          13,
          16,
          22,
          22,
          22,
          22,
          21,
          18,
          21,
          19,
          21,
          22,
          18,
          21,
          19,
          18,
          17,
          17,
          15,
          29,
          29,
          21,
          21,
          21,
          18,
          20,
          18,
          12,
          16,
          16,
          16,
          10,
          15,
          15,
          18,
          26,
          27,
          26,
          26,
          21,
          20,
          19,
          17,
          17,
          17,
          17,
          20,
          17,
          17,
          15,
          14,
          24,
          26,
          19,
          15,
          16,
          13,
          16,
          18,
          17,
          13,
          15,
          46,
          60,
          17,
          21,
          21,
          32,
          36,
          32,
          26,
          26,
          32,
          26,
          21,
          21,
          18,
          18,
          20,
          10,
          20,
          29,
          29,
          29,
          26,
          26,
          26,
          19,
          19,
          17,
          17,
          19,
          18,
          18,
          18,
          19,
          17,
          17,
          16,
          15,
          15,
          17,
          18,
          18,
          18,
          18,
          17,
          18,
          18,
          17,
          18,
          18,
          16,
          16,
          16,
          20,
          16,
          16,
          23,
          26,
          25,
          24,
          24,
          24,
          20,
          17,
          16,
          26,
          12,
          12,
          18,
          15,
          13,
          18,
          20,
          18,
          18,
          18,
          18,
          18,
          18,
          18,
          13,
          13,
          20,
          20,
          17,
          17,
          17,
          17,
          17,
          28,
          25,
          22,
          26,
          25,
          24,
          18,
          23,
          23,
          18,
          18,
          24,
          15,
          13,
          14,
          22,
          19,
          20,
          19,
          19,
          20,
          19,
          16,
          16,
          13,
          20,
          17,
          19,
          16,
          18,
          16,
          16,
          14,
          13,
          21,
          17,
          19,
          19,
          16,
          16,
          20,
          17,
          17,
          19,
          17,
          17,
          16,
          19,
          17,
          15,
          21,
          25,
          25,
          23,
          25,
          18,
          18,
          21,
          21,
          18,
          25,
          13,
          16,
          17,
          28,
          28,
          21,
          23,
          21,
          20,
          20,
          19,
          18,
          20,
          20,
          17,
          14,
          20,
          24,
          20,
          19,
          19,
          24,
          20,
          20,
          24,
          20,
          17,
          19,
          18,
          16,
          29,
          14,
          18,
          17,
          18,
          17,
          20,
          18,
          20,
          20,
          21,
          21,
          21,
          21,
          19,
          21,
          26,
          26,
          26,
          26,
          26,
          20,
          24,
          32,
          31,
          22,
          21,
          21,
          20,
          19,
          19,
          20,
          18,
          21,
          21,
          21,
          18,
          19,
          25,
          25,
          24,
          22,
          20,
          24,
          59,
          14,
          18,
          18,
          13,
          22,
          32,
          32,
          32,
          35,
          33,
          35,
          24,
          21,
          24,
          20,
          21,
          21,
          20,
          21,
          19,
          19,
          24,
          26,
          22,
          16,
          14,
          29,
          15,
          24,
          24,
          38,
          24,
          21,
          24,
          22,
          19,
          18,
          16,
          12,
          24,
          22,
          18,
          15,
          22,
          20,
          20,
          18,
          20,
          20,
          21,
          20,
          19,
          22,
          20
         ],
         "xaxis": "x",
         "y": [
          4451,
          2778,
          3230,
          3575,
          3880,
          3893,
          3153,
          3252,
          3638,
          3462,
          3583,
          3627,
          3561,
          3880,
          3814,
          4013,
          3836,
          4024,
          4399,
          3825,
          4024,
          3131,
          2921,
          3351,
          4035,
          3936,
          4023,
          4824,
          3219,
          3197,
          3560,
          3461,
          3285,
          3285,
          3483,
          3428,
          3616,
          3472,
          3814,
          4376,
          4464,
          3415,
          3781,
          2932,
          2998,
          3594,
          4600,
          4024,
          3353,
          3567,
          3461,
          3536,
          3591,
          3778,
          3909,
          5367,
          4302,
          3694,
          3984,
          4044,
          3992,
          3647,
          5879,
          4947,
          5050,
          4425,
          2866,
          2370,
          2348,
          2617,
          2676,
          2617,
          3465,
          3174,
          3297,
          3340,
          3476,
          3606,
          3315,
          3434,
          4605,
          3699,
          3246,
          3248,
          5678,
          3623,
          4142,
          4804,
          4760,
          3458,
          3101,
          3105,
          3173,
          3222,
          3581,
          3479,
          3548,
          3217,
          3357,
          3650,
          3448,
          4068,
          4331,
          3060,
          4675,
          4987,
          2581,
          2626,
          3469,
          3182,
          3175,
          3487,
          3862,
          4440,
          3410,
          3714,
          3829,
          4542,
          7190,
          5000,
          4463,
          3346,
          2612,
          2606,
          2606,
          2691,
          2750,
          3306,
          3313,
          4057,
          4057,
          4057,
          4275,
          3290,
          3347,
          3780,
          4788,
          5464,
          3028,
          2702,
          3497,
          4945,
          5042,
          6133,
          4309,
          3351,
          4548,
          5440,
          4083,
          2732,
          1850,
          4387,
          3258,
          3468,
          2432,
          2500,
          2513,
          2994,
          3047,
          2601,
          2782,
          3349,
          3294,
          4310,
          4365,
          2835,
          6400,
          3549,
          2255,
          2290,
          2339,
          2635,
          2635,
          2698,
          3217,
          3217,
          3651,
          3651,
          3023,
          3336,
          3416,
          3677,
          3306,
          3851,
          3977,
          4056,
          4309,
          4967,
          3836,
          3428,
          3516,
          3777,
          3874,
          4046,
          3803,
          3803,
          3948,
          3779,
          3980,
          3865,
          4042,
          3790,
          3826,
          3575,
          4112,
          3281,
          2403,
          2458,
          2661,
          2686,
          2697,
          3279,
          4021,
          4802,
          2447,
          5379,
          4576,
          3577,
          4740,
          5590,
          4065,
          3460,
          3255,
          3285,
          3649,
          3715,
          3990,
          3840,
          3410,
          5969,
          4834,
          3681,
          3681,
          3768,
          3768,
          4369,
          4369,
          4474,
          2524,
          2678,
          3091,
          2696,
          2762,
          3042,
          3812,
          2387,
          2387,
          3053,
          3029,
          2960,
          3571,
          5423,
          4874,
          3250,
          3430,
          3360,
          3360,
          3430,
          3450,
          3450,
          3540,
          4085,
          4473,
          3770,
          3585,
          3635,
          3815,
          4160,
          4390,
          4065,
          4235,
          4429,
          3055,
          3220,
          3470,
          3966,
          4230,
          4374,
          3308,
          4052,
          4052,
          3315,
          4052,
          4195,
          4340,
          3488,
          4134,
          4718,
          3240,
          2656,
          2795,
          3351,
          2744,
          3549,
          3649,
          3241,
          3296,
          3263,
          3020,
          5013,
          3871,
          3760,
          2513,
          2581,
          3039,
          2761,
          3197,
          3473,
          3476,
          4012,
          4175,
          3188,
          3428,
          3932,
          5287,
          3801,
          2946,
          3085,
          3948,
          3779,
          2771,
          3118,
          3477,
          2771,
          3484,
          3790,
          3803,
          4431,
          3725,
          2701,
          4950,
          3135,
          3240,
          3119,
          3131,
          2811,
          2911,
          3175,
          3175,
          3470,
          3470,
          3480,
          3700,
          3620,
          3381,
          2692,
          2692,
          2692,
          2751,
          2751,
          3197,
          3109,
          2340,
          2425,
          2965,
          3285,
          3395,
          3495,
          3610,
          3630,
          3085,
          3263,
          3485,
          3090,
          3430,
          3682,
          3020,
          2676,
          2676,
          2701,
          2756,
          3380,
          2932,
          2890,
          5270,
          4035,
          3935,
          5390,
          3119,
          2502,
          2524,
          2524,
          2035,
          2085,
          2055,
          3086,
          3296,
          3175,
          3417,
          3417,
          3362,
          3439,
          3439,
          4120,
          4165,
          2500,
          2195,
          2750,
          3925,
          4435,
          2679,
          5086,
          2897,
          2934,
          3003,
          2820,
          3179,
          3082,
          3241,
          3721,
          3953,
          5194,
          5399,
          3034,
          3338,
          4067,
          4638,
          2767,
          3903,
          3766,
          3571,
          3576,
          3691,
          3450,
          3450,
          3653,
          2822,
          3823
         ],
         "yaxis": "y"
        }
       ],
       "layout": {
        "legend": {
         "tracegroupgap": 0
        },
        "margin": {
         "t": 60
        },
        "template": {
         "data": {
          "bar": [
           {
            "error_x": {
             "color": "#2a3f5f"
            },
            "error_y": {
             "color": "#2a3f5f"
            },
            "marker": {
             "line": {
              "color": "#E5ECF6",
              "width": 0.5
             },
             "pattern": {
              "fillmode": "overlay",
              "size": 10,
              "solidity": 0.2
             }
            },
            "type": "bar"
           }
          ],
          "barpolar": [
           {
            "marker": {
             "line": {
              "color": "#E5ECF6",
              "width": 0.5
             },
             "pattern": {
              "fillmode": "overlay",
              "size": 10,
              "solidity": 0.2
             }
            },
            "type": "barpolar"
           }
          ],
          "carpet": [
           {
            "aaxis": {
             "endlinecolor": "#2a3f5f",
             "gridcolor": "white",
             "linecolor": "white",
             "minorgridcolor": "white",
             "startlinecolor": "#2a3f5f"
            },
            "baxis": {
             "endlinecolor": "#2a3f5f",
             "gridcolor": "white",
             "linecolor": "white",
             "minorgridcolor": "white",
             "startlinecolor": "#2a3f5f"
            },
            "type": "carpet"
           }
          ],
          "choropleth": [
           {
            "colorbar": {
             "outlinewidth": 0,
             "ticks": ""
            },
            "type": "choropleth"
           }
          ],
          "contour": [
           {
            "colorbar": {
             "outlinewidth": 0,
             "ticks": ""
            },
            "colorscale": [
             [
              0,
              "#0d0887"
             ],
             [
              0.1111111111111111,
              "#46039f"
             ],
             [
              0.2222222222222222,
              "#7201a8"
             ],
             [
              0.3333333333333333,
              "#9c179e"
             ],
             [
              0.4444444444444444,
              "#bd3786"
             ],
             [
              0.5555555555555556,
              "#d8576b"
             ],
             [
              0.6666666666666666,
              "#ed7953"
             ],
             [
              0.7777777777777778,
              "#fb9f3a"
             ],
             [
              0.8888888888888888,
              "#fdca26"
             ],
             [
              1,
              "#f0f921"
             ]
            ],
            "type": "contour"
           }
          ],
          "contourcarpet": [
           {
            "colorbar": {
             "outlinewidth": 0,
             "ticks": ""
            },
            "type": "contourcarpet"
           }
          ],
          "heatmap": [
           {
            "colorbar": {
             "outlinewidth": 0,
             "ticks": ""
            },
            "colorscale": [
             [
              0,
              "#0d0887"
             ],
             [
              0.1111111111111111,
              "#46039f"
             ],
             [
              0.2222222222222222,
              "#7201a8"
             ],
             [
              0.3333333333333333,
              "#9c179e"
             ],
             [
              0.4444444444444444,
              "#bd3786"
             ],
             [
              0.5555555555555556,
              "#d8576b"
             ],
             [
              0.6666666666666666,
              "#ed7953"
             ],
             [
              0.7777777777777778,
              "#fb9f3a"
             ],
             [
              0.8888888888888888,
              "#fdca26"
             ],
             [
              1,
              "#f0f921"
             ]
            ],
            "type": "heatmap"
           }
          ],
          "heatmapgl": [
           {
            "colorbar": {
             "outlinewidth": 0,
             "ticks": ""
            },
            "colorscale": [
             [
              0,
              "#0d0887"
             ],
             [
              0.1111111111111111,
              "#46039f"
             ],
             [
              0.2222222222222222,
              "#7201a8"
             ],
             [
              0.3333333333333333,
              "#9c179e"
             ],
             [
              0.4444444444444444,
              "#bd3786"
             ],
             [
              0.5555555555555556,
              "#d8576b"
             ],
             [
              0.6666666666666666,
              "#ed7953"
             ],
             [
              0.7777777777777778,
              "#fb9f3a"
             ],
             [
              0.8888888888888888,
              "#fdca26"
             ],
             [
              1,
              "#f0f921"
             ]
            ],
            "type": "heatmapgl"
           }
          ],
          "histogram": [
           {
            "marker": {
             "pattern": {
              "fillmode": "overlay",
              "size": 10,
              "solidity": 0.2
             }
            },
            "type": "histogram"
           }
          ],
          "histogram2d": [
           {
            "colorbar": {
             "outlinewidth": 0,
             "ticks": ""
            },
            "colorscale": [
             [
              0,
              "#0d0887"
             ],
             [
              0.1111111111111111,
              "#46039f"
             ],
             [
              0.2222222222222222,
              "#7201a8"
             ],
             [
              0.3333333333333333,
              "#9c179e"
             ],
             [
              0.4444444444444444,
              "#bd3786"
             ],
             [
              0.5555555555555556,
              "#d8576b"
             ],
             [
              0.6666666666666666,
              "#ed7953"
             ],
             [
              0.7777777777777778,
              "#fb9f3a"
             ],
             [
              0.8888888888888888,
              "#fdca26"
             ],
             [
              1,
              "#f0f921"
             ]
            ],
            "type": "histogram2d"
           }
          ],
          "histogram2dcontour": [
           {
            "colorbar": {
             "outlinewidth": 0,
             "ticks": ""
            },
            "colorscale": [
             [
              0,
              "#0d0887"
             ],
             [
              0.1111111111111111,
              "#46039f"
             ],
             [
              0.2222222222222222,
              "#7201a8"
             ],
             [
              0.3333333333333333,
              "#9c179e"
             ],
             [
              0.4444444444444444,
              "#bd3786"
             ],
             [
              0.5555555555555556,
              "#d8576b"
             ],
             [
              0.6666666666666666,
              "#ed7953"
             ],
             [
              0.7777777777777778,
              "#fb9f3a"
             ],
             [
              0.8888888888888888,
              "#fdca26"
             ],
             [
              1,
              "#f0f921"
             ]
            ],
            "type": "histogram2dcontour"
           }
          ],
          "mesh3d": [
           {
            "colorbar": {
             "outlinewidth": 0,
             "ticks": ""
            },
            "type": "mesh3d"
           }
          ],
          "parcoords": [
           {
            "line": {
             "colorbar": {
              "outlinewidth": 0,
              "ticks": ""
             }
            },
            "type": "parcoords"
           }
          ],
          "pie": [
           {
            "automargin": true,
            "type": "pie"
           }
          ],
          "scatter": [
           {
            "fillpattern": {
             "fillmode": "overlay",
             "size": 10,
             "solidity": 0.2
            },
            "type": "scatter"
           }
          ],
          "scatter3d": [
           {
            "line": {
             "colorbar": {
              "outlinewidth": 0,
              "ticks": ""
             }
            },
            "marker": {
             "colorbar": {
              "outlinewidth": 0,
              "ticks": ""
             }
            },
            "type": "scatter3d"
           }
          ],
          "scattercarpet": [
           {
            "marker": {
             "colorbar": {
              "outlinewidth": 0,
              "ticks": ""
             }
            },
            "type": "scattercarpet"
           }
          ],
          "scattergeo": [
           {
            "marker": {
             "colorbar": {
              "outlinewidth": 0,
              "ticks": ""
             }
            },
            "type": "scattergeo"
           }
          ],
          "scattergl": [
           {
            "marker": {
             "colorbar": {
              "outlinewidth": 0,
              "ticks": ""
             }
            },
            "type": "scattergl"
           }
          ],
          "scattermapbox": [
           {
            "marker": {
             "colorbar": {
              "outlinewidth": 0,
              "ticks": ""
             }
            },
            "type": "scattermapbox"
           }
          ],
          "scatterpolar": [
           {
            "marker": {
             "colorbar": {
              "outlinewidth": 0,
              "ticks": ""
             }
            },
            "type": "scatterpolar"
           }
          ],
          "scatterpolargl": [
           {
            "marker": {
             "colorbar": {
              "outlinewidth": 0,
              "ticks": ""
             }
            },
            "type": "scatterpolargl"
           }
          ],
          "scatterternary": [
           {
            "marker": {
             "colorbar": {
              "outlinewidth": 0,
              "ticks": ""
             }
            },
            "type": "scatterternary"
           }
          ],
          "surface": [
           {
            "colorbar": {
             "outlinewidth": 0,
             "ticks": ""
            },
            "colorscale": [
             [
              0,
              "#0d0887"
             ],
             [
              0.1111111111111111,
              "#46039f"
             ],
             [
              0.2222222222222222,
              "#7201a8"
             ],
             [
              0.3333333333333333,
              "#9c179e"
             ],
             [
              0.4444444444444444,
              "#bd3786"
             ],
             [
              0.5555555555555556,
              "#d8576b"
             ],
             [
              0.6666666666666666,
              "#ed7953"
             ],
             [
              0.7777777777777778,
              "#fb9f3a"
             ],
             [
              0.8888888888888888,
              "#fdca26"
             ],
             [
              1,
              "#f0f921"
             ]
            ],
            "type": "surface"
           }
          ],
          "table": [
           {
            "cells": {
             "fill": {
              "color": "#EBF0F8"
             },
             "line": {
              "color": "white"
             }
            },
            "header": {
             "fill": {
              "color": "#C8D4E3"
             },
             "line": {
              "color": "white"
             }
            },
            "type": "table"
           }
          ]
         },
         "layout": {
          "annotationdefaults": {
           "arrowcolor": "#2a3f5f",
           "arrowhead": 0,
           "arrowwidth": 1
          },
          "autotypenumbers": "strict",
          "coloraxis": {
           "colorbar": {
            "outlinewidth": 0,
            "ticks": ""
           }
          },
          "colorscale": {
           "diverging": [
            [
             0,
             "#8e0152"
            ],
            [
             0.1,
             "#c51b7d"
            ],
            [
             0.2,
             "#de77ae"
            ],
            [
             0.3,
             "#f1b6da"
            ],
            [
             0.4,
             "#fde0ef"
            ],
            [
             0.5,
             "#f7f7f7"
            ],
            [
             0.6,
             "#e6f5d0"
            ],
            [
             0.7,
             "#b8e186"
            ],
            [
             0.8,
             "#7fbc41"
            ],
            [
             0.9,
             "#4d9221"
            ],
            [
             1,
             "#276419"
            ]
           ],
           "sequential": [
            [
             0,
             "#0d0887"
            ],
            [
             0.1111111111111111,
             "#46039f"
            ],
            [
             0.2222222222222222,
             "#7201a8"
            ],
            [
             0.3333333333333333,
             "#9c179e"
            ],
            [
             0.4444444444444444,
             "#bd3786"
            ],
            [
             0.5555555555555556,
             "#d8576b"
            ],
            [
             0.6666666666666666,
             "#ed7953"
            ],
            [
             0.7777777777777778,
             "#fb9f3a"
            ],
            [
             0.8888888888888888,
             "#fdca26"
            ],
            [
             1,
             "#f0f921"
            ]
           ],
           "sequentialminus": [
            [
             0,
             "#0d0887"
            ],
            [
             0.1111111111111111,
             "#46039f"
            ],
            [
             0.2222222222222222,
             "#7201a8"
            ],
            [
             0.3333333333333333,
             "#9c179e"
            ],
            [
             0.4444444444444444,
             "#bd3786"
            ],
            [
             0.5555555555555556,
             "#d8576b"
            ],
            [
             0.6666666666666666,
             "#ed7953"
            ],
            [
             0.7777777777777778,
             "#fb9f3a"
            ],
            [
             0.8888888888888888,
             "#fdca26"
            ],
            [
             1,
             "#f0f921"
            ]
           ]
          },
          "colorway": [
           "#636efa",
           "#EF553B",
           "#00cc96",
           "#ab63fa",
           "#FFA15A",
           "#19d3f3",
           "#FF6692",
           "#B6E880",
           "#FF97FF",
           "#FECB52"
          ],
          "font": {
           "color": "#2a3f5f"
          },
          "geo": {
           "bgcolor": "white",
           "lakecolor": "white",
           "landcolor": "#E5ECF6",
           "showlakes": true,
           "showland": true,
           "subunitcolor": "white"
          },
          "hoverlabel": {
           "align": "left"
          },
          "hovermode": "closest",
          "mapbox": {
           "style": "light"
          },
          "paper_bgcolor": "white",
          "plot_bgcolor": "#E5ECF6",
          "polar": {
           "angularaxis": {
            "gridcolor": "white",
            "linecolor": "white",
            "ticks": ""
           },
           "bgcolor": "#E5ECF6",
           "radialaxis": {
            "gridcolor": "white",
            "linecolor": "white",
            "ticks": ""
           }
          },
          "scene": {
           "xaxis": {
            "backgroundcolor": "#E5ECF6",
            "gridcolor": "white",
            "gridwidth": 2,
            "linecolor": "white",
            "showbackground": true,
            "ticks": "",
            "zerolinecolor": "white"
           },
           "yaxis": {
            "backgroundcolor": "#E5ECF6",
            "gridcolor": "white",
            "gridwidth": 2,
            "linecolor": "white",
            "showbackground": true,
            "ticks": "",
            "zerolinecolor": "white"
           },
           "zaxis": {
            "backgroundcolor": "#E5ECF6",
            "gridcolor": "white",
            "gridwidth": 2,
            "linecolor": "white",
            "showbackground": true,
            "ticks": "",
            "zerolinecolor": "white"
           }
          },
          "shapedefaults": {
           "line": {
            "color": "#2a3f5f"
           }
          },
          "ternary": {
           "aaxis": {
            "gridcolor": "white",
            "linecolor": "white",
            "ticks": ""
           },
           "baxis": {
            "gridcolor": "white",
            "linecolor": "white",
            "ticks": ""
           },
           "bgcolor": "#E5ECF6",
           "caxis": {
            "gridcolor": "white",
            "linecolor": "white",
            "ticks": ""
           }
          },
          "title": {
           "x": 0.05
          },
          "xaxis": {
           "automargin": true,
           "gridcolor": "white",
           "linecolor": "white",
           "ticks": "",
           "title": {
            "standoff": 15
           },
           "zerolinecolor": "white",
           "zerolinewidth": 2
          },
          "yaxis": {
           "automargin": true,
           "gridcolor": "white",
           "linecolor": "white",
           "ticks": "",
           "title": {
            "standoff": 15
           },
           "zerolinecolor": "white",
           "zerolinewidth": 2
          }
         }
        },
        "xaxis": {
         "anchor": "y",
         "domain": [
          0,
          1
         ],
         "title": {
          "text": "MPG_City"
         }
        },
        "yaxis": {
         "anchor": "x",
         "domain": [
          0,
          1
         ],
         "title": {
          "text": "Weight"
         }
        }
       }
      },
      "text/html": [
       "<div>                            <div id=\"22209f8e-2355-4e60-a374-d81e6ef9dfe9\" class=\"plotly-graph-div\" style=\"height:525px; width:100%;\"></div>            <script type=\"text/javascript\">                require([\"plotly\"], function(Plotly) {                    window.PLOTLYENV=window.PLOTLYENV || {};                                    if (document.getElementById(\"22209f8e-2355-4e60-a374-d81e6ef9dfe9\")) {                    Plotly.newPlot(                        \"22209f8e-2355-4e60-a374-d81e6ef9dfe9\",                        [{\"hovertemplate\":\"MPG_City=%{x}<br>Weight=%{y}<extra></extra>\",\"legendgroup\":\"\",\"marker\":{\"color\":\"#636efa\",\"symbol\":\"circle\"},\"mode\":\"markers\",\"name\":\"\",\"orientation\":\"v\",\"showlegend\":false,\"x\":[17,24,22,20,18,18,17,22,23,20,17,18,20,18,20,18,18,17,17,14,15,20,20,21,18,15,16,16,20,20,19,19,20,20,20,19,19,20,18,18,18,16,16,20,21,19,15,19,20,20,20,18,20,20,18,14,16,18,18,18,18,17,13,14,14,16,19,28,28,26,26,26,21,24,22,21,20,18,23,18,14,19,18,18,14,18,15,13,16,22,22,22,22,21,18,21,19,21,22,18,21,19,18,17,17,15,29,29,21,21,21,18,20,18,12,16,16,16,10,15,15,18,26,27,26,26,21,20,19,17,17,17,17,20,17,17,15,14,24,26,19,15,16,13,16,18,17,13,15,46,60,17,21,21,32,36,32,26,26,32,26,21,21,18,18,20,10,20,29,29,29,26,26,26,19,19,17,17,19,18,18,18,19,17,17,16,15,15,17,18,18,18,18,17,18,18,17,18,18,16,16,16,20,16,16,23,26,25,24,24,24,20,17,16,26,12,12,18,15,13,18,20,18,18,18,18,18,18,18,13,13,20,20,17,17,17,17,17,28,25,22,26,25,24,18,23,23,18,18,24,15,13,14,22,19,20,19,19,20,19,16,16,13,20,17,19,16,18,16,16,14,13,21,17,19,19,16,16,20,17,17,19,17,17,16,19,17,15,21,25,25,23,25,18,18,21,21,18,25,13,16,17,28,28,21,23,21,20,20,19,18,20,20,17,14,20,24,20,19,19,24,20,20,24,20,17,19,18,16,29,14,18,17,18,17,20,18,20,20,21,21,21,21,19,21,26,26,26,26,26,20,24,32,31,22,21,21,20,19,19,20,18,21,21,21,18,19,25,25,24,22,20,24,59,14,18,18,13,22,32,32,32,35,33,35,24,21,24,20,21,21,20,21,19,19,24,26,22,16,14,29,15,24,24,38,24,21,24,22,19,18,16,12,24,22,18,15,22,20,20,18,20,20,21,20,19,22,20],\"xaxis\":\"x\",\"y\":[4451,2778,3230,3575,3880,3893,3153,3252,3638,3462,3583,3627,3561,3880,3814,4013,3836,4024,4399,3825,4024,3131,2921,3351,4035,3936,4023,4824,3219,3197,3560,3461,3285,3285,3483,3428,3616,3472,3814,4376,4464,3415,3781,2932,2998,3594,4600,4024,3353,3567,3461,3536,3591,3778,3909,5367,4302,3694,3984,4044,3992,3647,5879,4947,5050,4425,2866,2370,2348,2617,2676,2617,3465,3174,3297,3340,3476,3606,3315,3434,4605,3699,3246,3248,5678,3623,4142,4804,4760,3458,3101,3105,3173,3222,3581,3479,3548,3217,3357,3650,3448,4068,4331,3060,4675,4987,2581,2626,3469,3182,3175,3487,3862,4440,3410,3714,3829,4542,7190,5000,4463,3346,2612,2606,2606,2691,2750,3306,3313,4057,4057,4057,4275,3290,3347,3780,4788,5464,3028,2702,3497,4945,5042,6133,4309,3351,4548,5440,4083,2732,1850,4387,3258,3468,2432,2500,2513,2994,3047,2601,2782,3349,3294,4310,4365,2835,6400,3549,2255,2290,2339,2635,2635,2698,3217,3217,3651,3651,3023,3336,3416,3677,3306,3851,3977,4056,4309,4967,3836,3428,3516,3777,3874,4046,3803,3803,3948,3779,3980,3865,4042,3790,3826,3575,4112,3281,2403,2458,2661,2686,2697,3279,4021,4802,2447,5379,4576,3577,4740,5590,4065,3460,3255,3285,3649,3715,3990,3840,3410,5969,4834,3681,3681,3768,3768,4369,4369,4474,2524,2678,3091,2696,2762,3042,3812,2387,2387,3053,3029,2960,3571,5423,4874,3250,3430,3360,3360,3430,3450,3450,3540,4085,4473,3770,3585,3635,3815,4160,4390,4065,4235,4429,3055,3220,3470,3966,4230,4374,3308,4052,4052,3315,4052,4195,4340,3488,4134,4718,3240,2656,2795,3351,2744,3549,3649,3241,3296,3263,3020,5013,3871,3760,2513,2581,3039,2761,3197,3473,3476,4012,4175,3188,3428,3932,5287,3801,2946,3085,3948,3779,2771,3118,3477,2771,3484,3790,3803,4431,3725,2701,4950,3135,3240,3119,3131,2811,2911,3175,3175,3470,3470,3480,3700,3620,3381,2692,2692,2692,2751,2751,3197,3109,2340,2425,2965,3285,3395,3495,3610,3630,3085,3263,3485,3090,3430,3682,3020,2676,2676,2701,2756,3380,2932,2890,5270,4035,3935,5390,3119,2502,2524,2524,2035,2085,2055,3086,3296,3175,3417,3417,3362,3439,3439,4120,4165,2500,2195,2750,3925,4435,2679,5086,2897,2934,3003,2820,3179,3082,3241,3721,3953,5194,5399,3034,3338,4067,4638,2767,3903,3766,3571,3576,3691,3450,3450,3653,2822,3823],\"yaxis\":\"y\",\"type\":\"scatter\"}],                        {\"template\":{\"data\":{\"histogram2dcontour\":[{\"type\":\"histogram2dcontour\",\"colorbar\":{\"outlinewidth\":0,\"ticks\":\"\"},\"colorscale\":[[0.0,\"#0d0887\"],[0.1111111111111111,\"#46039f\"],[0.2222222222222222,\"#7201a8\"],[0.3333333333333333,\"#9c179e\"],[0.4444444444444444,\"#bd3786\"],[0.5555555555555556,\"#d8576b\"],[0.6666666666666666,\"#ed7953\"],[0.7777777777777778,\"#fb9f3a\"],[0.8888888888888888,\"#fdca26\"],[1.0,\"#f0f921\"]]}],\"choropleth\":[{\"type\":\"choropleth\",\"colorbar\":{\"outlinewidth\":0,\"ticks\":\"\"}}],\"histogram2d\":[{\"type\":\"histogram2d\",\"colorbar\":{\"outlinewidth\":0,\"ticks\":\"\"},\"colorscale\":[[0.0,\"#0d0887\"],[0.1111111111111111,\"#46039f\"],[0.2222222222222222,\"#7201a8\"],[0.3333333333333333,\"#9c179e\"],[0.4444444444444444,\"#bd3786\"],[0.5555555555555556,\"#d8576b\"],[0.6666666666666666,\"#ed7953\"],[0.7777777777777778,\"#fb9f3a\"],[0.8888888888888888,\"#fdca26\"],[1.0,\"#f0f921\"]]}],\"heatmap\":[{\"type\":\"heatmap\",\"colorbar\":{\"outlinewidth\":0,\"ticks\":\"\"},\"colorscale\":[[0.0,\"#0d0887\"],[0.1111111111111111,\"#46039f\"],[0.2222222222222222,\"#7201a8\"],[0.3333333333333333,\"#9c179e\"],[0.4444444444444444,\"#bd3786\"],[0.5555555555555556,\"#d8576b\"],[0.6666666666666666,\"#ed7953\"],[0.7777777777777778,\"#fb9f3a\"],[0.8888888888888888,\"#fdca26\"],[1.0,\"#f0f921\"]]}],\"heatmapgl\":[{\"type\":\"heatmapgl\",\"colorbar\":{\"outlinewidth\":0,\"ticks\":\"\"},\"colorscale\":[[0.0,\"#0d0887\"],[0.1111111111111111,\"#46039f\"],[0.2222222222222222,\"#7201a8\"],[0.3333333333333333,\"#9c179e\"],[0.4444444444444444,\"#bd3786\"],[0.5555555555555556,\"#d8576b\"],[0.6666666666666666,\"#ed7953\"],[0.7777777777777778,\"#fb9f3a\"],[0.8888888888888888,\"#fdca26\"],[1.0,\"#f0f921\"]]}],\"contourcarpet\":[{\"type\":\"contourcarpet\",\"colorbar\":{\"outlinewidth\":0,\"ticks\":\"\"}}],\"contour\":[{\"type\":\"contour\",\"colorbar\":{\"outlinewidth\":0,\"ticks\":\"\"},\"colorscale\":[[0.0,\"#0d0887\"],[0.1111111111111111,\"#46039f\"],[0.2222222222222222,\"#7201a8\"],[0.3333333333333333,\"#9c179e\"],[0.4444444444444444,\"#bd3786\"],[0.5555555555555556,\"#d8576b\"],[0.6666666666666666,\"#ed7953\"],[0.7777777777777778,\"#fb9f3a\"],[0.8888888888888888,\"#fdca26\"],[1.0,\"#f0f921\"]]}],\"surface\":[{\"type\":\"surface\",\"colorbar\":{\"outlinewidth\":0,\"ticks\":\"\"},\"colorscale\":[[0.0,\"#0d0887\"],[0.1111111111111111,\"#46039f\"],[0.2222222222222222,\"#7201a8\"],[0.3333333333333333,\"#9c179e\"],[0.4444444444444444,\"#bd3786\"],[0.5555555555555556,\"#d8576b\"],[0.6666666666666666,\"#ed7953\"],[0.7777777777777778,\"#fb9f3a\"],[0.8888888888888888,\"#fdca26\"],[1.0,\"#f0f921\"]]}],\"mesh3d\":[{\"type\":\"mesh3d\",\"colorbar\":{\"outlinewidth\":0,\"ticks\":\"\"}}],\"scatter\":[{\"fillpattern\":{\"fillmode\":\"overlay\",\"size\":10,\"solidity\":0.2},\"type\":\"scatter\"}],\"parcoords\":[{\"type\":\"parcoords\",\"line\":{\"colorbar\":{\"outlinewidth\":0,\"ticks\":\"\"}}}],\"scatterpolargl\":[{\"type\":\"scatterpolargl\",\"marker\":{\"colorbar\":{\"outlinewidth\":0,\"ticks\":\"\"}}}],\"bar\":[{\"error_x\":{\"color\":\"#2a3f5f\"},\"error_y\":{\"color\":\"#2a3f5f\"},\"marker\":{\"line\":{\"color\":\"#E5ECF6\",\"width\":0.5},\"pattern\":{\"fillmode\":\"overlay\",\"size\":10,\"solidity\":0.2}},\"type\":\"bar\"}],\"scattergeo\":[{\"type\":\"scattergeo\",\"marker\":{\"colorbar\":{\"outlinewidth\":0,\"ticks\":\"\"}}}],\"scatterpolar\":[{\"type\":\"scatterpolar\",\"marker\":{\"colorbar\":{\"outlinewidth\":0,\"ticks\":\"\"}}}],\"histogram\":[{\"marker\":{\"pattern\":{\"fillmode\":\"overlay\",\"size\":10,\"solidity\":0.2}},\"type\":\"histogram\"}],\"scattergl\":[{\"type\":\"scattergl\",\"marker\":{\"colorbar\":{\"outlinewidth\":0,\"ticks\":\"\"}}}],\"scatter3d\":[{\"type\":\"scatter3d\",\"line\":{\"colorbar\":{\"outlinewidth\":0,\"ticks\":\"\"}},\"marker\":{\"colorbar\":{\"outlinewidth\":0,\"ticks\":\"\"}}}],\"scattermapbox\":[{\"type\":\"scattermapbox\",\"marker\":{\"colorbar\":{\"outlinewidth\":0,\"ticks\":\"\"}}}],\"scatterternary\":[{\"type\":\"scatterternary\",\"marker\":{\"colorbar\":{\"outlinewidth\":0,\"ticks\":\"\"}}}],\"scattercarpet\":[{\"type\":\"scattercarpet\",\"marker\":{\"colorbar\":{\"outlinewidth\":0,\"ticks\":\"\"}}}],\"carpet\":[{\"aaxis\":{\"endlinecolor\":\"#2a3f5f\",\"gridcolor\":\"white\",\"linecolor\":\"white\",\"minorgridcolor\":\"white\",\"startlinecolor\":\"#2a3f5f\"},\"baxis\":{\"endlinecolor\":\"#2a3f5f\",\"gridcolor\":\"white\",\"linecolor\":\"white\",\"minorgridcolor\":\"white\",\"startlinecolor\":\"#2a3f5f\"},\"type\":\"carpet\"}],\"table\":[{\"cells\":{\"fill\":{\"color\":\"#EBF0F8\"},\"line\":{\"color\":\"white\"}},\"header\":{\"fill\":{\"color\":\"#C8D4E3\"},\"line\":{\"color\":\"white\"}},\"type\":\"table\"}],\"barpolar\":[{\"marker\":{\"line\":{\"color\":\"#E5ECF6\",\"width\":0.5},\"pattern\":{\"fillmode\":\"overlay\",\"size\":10,\"solidity\":0.2}},\"type\":\"barpolar\"}],\"pie\":[{\"automargin\":true,\"type\":\"pie\"}]},\"layout\":{\"autotypenumbers\":\"strict\",\"colorway\":[\"#636efa\",\"#EF553B\",\"#00cc96\",\"#ab63fa\",\"#FFA15A\",\"#19d3f3\",\"#FF6692\",\"#B6E880\",\"#FF97FF\",\"#FECB52\"],\"font\":{\"color\":\"#2a3f5f\"},\"hovermode\":\"closest\",\"hoverlabel\":{\"align\":\"left\"},\"paper_bgcolor\":\"white\",\"plot_bgcolor\":\"#E5ECF6\",\"polar\":{\"bgcolor\":\"#E5ECF6\",\"angularaxis\":{\"gridcolor\":\"white\",\"linecolor\":\"white\",\"ticks\":\"\"},\"radialaxis\":{\"gridcolor\":\"white\",\"linecolor\":\"white\",\"ticks\":\"\"}},\"ternary\":{\"bgcolor\":\"#E5ECF6\",\"aaxis\":{\"gridcolor\":\"white\",\"linecolor\":\"white\",\"ticks\":\"\"},\"baxis\":{\"gridcolor\":\"white\",\"linecolor\":\"white\",\"ticks\":\"\"},\"caxis\":{\"gridcolor\":\"white\",\"linecolor\":\"white\",\"ticks\":\"\"}},\"coloraxis\":{\"colorbar\":{\"outlinewidth\":0,\"ticks\":\"\"}},\"colorscale\":{\"sequential\":[[0.0,\"#0d0887\"],[0.1111111111111111,\"#46039f\"],[0.2222222222222222,\"#7201a8\"],[0.3333333333333333,\"#9c179e\"],[0.4444444444444444,\"#bd3786\"],[0.5555555555555556,\"#d8576b\"],[0.6666666666666666,\"#ed7953\"],[0.7777777777777778,\"#fb9f3a\"],[0.8888888888888888,\"#fdca26\"],[1.0,\"#f0f921\"]],\"sequentialminus\":[[0.0,\"#0d0887\"],[0.1111111111111111,\"#46039f\"],[0.2222222222222222,\"#7201a8\"],[0.3333333333333333,\"#9c179e\"],[0.4444444444444444,\"#bd3786\"],[0.5555555555555556,\"#d8576b\"],[0.6666666666666666,\"#ed7953\"],[0.7777777777777778,\"#fb9f3a\"],[0.8888888888888888,\"#fdca26\"],[1.0,\"#f0f921\"]],\"diverging\":[[0,\"#8e0152\"],[0.1,\"#c51b7d\"],[0.2,\"#de77ae\"],[0.3,\"#f1b6da\"],[0.4,\"#fde0ef\"],[0.5,\"#f7f7f7\"],[0.6,\"#e6f5d0\"],[0.7,\"#b8e186\"],[0.8,\"#7fbc41\"],[0.9,\"#4d9221\"],[1,\"#276419\"]]},\"xaxis\":{\"gridcolor\":\"white\",\"linecolor\":\"white\",\"ticks\":\"\",\"title\":{\"standoff\":15},\"zerolinecolor\":\"white\",\"automargin\":true,\"zerolinewidth\":2},\"yaxis\":{\"gridcolor\":\"white\",\"linecolor\":\"white\",\"ticks\":\"\",\"title\":{\"standoff\":15},\"zerolinecolor\":\"white\",\"automargin\":true,\"zerolinewidth\":2},\"scene\":{\"xaxis\":{\"backgroundcolor\":\"#E5ECF6\",\"gridcolor\":\"white\",\"linecolor\":\"white\",\"showbackground\":true,\"ticks\":\"\",\"zerolinecolor\":\"white\",\"gridwidth\":2},\"yaxis\":{\"backgroundcolor\":\"#E5ECF6\",\"gridcolor\":\"white\",\"linecolor\":\"white\",\"showbackground\":true,\"ticks\":\"\",\"zerolinecolor\":\"white\",\"gridwidth\":2},\"zaxis\":{\"backgroundcolor\":\"#E5ECF6\",\"gridcolor\":\"white\",\"linecolor\":\"white\",\"showbackground\":true,\"ticks\":\"\",\"zerolinecolor\":\"white\",\"gridwidth\":2}},\"shapedefaults\":{\"line\":{\"color\":\"#2a3f5f\"}},\"annotationdefaults\":{\"arrowcolor\":\"#2a3f5f\",\"arrowhead\":0,\"arrowwidth\":1},\"geo\":{\"bgcolor\":\"white\",\"landcolor\":\"#E5ECF6\",\"subunitcolor\":\"white\",\"showland\":true,\"showlakes\":true,\"lakecolor\":\"white\"},\"title\":{\"x\":0.05},\"mapbox\":{\"style\":\"light\"}}},\"xaxis\":{\"anchor\":\"y\",\"domain\":[0.0,1.0],\"title\":{\"text\":\"MPG_City\"}},\"yaxis\":{\"anchor\":\"x\",\"domain\":[0.0,1.0],\"title\":{\"text\":\"Weight\"}},\"legend\":{\"tracegroupgap\":0},\"margin\":{\"t\":60}},                        {\"responsive\": true}                    ).then(function(){\n",
       "                            \n",
       "var gd = document.getElementById('22209f8e-2355-4e60-a374-d81e6ef9dfe9');\n",
       "var x = new MutationObserver(function (mutations, observer) {{\n",
       "        var display = window.getComputedStyle(gd).display;\n",
       "        if (!display || display === 'none') {{\n",
       "            console.log([gd, 'removed!']);\n",
       "            Plotly.purge(gd);\n",
       "            observer.disconnect();\n",
       "        }}\n",
       "}});\n",
       "\n",
       "// Listen for the removal of the full notebook cells\n",
       "var notebookContainer = gd.closest('#notebook-container');\n",
       "if (notebookContainer) {{\n",
       "    x.observe(notebookContainer, {childList: true});\n",
       "}}\n",
       "\n",
       "// Listen for the clearing of the current output cell\n",
       "var outputEl = gd.closest('.output');\n",
       "if (outputEl) {{\n",
       "    x.observe(outputEl, {childList: true});\n",
       "}}\n",
       "\n",
       "                        })                };                });            </script>        </div>"
      ]
     },
     "metadata": {},
     "output_type": "display_data"
    }
   ],
   "source": [
    "px.scatter(df,x=\"MPG_City\", y=\"Weight\")"
   ]
  },
  {
   "cell_type": "code",
   "execution_count": 72,
   "id": "9501795b",
   "metadata": {},
   "outputs": [
    {
     "data": {
      "application/vnd.plotly.v1+json": {
       "config": {
        "plotlyServerURL": "https://plot.ly"
       },
       "data": [
        {
         "hovertemplate": "MPG_City=%{x}<br>Wheelbase=%{y}<extra></extra>",
         "legendgroup": "",
         "marker": {
          "color": "#636efa",
          "symbol": "circle"
         },
         "mode": "markers",
         "name": "",
         "orientation": "v",
         "showlegend": false,
         "type": "scatter",
         "x": [
          17,
          24,
          22,
          20,
          18,
          18,
          17,
          22,
          23,
          20,
          17,
          18,
          20,
          18,
          20,
          18,
          18,
          17,
          17,
          14,
          15,
          20,
          20,
          21,
          18,
          15,
          16,
          16,
          20,
          20,
          19,
          19,
          20,
          20,
          20,
          19,
          19,
          20,
          18,
          18,
          18,
          16,
          16,
          20,
          21,
          19,
          15,
          19,
          20,
          20,
          20,
          18,
          20,
          20,
          18,
          14,
          16,
          18,
          18,
          18,
          18,
          17,
          13,
          14,
          14,
          16,
          19,
          28,
          28,
          26,
          26,
          26,
          21,
          24,
          22,
          21,
          20,
          18,
          23,
          18,
          14,
          19,
          18,
          18,
          14,
          18,
          15,
          13,
          16,
          22,
          22,
          22,
          22,
          21,
          18,
          21,
          19,
          21,
          22,
          18,
          21,
          19,
          18,
          17,
          17,
          15,
          29,
          29,
          21,
          21,
          21,
          18,
          20,
          18,
          12,
          16,
          16,
          16,
          10,
          15,
          15,
          18,
          26,
          27,
          26,
          26,
          21,
          20,
          19,
          17,
          17,
          17,
          17,
          20,
          17,
          17,
          15,
          14,
          24,
          26,
          19,
          15,
          16,
          13,
          16,
          18,
          17,
          13,
          15,
          46,
          60,
          17,
          21,
          21,
          32,
          36,
          32,
          26,
          26,
          32,
          26,
          21,
          21,
          18,
          18,
          20,
          10,
          20,
          29,
          29,
          29,
          26,
          26,
          26,
          19,
          19,
          17,
          17,
          19,
          18,
          18,
          18,
          19,
          17,
          17,
          16,
          15,
          15,
          17,
          18,
          18,
          18,
          18,
          17,
          18,
          18,
          17,
          18,
          18,
          16,
          16,
          16,
          20,
          16,
          16,
          23,
          26,
          25,
          24,
          24,
          24,
          20,
          17,
          16,
          26,
          12,
          12,
          18,
          15,
          13,
          18,
          20,
          18,
          18,
          18,
          18,
          18,
          18,
          18,
          13,
          13,
          20,
          20,
          17,
          17,
          17,
          17,
          17,
          28,
          25,
          22,
          26,
          25,
          24,
          18,
          23,
          23,
          18,
          18,
          24,
          15,
          13,
          14,
          22,
          19,
          20,
          19,
          19,
          20,
          19,
          16,
          16,
          13,
          20,
          17,
          19,
          16,
          18,
          16,
          16,
          14,
          13,
          21,
          17,
          19,
          19,
          16,
          16,
          20,
          17,
          17,
          19,
          17,
          17,
          16,
          19,
          17,
          15,
          21,
          25,
          25,
          23,
          25,
          18,
          18,
          21,
          21,
          18,
          25,
          13,
          16,
          17,
          28,
          28,
          21,
          23,
          21,
          20,
          20,
          19,
          18,
          20,
          20,
          17,
          14,
          20,
          24,
          20,
          19,
          19,
          24,
          20,
          20,
          24,
          20,
          17,
          19,
          18,
          16,
          29,
          14,
          18,
          17,
          18,
          17,
          20,
          18,
          20,
          20,
          21,
          21,
          21,
          21,
          19,
          21,
          26,
          26,
          26,
          26,
          26,
          20,
          24,
          32,
          31,
          22,
          21,
          21,
          20,
          19,
          19,
          20,
          18,
          21,
          21,
          21,
          18,
          19,
          25,
          25,
          24,
          22,
          20,
          24,
          59,
          14,
          18,
          18,
          13,
          22,
          32,
          32,
          32,
          35,
          33,
          35,
          24,
          21,
          24,
          20,
          21,
          21,
          20,
          21,
          19,
          19,
          24,
          26,
          22,
          16,
          14,
          29,
          15,
          24,
          24,
          38,
          24,
          21,
          24,
          22,
          19,
          18,
          16,
          12,
          24,
          22,
          18,
          15,
          22,
          20,
          20,
          18,
          20,
          20,
          21,
          20,
          19,
          22,
          20
         ],
         "xaxis": "x",
         "y": [
          106,
          101,
          105,
          108,
          115,
          115,
          100,
          104,
          105,
          104,
          104,
          104,
          109,
          109,
          105,
          105,
          109,
          109,
          121,
          104,
          109,
          95,
          96,
          96,
          109,
          104,
          110,
          111,
          107,
          107,
          107,
          107,
          107,
          107,
          107,
          114,
          107,
          114,
          114,
          118,
          123,
          108,
          108,
          98,
          98,
          107,
          113,
          112,
          109,
          112,
          109,
          109,
          112,
          114,
          114,
          116,
          116,
          113,
          115,
          115,
          112,
          106,
          130,
          130,
          116,
          113,
          98,
          98,
          98,
          104,
          104,
          104,
          111,
          106,
          106,
          111,
          111,
          111,
          106,
          111,
          111,
          112,
          105,
          105,
          130,
          111,
          119,
          144,
          116,
          112,
          103,
          103,
          108,
          108,
          113,
          113,
          113,
          103,
          106,
          113,
          106,
          119,
          119,
          95,
          116,
          119,
          105,
          105,
          113,
          108,
          108,
          113,
          113,
          119,
          99,
          112,
          131,
          121,
          137,
          119,
          114,
          103,
          103,
          103,
          103,
          103,
          103,
          109,
          109,
          115,
          115,
          115,
          121,
          101,
          101,
          107,
          126,
          133,
          111,
          103,
          109,
          129,
          116,
          130,
          111,
          111,
          144,
          133,
          123,
          103,
          95,
          106,
          103,
          101,
          103,
          103,
          103,
          105,
          105,
          103,
          101,
          108,
          105,
          118,
          118,
          95,
          123,
          103,
          96,
          96,
          96,
          103,
          103,
          103,
          106,
          106,
          108,
          108,
          100,
          112,
          112,
          112,
          108,
          110,
          113,
          112,
          112,
          129,
          106,
          107,
          107,
          115,
          115,
          115,
          119,
          119,
          119,
          102,
          102,
          102,
          102,
          106,
          104,
          93,
          107,
          106,
          95,
          95,
          101,
          101,
          101,
          106,
          110,
          115,
          95,
          113,
          100,
          101,
          110,
          112,
          107,
          107,
          105,
          105,
          110,
          110,
          115,
          103,
          105,
          119,
          114,
          115,
          115,
          115,
          115,
          118,
          118,
          124,
          97,
          97,
          103,
          104,
          104,
          105,
          112,
          89,
          89,
          106,
          106,
          112,
          126,
          112,
          111,
          107,
          107,
          107,
          107,
          107,
          107,
          107,
          107,
          114,
          114,
          107,
          107,
          112,
          112,
          122,
          122,
          101,
          101,
          101,
          95,
          95,
          107,
          112,
          112,
          114,
          109,
          115,
          115,
          109,
          115,
          115,
          121,
          109,
          109,
          110,
          103,
          102,
          102,
          108,
          102,
          107,
          108,
          101,
          101,
          103,
          102,
          123,
          106,
          104,
          100,
          100,
          110,
          100,
          110,
          111,
          111,
          124,
          124,
          104,
          104,
          116,
          140,
          111,
          107,
          107,
          120,
          108,
          104,
          107,
          111,
          104,
          111,
          112,
          112,
          121,
          110,
          102,
          112,
          93,
          93,
          93,
          93,
          95,
          95,
          105,
          105,
          106,
          106,
          105,
          105,
          106,
          107,
          103,
          103,
          103,
          103,
          103,
          107,
          107,
          93,
          98,
          99,
          104,
          104,
          104,
          104,
          104,
          99,
          100,
          104,
          99,
          104,
          110,
          98,
          98,
          98,
          102,
          102,
          106,
          98,
          106,
          118,
          110,
          107,
          112,
          98,
          102,
          102,
          102,
          93,
          93,
          93,
          107,
          107,
          107,
          107,
          107,
          107,
          107,
          107,
          119,
          119,
          102,
          97,
          103,
          128,
          128,
          102,
          112,
          99,
          99,
          99,
          99,
          99,
          99,
          106,
          106,
          106,
          118,
          118,
          99,
          106,
          106,
          113,
          101,
          107,
          107,
          107,
          110,
          110,
          105,
          105,
          110,
          101,
          109
         ],
         "yaxis": "y"
        }
       ],
       "layout": {
        "legend": {
         "tracegroupgap": 0
        },
        "margin": {
         "t": 60
        },
        "template": {
         "data": {
          "bar": [
           {
            "error_x": {
             "color": "#2a3f5f"
            },
            "error_y": {
             "color": "#2a3f5f"
            },
            "marker": {
             "line": {
              "color": "#E5ECF6",
              "width": 0.5
             },
             "pattern": {
              "fillmode": "overlay",
              "size": 10,
              "solidity": 0.2
             }
            },
            "type": "bar"
           }
          ],
          "barpolar": [
           {
            "marker": {
             "line": {
              "color": "#E5ECF6",
              "width": 0.5
             },
             "pattern": {
              "fillmode": "overlay",
              "size": 10,
              "solidity": 0.2
             }
            },
            "type": "barpolar"
           }
          ],
          "carpet": [
           {
            "aaxis": {
             "endlinecolor": "#2a3f5f",
             "gridcolor": "white",
             "linecolor": "white",
             "minorgridcolor": "white",
             "startlinecolor": "#2a3f5f"
            },
            "baxis": {
             "endlinecolor": "#2a3f5f",
             "gridcolor": "white",
             "linecolor": "white",
             "minorgridcolor": "white",
             "startlinecolor": "#2a3f5f"
            },
            "type": "carpet"
           }
          ],
          "choropleth": [
           {
            "colorbar": {
             "outlinewidth": 0,
             "ticks": ""
            },
            "type": "choropleth"
           }
          ],
          "contour": [
           {
            "colorbar": {
             "outlinewidth": 0,
             "ticks": ""
            },
            "colorscale": [
             [
              0,
              "#0d0887"
             ],
             [
              0.1111111111111111,
              "#46039f"
             ],
             [
              0.2222222222222222,
              "#7201a8"
             ],
             [
              0.3333333333333333,
              "#9c179e"
             ],
             [
              0.4444444444444444,
              "#bd3786"
             ],
             [
              0.5555555555555556,
              "#d8576b"
             ],
             [
              0.6666666666666666,
              "#ed7953"
             ],
             [
              0.7777777777777778,
              "#fb9f3a"
             ],
             [
              0.8888888888888888,
              "#fdca26"
             ],
             [
              1,
              "#f0f921"
             ]
            ],
            "type": "contour"
           }
          ],
          "contourcarpet": [
           {
            "colorbar": {
             "outlinewidth": 0,
             "ticks": ""
            },
            "type": "contourcarpet"
           }
          ],
          "heatmap": [
           {
            "colorbar": {
             "outlinewidth": 0,
             "ticks": ""
            },
            "colorscale": [
             [
              0,
              "#0d0887"
             ],
             [
              0.1111111111111111,
              "#46039f"
             ],
             [
              0.2222222222222222,
              "#7201a8"
             ],
             [
              0.3333333333333333,
              "#9c179e"
             ],
             [
              0.4444444444444444,
              "#bd3786"
             ],
             [
              0.5555555555555556,
              "#d8576b"
             ],
             [
              0.6666666666666666,
              "#ed7953"
             ],
             [
              0.7777777777777778,
              "#fb9f3a"
             ],
             [
              0.8888888888888888,
              "#fdca26"
             ],
             [
              1,
              "#f0f921"
             ]
            ],
            "type": "heatmap"
           }
          ],
          "heatmapgl": [
           {
            "colorbar": {
             "outlinewidth": 0,
             "ticks": ""
            },
            "colorscale": [
             [
              0,
              "#0d0887"
             ],
             [
              0.1111111111111111,
              "#46039f"
             ],
             [
              0.2222222222222222,
              "#7201a8"
             ],
             [
              0.3333333333333333,
              "#9c179e"
             ],
             [
              0.4444444444444444,
              "#bd3786"
             ],
             [
              0.5555555555555556,
              "#d8576b"
             ],
             [
              0.6666666666666666,
              "#ed7953"
             ],
             [
              0.7777777777777778,
              "#fb9f3a"
             ],
             [
              0.8888888888888888,
              "#fdca26"
             ],
             [
              1,
              "#f0f921"
             ]
            ],
            "type": "heatmapgl"
           }
          ],
          "histogram": [
           {
            "marker": {
             "pattern": {
              "fillmode": "overlay",
              "size": 10,
              "solidity": 0.2
             }
            },
            "type": "histogram"
           }
          ],
          "histogram2d": [
           {
            "colorbar": {
             "outlinewidth": 0,
             "ticks": ""
            },
            "colorscale": [
             [
              0,
              "#0d0887"
             ],
             [
              0.1111111111111111,
              "#46039f"
             ],
             [
              0.2222222222222222,
              "#7201a8"
             ],
             [
              0.3333333333333333,
              "#9c179e"
             ],
             [
              0.4444444444444444,
              "#bd3786"
             ],
             [
              0.5555555555555556,
              "#d8576b"
             ],
             [
              0.6666666666666666,
              "#ed7953"
             ],
             [
              0.7777777777777778,
              "#fb9f3a"
             ],
             [
              0.8888888888888888,
              "#fdca26"
             ],
             [
              1,
              "#f0f921"
             ]
            ],
            "type": "histogram2d"
           }
          ],
          "histogram2dcontour": [
           {
            "colorbar": {
             "outlinewidth": 0,
             "ticks": ""
            },
            "colorscale": [
             [
              0,
              "#0d0887"
             ],
             [
              0.1111111111111111,
              "#46039f"
             ],
             [
              0.2222222222222222,
              "#7201a8"
             ],
             [
              0.3333333333333333,
              "#9c179e"
             ],
             [
              0.4444444444444444,
              "#bd3786"
             ],
             [
              0.5555555555555556,
              "#d8576b"
             ],
             [
              0.6666666666666666,
              "#ed7953"
             ],
             [
              0.7777777777777778,
              "#fb9f3a"
             ],
             [
              0.8888888888888888,
              "#fdca26"
             ],
             [
              1,
              "#f0f921"
             ]
            ],
            "type": "histogram2dcontour"
           }
          ],
          "mesh3d": [
           {
            "colorbar": {
             "outlinewidth": 0,
             "ticks": ""
            },
            "type": "mesh3d"
           }
          ],
          "parcoords": [
           {
            "line": {
             "colorbar": {
              "outlinewidth": 0,
              "ticks": ""
             }
            },
            "type": "parcoords"
           }
          ],
          "pie": [
           {
            "automargin": true,
            "type": "pie"
           }
          ],
          "scatter": [
           {
            "fillpattern": {
             "fillmode": "overlay",
             "size": 10,
             "solidity": 0.2
            },
            "type": "scatter"
           }
          ],
          "scatter3d": [
           {
            "line": {
             "colorbar": {
              "outlinewidth": 0,
              "ticks": ""
             }
            },
            "marker": {
             "colorbar": {
              "outlinewidth": 0,
              "ticks": ""
             }
            },
            "type": "scatter3d"
           }
          ],
          "scattercarpet": [
           {
            "marker": {
             "colorbar": {
              "outlinewidth": 0,
              "ticks": ""
             }
            },
            "type": "scattercarpet"
           }
          ],
          "scattergeo": [
           {
            "marker": {
             "colorbar": {
              "outlinewidth": 0,
              "ticks": ""
             }
            },
            "type": "scattergeo"
           }
          ],
          "scattergl": [
           {
            "marker": {
             "colorbar": {
              "outlinewidth": 0,
              "ticks": ""
             }
            },
            "type": "scattergl"
           }
          ],
          "scattermapbox": [
           {
            "marker": {
             "colorbar": {
              "outlinewidth": 0,
              "ticks": ""
             }
            },
            "type": "scattermapbox"
           }
          ],
          "scatterpolar": [
           {
            "marker": {
             "colorbar": {
              "outlinewidth": 0,
              "ticks": ""
             }
            },
            "type": "scatterpolar"
           }
          ],
          "scatterpolargl": [
           {
            "marker": {
             "colorbar": {
              "outlinewidth": 0,
              "ticks": ""
             }
            },
            "type": "scatterpolargl"
           }
          ],
          "scatterternary": [
           {
            "marker": {
             "colorbar": {
              "outlinewidth": 0,
              "ticks": ""
             }
            },
            "type": "scatterternary"
           }
          ],
          "surface": [
           {
            "colorbar": {
             "outlinewidth": 0,
             "ticks": ""
            },
            "colorscale": [
             [
              0,
              "#0d0887"
             ],
             [
              0.1111111111111111,
              "#46039f"
             ],
             [
              0.2222222222222222,
              "#7201a8"
             ],
             [
              0.3333333333333333,
              "#9c179e"
             ],
             [
              0.4444444444444444,
              "#bd3786"
             ],
             [
              0.5555555555555556,
              "#d8576b"
             ],
             [
              0.6666666666666666,
              "#ed7953"
             ],
             [
              0.7777777777777778,
              "#fb9f3a"
             ],
             [
              0.8888888888888888,
              "#fdca26"
             ],
             [
              1,
              "#f0f921"
             ]
            ],
            "type": "surface"
           }
          ],
          "table": [
           {
            "cells": {
             "fill": {
              "color": "#EBF0F8"
             },
             "line": {
              "color": "white"
             }
            },
            "header": {
             "fill": {
              "color": "#C8D4E3"
             },
             "line": {
              "color": "white"
             }
            },
            "type": "table"
           }
          ]
         },
         "layout": {
          "annotationdefaults": {
           "arrowcolor": "#2a3f5f",
           "arrowhead": 0,
           "arrowwidth": 1
          },
          "autotypenumbers": "strict",
          "coloraxis": {
           "colorbar": {
            "outlinewidth": 0,
            "ticks": ""
           }
          },
          "colorscale": {
           "diverging": [
            [
             0,
             "#8e0152"
            ],
            [
             0.1,
             "#c51b7d"
            ],
            [
             0.2,
             "#de77ae"
            ],
            [
             0.3,
             "#f1b6da"
            ],
            [
             0.4,
             "#fde0ef"
            ],
            [
             0.5,
             "#f7f7f7"
            ],
            [
             0.6,
             "#e6f5d0"
            ],
            [
             0.7,
             "#b8e186"
            ],
            [
             0.8,
             "#7fbc41"
            ],
            [
             0.9,
             "#4d9221"
            ],
            [
             1,
             "#276419"
            ]
           ],
           "sequential": [
            [
             0,
             "#0d0887"
            ],
            [
             0.1111111111111111,
             "#46039f"
            ],
            [
             0.2222222222222222,
             "#7201a8"
            ],
            [
             0.3333333333333333,
             "#9c179e"
            ],
            [
             0.4444444444444444,
             "#bd3786"
            ],
            [
             0.5555555555555556,
             "#d8576b"
            ],
            [
             0.6666666666666666,
             "#ed7953"
            ],
            [
             0.7777777777777778,
             "#fb9f3a"
            ],
            [
             0.8888888888888888,
             "#fdca26"
            ],
            [
             1,
             "#f0f921"
            ]
           ],
           "sequentialminus": [
            [
             0,
             "#0d0887"
            ],
            [
             0.1111111111111111,
             "#46039f"
            ],
            [
             0.2222222222222222,
             "#7201a8"
            ],
            [
             0.3333333333333333,
             "#9c179e"
            ],
            [
             0.4444444444444444,
             "#bd3786"
            ],
            [
             0.5555555555555556,
             "#d8576b"
            ],
            [
             0.6666666666666666,
             "#ed7953"
            ],
            [
             0.7777777777777778,
             "#fb9f3a"
            ],
            [
             0.8888888888888888,
             "#fdca26"
            ],
            [
             1,
             "#f0f921"
            ]
           ]
          },
          "colorway": [
           "#636efa",
           "#EF553B",
           "#00cc96",
           "#ab63fa",
           "#FFA15A",
           "#19d3f3",
           "#FF6692",
           "#B6E880",
           "#FF97FF",
           "#FECB52"
          ],
          "font": {
           "color": "#2a3f5f"
          },
          "geo": {
           "bgcolor": "white",
           "lakecolor": "white",
           "landcolor": "#E5ECF6",
           "showlakes": true,
           "showland": true,
           "subunitcolor": "white"
          },
          "hoverlabel": {
           "align": "left"
          },
          "hovermode": "closest",
          "mapbox": {
           "style": "light"
          },
          "paper_bgcolor": "white",
          "plot_bgcolor": "#E5ECF6",
          "polar": {
           "angularaxis": {
            "gridcolor": "white",
            "linecolor": "white",
            "ticks": ""
           },
           "bgcolor": "#E5ECF6",
           "radialaxis": {
            "gridcolor": "white",
            "linecolor": "white",
            "ticks": ""
           }
          },
          "scene": {
           "xaxis": {
            "backgroundcolor": "#E5ECF6",
            "gridcolor": "white",
            "gridwidth": 2,
            "linecolor": "white",
            "showbackground": true,
            "ticks": "",
            "zerolinecolor": "white"
           },
           "yaxis": {
            "backgroundcolor": "#E5ECF6",
            "gridcolor": "white",
            "gridwidth": 2,
            "linecolor": "white",
            "showbackground": true,
            "ticks": "",
            "zerolinecolor": "white"
           },
           "zaxis": {
            "backgroundcolor": "#E5ECF6",
            "gridcolor": "white",
            "gridwidth": 2,
            "linecolor": "white",
            "showbackground": true,
            "ticks": "",
            "zerolinecolor": "white"
           }
          },
          "shapedefaults": {
           "line": {
            "color": "#2a3f5f"
           }
          },
          "ternary": {
           "aaxis": {
            "gridcolor": "white",
            "linecolor": "white",
            "ticks": ""
           },
           "baxis": {
            "gridcolor": "white",
            "linecolor": "white",
            "ticks": ""
           },
           "bgcolor": "#E5ECF6",
           "caxis": {
            "gridcolor": "white",
            "linecolor": "white",
            "ticks": ""
           }
          },
          "title": {
           "x": 0.05
          },
          "xaxis": {
           "automargin": true,
           "gridcolor": "white",
           "linecolor": "white",
           "ticks": "",
           "title": {
            "standoff": 15
           },
           "zerolinecolor": "white",
           "zerolinewidth": 2
          },
          "yaxis": {
           "automargin": true,
           "gridcolor": "white",
           "linecolor": "white",
           "ticks": "",
           "title": {
            "standoff": 15
           },
           "zerolinecolor": "white",
           "zerolinewidth": 2
          }
         }
        },
        "xaxis": {
         "anchor": "y",
         "domain": [
          0,
          1
         ],
         "title": {
          "text": "MPG_City"
         }
        },
        "yaxis": {
         "anchor": "x",
         "domain": [
          0,
          1
         ],
         "title": {
          "text": "Wheelbase"
         }
        }
       }
      },
      "text/html": [
       "<div>                            <div id=\"c89c3774-436f-43ee-9b33-122db7468727\" class=\"plotly-graph-div\" style=\"height:525px; width:100%;\"></div>            <script type=\"text/javascript\">                require([\"plotly\"], function(Plotly) {                    window.PLOTLYENV=window.PLOTLYENV || {};                                    if (document.getElementById(\"c89c3774-436f-43ee-9b33-122db7468727\")) {                    Plotly.newPlot(                        \"c89c3774-436f-43ee-9b33-122db7468727\",                        [{\"hovertemplate\":\"MPG_City=%{x}<br>Wheelbase=%{y}<extra></extra>\",\"legendgroup\":\"\",\"marker\":{\"color\":\"#636efa\",\"symbol\":\"circle\"},\"mode\":\"markers\",\"name\":\"\",\"orientation\":\"v\",\"showlegend\":false,\"x\":[17,24,22,20,18,18,17,22,23,20,17,18,20,18,20,18,18,17,17,14,15,20,20,21,18,15,16,16,20,20,19,19,20,20,20,19,19,20,18,18,18,16,16,20,21,19,15,19,20,20,20,18,20,20,18,14,16,18,18,18,18,17,13,14,14,16,19,28,28,26,26,26,21,24,22,21,20,18,23,18,14,19,18,18,14,18,15,13,16,22,22,22,22,21,18,21,19,21,22,18,21,19,18,17,17,15,29,29,21,21,21,18,20,18,12,16,16,16,10,15,15,18,26,27,26,26,21,20,19,17,17,17,17,20,17,17,15,14,24,26,19,15,16,13,16,18,17,13,15,46,60,17,21,21,32,36,32,26,26,32,26,21,21,18,18,20,10,20,29,29,29,26,26,26,19,19,17,17,19,18,18,18,19,17,17,16,15,15,17,18,18,18,18,17,18,18,17,18,18,16,16,16,20,16,16,23,26,25,24,24,24,20,17,16,26,12,12,18,15,13,18,20,18,18,18,18,18,18,18,13,13,20,20,17,17,17,17,17,28,25,22,26,25,24,18,23,23,18,18,24,15,13,14,22,19,20,19,19,20,19,16,16,13,20,17,19,16,18,16,16,14,13,21,17,19,19,16,16,20,17,17,19,17,17,16,19,17,15,21,25,25,23,25,18,18,21,21,18,25,13,16,17,28,28,21,23,21,20,20,19,18,20,20,17,14,20,24,20,19,19,24,20,20,24,20,17,19,18,16,29,14,18,17,18,17,20,18,20,20,21,21,21,21,19,21,26,26,26,26,26,20,24,32,31,22,21,21,20,19,19,20,18,21,21,21,18,19,25,25,24,22,20,24,59,14,18,18,13,22,32,32,32,35,33,35,24,21,24,20,21,21,20,21,19,19,24,26,22,16,14,29,15,24,24,38,24,21,24,22,19,18,16,12,24,22,18,15,22,20,20,18,20,20,21,20,19,22,20],\"xaxis\":\"x\",\"y\":[106,101,105,108,115,115,100,104,105,104,104,104,109,109,105,105,109,109,121,104,109,95,96,96,109,104,110,111,107,107,107,107,107,107,107,114,107,114,114,118,123,108,108,98,98,107,113,112,109,112,109,109,112,114,114,116,116,113,115,115,112,106,130,130,116,113,98,98,98,104,104,104,111,106,106,111,111,111,106,111,111,112,105,105,130,111,119,144,116,112,103,103,108,108,113,113,113,103,106,113,106,119,119,95,116,119,105,105,113,108,108,113,113,119,99,112,131,121,137,119,114,103,103,103,103,103,103,109,109,115,115,115,121,101,101,107,126,133,111,103,109,129,116,130,111,111,144,133,123,103,95,106,103,101,103,103,103,105,105,103,101,108,105,118,118,95,123,103,96,96,96,103,103,103,106,106,108,108,100,112,112,112,108,110,113,112,112,129,106,107,107,115,115,115,119,119,119,102,102,102,102,106,104,93,107,106,95,95,101,101,101,106,110,115,95,113,100,101,110,112,107,107,105,105,110,110,115,103,105,119,114,115,115,115,115,118,118,124,97,97,103,104,104,105,112,89,89,106,106,112,126,112,111,107,107,107,107,107,107,107,107,114,114,107,107,112,112,122,122,101,101,101,95,95,107,112,112,114,109,115,115,109,115,115,121,109,109,110,103,102,102,108,102,107,108,101,101,103,102,123,106,104,100,100,110,100,110,111,111,124,124,104,104,116,140,111,107,107,120,108,104,107,111,104,111,112,112,121,110,102,112,93,93,93,93,95,95,105,105,106,106,105,105,106,107,103,103,103,103,103,107,107,93,98,99,104,104,104,104,104,99,100,104,99,104,110,98,98,98,102,102,106,98,106,118,110,107,112,98,102,102,102,93,93,93,107,107,107,107,107,107,107,107,119,119,102,97,103,128,128,102,112,99,99,99,99,99,99,106,106,106,118,118,99,106,106,113,101,107,107,107,110,110,105,105,110,101,109],\"yaxis\":\"y\",\"type\":\"scatter\"}],                        {\"template\":{\"data\":{\"histogram2dcontour\":[{\"type\":\"histogram2dcontour\",\"colorbar\":{\"outlinewidth\":0,\"ticks\":\"\"},\"colorscale\":[[0.0,\"#0d0887\"],[0.1111111111111111,\"#46039f\"],[0.2222222222222222,\"#7201a8\"],[0.3333333333333333,\"#9c179e\"],[0.4444444444444444,\"#bd3786\"],[0.5555555555555556,\"#d8576b\"],[0.6666666666666666,\"#ed7953\"],[0.7777777777777778,\"#fb9f3a\"],[0.8888888888888888,\"#fdca26\"],[1.0,\"#f0f921\"]]}],\"choropleth\":[{\"type\":\"choropleth\",\"colorbar\":{\"outlinewidth\":0,\"ticks\":\"\"}}],\"histogram2d\":[{\"type\":\"histogram2d\",\"colorbar\":{\"outlinewidth\":0,\"ticks\":\"\"},\"colorscale\":[[0.0,\"#0d0887\"],[0.1111111111111111,\"#46039f\"],[0.2222222222222222,\"#7201a8\"],[0.3333333333333333,\"#9c179e\"],[0.4444444444444444,\"#bd3786\"],[0.5555555555555556,\"#d8576b\"],[0.6666666666666666,\"#ed7953\"],[0.7777777777777778,\"#fb9f3a\"],[0.8888888888888888,\"#fdca26\"],[1.0,\"#f0f921\"]]}],\"heatmap\":[{\"type\":\"heatmap\",\"colorbar\":{\"outlinewidth\":0,\"ticks\":\"\"},\"colorscale\":[[0.0,\"#0d0887\"],[0.1111111111111111,\"#46039f\"],[0.2222222222222222,\"#7201a8\"],[0.3333333333333333,\"#9c179e\"],[0.4444444444444444,\"#bd3786\"],[0.5555555555555556,\"#d8576b\"],[0.6666666666666666,\"#ed7953\"],[0.7777777777777778,\"#fb9f3a\"],[0.8888888888888888,\"#fdca26\"],[1.0,\"#f0f921\"]]}],\"heatmapgl\":[{\"type\":\"heatmapgl\",\"colorbar\":{\"outlinewidth\":0,\"ticks\":\"\"},\"colorscale\":[[0.0,\"#0d0887\"],[0.1111111111111111,\"#46039f\"],[0.2222222222222222,\"#7201a8\"],[0.3333333333333333,\"#9c179e\"],[0.4444444444444444,\"#bd3786\"],[0.5555555555555556,\"#d8576b\"],[0.6666666666666666,\"#ed7953\"],[0.7777777777777778,\"#fb9f3a\"],[0.8888888888888888,\"#fdca26\"],[1.0,\"#f0f921\"]]}],\"contourcarpet\":[{\"type\":\"contourcarpet\",\"colorbar\":{\"outlinewidth\":0,\"ticks\":\"\"}}],\"contour\":[{\"type\":\"contour\",\"colorbar\":{\"outlinewidth\":0,\"ticks\":\"\"},\"colorscale\":[[0.0,\"#0d0887\"],[0.1111111111111111,\"#46039f\"],[0.2222222222222222,\"#7201a8\"],[0.3333333333333333,\"#9c179e\"],[0.4444444444444444,\"#bd3786\"],[0.5555555555555556,\"#d8576b\"],[0.6666666666666666,\"#ed7953\"],[0.7777777777777778,\"#fb9f3a\"],[0.8888888888888888,\"#fdca26\"],[1.0,\"#f0f921\"]]}],\"surface\":[{\"type\":\"surface\",\"colorbar\":{\"outlinewidth\":0,\"ticks\":\"\"},\"colorscale\":[[0.0,\"#0d0887\"],[0.1111111111111111,\"#46039f\"],[0.2222222222222222,\"#7201a8\"],[0.3333333333333333,\"#9c179e\"],[0.4444444444444444,\"#bd3786\"],[0.5555555555555556,\"#d8576b\"],[0.6666666666666666,\"#ed7953\"],[0.7777777777777778,\"#fb9f3a\"],[0.8888888888888888,\"#fdca26\"],[1.0,\"#f0f921\"]]}],\"mesh3d\":[{\"type\":\"mesh3d\",\"colorbar\":{\"outlinewidth\":0,\"ticks\":\"\"}}],\"scatter\":[{\"fillpattern\":{\"fillmode\":\"overlay\",\"size\":10,\"solidity\":0.2},\"type\":\"scatter\"}],\"parcoords\":[{\"type\":\"parcoords\",\"line\":{\"colorbar\":{\"outlinewidth\":0,\"ticks\":\"\"}}}],\"scatterpolargl\":[{\"type\":\"scatterpolargl\",\"marker\":{\"colorbar\":{\"outlinewidth\":0,\"ticks\":\"\"}}}],\"bar\":[{\"error_x\":{\"color\":\"#2a3f5f\"},\"error_y\":{\"color\":\"#2a3f5f\"},\"marker\":{\"line\":{\"color\":\"#E5ECF6\",\"width\":0.5},\"pattern\":{\"fillmode\":\"overlay\",\"size\":10,\"solidity\":0.2}},\"type\":\"bar\"}],\"scattergeo\":[{\"type\":\"scattergeo\",\"marker\":{\"colorbar\":{\"outlinewidth\":0,\"ticks\":\"\"}}}],\"scatterpolar\":[{\"type\":\"scatterpolar\",\"marker\":{\"colorbar\":{\"outlinewidth\":0,\"ticks\":\"\"}}}],\"histogram\":[{\"marker\":{\"pattern\":{\"fillmode\":\"overlay\",\"size\":10,\"solidity\":0.2}},\"type\":\"histogram\"}],\"scattergl\":[{\"type\":\"scattergl\",\"marker\":{\"colorbar\":{\"outlinewidth\":0,\"ticks\":\"\"}}}],\"scatter3d\":[{\"type\":\"scatter3d\",\"line\":{\"colorbar\":{\"outlinewidth\":0,\"ticks\":\"\"}},\"marker\":{\"colorbar\":{\"outlinewidth\":0,\"ticks\":\"\"}}}],\"scattermapbox\":[{\"type\":\"scattermapbox\",\"marker\":{\"colorbar\":{\"outlinewidth\":0,\"ticks\":\"\"}}}],\"scatterternary\":[{\"type\":\"scatterternary\",\"marker\":{\"colorbar\":{\"outlinewidth\":0,\"ticks\":\"\"}}}],\"scattercarpet\":[{\"type\":\"scattercarpet\",\"marker\":{\"colorbar\":{\"outlinewidth\":0,\"ticks\":\"\"}}}],\"carpet\":[{\"aaxis\":{\"endlinecolor\":\"#2a3f5f\",\"gridcolor\":\"white\",\"linecolor\":\"white\",\"minorgridcolor\":\"white\",\"startlinecolor\":\"#2a3f5f\"},\"baxis\":{\"endlinecolor\":\"#2a3f5f\",\"gridcolor\":\"white\",\"linecolor\":\"white\",\"minorgridcolor\":\"white\",\"startlinecolor\":\"#2a3f5f\"},\"type\":\"carpet\"}],\"table\":[{\"cells\":{\"fill\":{\"color\":\"#EBF0F8\"},\"line\":{\"color\":\"white\"}},\"header\":{\"fill\":{\"color\":\"#C8D4E3\"},\"line\":{\"color\":\"white\"}},\"type\":\"table\"}],\"barpolar\":[{\"marker\":{\"line\":{\"color\":\"#E5ECF6\",\"width\":0.5},\"pattern\":{\"fillmode\":\"overlay\",\"size\":10,\"solidity\":0.2}},\"type\":\"barpolar\"}],\"pie\":[{\"automargin\":true,\"type\":\"pie\"}]},\"layout\":{\"autotypenumbers\":\"strict\",\"colorway\":[\"#636efa\",\"#EF553B\",\"#00cc96\",\"#ab63fa\",\"#FFA15A\",\"#19d3f3\",\"#FF6692\",\"#B6E880\",\"#FF97FF\",\"#FECB52\"],\"font\":{\"color\":\"#2a3f5f\"},\"hovermode\":\"closest\",\"hoverlabel\":{\"align\":\"left\"},\"paper_bgcolor\":\"white\",\"plot_bgcolor\":\"#E5ECF6\",\"polar\":{\"bgcolor\":\"#E5ECF6\",\"angularaxis\":{\"gridcolor\":\"white\",\"linecolor\":\"white\",\"ticks\":\"\"},\"radialaxis\":{\"gridcolor\":\"white\",\"linecolor\":\"white\",\"ticks\":\"\"}},\"ternary\":{\"bgcolor\":\"#E5ECF6\",\"aaxis\":{\"gridcolor\":\"white\",\"linecolor\":\"white\",\"ticks\":\"\"},\"baxis\":{\"gridcolor\":\"white\",\"linecolor\":\"white\",\"ticks\":\"\"},\"caxis\":{\"gridcolor\":\"white\",\"linecolor\":\"white\",\"ticks\":\"\"}},\"coloraxis\":{\"colorbar\":{\"outlinewidth\":0,\"ticks\":\"\"}},\"colorscale\":{\"sequential\":[[0.0,\"#0d0887\"],[0.1111111111111111,\"#46039f\"],[0.2222222222222222,\"#7201a8\"],[0.3333333333333333,\"#9c179e\"],[0.4444444444444444,\"#bd3786\"],[0.5555555555555556,\"#d8576b\"],[0.6666666666666666,\"#ed7953\"],[0.7777777777777778,\"#fb9f3a\"],[0.8888888888888888,\"#fdca26\"],[1.0,\"#f0f921\"]],\"sequentialminus\":[[0.0,\"#0d0887\"],[0.1111111111111111,\"#46039f\"],[0.2222222222222222,\"#7201a8\"],[0.3333333333333333,\"#9c179e\"],[0.4444444444444444,\"#bd3786\"],[0.5555555555555556,\"#d8576b\"],[0.6666666666666666,\"#ed7953\"],[0.7777777777777778,\"#fb9f3a\"],[0.8888888888888888,\"#fdca26\"],[1.0,\"#f0f921\"]],\"diverging\":[[0,\"#8e0152\"],[0.1,\"#c51b7d\"],[0.2,\"#de77ae\"],[0.3,\"#f1b6da\"],[0.4,\"#fde0ef\"],[0.5,\"#f7f7f7\"],[0.6,\"#e6f5d0\"],[0.7,\"#b8e186\"],[0.8,\"#7fbc41\"],[0.9,\"#4d9221\"],[1,\"#276419\"]]},\"xaxis\":{\"gridcolor\":\"white\",\"linecolor\":\"white\",\"ticks\":\"\",\"title\":{\"standoff\":15},\"zerolinecolor\":\"white\",\"automargin\":true,\"zerolinewidth\":2},\"yaxis\":{\"gridcolor\":\"white\",\"linecolor\":\"white\",\"ticks\":\"\",\"title\":{\"standoff\":15},\"zerolinecolor\":\"white\",\"automargin\":true,\"zerolinewidth\":2},\"scene\":{\"xaxis\":{\"backgroundcolor\":\"#E5ECF6\",\"gridcolor\":\"white\",\"linecolor\":\"white\",\"showbackground\":true,\"ticks\":\"\",\"zerolinecolor\":\"white\",\"gridwidth\":2},\"yaxis\":{\"backgroundcolor\":\"#E5ECF6\",\"gridcolor\":\"white\",\"linecolor\":\"white\",\"showbackground\":true,\"ticks\":\"\",\"zerolinecolor\":\"white\",\"gridwidth\":2},\"zaxis\":{\"backgroundcolor\":\"#E5ECF6\",\"gridcolor\":\"white\",\"linecolor\":\"white\",\"showbackground\":true,\"ticks\":\"\",\"zerolinecolor\":\"white\",\"gridwidth\":2}},\"shapedefaults\":{\"line\":{\"color\":\"#2a3f5f\"}},\"annotationdefaults\":{\"arrowcolor\":\"#2a3f5f\",\"arrowhead\":0,\"arrowwidth\":1},\"geo\":{\"bgcolor\":\"white\",\"landcolor\":\"#E5ECF6\",\"subunitcolor\":\"white\",\"showland\":true,\"showlakes\":true,\"lakecolor\":\"white\"},\"title\":{\"x\":0.05},\"mapbox\":{\"style\":\"light\"}}},\"xaxis\":{\"anchor\":\"y\",\"domain\":[0.0,1.0],\"title\":{\"text\":\"MPG_City\"}},\"yaxis\":{\"anchor\":\"x\",\"domain\":[0.0,1.0],\"title\":{\"text\":\"Wheelbase\"}},\"legend\":{\"tracegroupgap\":0},\"margin\":{\"t\":60}},                        {\"responsive\": true}                    ).then(function(){\n",
       "                            \n",
       "var gd = document.getElementById('c89c3774-436f-43ee-9b33-122db7468727');\n",
       "var x = new MutationObserver(function (mutations, observer) {{\n",
       "        var display = window.getComputedStyle(gd).display;\n",
       "        if (!display || display === 'none') {{\n",
       "            console.log([gd, 'removed!']);\n",
       "            Plotly.purge(gd);\n",
       "            observer.disconnect();\n",
       "        }}\n",
       "}});\n",
       "\n",
       "// Listen for the removal of the full notebook cells\n",
       "var notebookContainer = gd.closest('#notebook-container');\n",
       "if (notebookContainer) {{\n",
       "    x.observe(notebookContainer, {childList: true});\n",
       "}}\n",
       "\n",
       "// Listen for the clearing of the current output cell\n",
       "var outputEl = gd.closest('.output');\n",
       "if (outputEl) {{\n",
       "    x.observe(outputEl, {childList: true});\n",
       "}}\n",
       "\n",
       "                        })                };                });            </script>        </div>"
      ]
     },
     "metadata": {},
     "output_type": "display_data"
    }
   ],
   "source": [
    "px.scatter(df,x=\"MPG_City\", y=\"Wheelbase\")"
   ]
  },
  {
   "cell_type": "code",
   "execution_count": 73,
   "id": "cbbbd3b1",
   "metadata": {},
   "outputs": [
    {
     "data": {
      "application/vnd.plotly.v1+json": {
       "config": {
        "plotlyServerURL": "https://plot.ly"
       },
       "data": [
        {
         "hovertemplate": "MPG_City=%{x}<br>Length=%{y}<extra></extra>",
         "legendgroup": "",
         "marker": {
          "color": "#636efa",
          "symbol": "circle"
         },
         "mode": "markers",
         "name": "",
         "orientation": "v",
         "showlegend": false,
         "type": "scatter",
         "x": [
          17,
          24,
          22,
          20,
          18,
          18,
          17,
          22,
          23,
          20,
          17,
          18,
          20,
          18,
          20,
          18,
          18,
          17,
          17,
          14,
          15,
          20,
          20,
          21,
          18,
          15,
          16,
          16,
          20,
          20,
          19,
          19,
          20,
          20,
          20,
          19,
          19,
          20,
          18,
          18,
          18,
          16,
          16,
          20,
          21,
          19,
          15,
          19,
          20,
          20,
          20,
          18,
          20,
          20,
          18,
          14,
          16,
          18,
          18,
          18,
          18,
          17,
          13,
          14,
          14,
          16,
          19,
          28,
          28,
          26,
          26,
          26,
          21,
          24,
          22,
          21,
          20,
          18,
          23,
          18,
          14,
          19,
          18,
          18,
          14,
          18,
          15,
          13,
          16,
          22,
          22,
          22,
          22,
          21,
          18,
          21,
          19,
          21,
          22,
          18,
          21,
          19,
          18,
          17,
          17,
          15,
          29,
          29,
          21,
          21,
          21,
          18,
          20,
          18,
          12,
          16,
          16,
          16,
          10,
          15,
          15,
          18,
          26,
          27,
          26,
          26,
          21,
          20,
          19,
          17,
          17,
          17,
          17,
          20,
          17,
          17,
          15,
          14,
          24,
          26,
          19,
          15,
          16,
          13,
          16,
          18,
          17,
          13,
          15,
          46,
          60,
          17,
          21,
          21,
          32,
          36,
          32,
          26,
          26,
          32,
          26,
          21,
          21,
          18,
          18,
          20,
          10,
          20,
          29,
          29,
          29,
          26,
          26,
          26,
          19,
          19,
          17,
          17,
          19,
          18,
          18,
          18,
          19,
          17,
          17,
          16,
          15,
          15,
          17,
          18,
          18,
          18,
          18,
          17,
          18,
          18,
          17,
          18,
          18,
          16,
          16,
          16,
          20,
          16,
          16,
          23,
          26,
          25,
          24,
          24,
          24,
          20,
          17,
          16,
          26,
          12,
          12,
          18,
          15,
          13,
          18,
          20,
          18,
          18,
          18,
          18,
          18,
          18,
          18,
          13,
          13,
          20,
          20,
          17,
          17,
          17,
          17,
          17,
          28,
          25,
          22,
          26,
          25,
          24,
          18,
          23,
          23,
          18,
          18,
          24,
          15,
          13,
          14,
          22,
          19,
          20,
          19,
          19,
          20,
          19,
          16,
          16,
          13,
          20,
          17,
          19,
          16,
          18,
          16,
          16,
          14,
          13,
          21,
          17,
          19,
          19,
          16,
          16,
          20,
          17,
          17,
          19,
          17,
          17,
          16,
          19,
          17,
          15,
          21,
          25,
          25,
          23,
          25,
          18,
          18,
          21,
          21,
          18,
          25,
          13,
          16,
          17,
          28,
          28,
          21,
          23,
          21,
          20,
          20,
          19,
          18,
          20,
          20,
          17,
          14,
          20,
          24,
          20,
          19,
          19,
          24,
          20,
          20,
          24,
          20,
          17,
          19,
          18,
          16,
          29,
          14,
          18,
          17,
          18,
          17,
          20,
          18,
          20,
          20,
          21,
          21,
          21,
          21,
          19,
          21,
          26,
          26,
          26,
          26,
          26,
          20,
          24,
          32,
          31,
          22,
          21,
          21,
          20,
          19,
          19,
          20,
          18,
          21,
          21,
          21,
          18,
          19,
          25,
          25,
          24,
          22,
          20,
          24,
          59,
          14,
          18,
          18,
          13,
          22,
          32,
          32,
          32,
          35,
          33,
          35,
          24,
          21,
          24,
          20,
          21,
          21,
          20,
          21,
          19,
          19,
          24,
          26,
          22,
          16,
          14,
          29,
          15,
          24,
          24,
          38,
          24,
          21,
          24,
          22,
          19,
          18,
          16,
          12,
          24,
          22,
          18,
          15,
          22,
          20,
          20,
          18,
          20,
          20,
          21,
          20,
          19,
          22,
          20
         ],
         "xaxis": "x",
         "y": [
          189,
          172,
          183,
          186,
          197,
          197,
          174,
          179,
          180,
          179,
          179,
          179,
          192,
          192,
          180,
          180,
          192,
          193,
          204,
          179,
          191,
          159,
          159,
          159,
          192,
          179,
          180,
          184,
          176,
          177,
          177,
          176,
          176,
          176,
          176,
          191,
          177,
          191,
          191,
          198,
          204,
          177,
          177,
          161,
          161,
          176,
          193,
          187,
          195,
          200,
          196,
          196,
          200,
          207,
          207,
          199,
          195,
          190,
          207,
          207,
          201,
          178,
          221,
          219,
          197,
          192,
          163,
          167,
          153,
          183,
          183,
          183,
          200,
          188,
          188,
          198,
          200,
          200,
          188,
          198,
          190,
          187,
          180,
          180,
          222,
          192,
          206,
          238,
          191,
          188,
          169,
          169,
          191,
          191,
          198,
          208,
          208,
          169,
          194,
          198,
          194,
          201,
          201,
          160,
          199,
          201,
          174,
          174,
          204,
          191,
          191,
          204,
          189,
          201,
          176,
          193,
          219,
          208,
          227,
          206,
          190,
          173,
          168,
          168,
          168,
          168,
          168,
          198,
          198,
          212,
          212,
          212,
          201,
          183,
          183,
          186,
          211,
          218,
          188,
          178,
          198,
          208,
          199,
          219,
          190,
          192,
          230,
          222,
          208,
          175,
          155,
          188,
          179,
          167,
          175,
          175,
          175,
          188,
          188,
          175,
          166,
          190,
          188,
          201,
          201,
          162,
          190,
          177,
          167,
          167,
          167,
          178,
          178,
          178,
          187,
          187,
          192,
          192,
          173,
          187,
          182,
          187,
          194,
          197,
          200,
          189,
          189,
          208,
          178,
          184,
          184,
          192,
          192,
          192,
          200,
          200,
          200,
          187,
          187,
          187,
          187,
          181,
          174,
          150,
          180,
          186,
          167,
          167,
          178,
          178,
          178,
          186,
          196,
          194,
          167,
          195,
          185,
          175,
          188,
          193,
          186,
          191,
          177,
          177,
          189,
          189,
          197,
          178,
          177,
          206,
          193,
          194,
          194,
          194,
          194,
          215,
          215,
          221,
          143,
          144,
          173,
          178,
          179,
          187,
          188,
          156,
          156,
          174,
          174,
          188,
          203,
          186,
          183,
          178,
          178,
          178,
          178,
          178,
          178,
          178,
          178,
          196,
          196,
          183,
          183,
          190,
          190,
          203,
          203,
          179,
          179,
          179,
          158,
          158,
          179,
          190,
          190,
          190,
          200,
          212,
          212,
          200,
          212,
          212,
          202,
          198,
          190,
          190,
          179,
          181,
          181,
          191,
          181,
          194,
          191,
          177,
          177,
          179,
          181,
          207,
          183,
          178,
          178,
          178,
          192,
          178,
          192,
          194,
          194,
          204,
          204,
          169,
          169,
          191,
          224,
          188,
          187,
          187,
          201,
          182,
          182,
          186,
          198,
          182,
          198,
          203,
          187,
          201,
          190,
          172,
          188,
          175,
          175,
          175,
          175,
          170,
          170,
          183,
          183,
          190,
          190,
          182,
          182,
          190,
          181,
          185,
          185,
          185,
          185,
          185,
          190,
          190,
          154,
          155,
          174,
          184,
          184,
          184,
          184,
          184,
          174,
          174,
          193,
          175,
          187,
          187,
          163,
          171,
          171,
          177,
          177,
          188,
          167,
          175,
          204,
          189,
          185,
          193,
          167,
          178,
          178,
          178,
          163,
          163,
          163,
          189,
          189,
          193,
          193,
          192,
          189,
          193,
          192,
          200,
          200,
          171,
          153,
          191,
          218,
          218,
          171,
          187,
          165,
          168,
          172,
          161,
          172,
          161,
          185,
          185,
          185,
          204,
          204,
          174,
          184,
          184,
          189,
          178,
          180,
          180,
          181,
          190,
          190,
          186,
          186,
          190,
          180,
          186
         ],
         "yaxis": "y"
        }
       ],
       "layout": {
        "legend": {
         "tracegroupgap": 0
        },
        "margin": {
         "t": 60
        },
        "template": {
         "data": {
          "bar": [
           {
            "error_x": {
             "color": "#2a3f5f"
            },
            "error_y": {
             "color": "#2a3f5f"
            },
            "marker": {
             "line": {
              "color": "#E5ECF6",
              "width": 0.5
             },
             "pattern": {
              "fillmode": "overlay",
              "size": 10,
              "solidity": 0.2
             }
            },
            "type": "bar"
           }
          ],
          "barpolar": [
           {
            "marker": {
             "line": {
              "color": "#E5ECF6",
              "width": 0.5
             },
             "pattern": {
              "fillmode": "overlay",
              "size": 10,
              "solidity": 0.2
             }
            },
            "type": "barpolar"
           }
          ],
          "carpet": [
           {
            "aaxis": {
             "endlinecolor": "#2a3f5f",
             "gridcolor": "white",
             "linecolor": "white",
             "minorgridcolor": "white",
             "startlinecolor": "#2a3f5f"
            },
            "baxis": {
             "endlinecolor": "#2a3f5f",
             "gridcolor": "white",
             "linecolor": "white",
             "minorgridcolor": "white",
             "startlinecolor": "#2a3f5f"
            },
            "type": "carpet"
           }
          ],
          "choropleth": [
           {
            "colorbar": {
             "outlinewidth": 0,
             "ticks": ""
            },
            "type": "choropleth"
           }
          ],
          "contour": [
           {
            "colorbar": {
             "outlinewidth": 0,
             "ticks": ""
            },
            "colorscale": [
             [
              0,
              "#0d0887"
             ],
             [
              0.1111111111111111,
              "#46039f"
             ],
             [
              0.2222222222222222,
              "#7201a8"
             ],
             [
              0.3333333333333333,
              "#9c179e"
             ],
             [
              0.4444444444444444,
              "#bd3786"
             ],
             [
              0.5555555555555556,
              "#d8576b"
             ],
             [
              0.6666666666666666,
              "#ed7953"
             ],
             [
              0.7777777777777778,
              "#fb9f3a"
             ],
             [
              0.8888888888888888,
              "#fdca26"
             ],
             [
              1,
              "#f0f921"
             ]
            ],
            "type": "contour"
           }
          ],
          "contourcarpet": [
           {
            "colorbar": {
             "outlinewidth": 0,
             "ticks": ""
            },
            "type": "contourcarpet"
           }
          ],
          "heatmap": [
           {
            "colorbar": {
             "outlinewidth": 0,
             "ticks": ""
            },
            "colorscale": [
             [
              0,
              "#0d0887"
             ],
             [
              0.1111111111111111,
              "#46039f"
             ],
             [
              0.2222222222222222,
              "#7201a8"
             ],
             [
              0.3333333333333333,
              "#9c179e"
             ],
             [
              0.4444444444444444,
              "#bd3786"
             ],
             [
              0.5555555555555556,
              "#d8576b"
             ],
             [
              0.6666666666666666,
              "#ed7953"
             ],
             [
              0.7777777777777778,
              "#fb9f3a"
             ],
             [
              0.8888888888888888,
              "#fdca26"
             ],
             [
              1,
              "#f0f921"
             ]
            ],
            "type": "heatmap"
           }
          ],
          "heatmapgl": [
           {
            "colorbar": {
             "outlinewidth": 0,
             "ticks": ""
            },
            "colorscale": [
             [
              0,
              "#0d0887"
             ],
             [
              0.1111111111111111,
              "#46039f"
             ],
             [
              0.2222222222222222,
              "#7201a8"
             ],
             [
              0.3333333333333333,
              "#9c179e"
             ],
             [
              0.4444444444444444,
              "#bd3786"
             ],
             [
              0.5555555555555556,
              "#d8576b"
             ],
             [
              0.6666666666666666,
              "#ed7953"
             ],
             [
              0.7777777777777778,
              "#fb9f3a"
             ],
             [
              0.8888888888888888,
              "#fdca26"
             ],
             [
              1,
              "#f0f921"
             ]
            ],
            "type": "heatmapgl"
           }
          ],
          "histogram": [
           {
            "marker": {
             "pattern": {
              "fillmode": "overlay",
              "size": 10,
              "solidity": 0.2
             }
            },
            "type": "histogram"
           }
          ],
          "histogram2d": [
           {
            "colorbar": {
             "outlinewidth": 0,
             "ticks": ""
            },
            "colorscale": [
             [
              0,
              "#0d0887"
             ],
             [
              0.1111111111111111,
              "#46039f"
             ],
             [
              0.2222222222222222,
              "#7201a8"
             ],
             [
              0.3333333333333333,
              "#9c179e"
             ],
             [
              0.4444444444444444,
              "#bd3786"
             ],
             [
              0.5555555555555556,
              "#d8576b"
             ],
             [
              0.6666666666666666,
              "#ed7953"
             ],
             [
              0.7777777777777778,
              "#fb9f3a"
             ],
             [
              0.8888888888888888,
              "#fdca26"
             ],
             [
              1,
              "#f0f921"
             ]
            ],
            "type": "histogram2d"
           }
          ],
          "histogram2dcontour": [
           {
            "colorbar": {
             "outlinewidth": 0,
             "ticks": ""
            },
            "colorscale": [
             [
              0,
              "#0d0887"
             ],
             [
              0.1111111111111111,
              "#46039f"
             ],
             [
              0.2222222222222222,
              "#7201a8"
             ],
             [
              0.3333333333333333,
              "#9c179e"
             ],
             [
              0.4444444444444444,
              "#bd3786"
             ],
             [
              0.5555555555555556,
              "#d8576b"
             ],
             [
              0.6666666666666666,
              "#ed7953"
             ],
             [
              0.7777777777777778,
              "#fb9f3a"
             ],
             [
              0.8888888888888888,
              "#fdca26"
             ],
             [
              1,
              "#f0f921"
             ]
            ],
            "type": "histogram2dcontour"
           }
          ],
          "mesh3d": [
           {
            "colorbar": {
             "outlinewidth": 0,
             "ticks": ""
            },
            "type": "mesh3d"
           }
          ],
          "parcoords": [
           {
            "line": {
             "colorbar": {
              "outlinewidth": 0,
              "ticks": ""
             }
            },
            "type": "parcoords"
           }
          ],
          "pie": [
           {
            "automargin": true,
            "type": "pie"
           }
          ],
          "scatter": [
           {
            "fillpattern": {
             "fillmode": "overlay",
             "size": 10,
             "solidity": 0.2
            },
            "type": "scatter"
           }
          ],
          "scatter3d": [
           {
            "line": {
             "colorbar": {
              "outlinewidth": 0,
              "ticks": ""
             }
            },
            "marker": {
             "colorbar": {
              "outlinewidth": 0,
              "ticks": ""
             }
            },
            "type": "scatter3d"
           }
          ],
          "scattercarpet": [
           {
            "marker": {
             "colorbar": {
              "outlinewidth": 0,
              "ticks": ""
             }
            },
            "type": "scattercarpet"
           }
          ],
          "scattergeo": [
           {
            "marker": {
             "colorbar": {
              "outlinewidth": 0,
              "ticks": ""
             }
            },
            "type": "scattergeo"
           }
          ],
          "scattergl": [
           {
            "marker": {
             "colorbar": {
              "outlinewidth": 0,
              "ticks": ""
             }
            },
            "type": "scattergl"
           }
          ],
          "scattermapbox": [
           {
            "marker": {
             "colorbar": {
              "outlinewidth": 0,
              "ticks": ""
             }
            },
            "type": "scattermapbox"
           }
          ],
          "scatterpolar": [
           {
            "marker": {
             "colorbar": {
              "outlinewidth": 0,
              "ticks": ""
             }
            },
            "type": "scatterpolar"
           }
          ],
          "scatterpolargl": [
           {
            "marker": {
             "colorbar": {
              "outlinewidth": 0,
              "ticks": ""
             }
            },
            "type": "scatterpolargl"
           }
          ],
          "scatterternary": [
           {
            "marker": {
             "colorbar": {
              "outlinewidth": 0,
              "ticks": ""
             }
            },
            "type": "scatterternary"
           }
          ],
          "surface": [
           {
            "colorbar": {
             "outlinewidth": 0,
             "ticks": ""
            },
            "colorscale": [
             [
              0,
              "#0d0887"
             ],
             [
              0.1111111111111111,
              "#46039f"
             ],
             [
              0.2222222222222222,
              "#7201a8"
             ],
             [
              0.3333333333333333,
              "#9c179e"
             ],
             [
              0.4444444444444444,
              "#bd3786"
             ],
             [
              0.5555555555555556,
              "#d8576b"
             ],
             [
              0.6666666666666666,
              "#ed7953"
             ],
             [
              0.7777777777777778,
              "#fb9f3a"
             ],
             [
              0.8888888888888888,
              "#fdca26"
             ],
             [
              1,
              "#f0f921"
             ]
            ],
            "type": "surface"
           }
          ],
          "table": [
           {
            "cells": {
             "fill": {
              "color": "#EBF0F8"
             },
             "line": {
              "color": "white"
             }
            },
            "header": {
             "fill": {
              "color": "#C8D4E3"
             },
             "line": {
              "color": "white"
             }
            },
            "type": "table"
           }
          ]
         },
         "layout": {
          "annotationdefaults": {
           "arrowcolor": "#2a3f5f",
           "arrowhead": 0,
           "arrowwidth": 1
          },
          "autotypenumbers": "strict",
          "coloraxis": {
           "colorbar": {
            "outlinewidth": 0,
            "ticks": ""
           }
          },
          "colorscale": {
           "diverging": [
            [
             0,
             "#8e0152"
            ],
            [
             0.1,
             "#c51b7d"
            ],
            [
             0.2,
             "#de77ae"
            ],
            [
             0.3,
             "#f1b6da"
            ],
            [
             0.4,
             "#fde0ef"
            ],
            [
             0.5,
             "#f7f7f7"
            ],
            [
             0.6,
             "#e6f5d0"
            ],
            [
             0.7,
             "#b8e186"
            ],
            [
             0.8,
             "#7fbc41"
            ],
            [
             0.9,
             "#4d9221"
            ],
            [
             1,
             "#276419"
            ]
           ],
           "sequential": [
            [
             0,
             "#0d0887"
            ],
            [
             0.1111111111111111,
             "#46039f"
            ],
            [
             0.2222222222222222,
             "#7201a8"
            ],
            [
             0.3333333333333333,
             "#9c179e"
            ],
            [
             0.4444444444444444,
             "#bd3786"
            ],
            [
             0.5555555555555556,
             "#d8576b"
            ],
            [
             0.6666666666666666,
             "#ed7953"
            ],
            [
             0.7777777777777778,
             "#fb9f3a"
            ],
            [
             0.8888888888888888,
             "#fdca26"
            ],
            [
             1,
             "#f0f921"
            ]
           ],
           "sequentialminus": [
            [
             0,
             "#0d0887"
            ],
            [
             0.1111111111111111,
             "#46039f"
            ],
            [
             0.2222222222222222,
             "#7201a8"
            ],
            [
             0.3333333333333333,
             "#9c179e"
            ],
            [
             0.4444444444444444,
             "#bd3786"
            ],
            [
             0.5555555555555556,
             "#d8576b"
            ],
            [
             0.6666666666666666,
             "#ed7953"
            ],
            [
             0.7777777777777778,
             "#fb9f3a"
            ],
            [
             0.8888888888888888,
             "#fdca26"
            ],
            [
             1,
             "#f0f921"
            ]
           ]
          },
          "colorway": [
           "#636efa",
           "#EF553B",
           "#00cc96",
           "#ab63fa",
           "#FFA15A",
           "#19d3f3",
           "#FF6692",
           "#B6E880",
           "#FF97FF",
           "#FECB52"
          ],
          "font": {
           "color": "#2a3f5f"
          },
          "geo": {
           "bgcolor": "white",
           "lakecolor": "white",
           "landcolor": "#E5ECF6",
           "showlakes": true,
           "showland": true,
           "subunitcolor": "white"
          },
          "hoverlabel": {
           "align": "left"
          },
          "hovermode": "closest",
          "mapbox": {
           "style": "light"
          },
          "paper_bgcolor": "white",
          "plot_bgcolor": "#E5ECF6",
          "polar": {
           "angularaxis": {
            "gridcolor": "white",
            "linecolor": "white",
            "ticks": ""
           },
           "bgcolor": "#E5ECF6",
           "radialaxis": {
            "gridcolor": "white",
            "linecolor": "white",
            "ticks": ""
           }
          },
          "scene": {
           "xaxis": {
            "backgroundcolor": "#E5ECF6",
            "gridcolor": "white",
            "gridwidth": 2,
            "linecolor": "white",
            "showbackground": true,
            "ticks": "",
            "zerolinecolor": "white"
           },
           "yaxis": {
            "backgroundcolor": "#E5ECF6",
            "gridcolor": "white",
            "gridwidth": 2,
            "linecolor": "white",
            "showbackground": true,
            "ticks": "",
            "zerolinecolor": "white"
           },
           "zaxis": {
            "backgroundcolor": "#E5ECF6",
            "gridcolor": "white",
            "gridwidth": 2,
            "linecolor": "white",
            "showbackground": true,
            "ticks": "",
            "zerolinecolor": "white"
           }
          },
          "shapedefaults": {
           "line": {
            "color": "#2a3f5f"
           }
          },
          "ternary": {
           "aaxis": {
            "gridcolor": "white",
            "linecolor": "white",
            "ticks": ""
           },
           "baxis": {
            "gridcolor": "white",
            "linecolor": "white",
            "ticks": ""
           },
           "bgcolor": "#E5ECF6",
           "caxis": {
            "gridcolor": "white",
            "linecolor": "white",
            "ticks": ""
           }
          },
          "title": {
           "x": 0.05
          },
          "xaxis": {
           "automargin": true,
           "gridcolor": "white",
           "linecolor": "white",
           "ticks": "",
           "title": {
            "standoff": 15
           },
           "zerolinecolor": "white",
           "zerolinewidth": 2
          },
          "yaxis": {
           "automargin": true,
           "gridcolor": "white",
           "linecolor": "white",
           "ticks": "",
           "title": {
            "standoff": 15
           },
           "zerolinecolor": "white",
           "zerolinewidth": 2
          }
         }
        },
        "xaxis": {
         "anchor": "y",
         "domain": [
          0,
          1
         ],
         "title": {
          "text": "MPG_City"
         }
        },
        "yaxis": {
         "anchor": "x",
         "domain": [
          0,
          1
         ],
         "title": {
          "text": "Length"
         }
        }
       }
      },
      "text/html": [
       "<div>                            <div id=\"18d9e57b-7244-4fa3-bf9a-65fa3e36e777\" class=\"plotly-graph-div\" style=\"height:525px; width:100%;\"></div>            <script type=\"text/javascript\">                require([\"plotly\"], function(Plotly) {                    window.PLOTLYENV=window.PLOTLYENV || {};                                    if (document.getElementById(\"18d9e57b-7244-4fa3-bf9a-65fa3e36e777\")) {                    Plotly.newPlot(                        \"18d9e57b-7244-4fa3-bf9a-65fa3e36e777\",                        [{\"hovertemplate\":\"MPG_City=%{x}<br>Length=%{y}<extra></extra>\",\"legendgroup\":\"\",\"marker\":{\"color\":\"#636efa\",\"symbol\":\"circle\"},\"mode\":\"markers\",\"name\":\"\",\"orientation\":\"v\",\"showlegend\":false,\"x\":[17,24,22,20,18,18,17,22,23,20,17,18,20,18,20,18,18,17,17,14,15,20,20,21,18,15,16,16,20,20,19,19,20,20,20,19,19,20,18,18,18,16,16,20,21,19,15,19,20,20,20,18,20,20,18,14,16,18,18,18,18,17,13,14,14,16,19,28,28,26,26,26,21,24,22,21,20,18,23,18,14,19,18,18,14,18,15,13,16,22,22,22,22,21,18,21,19,21,22,18,21,19,18,17,17,15,29,29,21,21,21,18,20,18,12,16,16,16,10,15,15,18,26,27,26,26,21,20,19,17,17,17,17,20,17,17,15,14,24,26,19,15,16,13,16,18,17,13,15,46,60,17,21,21,32,36,32,26,26,32,26,21,21,18,18,20,10,20,29,29,29,26,26,26,19,19,17,17,19,18,18,18,19,17,17,16,15,15,17,18,18,18,18,17,18,18,17,18,18,16,16,16,20,16,16,23,26,25,24,24,24,20,17,16,26,12,12,18,15,13,18,20,18,18,18,18,18,18,18,13,13,20,20,17,17,17,17,17,28,25,22,26,25,24,18,23,23,18,18,24,15,13,14,22,19,20,19,19,20,19,16,16,13,20,17,19,16,18,16,16,14,13,21,17,19,19,16,16,20,17,17,19,17,17,16,19,17,15,21,25,25,23,25,18,18,21,21,18,25,13,16,17,28,28,21,23,21,20,20,19,18,20,20,17,14,20,24,20,19,19,24,20,20,24,20,17,19,18,16,29,14,18,17,18,17,20,18,20,20,21,21,21,21,19,21,26,26,26,26,26,20,24,32,31,22,21,21,20,19,19,20,18,21,21,21,18,19,25,25,24,22,20,24,59,14,18,18,13,22,32,32,32,35,33,35,24,21,24,20,21,21,20,21,19,19,24,26,22,16,14,29,15,24,24,38,24,21,24,22,19,18,16,12,24,22,18,15,22,20,20,18,20,20,21,20,19,22,20],\"xaxis\":\"x\",\"y\":[189,172,183,186,197,197,174,179,180,179,179,179,192,192,180,180,192,193,204,179,191,159,159,159,192,179,180,184,176,177,177,176,176,176,176,191,177,191,191,198,204,177,177,161,161,176,193,187,195,200,196,196,200,207,207,199,195,190,207,207,201,178,221,219,197,192,163,167,153,183,183,183,200,188,188,198,200,200,188,198,190,187,180,180,222,192,206,238,191,188,169,169,191,191,198,208,208,169,194,198,194,201,201,160,199,201,174,174,204,191,191,204,189,201,176,193,219,208,227,206,190,173,168,168,168,168,168,198,198,212,212,212,201,183,183,186,211,218,188,178,198,208,199,219,190,192,230,222,208,175,155,188,179,167,175,175,175,188,188,175,166,190,188,201,201,162,190,177,167,167,167,178,178,178,187,187,192,192,173,187,182,187,194,197,200,189,189,208,178,184,184,192,192,192,200,200,200,187,187,187,187,181,174,150,180,186,167,167,178,178,178,186,196,194,167,195,185,175,188,193,186,191,177,177,189,189,197,178,177,206,193,194,194,194,194,215,215,221,143,144,173,178,179,187,188,156,156,174,174,188,203,186,183,178,178,178,178,178,178,178,178,196,196,183,183,190,190,203,203,179,179,179,158,158,179,190,190,190,200,212,212,200,212,212,202,198,190,190,179,181,181,191,181,194,191,177,177,179,181,207,183,178,178,178,192,178,192,194,194,204,204,169,169,191,224,188,187,187,201,182,182,186,198,182,198,203,187,201,190,172,188,175,175,175,175,170,170,183,183,190,190,182,182,190,181,185,185,185,185,185,190,190,154,155,174,184,184,184,184,184,174,174,193,175,187,187,163,171,171,177,177,188,167,175,204,189,185,193,167,178,178,178,163,163,163,189,189,193,193,192,189,193,192,200,200,171,153,191,218,218,171,187,165,168,172,161,172,161,185,185,185,204,204,174,184,184,189,178,180,180,181,190,190,186,186,190,180,186],\"yaxis\":\"y\",\"type\":\"scatter\"}],                        {\"template\":{\"data\":{\"histogram2dcontour\":[{\"type\":\"histogram2dcontour\",\"colorbar\":{\"outlinewidth\":0,\"ticks\":\"\"},\"colorscale\":[[0.0,\"#0d0887\"],[0.1111111111111111,\"#46039f\"],[0.2222222222222222,\"#7201a8\"],[0.3333333333333333,\"#9c179e\"],[0.4444444444444444,\"#bd3786\"],[0.5555555555555556,\"#d8576b\"],[0.6666666666666666,\"#ed7953\"],[0.7777777777777778,\"#fb9f3a\"],[0.8888888888888888,\"#fdca26\"],[1.0,\"#f0f921\"]]}],\"choropleth\":[{\"type\":\"choropleth\",\"colorbar\":{\"outlinewidth\":0,\"ticks\":\"\"}}],\"histogram2d\":[{\"type\":\"histogram2d\",\"colorbar\":{\"outlinewidth\":0,\"ticks\":\"\"},\"colorscale\":[[0.0,\"#0d0887\"],[0.1111111111111111,\"#46039f\"],[0.2222222222222222,\"#7201a8\"],[0.3333333333333333,\"#9c179e\"],[0.4444444444444444,\"#bd3786\"],[0.5555555555555556,\"#d8576b\"],[0.6666666666666666,\"#ed7953\"],[0.7777777777777778,\"#fb9f3a\"],[0.8888888888888888,\"#fdca26\"],[1.0,\"#f0f921\"]]}],\"heatmap\":[{\"type\":\"heatmap\",\"colorbar\":{\"outlinewidth\":0,\"ticks\":\"\"},\"colorscale\":[[0.0,\"#0d0887\"],[0.1111111111111111,\"#46039f\"],[0.2222222222222222,\"#7201a8\"],[0.3333333333333333,\"#9c179e\"],[0.4444444444444444,\"#bd3786\"],[0.5555555555555556,\"#d8576b\"],[0.6666666666666666,\"#ed7953\"],[0.7777777777777778,\"#fb9f3a\"],[0.8888888888888888,\"#fdca26\"],[1.0,\"#f0f921\"]]}],\"heatmapgl\":[{\"type\":\"heatmapgl\",\"colorbar\":{\"outlinewidth\":0,\"ticks\":\"\"},\"colorscale\":[[0.0,\"#0d0887\"],[0.1111111111111111,\"#46039f\"],[0.2222222222222222,\"#7201a8\"],[0.3333333333333333,\"#9c179e\"],[0.4444444444444444,\"#bd3786\"],[0.5555555555555556,\"#d8576b\"],[0.6666666666666666,\"#ed7953\"],[0.7777777777777778,\"#fb9f3a\"],[0.8888888888888888,\"#fdca26\"],[1.0,\"#f0f921\"]]}],\"contourcarpet\":[{\"type\":\"contourcarpet\",\"colorbar\":{\"outlinewidth\":0,\"ticks\":\"\"}}],\"contour\":[{\"type\":\"contour\",\"colorbar\":{\"outlinewidth\":0,\"ticks\":\"\"},\"colorscale\":[[0.0,\"#0d0887\"],[0.1111111111111111,\"#46039f\"],[0.2222222222222222,\"#7201a8\"],[0.3333333333333333,\"#9c179e\"],[0.4444444444444444,\"#bd3786\"],[0.5555555555555556,\"#d8576b\"],[0.6666666666666666,\"#ed7953\"],[0.7777777777777778,\"#fb9f3a\"],[0.8888888888888888,\"#fdca26\"],[1.0,\"#f0f921\"]]}],\"surface\":[{\"type\":\"surface\",\"colorbar\":{\"outlinewidth\":0,\"ticks\":\"\"},\"colorscale\":[[0.0,\"#0d0887\"],[0.1111111111111111,\"#46039f\"],[0.2222222222222222,\"#7201a8\"],[0.3333333333333333,\"#9c179e\"],[0.4444444444444444,\"#bd3786\"],[0.5555555555555556,\"#d8576b\"],[0.6666666666666666,\"#ed7953\"],[0.7777777777777778,\"#fb9f3a\"],[0.8888888888888888,\"#fdca26\"],[1.0,\"#f0f921\"]]}],\"mesh3d\":[{\"type\":\"mesh3d\",\"colorbar\":{\"outlinewidth\":0,\"ticks\":\"\"}}],\"scatter\":[{\"fillpattern\":{\"fillmode\":\"overlay\",\"size\":10,\"solidity\":0.2},\"type\":\"scatter\"}],\"parcoords\":[{\"type\":\"parcoords\",\"line\":{\"colorbar\":{\"outlinewidth\":0,\"ticks\":\"\"}}}],\"scatterpolargl\":[{\"type\":\"scatterpolargl\",\"marker\":{\"colorbar\":{\"outlinewidth\":0,\"ticks\":\"\"}}}],\"bar\":[{\"error_x\":{\"color\":\"#2a3f5f\"},\"error_y\":{\"color\":\"#2a3f5f\"},\"marker\":{\"line\":{\"color\":\"#E5ECF6\",\"width\":0.5},\"pattern\":{\"fillmode\":\"overlay\",\"size\":10,\"solidity\":0.2}},\"type\":\"bar\"}],\"scattergeo\":[{\"type\":\"scattergeo\",\"marker\":{\"colorbar\":{\"outlinewidth\":0,\"ticks\":\"\"}}}],\"scatterpolar\":[{\"type\":\"scatterpolar\",\"marker\":{\"colorbar\":{\"outlinewidth\":0,\"ticks\":\"\"}}}],\"histogram\":[{\"marker\":{\"pattern\":{\"fillmode\":\"overlay\",\"size\":10,\"solidity\":0.2}},\"type\":\"histogram\"}],\"scattergl\":[{\"type\":\"scattergl\",\"marker\":{\"colorbar\":{\"outlinewidth\":0,\"ticks\":\"\"}}}],\"scatter3d\":[{\"type\":\"scatter3d\",\"line\":{\"colorbar\":{\"outlinewidth\":0,\"ticks\":\"\"}},\"marker\":{\"colorbar\":{\"outlinewidth\":0,\"ticks\":\"\"}}}],\"scattermapbox\":[{\"type\":\"scattermapbox\",\"marker\":{\"colorbar\":{\"outlinewidth\":0,\"ticks\":\"\"}}}],\"scatterternary\":[{\"type\":\"scatterternary\",\"marker\":{\"colorbar\":{\"outlinewidth\":0,\"ticks\":\"\"}}}],\"scattercarpet\":[{\"type\":\"scattercarpet\",\"marker\":{\"colorbar\":{\"outlinewidth\":0,\"ticks\":\"\"}}}],\"carpet\":[{\"aaxis\":{\"endlinecolor\":\"#2a3f5f\",\"gridcolor\":\"white\",\"linecolor\":\"white\",\"minorgridcolor\":\"white\",\"startlinecolor\":\"#2a3f5f\"},\"baxis\":{\"endlinecolor\":\"#2a3f5f\",\"gridcolor\":\"white\",\"linecolor\":\"white\",\"minorgridcolor\":\"white\",\"startlinecolor\":\"#2a3f5f\"},\"type\":\"carpet\"}],\"table\":[{\"cells\":{\"fill\":{\"color\":\"#EBF0F8\"},\"line\":{\"color\":\"white\"}},\"header\":{\"fill\":{\"color\":\"#C8D4E3\"},\"line\":{\"color\":\"white\"}},\"type\":\"table\"}],\"barpolar\":[{\"marker\":{\"line\":{\"color\":\"#E5ECF6\",\"width\":0.5},\"pattern\":{\"fillmode\":\"overlay\",\"size\":10,\"solidity\":0.2}},\"type\":\"barpolar\"}],\"pie\":[{\"automargin\":true,\"type\":\"pie\"}]},\"layout\":{\"autotypenumbers\":\"strict\",\"colorway\":[\"#636efa\",\"#EF553B\",\"#00cc96\",\"#ab63fa\",\"#FFA15A\",\"#19d3f3\",\"#FF6692\",\"#B6E880\",\"#FF97FF\",\"#FECB52\"],\"font\":{\"color\":\"#2a3f5f\"},\"hovermode\":\"closest\",\"hoverlabel\":{\"align\":\"left\"},\"paper_bgcolor\":\"white\",\"plot_bgcolor\":\"#E5ECF6\",\"polar\":{\"bgcolor\":\"#E5ECF6\",\"angularaxis\":{\"gridcolor\":\"white\",\"linecolor\":\"white\",\"ticks\":\"\"},\"radialaxis\":{\"gridcolor\":\"white\",\"linecolor\":\"white\",\"ticks\":\"\"}},\"ternary\":{\"bgcolor\":\"#E5ECF6\",\"aaxis\":{\"gridcolor\":\"white\",\"linecolor\":\"white\",\"ticks\":\"\"},\"baxis\":{\"gridcolor\":\"white\",\"linecolor\":\"white\",\"ticks\":\"\"},\"caxis\":{\"gridcolor\":\"white\",\"linecolor\":\"white\",\"ticks\":\"\"}},\"coloraxis\":{\"colorbar\":{\"outlinewidth\":0,\"ticks\":\"\"}},\"colorscale\":{\"sequential\":[[0.0,\"#0d0887\"],[0.1111111111111111,\"#46039f\"],[0.2222222222222222,\"#7201a8\"],[0.3333333333333333,\"#9c179e\"],[0.4444444444444444,\"#bd3786\"],[0.5555555555555556,\"#d8576b\"],[0.6666666666666666,\"#ed7953\"],[0.7777777777777778,\"#fb9f3a\"],[0.8888888888888888,\"#fdca26\"],[1.0,\"#f0f921\"]],\"sequentialminus\":[[0.0,\"#0d0887\"],[0.1111111111111111,\"#46039f\"],[0.2222222222222222,\"#7201a8\"],[0.3333333333333333,\"#9c179e\"],[0.4444444444444444,\"#bd3786\"],[0.5555555555555556,\"#d8576b\"],[0.6666666666666666,\"#ed7953\"],[0.7777777777777778,\"#fb9f3a\"],[0.8888888888888888,\"#fdca26\"],[1.0,\"#f0f921\"]],\"diverging\":[[0,\"#8e0152\"],[0.1,\"#c51b7d\"],[0.2,\"#de77ae\"],[0.3,\"#f1b6da\"],[0.4,\"#fde0ef\"],[0.5,\"#f7f7f7\"],[0.6,\"#e6f5d0\"],[0.7,\"#b8e186\"],[0.8,\"#7fbc41\"],[0.9,\"#4d9221\"],[1,\"#276419\"]]},\"xaxis\":{\"gridcolor\":\"white\",\"linecolor\":\"white\",\"ticks\":\"\",\"title\":{\"standoff\":15},\"zerolinecolor\":\"white\",\"automargin\":true,\"zerolinewidth\":2},\"yaxis\":{\"gridcolor\":\"white\",\"linecolor\":\"white\",\"ticks\":\"\",\"title\":{\"standoff\":15},\"zerolinecolor\":\"white\",\"automargin\":true,\"zerolinewidth\":2},\"scene\":{\"xaxis\":{\"backgroundcolor\":\"#E5ECF6\",\"gridcolor\":\"white\",\"linecolor\":\"white\",\"showbackground\":true,\"ticks\":\"\",\"zerolinecolor\":\"white\",\"gridwidth\":2},\"yaxis\":{\"backgroundcolor\":\"#E5ECF6\",\"gridcolor\":\"white\",\"linecolor\":\"white\",\"showbackground\":true,\"ticks\":\"\",\"zerolinecolor\":\"white\",\"gridwidth\":2},\"zaxis\":{\"backgroundcolor\":\"#E5ECF6\",\"gridcolor\":\"white\",\"linecolor\":\"white\",\"showbackground\":true,\"ticks\":\"\",\"zerolinecolor\":\"white\",\"gridwidth\":2}},\"shapedefaults\":{\"line\":{\"color\":\"#2a3f5f\"}},\"annotationdefaults\":{\"arrowcolor\":\"#2a3f5f\",\"arrowhead\":0,\"arrowwidth\":1},\"geo\":{\"bgcolor\":\"white\",\"landcolor\":\"#E5ECF6\",\"subunitcolor\":\"white\",\"showland\":true,\"showlakes\":true,\"lakecolor\":\"white\"},\"title\":{\"x\":0.05},\"mapbox\":{\"style\":\"light\"}}},\"xaxis\":{\"anchor\":\"y\",\"domain\":[0.0,1.0],\"title\":{\"text\":\"MPG_City\"}},\"yaxis\":{\"anchor\":\"x\",\"domain\":[0.0,1.0],\"title\":{\"text\":\"Length\"}},\"legend\":{\"tracegroupgap\":0},\"margin\":{\"t\":60}},                        {\"responsive\": true}                    ).then(function(){\n",
       "                            \n",
       "var gd = document.getElementById('18d9e57b-7244-4fa3-bf9a-65fa3e36e777');\n",
       "var x = new MutationObserver(function (mutations, observer) {{\n",
       "        var display = window.getComputedStyle(gd).display;\n",
       "        if (!display || display === 'none') {{\n",
       "            console.log([gd, 'removed!']);\n",
       "            Plotly.purge(gd);\n",
       "            observer.disconnect();\n",
       "        }}\n",
       "}});\n",
       "\n",
       "// Listen for the removal of the full notebook cells\n",
       "var notebookContainer = gd.closest('#notebook-container');\n",
       "if (notebookContainer) {{\n",
       "    x.observe(notebookContainer, {childList: true});\n",
       "}}\n",
       "\n",
       "// Listen for the clearing of the current output cell\n",
       "var outputEl = gd.closest('.output');\n",
       "if (outputEl) {{\n",
       "    x.observe(outputEl, {childList: true});\n",
       "}}\n",
       "\n",
       "                        })                };                });            </script>        </div>"
      ]
     },
     "metadata": {},
     "output_type": "display_data"
    }
   ],
   "source": [
    "px.scatter(df,x=\"MPG_City\", y=\"Length\")"
   ]
  },
  {
   "cell_type": "markdown",
   "id": "ba2c2d5c",
   "metadata": {},
   "source": [
    "# Punto 2.3.1"
   ]
  },
  {
   "cell_type": "code",
   "execution_count": 84,
   "id": "8078570b",
   "metadata": {},
   "outputs": [
    {
     "data": {
      "application/vnd.plotly.v1+json": {
       "config": {
        "plotlyServerURL": "https://plot.ly"
       },
       "data": [
        {
         "coloraxis": "coloraxis",
         "hovertemplate": "x: %{x}<br>y: %{y}<br>color: %{z}<extra></extra>",
         "name": "0",
         "type": "heatmap",
         "x": [
          "MSRP",
          "Invoice",
          "EngineSize",
          "Cylinders",
          "Horsepower",
          "MPG_City",
          "MPG_Highway",
          "Weight",
          "Wheelbase",
          "Length"
         ],
         "xaxis": "x",
         "y": [
          "MSRP",
          "Invoice",
          "EngineSize",
          "Cylinders",
          "Horsepower",
          "MPG_City",
          "MPG_Highway",
          "Weight",
          "Wheelbase",
          "Length"
         ],
         "yaxis": "y",
         "z": [
          [
           1,
           0.9991316206272138,
           0.5717529618466327,
           0.6497419270432133,
           0.8269450085627245,
           -0.4750196986437361,
           -0.4396216271243023,
           0.44842641849223125,
           0.15200010307070735,
           0.17203679701845073
          ],
          [
           0.9991316206272138,
           1,
           0.5644979779575722,
           0.645226066585145,
           0.8237464987316098,
           -0.47044202738983004,
           -0.43458523330945814,
           0.4423322205568124,
           0.1483275241218505,
           0.16658639173798984
          ],
          [
           0.5717529618466327,
           0.5644979779575722,
           1,
           0.9080023416876983,
           0.7874349451231392,
           -0.7094710668127521,
           -0.7173016327383451,
           0.8078667388532559,
           0.6365169992086612,
           0.6374482149199924
          ],
          [
           0.6497419270432133,
           0.645226066585145,
           0.9080023416876983,
           1,
           0.8103405605448712,
           -0.6844016161073333,
           -0.6760998911521626,
           0.7422086742280614,
           0.5467304669551137,
           0.5477826640367851
          ],
          [
           0.8269450085627245,
           0.8237464987316098,
           0.7874349451231392,
           0.8103405605448712,
           1,
           -0.6766993120656516,
           -0.6471953785007606,
           0.6307958167406741,
           0.3873977826989555,
           0.38155388132658974
          ],
          [
           -0.4750196986437361,
           -0.47044202738983004,
           -0.7094710668127521,
           -0.6844016161073333,
           -0.6766993120656516,
           1,
           0.9410205153430932,
           -0.737965997830169,
           -0.5072838055365493,
           -0.501526413648229
          ],
          [
           -0.4396216271243023,
           -0.43458523330945814,
           -0.7173016327383451,
           -0.6760998911521626,
           -0.6471953785007606,
           0.9410205153430932,
           1,
           -0.7909894957789139,
           -0.5246606379253731,
           -0.46609176323645146
          ],
          [
           0.44842641849223125,
           0.4423322205568124,
           0.8078667388532559,
           0.7422086742280614,
           0.6307958167406741,
           -0.737965997830169,
           -0.7909894957789139,
           1,
           0.7607027588863561,
           0.6900207109097164
          ],
          [
           0.15200010307070735,
           0.1483275241218505,
           0.6365169992086612,
           0.5467304669551137,
           0.3873977826989555,
           -0.5072838055365493,
           -0.5246606379253731,
           0.7607027588863561,
           1,
           0.8891946668509831
          ],
          [
           0.17203679701845073,
           0.16658639173798984,
           0.6374482149199924,
           0.5477826640367851,
           0.38155388132658974,
           -0.501526413648229,
           -0.46609176323645146,
           0.6900207109097164,
           0.8891946668509831,
           1
          ]
         ]
        }
       ],
       "layout": {
        "coloraxis": {
         "colorscale": [
          [
           0,
           "#0d0887"
          ],
          [
           0.1111111111111111,
           "#46039f"
          ],
          [
           0.2222222222222222,
           "#7201a8"
          ],
          [
           0.3333333333333333,
           "#9c179e"
          ],
          [
           0.4444444444444444,
           "#bd3786"
          ],
          [
           0.5555555555555556,
           "#d8576b"
          ],
          [
           0.6666666666666666,
           "#ed7953"
          ],
          [
           0.7777777777777778,
           "#fb9f3a"
          ],
          [
           0.8888888888888888,
           "#fdca26"
          ],
          [
           1,
           "#f0f921"
          ]
         ]
        },
        "margin": {
         "t": 60
        },
        "template": {
         "data": {
          "bar": [
           {
            "error_x": {
             "color": "#2a3f5f"
            },
            "error_y": {
             "color": "#2a3f5f"
            },
            "marker": {
             "line": {
              "color": "#E5ECF6",
              "width": 0.5
             },
             "pattern": {
              "fillmode": "overlay",
              "size": 10,
              "solidity": 0.2
             }
            },
            "type": "bar"
           }
          ],
          "barpolar": [
           {
            "marker": {
             "line": {
              "color": "#E5ECF6",
              "width": 0.5
             },
             "pattern": {
              "fillmode": "overlay",
              "size": 10,
              "solidity": 0.2
             }
            },
            "type": "barpolar"
           }
          ],
          "carpet": [
           {
            "aaxis": {
             "endlinecolor": "#2a3f5f",
             "gridcolor": "white",
             "linecolor": "white",
             "minorgridcolor": "white",
             "startlinecolor": "#2a3f5f"
            },
            "baxis": {
             "endlinecolor": "#2a3f5f",
             "gridcolor": "white",
             "linecolor": "white",
             "minorgridcolor": "white",
             "startlinecolor": "#2a3f5f"
            },
            "type": "carpet"
           }
          ],
          "choropleth": [
           {
            "colorbar": {
             "outlinewidth": 0,
             "ticks": ""
            },
            "type": "choropleth"
           }
          ],
          "contour": [
           {
            "colorbar": {
             "outlinewidth": 0,
             "ticks": ""
            },
            "colorscale": [
             [
              0,
              "#0d0887"
             ],
             [
              0.1111111111111111,
              "#46039f"
             ],
             [
              0.2222222222222222,
              "#7201a8"
             ],
             [
              0.3333333333333333,
              "#9c179e"
             ],
             [
              0.4444444444444444,
              "#bd3786"
             ],
             [
              0.5555555555555556,
              "#d8576b"
             ],
             [
              0.6666666666666666,
              "#ed7953"
             ],
             [
              0.7777777777777778,
              "#fb9f3a"
             ],
             [
              0.8888888888888888,
              "#fdca26"
             ],
             [
              1,
              "#f0f921"
             ]
            ],
            "type": "contour"
           }
          ],
          "contourcarpet": [
           {
            "colorbar": {
             "outlinewidth": 0,
             "ticks": ""
            },
            "type": "contourcarpet"
           }
          ],
          "heatmap": [
           {
            "colorbar": {
             "outlinewidth": 0,
             "ticks": ""
            },
            "colorscale": [
             [
              0,
              "#0d0887"
             ],
             [
              0.1111111111111111,
              "#46039f"
             ],
             [
              0.2222222222222222,
              "#7201a8"
             ],
             [
              0.3333333333333333,
              "#9c179e"
             ],
             [
              0.4444444444444444,
              "#bd3786"
             ],
             [
              0.5555555555555556,
              "#d8576b"
             ],
             [
              0.6666666666666666,
              "#ed7953"
             ],
             [
              0.7777777777777778,
              "#fb9f3a"
             ],
             [
              0.8888888888888888,
              "#fdca26"
             ],
             [
              1,
              "#f0f921"
             ]
            ],
            "type": "heatmap"
           }
          ],
          "heatmapgl": [
           {
            "colorbar": {
             "outlinewidth": 0,
             "ticks": ""
            },
            "colorscale": [
             [
              0,
              "#0d0887"
             ],
             [
              0.1111111111111111,
              "#46039f"
             ],
             [
              0.2222222222222222,
              "#7201a8"
             ],
             [
              0.3333333333333333,
              "#9c179e"
             ],
             [
              0.4444444444444444,
              "#bd3786"
             ],
             [
              0.5555555555555556,
              "#d8576b"
             ],
             [
              0.6666666666666666,
              "#ed7953"
             ],
             [
              0.7777777777777778,
              "#fb9f3a"
             ],
             [
              0.8888888888888888,
              "#fdca26"
             ],
             [
              1,
              "#f0f921"
             ]
            ],
            "type": "heatmapgl"
           }
          ],
          "histogram": [
           {
            "marker": {
             "pattern": {
              "fillmode": "overlay",
              "size": 10,
              "solidity": 0.2
             }
            },
            "type": "histogram"
           }
          ],
          "histogram2d": [
           {
            "colorbar": {
             "outlinewidth": 0,
             "ticks": ""
            },
            "colorscale": [
             [
              0,
              "#0d0887"
             ],
             [
              0.1111111111111111,
              "#46039f"
             ],
             [
              0.2222222222222222,
              "#7201a8"
             ],
             [
              0.3333333333333333,
              "#9c179e"
             ],
             [
              0.4444444444444444,
              "#bd3786"
             ],
             [
              0.5555555555555556,
              "#d8576b"
             ],
             [
              0.6666666666666666,
              "#ed7953"
             ],
             [
              0.7777777777777778,
              "#fb9f3a"
             ],
             [
              0.8888888888888888,
              "#fdca26"
             ],
             [
              1,
              "#f0f921"
             ]
            ],
            "type": "histogram2d"
           }
          ],
          "histogram2dcontour": [
           {
            "colorbar": {
             "outlinewidth": 0,
             "ticks": ""
            },
            "colorscale": [
             [
              0,
              "#0d0887"
             ],
             [
              0.1111111111111111,
              "#46039f"
             ],
             [
              0.2222222222222222,
              "#7201a8"
             ],
             [
              0.3333333333333333,
              "#9c179e"
             ],
             [
              0.4444444444444444,
              "#bd3786"
             ],
             [
              0.5555555555555556,
              "#d8576b"
             ],
             [
              0.6666666666666666,
              "#ed7953"
             ],
             [
              0.7777777777777778,
              "#fb9f3a"
             ],
             [
              0.8888888888888888,
              "#fdca26"
             ],
             [
              1,
              "#f0f921"
             ]
            ],
            "type": "histogram2dcontour"
           }
          ],
          "mesh3d": [
           {
            "colorbar": {
             "outlinewidth": 0,
             "ticks": ""
            },
            "type": "mesh3d"
           }
          ],
          "parcoords": [
           {
            "line": {
             "colorbar": {
              "outlinewidth": 0,
              "ticks": ""
             }
            },
            "type": "parcoords"
           }
          ],
          "pie": [
           {
            "automargin": true,
            "type": "pie"
           }
          ],
          "scatter": [
           {
            "fillpattern": {
             "fillmode": "overlay",
             "size": 10,
             "solidity": 0.2
            },
            "type": "scatter"
           }
          ],
          "scatter3d": [
           {
            "line": {
             "colorbar": {
              "outlinewidth": 0,
              "ticks": ""
             }
            },
            "marker": {
             "colorbar": {
              "outlinewidth": 0,
              "ticks": ""
             }
            },
            "type": "scatter3d"
           }
          ],
          "scattercarpet": [
           {
            "marker": {
             "colorbar": {
              "outlinewidth": 0,
              "ticks": ""
             }
            },
            "type": "scattercarpet"
           }
          ],
          "scattergeo": [
           {
            "marker": {
             "colorbar": {
              "outlinewidth": 0,
              "ticks": ""
             }
            },
            "type": "scattergeo"
           }
          ],
          "scattergl": [
           {
            "marker": {
             "colorbar": {
              "outlinewidth": 0,
              "ticks": ""
             }
            },
            "type": "scattergl"
           }
          ],
          "scattermapbox": [
           {
            "marker": {
             "colorbar": {
              "outlinewidth": 0,
              "ticks": ""
             }
            },
            "type": "scattermapbox"
           }
          ],
          "scatterpolar": [
           {
            "marker": {
             "colorbar": {
              "outlinewidth": 0,
              "ticks": ""
             }
            },
            "type": "scatterpolar"
           }
          ],
          "scatterpolargl": [
           {
            "marker": {
             "colorbar": {
              "outlinewidth": 0,
              "ticks": ""
             }
            },
            "type": "scatterpolargl"
           }
          ],
          "scatterternary": [
           {
            "marker": {
             "colorbar": {
              "outlinewidth": 0,
              "ticks": ""
             }
            },
            "type": "scatterternary"
           }
          ],
          "surface": [
           {
            "colorbar": {
             "outlinewidth": 0,
             "ticks": ""
            },
            "colorscale": [
             [
              0,
              "#0d0887"
             ],
             [
              0.1111111111111111,
              "#46039f"
             ],
             [
              0.2222222222222222,
              "#7201a8"
             ],
             [
              0.3333333333333333,
              "#9c179e"
             ],
             [
              0.4444444444444444,
              "#bd3786"
             ],
             [
              0.5555555555555556,
              "#d8576b"
             ],
             [
              0.6666666666666666,
              "#ed7953"
             ],
             [
              0.7777777777777778,
              "#fb9f3a"
             ],
             [
              0.8888888888888888,
              "#fdca26"
             ],
             [
              1,
              "#f0f921"
             ]
            ],
            "type": "surface"
           }
          ],
          "table": [
           {
            "cells": {
             "fill": {
              "color": "#EBF0F8"
             },
             "line": {
              "color": "white"
             }
            },
            "header": {
             "fill": {
              "color": "#C8D4E3"
             },
             "line": {
              "color": "white"
             }
            },
            "type": "table"
           }
          ]
         },
         "layout": {
          "annotationdefaults": {
           "arrowcolor": "#2a3f5f",
           "arrowhead": 0,
           "arrowwidth": 1
          },
          "autotypenumbers": "strict",
          "coloraxis": {
           "colorbar": {
            "outlinewidth": 0,
            "ticks": ""
           }
          },
          "colorscale": {
           "diverging": [
            [
             0,
             "#8e0152"
            ],
            [
             0.1,
             "#c51b7d"
            ],
            [
             0.2,
             "#de77ae"
            ],
            [
             0.3,
             "#f1b6da"
            ],
            [
             0.4,
             "#fde0ef"
            ],
            [
             0.5,
             "#f7f7f7"
            ],
            [
             0.6,
             "#e6f5d0"
            ],
            [
             0.7,
             "#b8e186"
            ],
            [
             0.8,
             "#7fbc41"
            ],
            [
             0.9,
             "#4d9221"
            ],
            [
             1,
             "#276419"
            ]
           ],
           "sequential": [
            [
             0,
             "#0d0887"
            ],
            [
             0.1111111111111111,
             "#46039f"
            ],
            [
             0.2222222222222222,
             "#7201a8"
            ],
            [
             0.3333333333333333,
             "#9c179e"
            ],
            [
             0.4444444444444444,
             "#bd3786"
            ],
            [
             0.5555555555555556,
             "#d8576b"
            ],
            [
             0.6666666666666666,
             "#ed7953"
            ],
            [
             0.7777777777777778,
             "#fb9f3a"
            ],
            [
             0.8888888888888888,
             "#fdca26"
            ],
            [
             1,
             "#f0f921"
            ]
           ],
           "sequentialminus": [
            [
             0,
             "#0d0887"
            ],
            [
             0.1111111111111111,
             "#46039f"
            ],
            [
             0.2222222222222222,
             "#7201a8"
            ],
            [
             0.3333333333333333,
             "#9c179e"
            ],
            [
             0.4444444444444444,
             "#bd3786"
            ],
            [
             0.5555555555555556,
             "#d8576b"
            ],
            [
             0.6666666666666666,
             "#ed7953"
            ],
            [
             0.7777777777777778,
             "#fb9f3a"
            ],
            [
             0.8888888888888888,
             "#fdca26"
            ],
            [
             1,
             "#f0f921"
            ]
           ]
          },
          "colorway": [
           "#636efa",
           "#EF553B",
           "#00cc96",
           "#ab63fa",
           "#FFA15A",
           "#19d3f3",
           "#FF6692",
           "#B6E880",
           "#FF97FF",
           "#FECB52"
          ],
          "font": {
           "color": "#2a3f5f"
          },
          "geo": {
           "bgcolor": "white",
           "lakecolor": "white",
           "landcolor": "#E5ECF6",
           "showlakes": true,
           "showland": true,
           "subunitcolor": "white"
          },
          "hoverlabel": {
           "align": "left"
          },
          "hovermode": "closest",
          "mapbox": {
           "style": "light"
          },
          "paper_bgcolor": "white",
          "plot_bgcolor": "#E5ECF6",
          "polar": {
           "angularaxis": {
            "gridcolor": "white",
            "linecolor": "white",
            "ticks": ""
           },
           "bgcolor": "#E5ECF6",
           "radialaxis": {
            "gridcolor": "white",
            "linecolor": "white",
            "ticks": ""
           }
          },
          "scene": {
           "xaxis": {
            "backgroundcolor": "#E5ECF6",
            "gridcolor": "white",
            "gridwidth": 2,
            "linecolor": "white",
            "showbackground": true,
            "ticks": "",
            "zerolinecolor": "white"
           },
           "yaxis": {
            "backgroundcolor": "#E5ECF6",
            "gridcolor": "white",
            "gridwidth": 2,
            "linecolor": "white",
            "showbackground": true,
            "ticks": "",
            "zerolinecolor": "white"
           },
           "zaxis": {
            "backgroundcolor": "#E5ECF6",
            "gridcolor": "white",
            "gridwidth": 2,
            "linecolor": "white",
            "showbackground": true,
            "ticks": "",
            "zerolinecolor": "white"
           }
          },
          "shapedefaults": {
           "line": {
            "color": "#2a3f5f"
           }
          },
          "ternary": {
           "aaxis": {
            "gridcolor": "white",
            "linecolor": "white",
            "ticks": ""
           },
           "baxis": {
            "gridcolor": "white",
            "linecolor": "white",
            "ticks": ""
           },
           "bgcolor": "#E5ECF6",
           "caxis": {
            "gridcolor": "white",
            "linecolor": "white",
            "ticks": ""
           }
          },
          "title": {
           "x": 0.05
          },
          "xaxis": {
           "automargin": true,
           "gridcolor": "white",
           "linecolor": "white",
           "ticks": "",
           "title": {
            "standoff": 15
           },
           "zerolinecolor": "white",
           "zerolinewidth": 2
          },
          "yaxis": {
           "automargin": true,
           "gridcolor": "white",
           "linecolor": "white",
           "ticks": "",
           "title": {
            "standoff": 15
           },
           "zerolinecolor": "white",
           "zerolinewidth": 2
          }
         }
        },
        "xaxis": {
         "anchor": "y",
         "constrain": "domain",
         "domain": [
          0,
          1
         ],
         "scaleanchor": "y"
        },
        "yaxis": {
         "anchor": "x",
         "autorange": "reversed",
         "constrain": "domain",
         "domain": [
          0,
          1
         ]
        }
       }
      },
      "text/html": [
       "<div>                            <div id=\"da389c60-98ca-4e9d-9151-e4fe5c54408d\" class=\"plotly-graph-div\" style=\"height:525px; width:100%;\"></div>            <script type=\"text/javascript\">                require([\"plotly\"], function(Plotly) {                    window.PLOTLYENV=window.PLOTLYENV || {};                                    if (document.getElementById(\"da389c60-98ca-4e9d-9151-e4fe5c54408d\")) {                    Plotly.newPlot(                        \"da389c60-98ca-4e9d-9151-e4fe5c54408d\",                        [{\"coloraxis\":\"coloraxis\",\"name\":\"0\",\"x\":[\"MSRP\",\"Invoice\",\"EngineSize\",\"Cylinders\",\"Horsepower\",\"MPG_City\",\"MPG_Highway\",\"Weight\",\"Wheelbase\",\"Length\"],\"y\":[\"MSRP\",\"Invoice\",\"EngineSize\",\"Cylinders\",\"Horsepower\",\"MPG_City\",\"MPG_Highway\",\"Weight\",\"Wheelbase\",\"Length\"],\"z\":[[1.0,0.9991316206272138,0.5717529618466327,0.6497419270432133,0.8269450085627245,-0.4750196986437361,-0.4396216271243023,0.44842641849223125,0.15200010307070735,0.17203679701845073],[0.9991316206272138,1.0,0.5644979779575722,0.645226066585145,0.8237464987316098,-0.47044202738983004,-0.43458523330945814,0.4423322205568124,0.1483275241218505,0.16658639173798984],[0.5717529618466327,0.5644979779575722,1.0,0.9080023416876983,0.7874349451231392,-0.7094710668127521,-0.7173016327383451,0.8078667388532559,0.6365169992086612,0.6374482149199924],[0.6497419270432133,0.645226066585145,0.9080023416876983,1.0,0.8103405605448712,-0.6844016161073333,-0.6760998911521626,0.7422086742280614,0.5467304669551137,0.5477826640367851],[0.8269450085627245,0.8237464987316098,0.7874349451231392,0.8103405605448712,1.0,-0.6766993120656516,-0.6471953785007606,0.6307958167406741,0.3873977826989555,0.38155388132658974],[-0.4750196986437361,-0.47044202738983004,-0.7094710668127521,-0.6844016161073333,-0.6766993120656516,1.0,0.9410205153430932,-0.737965997830169,-0.5072838055365493,-0.501526413648229],[-0.4396216271243023,-0.43458523330945814,-0.7173016327383451,-0.6760998911521626,-0.6471953785007606,0.9410205153430932,1.0,-0.7909894957789139,-0.5246606379253731,-0.46609176323645146],[0.44842641849223125,0.4423322205568124,0.8078667388532559,0.7422086742280614,0.6307958167406741,-0.737965997830169,-0.7909894957789139,1.0,0.7607027588863561,0.6900207109097164],[0.15200010307070735,0.1483275241218505,0.6365169992086612,0.5467304669551137,0.3873977826989555,-0.5072838055365493,-0.5246606379253731,0.7607027588863561,1.0,0.8891946668509831],[0.17203679701845073,0.16658639173798984,0.6374482149199924,0.5477826640367851,0.38155388132658974,-0.501526413648229,-0.46609176323645146,0.6900207109097164,0.8891946668509831,1.0]],\"type\":\"heatmap\",\"xaxis\":\"x\",\"yaxis\":\"y\",\"hovertemplate\":\"x: %{x}<br>y: %{y}<br>color: %{z}<extra></extra>\"}],                        {\"template\":{\"data\":{\"histogram2dcontour\":[{\"type\":\"histogram2dcontour\",\"colorbar\":{\"outlinewidth\":0,\"ticks\":\"\"},\"colorscale\":[[0.0,\"#0d0887\"],[0.1111111111111111,\"#46039f\"],[0.2222222222222222,\"#7201a8\"],[0.3333333333333333,\"#9c179e\"],[0.4444444444444444,\"#bd3786\"],[0.5555555555555556,\"#d8576b\"],[0.6666666666666666,\"#ed7953\"],[0.7777777777777778,\"#fb9f3a\"],[0.8888888888888888,\"#fdca26\"],[1.0,\"#f0f921\"]]}],\"choropleth\":[{\"type\":\"choropleth\",\"colorbar\":{\"outlinewidth\":0,\"ticks\":\"\"}}],\"histogram2d\":[{\"type\":\"histogram2d\",\"colorbar\":{\"outlinewidth\":0,\"ticks\":\"\"},\"colorscale\":[[0.0,\"#0d0887\"],[0.1111111111111111,\"#46039f\"],[0.2222222222222222,\"#7201a8\"],[0.3333333333333333,\"#9c179e\"],[0.4444444444444444,\"#bd3786\"],[0.5555555555555556,\"#d8576b\"],[0.6666666666666666,\"#ed7953\"],[0.7777777777777778,\"#fb9f3a\"],[0.8888888888888888,\"#fdca26\"],[1.0,\"#f0f921\"]]}],\"heatmap\":[{\"type\":\"heatmap\",\"colorbar\":{\"outlinewidth\":0,\"ticks\":\"\"},\"colorscale\":[[0.0,\"#0d0887\"],[0.1111111111111111,\"#46039f\"],[0.2222222222222222,\"#7201a8\"],[0.3333333333333333,\"#9c179e\"],[0.4444444444444444,\"#bd3786\"],[0.5555555555555556,\"#d8576b\"],[0.6666666666666666,\"#ed7953\"],[0.7777777777777778,\"#fb9f3a\"],[0.8888888888888888,\"#fdca26\"],[1.0,\"#f0f921\"]]}],\"heatmapgl\":[{\"type\":\"heatmapgl\",\"colorbar\":{\"outlinewidth\":0,\"ticks\":\"\"},\"colorscale\":[[0.0,\"#0d0887\"],[0.1111111111111111,\"#46039f\"],[0.2222222222222222,\"#7201a8\"],[0.3333333333333333,\"#9c179e\"],[0.4444444444444444,\"#bd3786\"],[0.5555555555555556,\"#d8576b\"],[0.6666666666666666,\"#ed7953\"],[0.7777777777777778,\"#fb9f3a\"],[0.8888888888888888,\"#fdca26\"],[1.0,\"#f0f921\"]]}],\"contourcarpet\":[{\"type\":\"contourcarpet\",\"colorbar\":{\"outlinewidth\":0,\"ticks\":\"\"}}],\"contour\":[{\"type\":\"contour\",\"colorbar\":{\"outlinewidth\":0,\"ticks\":\"\"},\"colorscale\":[[0.0,\"#0d0887\"],[0.1111111111111111,\"#46039f\"],[0.2222222222222222,\"#7201a8\"],[0.3333333333333333,\"#9c179e\"],[0.4444444444444444,\"#bd3786\"],[0.5555555555555556,\"#d8576b\"],[0.6666666666666666,\"#ed7953\"],[0.7777777777777778,\"#fb9f3a\"],[0.8888888888888888,\"#fdca26\"],[1.0,\"#f0f921\"]]}],\"surface\":[{\"type\":\"surface\",\"colorbar\":{\"outlinewidth\":0,\"ticks\":\"\"},\"colorscale\":[[0.0,\"#0d0887\"],[0.1111111111111111,\"#46039f\"],[0.2222222222222222,\"#7201a8\"],[0.3333333333333333,\"#9c179e\"],[0.4444444444444444,\"#bd3786\"],[0.5555555555555556,\"#d8576b\"],[0.6666666666666666,\"#ed7953\"],[0.7777777777777778,\"#fb9f3a\"],[0.8888888888888888,\"#fdca26\"],[1.0,\"#f0f921\"]]}],\"mesh3d\":[{\"type\":\"mesh3d\",\"colorbar\":{\"outlinewidth\":0,\"ticks\":\"\"}}],\"scatter\":[{\"fillpattern\":{\"fillmode\":\"overlay\",\"size\":10,\"solidity\":0.2},\"type\":\"scatter\"}],\"parcoords\":[{\"type\":\"parcoords\",\"line\":{\"colorbar\":{\"outlinewidth\":0,\"ticks\":\"\"}}}],\"scatterpolargl\":[{\"type\":\"scatterpolargl\",\"marker\":{\"colorbar\":{\"outlinewidth\":0,\"ticks\":\"\"}}}],\"bar\":[{\"error_x\":{\"color\":\"#2a3f5f\"},\"error_y\":{\"color\":\"#2a3f5f\"},\"marker\":{\"line\":{\"color\":\"#E5ECF6\",\"width\":0.5},\"pattern\":{\"fillmode\":\"overlay\",\"size\":10,\"solidity\":0.2}},\"type\":\"bar\"}],\"scattergeo\":[{\"type\":\"scattergeo\",\"marker\":{\"colorbar\":{\"outlinewidth\":0,\"ticks\":\"\"}}}],\"scatterpolar\":[{\"type\":\"scatterpolar\",\"marker\":{\"colorbar\":{\"outlinewidth\":0,\"ticks\":\"\"}}}],\"histogram\":[{\"marker\":{\"pattern\":{\"fillmode\":\"overlay\",\"size\":10,\"solidity\":0.2}},\"type\":\"histogram\"}],\"scattergl\":[{\"type\":\"scattergl\",\"marker\":{\"colorbar\":{\"outlinewidth\":0,\"ticks\":\"\"}}}],\"scatter3d\":[{\"type\":\"scatter3d\",\"line\":{\"colorbar\":{\"outlinewidth\":0,\"ticks\":\"\"}},\"marker\":{\"colorbar\":{\"outlinewidth\":0,\"ticks\":\"\"}}}],\"scattermapbox\":[{\"type\":\"scattermapbox\",\"marker\":{\"colorbar\":{\"outlinewidth\":0,\"ticks\":\"\"}}}],\"scatterternary\":[{\"type\":\"scatterternary\",\"marker\":{\"colorbar\":{\"outlinewidth\":0,\"ticks\":\"\"}}}],\"scattercarpet\":[{\"type\":\"scattercarpet\",\"marker\":{\"colorbar\":{\"outlinewidth\":0,\"ticks\":\"\"}}}],\"carpet\":[{\"aaxis\":{\"endlinecolor\":\"#2a3f5f\",\"gridcolor\":\"white\",\"linecolor\":\"white\",\"minorgridcolor\":\"white\",\"startlinecolor\":\"#2a3f5f\"},\"baxis\":{\"endlinecolor\":\"#2a3f5f\",\"gridcolor\":\"white\",\"linecolor\":\"white\",\"minorgridcolor\":\"white\",\"startlinecolor\":\"#2a3f5f\"},\"type\":\"carpet\"}],\"table\":[{\"cells\":{\"fill\":{\"color\":\"#EBF0F8\"},\"line\":{\"color\":\"white\"}},\"header\":{\"fill\":{\"color\":\"#C8D4E3\"},\"line\":{\"color\":\"white\"}},\"type\":\"table\"}],\"barpolar\":[{\"marker\":{\"line\":{\"color\":\"#E5ECF6\",\"width\":0.5},\"pattern\":{\"fillmode\":\"overlay\",\"size\":10,\"solidity\":0.2}},\"type\":\"barpolar\"}],\"pie\":[{\"automargin\":true,\"type\":\"pie\"}]},\"layout\":{\"autotypenumbers\":\"strict\",\"colorway\":[\"#636efa\",\"#EF553B\",\"#00cc96\",\"#ab63fa\",\"#FFA15A\",\"#19d3f3\",\"#FF6692\",\"#B6E880\",\"#FF97FF\",\"#FECB52\"],\"font\":{\"color\":\"#2a3f5f\"},\"hovermode\":\"closest\",\"hoverlabel\":{\"align\":\"left\"},\"paper_bgcolor\":\"white\",\"plot_bgcolor\":\"#E5ECF6\",\"polar\":{\"bgcolor\":\"#E5ECF6\",\"angularaxis\":{\"gridcolor\":\"white\",\"linecolor\":\"white\",\"ticks\":\"\"},\"radialaxis\":{\"gridcolor\":\"white\",\"linecolor\":\"white\",\"ticks\":\"\"}},\"ternary\":{\"bgcolor\":\"#E5ECF6\",\"aaxis\":{\"gridcolor\":\"white\",\"linecolor\":\"white\",\"ticks\":\"\"},\"baxis\":{\"gridcolor\":\"white\",\"linecolor\":\"white\",\"ticks\":\"\"},\"caxis\":{\"gridcolor\":\"white\",\"linecolor\":\"white\",\"ticks\":\"\"}},\"coloraxis\":{\"colorbar\":{\"outlinewidth\":0,\"ticks\":\"\"}},\"colorscale\":{\"sequential\":[[0.0,\"#0d0887\"],[0.1111111111111111,\"#46039f\"],[0.2222222222222222,\"#7201a8\"],[0.3333333333333333,\"#9c179e\"],[0.4444444444444444,\"#bd3786\"],[0.5555555555555556,\"#d8576b\"],[0.6666666666666666,\"#ed7953\"],[0.7777777777777778,\"#fb9f3a\"],[0.8888888888888888,\"#fdca26\"],[1.0,\"#f0f921\"]],\"sequentialminus\":[[0.0,\"#0d0887\"],[0.1111111111111111,\"#46039f\"],[0.2222222222222222,\"#7201a8\"],[0.3333333333333333,\"#9c179e\"],[0.4444444444444444,\"#bd3786\"],[0.5555555555555556,\"#d8576b\"],[0.6666666666666666,\"#ed7953\"],[0.7777777777777778,\"#fb9f3a\"],[0.8888888888888888,\"#fdca26\"],[1.0,\"#f0f921\"]],\"diverging\":[[0,\"#8e0152\"],[0.1,\"#c51b7d\"],[0.2,\"#de77ae\"],[0.3,\"#f1b6da\"],[0.4,\"#fde0ef\"],[0.5,\"#f7f7f7\"],[0.6,\"#e6f5d0\"],[0.7,\"#b8e186\"],[0.8,\"#7fbc41\"],[0.9,\"#4d9221\"],[1,\"#276419\"]]},\"xaxis\":{\"gridcolor\":\"white\",\"linecolor\":\"white\",\"ticks\":\"\",\"title\":{\"standoff\":15},\"zerolinecolor\":\"white\",\"automargin\":true,\"zerolinewidth\":2},\"yaxis\":{\"gridcolor\":\"white\",\"linecolor\":\"white\",\"ticks\":\"\",\"title\":{\"standoff\":15},\"zerolinecolor\":\"white\",\"automargin\":true,\"zerolinewidth\":2},\"scene\":{\"xaxis\":{\"backgroundcolor\":\"#E5ECF6\",\"gridcolor\":\"white\",\"linecolor\":\"white\",\"showbackground\":true,\"ticks\":\"\",\"zerolinecolor\":\"white\",\"gridwidth\":2},\"yaxis\":{\"backgroundcolor\":\"#E5ECF6\",\"gridcolor\":\"white\",\"linecolor\":\"white\",\"showbackground\":true,\"ticks\":\"\",\"zerolinecolor\":\"white\",\"gridwidth\":2},\"zaxis\":{\"backgroundcolor\":\"#E5ECF6\",\"gridcolor\":\"white\",\"linecolor\":\"white\",\"showbackground\":true,\"ticks\":\"\",\"zerolinecolor\":\"white\",\"gridwidth\":2}},\"shapedefaults\":{\"line\":{\"color\":\"#2a3f5f\"}},\"annotationdefaults\":{\"arrowcolor\":\"#2a3f5f\",\"arrowhead\":0,\"arrowwidth\":1},\"geo\":{\"bgcolor\":\"white\",\"landcolor\":\"#E5ECF6\",\"subunitcolor\":\"white\",\"showland\":true,\"showlakes\":true,\"lakecolor\":\"white\"},\"title\":{\"x\":0.05},\"mapbox\":{\"style\":\"light\"}}},\"xaxis\":{\"anchor\":\"y\",\"domain\":[0.0,1.0],\"scaleanchor\":\"y\",\"constrain\":\"domain\"},\"yaxis\":{\"anchor\":\"x\",\"domain\":[0.0,1.0],\"autorange\":\"reversed\",\"constrain\":\"domain\"},\"coloraxis\":{\"colorscale\":[[0.0,\"#0d0887\"],[0.1111111111111111,\"#46039f\"],[0.2222222222222222,\"#7201a8\"],[0.3333333333333333,\"#9c179e\"],[0.4444444444444444,\"#bd3786\"],[0.5555555555555556,\"#d8576b\"],[0.6666666666666666,\"#ed7953\"],[0.7777777777777778,\"#fb9f3a\"],[0.8888888888888888,\"#fdca26\"],[1.0,\"#f0f921\"]]},\"margin\":{\"t\":60}},                        {\"responsive\": true}                    ).then(function(){\n",
       "                            \n",
       "var gd = document.getElementById('da389c60-98ca-4e9d-9151-e4fe5c54408d');\n",
       "var x = new MutationObserver(function (mutations, observer) {{\n",
       "        var display = window.getComputedStyle(gd).display;\n",
       "        if (!display || display === 'none') {{\n",
       "            console.log([gd, 'removed!']);\n",
       "            Plotly.purge(gd);\n",
       "            observer.disconnect();\n",
       "        }}\n",
       "}});\n",
       "\n",
       "// Listen for the removal of the full notebook cells\n",
       "var notebookContainer = gd.closest('#notebook-container');\n",
       "if (notebookContainer) {{\n",
       "    x.observe(notebookContainer, {childList: true});\n",
       "}}\n",
       "\n",
       "// Listen for the clearing of the current output cell\n",
       "var outputEl = gd.closest('.output');\n",
       "if (outputEl) {{\n",
       "    x.observe(outputEl, {childList: true});\n",
       "}}\n",
       "\n",
       "                        })                };                });            </script>        </div>"
      ]
     },
     "metadata": {},
     "output_type": "display_data"
    }
   ],
   "source": [
    "px.imshow(df[[\"MSRP\",\"Invoice\",\"EngineSize\",\"Cylinders\",\"Horsepower\",\"MPG_City\",\\\n",
    "                \"MPG_Highway\",\"Weight\", \"Wheelbase\",\"Length\"]].corr())"
   ]
  },
  {
   "cell_type": "markdown",
   "id": "f9223abc",
   "metadata": {},
   "source": [
    "Para explicar la variabilidad de MPG_city las variables más importantes son MPG_highway ya que según el gráfico es la que más correlación tiene, es decir, varían linealmente de forma similar, los coeficientes son positivos o negativos según la relación de covarianza que tengan, si el coeficiente es positivo, las variables tienden a incrementarse juntas, si es negativo, una crece mientras que otra decrece"
   ]
  },
  {
   "cell_type": "code",
   "execution_count": 87,
   "id": "259d2f3b",
   "metadata": {},
   "outputs": [
    {
     "name": "stderr",
     "output_type": "stream",
     "text": [
      "C:\\Users\\Carlos Manuel Puerta\\AppData\\Local\\Temp\\ipykernel_6512\\1152658421.py:1: FutureWarning:\n",
      "\n",
      "The default value of numeric_only in DataFrame.corr is deprecated. In a future version, it will default to False. Select only valid columns or specify the value of numeric_only to silence this warning.\n",
      "\n"
     ]
    },
    {
     "data": {
      "application/vnd.plotly.v1+json": {
       "config": {
        "plotlyServerURL": "https://plot.ly"
       },
       "data": [
        {
         "coloraxis": "coloraxis",
         "hovertemplate": "x: %{x}<br>y: %{y}<br>color: %{z}<extra></extra>",
         "name": "0",
         "type": "heatmap",
         "x": [
          "MSRP",
          "Invoice",
          "EngineSize",
          "Cylinders",
          "Horsepower",
          "MPG_City",
          "MPG_Highway",
          "Weight",
          "Wheelbase",
          "Length"
         ],
         "xaxis": "x",
         "y": [
          "MSRP",
          "Invoice",
          "EngineSize",
          "Cylinders",
          "Horsepower",
          "MPG_City",
          "MPG_Highway",
          "Weight",
          "Wheelbase",
          "Length"
         ],
         "yaxis": "y",
         "z": [
          [
           1,
           1,
           1.0000000000000002,
           1,
           1,
           -1,
           -1,
           1,
           1,
           1
          ],
          [
           1,
           1,
           1.0000000000000004,
           1,
           1,
           -1,
           -1,
           1,
           1,
           1
          ],
          [
           1.0000000000000002,
           1.0000000000000004,
           1,
           0.9999999999999998,
           0.9999999999999998,
           -0.9999999999999999,
           -0.9999999999999999,
           0.9999999999999998,
           0.9999999999999998,
           0.9999999999999999
          ],
          [
           1,
           1,
           0.9999999999999998,
           1,
           1,
           -1,
           -1,
           1,
           1,
           1
          ],
          [
           1,
           1,
           0.9999999999999998,
           1,
           1,
           -1,
           -1,
           1,
           1,
           1
          ],
          [
           -1,
           -1,
           -0.9999999999999999,
           -1,
           -1,
           1,
           1,
           -1,
           -1,
           -1
          ],
          [
           -1,
           -1,
           -0.9999999999999999,
           -1,
           -1,
           1,
           1,
           -1,
           -1,
           -1
          ],
          [
           1,
           1,
           0.9999999999999998,
           1,
           1,
           -1,
           -1,
           1,
           1,
           1
          ],
          [
           1,
           1,
           0.9999999999999998,
           1,
           1,
           -1,
           -1,
           1,
           1,
           1
          ],
          [
           1,
           1,
           0.9999999999999999,
           1,
           1,
           -1,
           -1,
           1,
           1,
           1
          ]
         ]
        }
       ],
       "layout": {
        "coloraxis": {
         "colorscale": [
          [
           0,
           "#0d0887"
          ],
          [
           0.1111111111111111,
           "#46039f"
          ],
          [
           0.2222222222222222,
           "#7201a8"
          ],
          [
           0.3333333333333333,
           "#9c179e"
          ],
          [
           0.4444444444444444,
           "#bd3786"
          ],
          [
           0.5555555555555556,
           "#d8576b"
          ],
          [
           0.6666666666666666,
           "#ed7953"
          ],
          [
           0.7777777777777778,
           "#fb9f3a"
          ],
          [
           0.8888888888888888,
           "#fdca26"
          ],
          [
           1,
           "#f0f921"
          ]
         ]
        },
        "margin": {
         "t": 60
        },
        "template": {
         "data": {
          "bar": [
           {
            "error_x": {
             "color": "#2a3f5f"
            },
            "error_y": {
             "color": "#2a3f5f"
            },
            "marker": {
             "line": {
              "color": "#E5ECF6",
              "width": 0.5
             },
             "pattern": {
              "fillmode": "overlay",
              "size": 10,
              "solidity": 0.2
             }
            },
            "type": "bar"
           }
          ],
          "barpolar": [
           {
            "marker": {
             "line": {
              "color": "#E5ECF6",
              "width": 0.5
             },
             "pattern": {
              "fillmode": "overlay",
              "size": 10,
              "solidity": 0.2
             }
            },
            "type": "barpolar"
           }
          ],
          "carpet": [
           {
            "aaxis": {
             "endlinecolor": "#2a3f5f",
             "gridcolor": "white",
             "linecolor": "white",
             "minorgridcolor": "white",
             "startlinecolor": "#2a3f5f"
            },
            "baxis": {
             "endlinecolor": "#2a3f5f",
             "gridcolor": "white",
             "linecolor": "white",
             "minorgridcolor": "white",
             "startlinecolor": "#2a3f5f"
            },
            "type": "carpet"
           }
          ],
          "choropleth": [
           {
            "colorbar": {
             "outlinewidth": 0,
             "ticks": ""
            },
            "type": "choropleth"
           }
          ],
          "contour": [
           {
            "colorbar": {
             "outlinewidth": 0,
             "ticks": ""
            },
            "colorscale": [
             [
              0,
              "#0d0887"
             ],
             [
              0.1111111111111111,
              "#46039f"
             ],
             [
              0.2222222222222222,
              "#7201a8"
             ],
             [
              0.3333333333333333,
              "#9c179e"
             ],
             [
              0.4444444444444444,
              "#bd3786"
             ],
             [
              0.5555555555555556,
              "#d8576b"
             ],
             [
              0.6666666666666666,
              "#ed7953"
             ],
             [
              0.7777777777777778,
              "#fb9f3a"
             ],
             [
              0.8888888888888888,
              "#fdca26"
             ],
             [
              1,
              "#f0f921"
             ]
            ],
            "type": "contour"
           }
          ],
          "contourcarpet": [
           {
            "colorbar": {
             "outlinewidth": 0,
             "ticks": ""
            },
            "type": "contourcarpet"
           }
          ],
          "heatmap": [
           {
            "colorbar": {
             "outlinewidth": 0,
             "ticks": ""
            },
            "colorscale": [
             [
              0,
              "#0d0887"
             ],
             [
              0.1111111111111111,
              "#46039f"
             ],
             [
              0.2222222222222222,
              "#7201a8"
             ],
             [
              0.3333333333333333,
              "#9c179e"
             ],
             [
              0.4444444444444444,
              "#bd3786"
             ],
             [
              0.5555555555555556,
              "#d8576b"
             ],
             [
              0.6666666666666666,
              "#ed7953"
             ],
             [
              0.7777777777777778,
              "#fb9f3a"
             ],
             [
              0.8888888888888888,
              "#fdca26"
             ],
             [
              1,
              "#f0f921"
             ]
            ],
            "type": "heatmap"
           }
          ],
          "heatmapgl": [
           {
            "colorbar": {
             "outlinewidth": 0,
             "ticks": ""
            },
            "colorscale": [
             [
              0,
              "#0d0887"
             ],
             [
              0.1111111111111111,
              "#46039f"
             ],
             [
              0.2222222222222222,
              "#7201a8"
             ],
             [
              0.3333333333333333,
              "#9c179e"
             ],
             [
              0.4444444444444444,
              "#bd3786"
             ],
             [
              0.5555555555555556,
              "#d8576b"
             ],
             [
              0.6666666666666666,
              "#ed7953"
             ],
             [
              0.7777777777777778,
              "#fb9f3a"
             ],
             [
              0.8888888888888888,
              "#fdca26"
             ],
             [
              1,
              "#f0f921"
             ]
            ],
            "type": "heatmapgl"
           }
          ],
          "histogram": [
           {
            "marker": {
             "pattern": {
              "fillmode": "overlay",
              "size": 10,
              "solidity": 0.2
             }
            },
            "type": "histogram"
           }
          ],
          "histogram2d": [
           {
            "colorbar": {
             "outlinewidth": 0,
             "ticks": ""
            },
            "colorscale": [
             [
              0,
              "#0d0887"
             ],
             [
              0.1111111111111111,
              "#46039f"
             ],
             [
              0.2222222222222222,
              "#7201a8"
             ],
             [
              0.3333333333333333,
              "#9c179e"
             ],
             [
              0.4444444444444444,
              "#bd3786"
             ],
             [
              0.5555555555555556,
              "#d8576b"
             ],
             [
              0.6666666666666666,
              "#ed7953"
             ],
             [
              0.7777777777777778,
              "#fb9f3a"
             ],
             [
              0.8888888888888888,
              "#fdca26"
             ],
             [
              1,
              "#f0f921"
             ]
            ],
            "type": "histogram2d"
           }
          ],
          "histogram2dcontour": [
           {
            "colorbar": {
             "outlinewidth": 0,
             "ticks": ""
            },
            "colorscale": [
             [
              0,
              "#0d0887"
             ],
             [
              0.1111111111111111,
              "#46039f"
             ],
             [
              0.2222222222222222,
              "#7201a8"
             ],
             [
              0.3333333333333333,
              "#9c179e"
             ],
             [
              0.4444444444444444,
              "#bd3786"
             ],
             [
              0.5555555555555556,
              "#d8576b"
             ],
             [
              0.6666666666666666,
              "#ed7953"
             ],
             [
              0.7777777777777778,
              "#fb9f3a"
             ],
             [
              0.8888888888888888,
              "#fdca26"
             ],
             [
              1,
              "#f0f921"
             ]
            ],
            "type": "histogram2dcontour"
           }
          ],
          "mesh3d": [
           {
            "colorbar": {
             "outlinewidth": 0,
             "ticks": ""
            },
            "type": "mesh3d"
           }
          ],
          "parcoords": [
           {
            "line": {
             "colorbar": {
              "outlinewidth": 0,
              "ticks": ""
             }
            },
            "type": "parcoords"
           }
          ],
          "pie": [
           {
            "automargin": true,
            "type": "pie"
           }
          ],
          "scatter": [
           {
            "fillpattern": {
             "fillmode": "overlay",
             "size": 10,
             "solidity": 0.2
            },
            "type": "scatter"
           }
          ],
          "scatter3d": [
           {
            "line": {
             "colorbar": {
              "outlinewidth": 0,
              "ticks": ""
             }
            },
            "marker": {
             "colorbar": {
              "outlinewidth": 0,
              "ticks": ""
             }
            },
            "type": "scatter3d"
           }
          ],
          "scattercarpet": [
           {
            "marker": {
             "colorbar": {
              "outlinewidth": 0,
              "ticks": ""
             }
            },
            "type": "scattercarpet"
           }
          ],
          "scattergeo": [
           {
            "marker": {
             "colorbar": {
              "outlinewidth": 0,
              "ticks": ""
             }
            },
            "type": "scattergeo"
           }
          ],
          "scattergl": [
           {
            "marker": {
             "colorbar": {
              "outlinewidth": 0,
              "ticks": ""
             }
            },
            "type": "scattergl"
           }
          ],
          "scattermapbox": [
           {
            "marker": {
             "colorbar": {
              "outlinewidth": 0,
              "ticks": ""
             }
            },
            "type": "scattermapbox"
           }
          ],
          "scatterpolar": [
           {
            "marker": {
             "colorbar": {
              "outlinewidth": 0,
              "ticks": ""
             }
            },
            "type": "scatterpolar"
           }
          ],
          "scatterpolargl": [
           {
            "marker": {
             "colorbar": {
              "outlinewidth": 0,
              "ticks": ""
             }
            },
            "type": "scatterpolargl"
           }
          ],
          "scatterternary": [
           {
            "marker": {
             "colorbar": {
              "outlinewidth": 0,
              "ticks": ""
             }
            },
            "type": "scatterternary"
           }
          ],
          "surface": [
           {
            "colorbar": {
             "outlinewidth": 0,
             "ticks": ""
            },
            "colorscale": [
             [
              0,
              "#0d0887"
             ],
             [
              0.1111111111111111,
              "#46039f"
             ],
             [
              0.2222222222222222,
              "#7201a8"
             ],
             [
              0.3333333333333333,
              "#9c179e"
             ],
             [
              0.4444444444444444,
              "#bd3786"
             ],
             [
              0.5555555555555556,
              "#d8576b"
             ],
             [
              0.6666666666666666,
              "#ed7953"
             ],
             [
              0.7777777777777778,
              "#fb9f3a"
             ],
             [
              0.8888888888888888,
              "#fdca26"
             ],
             [
              1,
              "#f0f921"
             ]
            ],
            "type": "surface"
           }
          ],
          "table": [
           {
            "cells": {
             "fill": {
              "color": "#EBF0F8"
             },
             "line": {
              "color": "white"
             }
            },
            "header": {
             "fill": {
              "color": "#C8D4E3"
             },
             "line": {
              "color": "white"
             }
            },
            "type": "table"
           }
          ]
         },
         "layout": {
          "annotationdefaults": {
           "arrowcolor": "#2a3f5f",
           "arrowhead": 0,
           "arrowwidth": 1
          },
          "autotypenumbers": "strict",
          "coloraxis": {
           "colorbar": {
            "outlinewidth": 0,
            "ticks": ""
           }
          },
          "colorscale": {
           "diverging": [
            [
             0,
             "#8e0152"
            ],
            [
             0.1,
             "#c51b7d"
            ],
            [
             0.2,
             "#de77ae"
            ],
            [
             0.3,
             "#f1b6da"
            ],
            [
             0.4,
             "#fde0ef"
            ],
            [
             0.5,
             "#f7f7f7"
            ],
            [
             0.6,
             "#e6f5d0"
            ],
            [
             0.7,
             "#b8e186"
            ],
            [
             0.8,
             "#7fbc41"
            ],
            [
             0.9,
             "#4d9221"
            ],
            [
             1,
             "#276419"
            ]
           ],
           "sequential": [
            [
             0,
             "#0d0887"
            ],
            [
             0.1111111111111111,
             "#46039f"
            ],
            [
             0.2222222222222222,
             "#7201a8"
            ],
            [
             0.3333333333333333,
             "#9c179e"
            ],
            [
             0.4444444444444444,
             "#bd3786"
            ],
            [
             0.5555555555555556,
             "#d8576b"
            ],
            [
             0.6666666666666666,
             "#ed7953"
            ],
            [
             0.7777777777777778,
             "#fb9f3a"
            ],
            [
             0.8888888888888888,
             "#fdca26"
            ],
            [
             1,
             "#f0f921"
            ]
           ],
           "sequentialminus": [
            [
             0,
             "#0d0887"
            ],
            [
             0.1111111111111111,
             "#46039f"
            ],
            [
             0.2222222222222222,
             "#7201a8"
            ],
            [
             0.3333333333333333,
             "#9c179e"
            ],
            [
             0.4444444444444444,
             "#bd3786"
            ],
            [
             0.5555555555555556,
             "#d8576b"
            ],
            [
             0.6666666666666666,
             "#ed7953"
            ],
            [
             0.7777777777777778,
             "#fb9f3a"
            ],
            [
             0.8888888888888888,
             "#fdca26"
            ],
            [
             1,
             "#f0f921"
            ]
           ]
          },
          "colorway": [
           "#636efa",
           "#EF553B",
           "#00cc96",
           "#ab63fa",
           "#FFA15A",
           "#19d3f3",
           "#FF6692",
           "#B6E880",
           "#FF97FF",
           "#FECB52"
          ],
          "font": {
           "color": "#2a3f5f"
          },
          "geo": {
           "bgcolor": "white",
           "lakecolor": "white",
           "landcolor": "#E5ECF6",
           "showlakes": true,
           "showland": true,
           "subunitcolor": "white"
          },
          "hoverlabel": {
           "align": "left"
          },
          "hovermode": "closest",
          "mapbox": {
           "style": "light"
          },
          "paper_bgcolor": "white",
          "plot_bgcolor": "#E5ECF6",
          "polar": {
           "angularaxis": {
            "gridcolor": "white",
            "linecolor": "white",
            "ticks": ""
           },
           "bgcolor": "#E5ECF6",
           "radialaxis": {
            "gridcolor": "white",
            "linecolor": "white",
            "ticks": ""
           }
          },
          "scene": {
           "xaxis": {
            "backgroundcolor": "#E5ECF6",
            "gridcolor": "white",
            "gridwidth": 2,
            "linecolor": "white",
            "showbackground": true,
            "ticks": "",
            "zerolinecolor": "white"
           },
           "yaxis": {
            "backgroundcolor": "#E5ECF6",
            "gridcolor": "white",
            "gridwidth": 2,
            "linecolor": "white",
            "showbackground": true,
            "ticks": "",
            "zerolinecolor": "white"
           },
           "zaxis": {
            "backgroundcolor": "#E5ECF6",
            "gridcolor": "white",
            "gridwidth": 2,
            "linecolor": "white",
            "showbackground": true,
            "ticks": "",
            "zerolinecolor": "white"
           }
          },
          "shapedefaults": {
           "line": {
            "color": "#2a3f5f"
           }
          },
          "ternary": {
           "aaxis": {
            "gridcolor": "white",
            "linecolor": "white",
            "ticks": ""
           },
           "baxis": {
            "gridcolor": "white",
            "linecolor": "white",
            "ticks": ""
           },
           "bgcolor": "#E5ECF6",
           "caxis": {
            "gridcolor": "white",
            "linecolor": "white",
            "ticks": ""
           }
          },
          "title": {
           "x": 0.05
          },
          "xaxis": {
           "automargin": true,
           "gridcolor": "white",
           "linecolor": "white",
           "ticks": "",
           "title": {
            "standoff": 15
           },
           "zerolinecolor": "white",
           "zerolinewidth": 2
          },
          "yaxis": {
           "automargin": true,
           "gridcolor": "white",
           "linecolor": "white",
           "ticks": "",
           "title": {
            "standoff": 15
           },
           "zerolinecolor": "white",
           "zerolinewidth": 2
          }
         }
        },
        "xaxis": {
         "anchor": "y",
         "constrain": "domain",
         "domain": [
          0,
          1
         ],
         "scaleanchor": "y"
        },
        "yaxis": {
         "anchor": "x",
         "autorange": "reversed",
         "constrain": "domain",
         "domain": [
          0,
          1
         ]
        }
       }
      },
      "text/html": [
       "<div>                            <div id=\"4a461774-61f4-474a-9596-e63540f62c62\" class=\"plotly-graph-div\" style=\"height:525px; width:100%;\"></div>            <script type=\"text/javascript\">                require([\"plotly\"], function(Plotly) {                    window.PLOTLYENV=window.PLOTLYENV || {};                                    if (document.getElementById(\"4a461774-61f4-474a-9596-e63540f62c62\")) {                    Plotly.newPlot(                        \"4a461774-61f4-474a-9596-e63540f62c62\",                        [{\"coloraxis\":\"coloraxis\",\"name\":\"0\",\"x\":[\"MSRP\",\"Invoice\",\"EngineSize\",\"Cylinders\",\"Horsepower\",\"MPG_City\",\"MPG_Highway\",\"Weight\",\"Wheelbase\",\"Length\"],\"y\":[\"MSRP\",\"Invoice\",\"EngineSize\",\"Cylinders\",\"Horsepower\",\"MPG_City\",\"MPG_Highway\",\"Weight\",\"Wheelbase\",\"Length\"],\"z\":[[1.0,1.0,1.0000000000000002,1.0,1.0,-1.0,-1.0,1.0,1.0,1.0],[1.0,1.0,1.0000000000000004,1.0,1.0,-1.0,-1.0,1.0,1.0,1.0],[1.0000000000000002,1.0000000000000004,1.0,0.9999999999999998,0.9999999999999998,-0.9999999999999999,-0.9999999999999999,0.9999999999999998,0.9999999999999998,0.9999999999999999],[1.0,1.0,0.9999999999999998,1.0,1.0,-1.0,-1.0,1.0,1.0,1.0],[1.0,1.0,0.9999999999999998,1.0,1.0,-1.0,-1.0,1.0,1.0,1.0],[-1.0,-1.0,-0.9999999999999999,-1.0,-1.0,1.0,1.0,-1.0,-1.0,-1.0],[-1.0,-1.0,-0.9999999999999999,-1.0,-1.0,1.0,1.0,-1.0,-1.0,-1.0],[1.0,1.0,0.9999999999999998,1.0,1.0,-1.0,-1.0,1.0,1.0,1.0],[1.0,1.0,0.9999999999999998,1.0,1.0,-1.0,-1.0,1.0,1.0,1.0],[1.0,1.0,0.9999999999999999,1.0,1.0,-1.0,-1.0,1.0,1.0,1.0]],\"type\":\"heatmap\",\"xaxis\":\"x\",\"yaxis\":\"y\",\"hovertemplate\":\"x: %{x}<br>y: %{y}<br>color: %{z}<extra></extra>\"}],                        {\"template\":{\"data\":{\"histogram2dcontour\":[{\"type\":\"histogram2dcontour\",\"colorbar\":{\"outlinewidth\":0,\"ticks\":\"\"},\"colorscale\":[[0.0,\"#0d0887\"],[0.1111111111111111,\"#46039f\"],[0.2222222222222222,\"#7201a8\"],[0.3333333333333333,\"#9c179e\"],[0.4444444444444444,\"#bd3786\"],[0.5555555555555556,\"#d8576b\"],[0.6666666666666666,\"#ed7953\"],[0.7777777777777778,\"#fb9f3a\"],[0.8888888888888888,\"#fdca26\"],[1.0,\"#f0f921\"]]}],\"choropleth\":[{\"type\":\"choropleth\",\"colorbar\":{\"outlinewidth\":0,\"ticks\":\"\"}}],\"histogram2d\":[{\"type\":\"histogram2d\",\"colorbar\":{\"outlinewidth\":0,\"ticks\":\"\"},\"colorscale\":[[0.0,\"#0d0887\"],[0.1111111111111111,\"#46039f\"],[0.2222222222222222,\"#7201a8\"],[0.3333333333333333,\"#9c179e\"],[0.4444444444444444,\"#bd3786\"],[0.5555555555555556,\"#d8576b\"],[0.6666666666666666,\"#ed7953\"],[0.7777777777777778,\"#fb9f3a\"],[0.8888888888888888,\"#fdca26\"],[1.0,\"#f0f921\"]]}],\"heatmap\":[{\"type\":\"heatmap\",\"colorbar\":{\"outlinewidth\":0,\"ticks\":\"\"},\"colorscale\":[[0.0,\"#0d0887\"],[0.1111111111111111,\"#46039f\"],[0.2222222222222222,\"#7201a8\"],[0.3333333333333333,\"#9c179e\"],[0.4444444444444444,\"#bd3786\"],[0.5555555555555556,\"#d8576b\"],[0.6666666666666666,\"#ed7953\"],[0.7777777777777778,\"#fb9f3a\"],[0.8888888888888888,\"#fdca26\"],[1.0,\"#f0f921\"]]}],\"heatmapgl\":[{\"type\":\"heatmapgl\",\"colorbar\":{\"outlinewidth\":0,\"ticks\":\"\"},\"colorscale\":[[0.0,\"#0d0887\"],[0.1111111111111111,\"#46039f\"],[0.2222222222222222,\"#7201a8\"],[0.3333333333333333,\"#9c179e\"],[0.4444444444444444,\"#bd3786\"],[0.5555555555555556,\"#d8576b\"],[0.6666666666666666,\"#ed7953\"],[0.7777777777777778,\"#fb9f3a\"],[0.8888888888888888,\"#fdca26\"],[1.0,\"#f0f921\"]]}],\"contourcarpet\":[{\"type\":\"contourcarpet\",\"colorbar\":{\"outlinewidth\":0,\"ticks\":\"\"}}],\"contour\":[{\"type\":\"contour\",\"colorbar\":{\"outlinewidth\":0,\"ticks\":\"\"},\"colorscale\":[[0.0,\"#0d0887\"],[0.1111111111111111,\"#46039f\"],[0.2222222222222222,\"#7201a8\"],[0.3333333333333333,\"#9c179e\"],[0.4444444444444444,\"#bd3786\"],[0.5555555555555556,\"#d8576b\"],[0.6666666666666666,\"#ed7953\"],[0.7777777777777778,\"#fb9f3a\"],[0.8888888888888888,\"#fdca26\"],[1.0,\"#f0f921\"]]}],\"surface\":[{\"type\":\"surface\",\"colorbar\":{\"outlinewidth\":0,\"ticks\":\"\"},\"colorscale\":[[0.0,\"#0d0887\"],[0.1111111111111111,\"#46039f\"],[0.2222222222222222,\"#7201a8\"],[0.3333333333333333,\"#9c179e\"],[0.4444444444444444,\"#bd3786\"],[0.5555555555555556,\"#d8576b\"],[0.6666666666666666,\"#ed7953\"],[0.7777777777777778,\"#fb9f3a\"],[0.8888888888888888,\"#fdca26\"],[1.0,\"#f0f921\"]]}],\"mesh3d\":[{\"type\":\"mesh3d\",\"colorbar\":{\"outlinewidth\":0,\"ticks\":\"\"}}],\"scatter\":[{\"fillpattern\":{\"fillmode\":\"overlay\",\"size\":10,\"solidity\":0.2},\"type\":\"scatter\"}],\"parcoords\":[{\"type\":\"parcoords\",\"line\":{\"colorbar\":{\"outlinewidth\":0,\"ticks\":\"\"}}}],\"scatterpolargl\":[{\"type\":\"scatterpolargl\",\"marker\":{\"colorbar\":{\"outlinewidth\":0,\"ticks\":\"\"}}}],\"bar\":[{\"error_x\":{\"color\":\"#2a3f5f\"},\"error_y\":{\"color\":\"#2a3f5f\"},\"marker\":{\"line\":{\"color\":\"#E5ECF6\",\"width\":0.5},\"pattern\":{\"fillmode\":\"overlay\",\"size\":10,\"solidity\":0.2}},\"type\":\"bar\"}],\"scattergeo\":[{\"type\":\"scattergeo\",\"marker\":{\"colorbar\":{\"outlinewidth\":0,\"ticks\":\"\"}}}],\"scatterpolar\":[{\"type\":\"scatterpolar\",\"marker\":{\"colorbar\":{\"outlinewidth\":0,\"ticks\":\"\"}}}],\"histogram\":[{\"marker\":{\"pattern\":{\"fillmode\":\"overlay\",\"size\":10,\"solidity\":0.2}},\"type\":\"histogram\"}],\"scattergl\":[{\"type\":\"scattergl\",\"marker\":{\"colorbar\":{\"outlinewidth\":0,\"ticks\":\"\"}}}],\"scatter3d\":[{\"type\":\"scatter3d\",\"line\":{\"colorbar\":{\"outlinewidth\":0,\"ticks\":\"\"}},\"marker\":{\"colorbar\":{\"outlinewidth\":0,\"ticks\":\"\"}}}],\"scattermapbox\":[{\"type\":\"scattermapbox\",\"marker\":{\"colorbar\":{\"outlinewidth\":0,\"ticks\":\"\"}}}],\"scatterternary\":[{\"type\":\"scatterternary\",\"marker\":{\"colorbar\":{\"outlinewidth\":0,\"ticks\":\"\"}}}],\"scattercarpet\":[{\"type\":\"scattercarpet\",\"marker\":{\"colorbar\":{\"outlinewidth\":0,\"ticks\":\"\"}}}],\"carpet\":[{\"aaxis\":{\"endlinecolor\":\"#2a3f5f\",\"gridcolor\":\"white\",\"linecolor\":\"white\",\"minorgridcolor\":\"white\",\"startlinecolor\":\"#2a3f5f\"},\"baxis\":{\"endlinecolor\":\"#2a3f5f\",\"gridcolor\":\"white\",\"linecolor\":\"white\",\"minorgridcolor\":\"white\",\"startlinecolor\":\"#2a3f5f\"},\"type\":\"carpet\"}],\"table\":[{\"cells\":{\"fill\":{\"color\":\"#EBF0F8\"},\"line\":{\"color\":\"white\"}},\"header\":{\"fill\":{\"color\":\"#C8D4E3\"},\"line\":{\"color\":\"white\"}},\"type\":\"table\"}],\"barpolar\":[{\"marker\":{\"line\":{\"color\":\"#E5ECF6\",\"width\":0.5},\"pattern\":{\"fillmode\":\"overlay\",\"size\":10,\"solidity\":0.2}},\"type\":\"barpolar\"}],\"pie\":[{\"automargin\":true,\"type\":\"pie\"}]},\"layout\":{\"autotypenumbers\":\"strict\",\"colorway\":[\"#636efa\",\"#EF553B\",\"#00cc96\",\"#ab63fa\",\"#FFA15A\",\"#19d3f3\",\"#FF6692\",\"#B6E880\",\"#FF97FF\",\"#FECB52\"],\"font\":{\"color\":\"#2a3f5f\"},\"hovermode\":\"closest\",\"hoverlabel\":{\"align\":\"left\"},\"paper_bgcolor\":\"white\",\"plot_bgcolor\":\"#E5ECF6\",\"polar\":{\"bgcolor\":\"#E5ECF6\",\"angularaxis\":{\"gridcolor\":\"white\",\"linecolor\":\"white\",\"ticks\":\"\"},\"radialaxis\":{\"gridcolor\":\"white\",\"linecolor\":\"white\",\"ticks\":\"\"}},\"ternary\":{\"bgcolor\":\"#E5ECF6\",\"aaxis\":{\"gridcolor\":\"white\",\"linecolor\":\"white\",\"ticks\":\"\"},\"baxis\":{\"gridcolor\":\"white\",\"linecolor\":\"white\",\"ticks\":\"\"},\"caxis\":{\"gridcolor\":\"white\",\"linecolor\":\"white\",\"ticks\":\"\"}},\"coloraxis\":{\"colorbar\":{\"outlinewidth\":0,\"ticks\":\"\"}},\"colorscale\":{\"sequential\":[[0.0,\"#0d0887\"],[0.1111111111111111,\"#46039f\"],[0.2222222222222222,\"#7201a8\"],[0.3333333333333333,\"#9c179e\"],[0.4444444444444444,\"#bd3786\"],[0.5555555555555556,\"#d8576b\"],[0.6666666666666666,\"#ed7953\"],[0.7777777777777778,\"#fb9f3a\"],[0.8888888888888888,\"#fdca26\"],[1.0,\"#f0f921\"]],\"sequentialminus\":[[0.0,\"#0d0887\"],[0.1111111111111111,\"#46039f\"],[0.2222222222222222,\"#7201a8\"],[0.3333333333333333,\"#9c179e\"],[0.4444444444444444,\"#bd3786\"],[0.5555555555555556,\"#d8576b\"],[0.6666666666666666,\"#ed7953\"],[0.7777777777777778,\"#fb9f3a\"],[0.8888888888888888,\"#fdca26\"],[1.0,\"#f0f921\"]],\"diverging\":[[0,\"#8e0152\"],[0.1,\"#c51b7d\"],[0.2,\"#de77ae\"],[0.3,\"#f1b6da\"],[0.4,\"#fde0ef\"],[0.5,\"#f7f7f7\"],[0.6,\"#e6f5d0\"],[0.7,\"#b8e186\"],[0.8,\"#7fbc41\"],[0.9,\"#4d9221\"],[1,\"#276419\"]]},\"xaxis\":{\"gridcolor\":\"white\",\"linecolor\":\"white\",\"ticks\":\"\",\"title\":{\"standoff\":15},\"zerolinecolor\":\"white\",\"automargin\":true,\"zerolinewidth\":2},\"yaxis\":{\"gridcolor\":\"white\",\"linecolor\":\"white\",\"ticks\":\"\",\"title\":{\"standoff\":15},\"zerolinecolor\":\"white\",\"automargin\":true,\"zerolinewidth\":2},\"scene\":{\"xaxis\":{\"backgroundcolor\":\"#E5ECF6\",\"gridcolor\":\"white\",\"linecolor\":\"white\",\"showbackground\":true,\"ticks\":\"\",\"zerolinecolor\":\"white\",\"gridwidth\":2},\"yaxis\":{\"backgroundcolor\":\"#E5ECF6\",\"gridcolor\":\"white\",\"linecolor\":\"white\",\"showbackground\":true,\"ticks\":\"\",\"zerolinecolor\":\"white\",\"gridwidth\":2},\"zaxis\":{\"backgroundcolor\":\"#E5ECF6\",\"gridcolor\":\"white\",\"linecolor\":\"white\",\"showbackground\":true,\"ticks\":\"\",\"zerolinecolor\":\"white\",\"gridwidth\":2}},\"shapedefaults\":{\"line\":{\"color\":\"#2a3f5f\"}},\"annotationdefaults\":{\"arrowcolor\":\"#2a3f5f\",\"arrowhead\":0,\"arrowwidth\":1},\"geo\":{\"bgcolor\":\"white\",\"landcolor\":\"#E5ECF6\",\"subunitcolor\":\"white\",\"showland\":true,\"showlakes\":true,\"lakecolor\":\"white\"},\"title\":{\"x\":0.05},\"mapbox\":{\"style\":\"light\"}}},\"xaxis\":{\"anchor\":\"y\",\"domain\":[0.0,1.0],\"scaleanchor\":\"y\",\"constrain\":\"domain\"},\"yaxis\":{\"anchor\":\"x\",\"domain\":[0.0,1.0],\"autorange\":\"reversed\",\"constrain\":\"domain\"},\"coloraxis\":{\"colorscale\":[[0.0,\"#0d0887\"],[0.1111111111111111,\"#46039f\"],[0.2222222222222222,\"#7201a8\"],[0.3333333333333333,\"#9c179e\"],[0.4444444444444444,\"#bd3786\"],[0.5555555555555556,\"#d8576b\"],[0.6666666666666666,\"#ed7953\"],[0.7777777777777778,\"#fb9f3a\"],[0.8888888888888888,\"#fdca26\"],[1.0,\"#f0f921\"]]},\"margin\":{\"t\":60}},                        {\"responsive\": true}                    ).then(function(){\n",
       "                            \n",
       "var gd = document.getElementById('4a461774-61f4-474a-9596-e63540f62c62');\n",
       "var x = new MutationObserver(function (mutations, observer) {{\n",
       "        var display = window.getComputedStyle(gd).display;\n",
       "        if (!display || display === 'none') {{\n",
       "            console.log([gd, 'removed!']);\n",
       "            Plotly.purge(gd);\n",
       "            observer.disconnect();\n",
       "        }}\n",
       "}});\n",
       "\n",
       "// Listen for the removal of the full notebook cells\n",
       "var notebookContainer = gd.closest('#notebook-container');\n",
       "if (notebookContainer) {{\n",
       "    x.observe(notebookContainer, {childList: true});\n",
       "}}\n",
       "\n",
       "// Listen for the clearing of the current output cell\n",
       "var outputEl = gd.closest('.output');\n",
       "if (outputEl) {{\n",
       "    x.observe(outputEl, {childList: true});\n",
       "}}\n",
       "\n",
       "                        })                };                });            </script>        </div>"
      ]
     },
     "metadata": {},
     "output_type": "display_data"
    }
   ],
   "source": [
    "px.imshow(df.query('Model in[\"MDX\",\"TSX 4dr\"]').corr())"
   ]
  },
  {
   "cell_type": "markdown",
   "id": "3ca8feb2",
   "metadata": {},
   "source": [
    "Sí cambia la correlación, los datos outliers nos pueden afectar el análisis ya que el coeficiente de correlación analiza las variables linealmente, por lo tanto al encontrase valores outliers, puede tomar variables que sin tomar en cuenta los outliers tienen correlación positiva como ,negativa o menores"
   ]
  },
  {
   "cell_type": "code",
   "execution_count": null,
   "id": "9d9b7436",
   "metadata": {},
   "outputs": [],
   "source": []
  }
 ],
 "metadata": {
  "kernelspec": {
   "display_name": "Python 3 (ipykernel)",
   "language": "python",
   "name": "python3"
  },
  "language_info": {
   "codemirror_mode": {
    "name": "ipython",
    "version": 3
   },
   "file_extension": ".py",
   "mimetype": "text/x-python",
   "name": "python",
   "nbconvert_exporter": "python",
   "pygments_lexer": "ipython3",
   "version": "3.9.7"
  }
 },
 "nbformat": 4,
 "nbformat_minor": 5
}
